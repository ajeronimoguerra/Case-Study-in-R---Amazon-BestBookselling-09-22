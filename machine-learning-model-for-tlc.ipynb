{
 "cells": [
  {
   "cell_type": "markdown",
   "id": "bb6d3b53",
   "metadata": {
    "papermill": {
     "duration": 0.00915,
     "end_time": "2024-10-05T13:31:58.725683",
     "exception": false,
     "start_time": "2024-10-05T13:31:58.716533",
     "status": "completed"
    },
    "tags": []
   },
   "source": [
    "# Goal\n",
    "\n",
    "The goal of this project is to predict whether a rider will be a generous tipper using a random forest model. This will help the New York City Taxi & Limousine Commission (TLC) understand factors influencing tipping behavior and potentially develop strategies to increase gratuities.\n",
    "\n",
    "* The purpose of this model is to find ways to generate more revenue for taxi cab drivers.\n",
    "* The goal of this model is to predict whether or not a customer is a generous tipper.\n",
    "\n",
    "This activity has three parts:\n",
    "\n",
    "**Part 1**: Ethical considerations\n",
    "\n",
    "* Consider the ethical implications of the request\n",
    "* Should the objective of the model be adjusted?\n",
    "\n",
    "**Part 2**: Feature engineering\n",
    "\n",
    "* Perform feature selection, extraction, and transformation to prepare the data for modeling\n",
    "\n",
    "**Part 3**: Modeling\n",
    "\n",
    "* Build the models, evaluate them, and advise on next steps"
   ]
  },
  {
   "cell_type": "markdown",
   "id": "3b2f2a8f",
   "metadata": {
    "papermill": {
     "duration": 0.008082,
     "end_time": "2024-10-05T13:31:58.742431",
     "exception": false,
     "start_time": "2024-10-05T13:31:58.734349",
     "status": "completed"
    },
    "tags": []
   },
   "source": [
    "# Task 1. Imports and data loading\n",
    "\n",
    "Import packages and libraries needed to build and evaluate random forest and XGBoost classification models."
   ]
  },
  {
   "cell_type": "code",
   "execution_count": 1,
   "id": "f9f4dbc8",
   "metadata": {
    "execution": {
     "iopub.execute_input": "2024-10-05T13:31:58.761280Z",
     "iopub.status.busy": "2024-10-05T13:31:58.760851Z",
     "iopub.status.idle": "2024-10-05T13:32:01.220733Z",
     "shell.execute_reply": "2024-10-05T13:32:01.219642Z"
    },
    "papermill": {
     "duration": 2.472312,
     "end_time": "2024-10-05T13:32:01.223390",
     "exception": false,
     "start_time": "2024-10-05T13:31:58.751078",
     "status": "completed"
    },
    "tags": []
   },
   "outputs": [],
   "source": [
    "# Import relevant libraries and modules.\n",
    "\n",
    "import numpy as np\n",
    "import pandas as pd\n",
    "\n",
    "# This is the classifier\n",
    "from xgboost import XGBClassifier\n",
    "\n",
    "# This is the function that helps plot feature importance \n",
    "from xgboost import plot_importance\n",
    "\n",
    "from sklearn.model_selection import GridSearchCV, train_test_split\n",
    "from sklearn.metrics import accuracy_score, precision_score, recall_score,\\\n",
    "f1_score, confusion_matrix, ConfusionMatrixDisplay, RocCurveDisplay\n",
    "\n",
    "import matplotlib.pyplot as plt\n",
    "\n",
    "# This displays all of the columns, preventing Juptyer from redacting them.\n",
    "pd.set_option('display.max_columns', None)\n",
    "\n",
    "# This module lets us save our models once we fit them.\n",
    "import pickle"
   ]
  },
  {
   "cell_type": "code",
   "execution_count": 2,
   "id": "2fb47034",
   "metadata": {
    "execution": {
     "iopub.execute_input": "2024-10-05T13:32:01.243289Z",
     "iopub.status.busy": "2024-10-05T13:32:01.242707Z",
     "iopub.status.idle": "2024-10-05T13:32:01.248264Z",
     "shell.execute_reply": "2024-10-05T13:32:01.247066Z"
    },
    "papermill": {
     "duration": 0.017713,
     "end_time": "2024-10-05T13:32:01.250684",
     "exception": false,
     "start_time": "2024-10-05T13:32:01.232971",
     "status": "completed"
    },
    "tags": []
   },
   "outputs": [],
   "source": [
    "# RUN THIS CELL TO SEE ALL COLUMNS \n",
    "# This lets us see all of the columns, preventing Juptyer from redacting them.\n",
    "pd.set_option('display.max_columns', None)"
   ]
  },
  {
   "cell_type": "code",
   "execution_count": 3,
   "id": "9cbc3e10",
   "metadata": {
    "execution": {
     "iopub.execute_input": "2024-10-05T13:32:01.269623Z",
     "iopub.status.busy": "2024-10-05T13:32:01.269194Z",
     "iopub.status.idle": "2024-10-05T13:32:01.505679Z",
     "shell.execute_reply": "2024-10-05T13:32:01.504432Z"
    },
    "papermill": {
     "duration": 0.249151,
     "end_time": "2024-10-05T13:32:01.508592",
     "exception": false,
     "start_time": "2024-10-05T13:32:01.259441",
     "status": "completed"
    },
    "tags": []
   },
   "outputs": [],
   "source": [
    "# Load dataset into dataframe\n",
    "df0 = pd.read_csv('/kaggle/input/yellow-taxi-trip-data-2017/C2_2017_Yellow_Taxi_Trip_Data.csv')\n",
    "nyc_preds_means = pd.read_csv('/kaggle/input/predicted-fares-and-mean-distance-and-duration/nyc_preds_means.csv')"
   ]
  },
  {
   "cell_type": "code",
   "execution_count": 4,
   "id": "b49e1c1a",
   "metadata": {
    "execution": {
     "iopub.execute_input": "2024-10-05T13:32:01.528096Z",
     "iopub.status.busy": "2024-10-05T13:32:01.527646Z",
     "iopub.status.idle": "2024-10-05T13:32:01.559300Z",
     "shell.execute_reply": "2024-10-05T13:32:01.558234Z"
    },
    "papermill": {
     "duration": 0.043981,
     "end_time": "2024-10-05T13:32:01.561703",
     "exception": false,
     "start_time": "2024-10-05T13:32:01.517722",
     "status": "completed"
    },
    "tags": []
   },
   "outputs": [
    {
     "data": {
      "text/html": [
       "<div>\n",
       "<style scoped>\n",
       "    .dataframe tbody tr th:only-of-type {\n",
       "        vertical-align: middle;\n",
       "    }\n",
       "\n",
       "    .dataframe tbody tr th {\n",
       "        vertical-align: top;\n",
       "    }\n",
       "\n",
       "    .dataframe thead th {\n",
       "        text-align: right;\n",
       "    }\n",
       "</style>\n",
       "<table border=\"1\" class=\"dataframe\">\n",
       "  <thead>\n",
       "    <tr style=\"text-align: right;\">\n",
       "      <th></th>\n",
       "      <th>Unnamed: 0</th>\n",
       "      <th>VendorID</th>\n",
       "      <th>tpep_pickup_datetime</th>\n",
       "      <th>tpep_dropoff_datetime</th>\n",
       "      <th>passenger_count</th>\n",
       "      <th>trip_distance</th>\n",
       "      <th>RatecodeID</th>\n",
       "      <th>store_and_fwd_flag</th>\n",
       "      <th>PULocationID</th>\n",
       "      <th>DOLocationID</th>\n",
       "      <th>payment_type</th>\n",
       "      <th>fare_amount</th>\n",
       "      <th>extra</th>\n",
       "      <th>mta_tax</th>\n",
       "      <th>tip_amount</th>\n",
       "      <th>tolls_amount</th>\n",
       "      <th>improvement_surcharge</th>\n",
       "      <th>total_amount</th>\n",
       "    </tr>\n",
       "  </thead>\n",
       "  <tbody>\n",
       "    <tr>\n",
       "      <th>0</th>\n",
       "      <td>24870114</td>\n",
       "      <td>2</td>\n",
       "      <td>03/25/2017 8:55:43 AM</td>\n",
       "      <td>03/25/2017 9:09:47 AM</td>\n",
       "      <td>6</td>\n",
       "      <td>3.34</td>\n",
       "      <td>1</td>\n",
       "      <td>N</td>\n",
       "      <td>100</td>\n",
       "      <td>231</td>\n",
       "      <td>1</td>\n",
       "      <td>13.0</td>\n",
       "      <td>0.0</td>\n",
       "      <td>0.5</td>\n",
       "      <td>2.76</td>\n",
       "      <td>0.0</td>\n",
       "      <td>0.3</td>\n",
       "      <td>16.56</td>\n",
       "    </tr>\n",
       "    <tr>\n",
       "      <th>1</th>\n",
       "      <td>35634249</td>\n",
       "      <td>1</td>\n",
       "      <td>04/11/2017 2:53:28 PM</td>\n",
       "      <td>04/11/2017 3:19:58 PM</td>\n",
       "      <td>1</td>\n",
       "      <td>1.80</td>\n",
       "      <td>1</td>\n",
       "      <td>N</td>\n",
       "      <td>186</td>\n",
       "      <td>43</td>\n",
       "      <td>1</td>\n",
       "      <td>16.0</td>\n",
       "      <td>0.0</td>\n",
       "      <td>0.5</td>\n",
       "      <td>4.00</td>\n",
       "      <td>0.0</td>\n",
       "      <td>0.3</td>\n",
       "      <td>20.80</td>\n",
       "    </tr>\n",
       "    <tr>\n",
       "      <th>2</th>\n",
       "      <td>106203690</td>\n",
       "      <td>1</td>\n",
       "      <td>12/15/2017 7:26:56 AM</td>\n",
       "      <td>12/15/2017 7:34:08 AM</td>\n",
       "      <td>1</td>\n",
       "      <td>1.00</td>\n",
       "      <td>1</td>\n",
       "      <td>N</td>\n",
       "      <td>262</td>\n",
       "      <td>236</td>\n",
       "      <td>1</td>\n",
       "      <td>6.5</td>\n",
       "      <td>0.0</td>\n",
       "      <td>0.5</td>\n",
       "      <td>1.45</td>\n",
       "      <td>0.0</td>\n",
       "      <td>0.3</td>\n",
       "      <td>8.75</td>\n",
       "    </tr>\n",
       "    <tr>\n",
       "      <th>3</th>\n",
       "      <td>38942136</td>\n",
       "      <td>2</td>\n",
       "      <td>05/07/2017 1:17:59 PM</td>\n",
       "      <td>05/07/2017 1:48:14 PM</td>\n",
       "      <td>1</td>\n",
       "      <td>3.70</td>\n",
       "      <td>1</td>\n",
       "      <td>N</td>\n",
       "      <td>188</td>\n",
       "      <td>97</td>\n",
       "      <td>1</td>\n",
       "      <td>20.5</td>\n",
       "      <td>0.0</td>\n",
       "      <td>0.5</td>\n",
       "      <td>6.39</td>\n",
       "      <td>0.0</td>\n",
       "      <td>0.3</td>\n",
       "      <td>27.69</td>\n",
       "    </tr>\n",
       "    <tr>\n",
       "      <th>4</th>\n",
       "      <td>30841670</td>\n",
       "      <td>2</td>\n",
       "      <td>04/15/2017 11:32:20 PM</td>\n",
       "      <td>04/15/2017 11:49:03 PM</td>\n",
       "      <td>1</td>\n",
       "      <td>4.37</td>\n",
       "      <td>1</td>\n",
       "      <td>N</td>\n",
       "      <td>4</td>\n",
       "      <td>112</td>\n",
       "      <td>2</td>\n",
       "      <td>16.5</td>\n",
       "      <td>0.5</td>\n",
       "      <td>0.5</td>\n",
       "      <td>0.00</td>\n",
       "      <td>0.0</td>\n",
       "      <td>0.3</td>\n",
       "      <td>17.80</td>\n",
       "    </tr>\n",
       "  </tbody>\n",
       "</table>\n",
       "</div>"
      ],
      "text/plain": [
       "   Unnamed: 0  VendorID    tpep_pickup_datetime   tpep_dropoff_datetime  \\\n",
       "0    24870114         2   03/25/2017 8:55:43 AM   03/25/2017 9:09:47 AM   \n",
       "1    35634249         1   04/11/2017 2:53:28 PM   04/11/2017 3:19:58 PM   \n",
       "2   106203690         1   12/15/2017 7:26:56 AM   12/15/2017 7:34:08 AM   \n",
       "3    38942136         2   05/07/2017 1:17:59 PM   05/07/2017 1:48:14 PM   \n",
       "4    30841670         2  04/15/2017 11:32:20 PM  04/15/2017 11:49:03 PM   \n",
       "\n",
       "   passenger_count  trip_distance  RatecodeID store_and_fwd_flag  \\\n",
       "0                6           3.34           1                  N   \n",
       "1                1           1.80           1                  N   \n",
       "2                1           1.00           1                  N   \n",
       "3                1           3.70           1                  N   \n",
       "4                1           4.37           1                  N   \n",
       "\n",
       "   PULocationID  DOLocationID  payment_type  fare_amount  extra  mta_tax  \\\n",
       "0           100           231             1         13.0    0.0      0.5   \n",
       "1           186            43             1         16.0    0.0      0.5   \n",
       "2           262           236             1          6.5    0.0      0.5   \n",
       "3           188            97             1         20.5    0.0      0.5   \n",
       "4             4           112             2         16.5    0.5      0.5   \n",
       "\n",
       "   tip_amount  tolls_amount  improvement_surcharge  total_amount  \n",
       "0        2.76           0.0                    0.3         16.56  \n",
       "1        4.00           0.0                    0.3         20.80  \n",
       "2        1.45           0.0                    0.3          8.75  \n",
       "3        6.39           0.0                    0.3         27.69  \n",
       "4        0.00           0.0                    0.3         17.80  "
      ]
     },
     "execution_count": 4,
     "metadata": {},
     "output_type": "execute_result"
    }
   ],
   "source": [
    "# Inspect the first few rows of df0\n",
    "df0.head()"
   ]
  },
  {
   "cell_type": "code",
   "execution_count": 5,
   "id": "68256a9e",
   "metadata": {
    "execution": {
     "iopub.execute_input": "2024-10-05T13:32:01.581401Z",
     "iopub.status.busy": "2024-10-05T13:32:01.580959Z",
     "iopub.status.idle": "2024-10-05T13:32:01.592774Z",
     "shell.execute_reply": "2024-10-05T13:32:01.591670Z"
    },
    "papermill": {
     "duration": 0.02424,
     "end_time": "2024-10-05T13:32:01.595086",
     "exception": false,
     "start_time": "2024-10-05T13:32:01.570846",
     "status": "completed"
    },
    "tags": []
   },
   "outputs": [
    {
     "data": {
      "text/html": [
       "<div>\n",
       "<style scoped>\n",
       "    .dataframe tbody tr th:only-of-type {\n",
       "        vertical-align: middle;\n",
       "    }\n",
       "\n",
       "    .dataframe tbody tr th {\n",
       "        vertical-align: top;\n",
       "    }\n",
       "\n",
       "    .dataframe thead th {\n",
       "        text-align: right;\n",
       "    }\n",
       "</style>\n",
       "<table border=\"1\" class=\"dataframe\">\n",
       "  <thead>\n",
       "    <tr style=\"text-align: right;\">\n",
       "      <th></th>\n",
       "      <th>mean_duration</th>\n",
       "      <th>mean_distance</th>\n",
       "      <th>predicted_fare</th>\n",
       "    </tr>\n",
       "  </thead>\n",
       "  <tbody>\n",
       "    <tr>\n",
       "      <th>0</th>\n",
       "      <td>22.847222</td>\n",
       "      <td>3.521667</td>\n",
       "      <td>16.434245</td>\n",
       "    </tr>\n",
       "    <tr>\n",
       "      <th>1</th>\n",
       "      <td>24.470370</td>\n",
       "      <td>3.108889</td>\n",
       "      <td>16.052218</td>\n",
       "    </tr>\n",
       "    <tr>\n",
       "      <th>2</th>\n",
       "      <td>7.250000</td>\n",
       "      <td>0.881429</td>\n",
       "      <td>7.053706</td>\n",
       "    </tr>\n",
       "    <tr>\n",
       "      <th>3</th>\n",
       "      <td>30.250000</td>\n",
       "      <td>3.700000</td>\n",
       "      <td>18.731650</td>\n",
       "    </tr>\n",
       "    <tr>\n",
       "      <th>4</th>\n",
       "      <td>14.616667</td>\n",
       "      <td>4.435000</td>\n",
       "      <td>15.845642</td>\n",
       "    </tr>\n",
       "  </tbody>\n",
       "</table>\n",
       "</div>"
      ],
      "text/plain": [
       "   mean_duration  mean_distance  predicted_fare\n",
       "0      22.847222       3.521667       16.434245\n",
       "1      24.470370       3.108889       16.052218\n",
       "2       7.250000       0.881429        7.053706\n",
       "3      30.250000       3.700000       18.731650\n",
       "4      14.616667       4.435000       15.845642"
      ]
     },
     "execution_count": 5,
     "metadata": {},
     "output_type": "execute_result"
    }
   ],
   "source": [
    "# Inspect the first few rows of `nyc_preds_means`\n",
    "nyc_preds_means.head()"
   ]
  },
  {
   "cell_type": "markdown",
   "id": "14b88682",
   "metadata": {
    "papermill": {
     "duration": 0.008739,
     "end_time": "2024-10-05T13:32:01.613026",
     "exception": false,
     "start_time": "2024-10-05T13:32:01.604287",
     "status": "completed"
    },
    "tags": []
   },
   "source": [
    "**Join the two dataframes**\n",
    "\n",
    "Join the two dataframes using a method of your choice."
   ]
  },
  {
   "cell_type": "code",
   "execution_count": 6,
   "id": "32125f71",
   "metadata": {
    "execution": {
     "iopub.execute_input": "2024-10-05T13:32:01.633529Z",
     "iopub.status.busy": "2024-10-05T13:32:01.632584Z",
     "iopub.status.idle": "2024-10-05T13:32:01.662084Z",
     "shell.execute_reply": "2024-10-05T13:32:01.660928Z"
    },
    "papermill": {
     "duration": 0.042739,
     "end_time": "2024-10-05T13:32:01.664929",
     "exception": false,
     "start_time": "2024-10-05T13:32:01.622190",
     "status": "completed"
    },
    "tags": []
   },
   "outputs": [
    {
     "data": {
      "text/html": [
       "<div>\n",
       "<style scoped>\n",
       "    .dataframe tbody tr th:only-of-type {\n",
       "        vertical-align: middle;\n",
       "    }\n",
       "\n",
       "    .dataframe tbody tr th {\n",
       "        vertical-align: top;\n",
       "    }\n",
       "\n",
       "    .dataframe thead th {\n",
       "        text-align: right;\n",
       "    }\n",
       "</style>\n",
       "<table border=\"1\" class=\"dataframe\">\n",
       "  <thead>\n",
       "    <tr style=\"text-align: right;\">\n",
       "      <th></th>\n",
       "      <th>Unnamed: 0</th>\n",
       "      <th>VendorID</th>\n",
       "      <th>tpep_pickup_datetime</th>\n",
       "      <th>tpep_dropoff_datetime</th>\n",
       "      <th>passenger_count</th>\n",
       "      <th>trip_distance</th>\n",
       "      <th>RatecodeID</th>\n",
       "      <th>store_and_fwd_flag</th>\n",
       "      <th>PULocationID</th>\n",
       "      <th>DOLocationID</th>\n",
       "      <th>payment_type</th>\n",
       "      <th>fare_amount</th>\n",
       "      <th>extra</th>\n",
       "      <th>mta_tax</th>\n",
       "      <th>tip_amount</th>\n",
       "      <th>tolls_amount</th>\n",
       "      <th>improvement_surcharge</th>\n",
       "      <th>total_amount</th>\n",
       "      <th>mean_duration</th>\n",
       "      <th>mean_distance</th>\n",
       "      <th>predicted_fare</th>\n",
       "    </tr>\n",
       "  </thead>\n",
       "  <tbody>\n",
       "    <tr>\n",
       "      <th>0</th>\n",
       "      <td>24870114</td>\n",
       "      <td>2</td>\n",
       "      <td>03/25/2017 8:55:43 AM</td>\n",
       "      <td>03/25/2017 9:09:47 AM</td>\n",
       "      <td>6</td>\n",
       "      <td>3.34</td>\n",
       "      <td>1</td>\n",
       "      <td>N</td>\n",
       "      <td>100</td>\n",
       "      <td>231</td>\n",
       "      <td>1</td>\n",
       "      <td>13.0</td>\n",
       "      <td>0.0</td>\n",
       "      <td>0.5</td>\n",
       "      <td>2.76</td>\n",
       "      <td>0.0</td>\n",
       "      <td>0.3</td>\n",
       "      <td>16.56</td>\n",
       "      <td>22.847222</td>\n",
       "      <td>3.521667</td>\n",
       "      <td>16.434245</td>\n",
       "    </tr>\n",
       "    <tr>\n",
       "      <th>1</th>\n",
       "      <td>35634249</td>\n",
       "      <td>1</td>\n",
       "      <td>04/11/2017 2:53:28 PM</td>\n",
       "      <td>04/11/2017 3:19:58 PM</td>\n",
       "      <td>1</td>\n",
       "      <td>1.80</td>\n",
       "      <td>1</td>\n",
       "      <td>N</td>\n",
       "      <td>186</td>\n",
       "      <td>43</td>\n",
       "      <td>1</td>\n",
       "      <td>16.0</td>\n",
       "      <td>0.0</td>\n",
       "      <td>0.5</td>\n",
       "      <td>4.00</td>\n",
       "      <td>0.0</td>\n",
       "      <td>0.3</td>\n",
       "      <td>20.80</td>\n",
       "      <td>24.470370</td>\n",
       "      <td>3.108889</td>\n",
       "      <td>16.052218</td>\n",
       "    </tr>\n",
       "    <tr>\n",
       "      <th>2</th>\n",
       "      <td>106203690</td>\n",
       "      <td>1</td>\n",
       "      <td>12/15/2017 7:26:56 AM</td>\n",
       "      <td>12/15/2017 7:34:08 AM</td>\n",
       "      <td>1</td>\n",
       "      <td>1.00</td>\n",
       "      <td>1</td>\n",
       "      <td>N</td>\n",
       "      <td>262</td>\n",
       "      <td>236</td>\n",
       "      <td>1</td>\n",
       "      <td>6.5</td>\n",
       "      <td>0.0</td>\n",
       "      <td>0.5</td>\n",
       "      <td>1.45</td>\n",
       "      <td>0.0</td>\n",
       "      <td>0.3</td>\n",
       "      <td>8.75</td>\n",
       "      <td>7.250000</td>\n",
       "      <td>0.881429</td>\n",
       "      <td>7.053706</td>\n",
       "    </tr>\n",
       "    <tr>\n",
       "      <th>3</th>\n",
       "      <td>38942136</td>\n",
       "      <td>2</td>\n",
       "      <td>05/07/2017 1:17:59 PM</td>\n",
       "      <td>05/07/2017 1:48:14 PM</td>\n",
       "      <td>1</td>\n",
       "      <td>3.70</td>\n",
       "      <td>1</td>\n",
       "      <td>N</td>\n",
       "      <td>188</td>\n",
       "      <td>97</td>\n",
       "      <td>1</td>\n",
       "      <td>20.5</td>\n",
       "      <td>0.0</td>\n",
       "      <td>0.5</td>\n",
       "      <td>6.39</td>\n",
       "      <td>0.0</td>\n",
       "      <td>0.3</td>\n",
       "      <td>27.69</td>\n",
       "      <td>30.250000</td>\n",
       "      <td>3.700000</td>\n",
       "      <td>18.731650</td>\n",
       "    </tr>\n",
       "    <tr>\n",
       "      <th>4</th>\n",
       "      <td>30841670</td>\n",
       "      <td>2</td>\n",
       "      <td>04/15/2017 11:32:20 PM</td>\n",
       "      <td>04/15/2017 11:49:03 PM</td>\n",
       "      <td>1</td>\n",
       "      <td>4.37</td>\n",
       "      <td>1</td>\n",
       "      <td>N</td>\n",
       "      <td>4</td>\n",
       "      <td>112</td>\n",
       "      <td>2</td>\n",
       "      <td>16.5</td>\n",
       "      <td>0.5</td>\n",
       "      <td>0.5</td>\n",
       "      <td>0.00</td>\n",
       "      <td>0.0</td>\n",
       "      <td>0.3</td>\n",
       "      <td>17.80</td>\n",
       "      <td>14.616667</td>\n",
       "      <td>4.435000</td>\n",
       "      <td>15.845642</td>\n",
       "    </tr>\n",
       "  </tbody>\n",
       "</table>\n",
       "</div>"
      ],
      "text/plain": [
       "   Unnamed: 0  VendorID    tpep_pickup_datetime   tpep_dropoff_datetime  \\\n",
       "0    24870114         2   03/25/2017 8:55:43 AM   03/25/2017 9:09:47 AM   \n",
       "1    35634249         1   04/11/2017 2:53:28 PM   04/11/2017 3:19:58 PM   \n",
       "2   106203690         1   12/15/2017 7:26:56 AM   12/15/2017 7:34:08 AM   \n",
       "3    38942136         2   05/07/2017 1:17:59 PM   05/07/2017 1:48:14 PM   \n",
       "4    30841670         2  04/15/2017 11:32:20 PM  04/15/2017 11:49:03 PM   \n",
       "\n",
       "   passenger_count  trip_distance  RatecodeID store_and_fwd_flag  \\\n",
       "0                6           3.34           1                  N   \n",
       "1                1           1.80           1                  N   \n",
       "2                1           1.00           1                  N   \n",
       "3                1           3.70           1                  N   \n",
       "4                1           4.37           1                  N   \n",
       "\n",
       "   PULocationID  DOLocationID  payment_type  fare_amount  extra  mta_tax  \\\n",
       "0           100           231             1         13.0    0.0      0.5   \n",
       "1           186            43             1         16.0    0.0      0.5   \n",
       "2           262           236             1          6.5    0.0      0.5   \n",
       "3           188            97             1         20.5    0.0      0.5   \n",
       "4             4           112             2         16.5    0.5      0.5   \n",
       "\n",
       "   tip_amount  tolls_amount  improvement_surcharge  total_amount  \\\n",
       "0        2.76           0.0                    0.3         16.56   \n",
       "1        4.00           0.0                    0.3         20.80   \n",
       "2        1.45           0.0                    0.3          8.75   \n",
       "3        6.39           0.0                    0.3         27.69   \n",
       "4        0.00           0.0                    0.3         17.80   \n",
       "\n",
       "   mean_duration  mean_distance  predicted_fare  \n",
       "0      22.847222       3.521667       16.434245  \n",
       "1      24.470370       3.108889       16.052218  \n",
       "2       7.250000       0.881429        7.053706  \n",
       "3      30.250000       3.700000       18.731650  \n",
       "4      14.616667       4.435000       15.845642  "
      ]
     },
     "execution_count": 6,
     "metadata": {},
     "output_type": "execute_result"
    }
   ],
   "source": [
    "# Merge datasets\n",
    "df0 = df0.join(nyc_preds_means)\n",
    "df0.head()"
   ]
  },
  {
   "cell_type": "markdown",
   "id": "dc5a4129",
   "metadata": {
    "papermill": {
     "duration": 0.009145,
     "end_time": "2024-10-05T13:32:01.683740",
     "exception": false,
     "start_time": "2024-10-05T13:32:01.674595",
     "status": "completed"
    },
    "tags": []
   },
   "source": [
    "# Task 2. Feature engineering"
   ]
  },
  {
   "cell_type": "code",
   "execution_count": 7,
   "id": "f3949e2a",
   "metadata": {
    "execution": {
     "iopub.execute_input": "2024-10-05T13:32:01.705530Z",
     "iopub.status.busy": "2024-10-05T13:32:01.705116Z",
     "iopub.status.idle": "2024-10-05T13:32:01.736197Z",
     "shell.execute_reply": "2024-10-05T13:32:01.734592Z"
    },
    "papermill": {
     "duration": 0.045072,
     "end_time": "2024-10-05T13:32:01.738828",
     "exception": false,
     "start_time": "2024-10-05T13:32:01.693756",
     "status": "completed"
    },
    "tags": []
   },
   "outputs": [
    {
     "name": "stdout",
     "output_type": "stream",
     "text": [
      "<class 'pandas.core.frame.DataFrame'>\n",
      "RangeIndex: 22699 entries, 0 to 22698\n",
      "Data columns (total 21 columns):\n",
      " #   Column                 Non-Null Count  Dtype  \n",
      "---  ------                 --------------  -----  \n",
      " 0   Unnamed: 0             22699 non-null  int64  \n",
      " 1   VendorID               22699 non-null  int64  \n",
      " 2   tpep_pickup_datetime   22699 non-null  object \n",
      " 3   tpep_dropoff_datetime  22699 non-null  object \n",
      " 4   passenger_count        22699 non-null  int64  \n",
      " 5   trip_distance          22699 non-null  float64\n",
      " 6   RatecodeID             22699 non-null  int64  \n",
      " 7   store_and_fwd_flag     22699 non-null  object \n",
      " 8   PULocationID           22699 non-null  int64  \n",
      " 9   DOLocationID           22699 non-null  int64  \n",
      " 10  payment_type           22699 non-null  int64  \n",
      " 11  fare_amount            22699 non-null  float64\n",
      " 12  extra                  22699 non-null  float64\n",
      " 13  mta_tax                22699 non-null  float64\n",
      " 14  tip_amount             22699 non-null  float64\n",
      " 15  tolls_amount           22699 non-null  float64\n",
      " 16  improvement_surcharge  22699 non-null  float64\n",
      " 17  total_amount           22699 non-null  float64\n",
      " 18  mean_duration          22699 non-null  float64\n",
      " 19  mean_distance          22699 non-null  float64\n",
      " 20  predicted_fare         22699 non-null  float64\n",
      "dtypes: float64(11), int64(7), object(3)\n",
      "memory usage: 3.6+ MB\n"
     ]
    }
   ],
   "source": [
    "df0.info()"
   ]
  },
  {
   "cell_type": "markdown",
   "id": "62363e1f",
   "metadata": {
    "papermill": {
     "duration": 0.009999,
     "end_time": "2024-10-05T13:32:01.758536",
     "exception": false,
     "start_time": "2024-10-05T13:32:01.748537",
     "status": "completed"
    },
    "tags": []
   },
   "source": [
    "we know from our EDA that customers who pay cash generally have a tip amount of $0. To meet the modeling objective, we'll need to sample the data to select only the customers who pay with credit card.\n",
    "\n",
    "*Column name* Payment_type\n",
    "\n",
    "*Description* A numeric code signifying how the passenger paid for the trip. \n",
    "\n",
    "1= Credit card \n",
    "\n",
    "2= Cash \n",
    "\n",
    "3= No charge \n",
    "\n",
    "4= Dispute \n",
    "\n",
    "5= Unknown \n",
    "\n",
    "6= Voided trip"
   ]
  },
  {
   "cell_type": "code",
   "execution_count": 8,
   "id": "c235b281",
   "metadata": {
    "execution": {
     "iopub.execute_input": "2024-10-05T13:32:01.779578Z",
     "iopub.status.busy": "2024-10-05T13:32:01.779172Z",
     "iopub.status.idle": "2024-10-05T13:32:01.797590Z",
     "shell.execute_reply": "2024-10-05T13:32:01.796474Z"
    },
    "papermill": {
     "duration": 0.031905,
     "end_time": "2024-10-05T13:32:01.800285",
     "exception": false,
     "start_time": "2024-10-05T13:32:01.768380",
     "status": "completed"
    },
    "tags": []
   },
   "outputs": [],
   "source": [
    "# Create a copy of df0\n",
    "df1 = df0.copy()\n",
    "\n",
    "# Filter for credit card payments\n",
    "df1 = df1[df1['payment_type'] == 1]"
   ]
  },
  {
   "cell_type": "markdown",
   "id": "fc24e0df",
   "metadata": {
    "papermill": {
     "duration": 0.009238,
     "end_time": "2024-10-05T13:32:01.819205",
     "exception": false,
     "start_time": "2024-10-05T13:32:01.809967",
     "status": "completed"
    },
    "tags": []
   },
   "source": [
    "**Target**\n",
    "\n",
    "Notice that there isn't a column that indicates tip percent, which is what you need to create the target variable. You'll have to engineer it.\n",
    "\n",
    "Add a tip_percent column to the dataframe by performing the following calculation:\n",
    "\n",
    "\n",
    "> 𝑡𝑖𝑝 𝑝𝑒𝑟𝑐𝑒𝑛𝑡 = 𝑡𝑖𝑝 𝑎𝑚𝑜𝑢𝑛𝑡 / (𝑡𝑜𝑡𝑎𝑙 𝑎𝑚𝑜𝑢𝑛𝑡−𝑡𝑖𝑝 𝑎𝑚𝑜𝑢𝑛𝑡)\n",
    "\n",
    "Round the result to three places beyond the decimal. This is an important step. It affects how many customers are labeled as generous tippers."
   ]
  },
  {
   "cell_type": "code",
   "execution_count": 9,
   "id": "c15048d5",
   "metadata": {
    "execution": {
     "iopub.execute_input": "2024-10-05T13:32:01.840379Z",
     "iopub.status.busy": "2024-10-05T13:32:01.839641Z",
     "iopub.status.idle": "2024-10-05T13:32:01.847509Z",
     "shell.execute_reply": "2024-10-05T13:32:01.846380Z"
    },
    "papermill": {
     "duration": 0.020863,
     "end_time": "2024-10-05T13:32:01.849694",
     "exception": false,
     "start_time": "2024-10-05T13:32:01.828831",
     "status": "completed"
    },
    "tags": []
   },
   "outputs": [],
   "source": [
    "# Calculate tip percentage\n",
    "df1['tip_percent'] = (df1['tip_amount'] / (df1['total_amount'] - df1['tip_amount'])) * 100\n",
    "\n",
    "# Round to three decimal places\n",
    "df1['tip_percent'] = df1['tip_percent'].round(3)"
   ]
  },
  {
   "cell_type": "markdown",
   "id": "330ce5a4",
   "metadata": {
    "papermill": {
     "duration": 0.009066,
     "end_time": "2024-10-05T13:32:01.868436",
     "exception": false,
     "start_time": "2024-10-05T13:32:01.859370",
     "status": "completed"
    },
    "tags": []
   },
   "source": [
    "Create another column called generous. This will be the target variable. The column should be a binary indicator of whether or not a customer tipped ≥ 20% (0=no, 1=yes).\n",
    "\n",
    "1. Begin by making the generous column a copy of the tip_percent column.\n",
    "1. Reassign the column by converting it to Boolean (True/False).\n",
    "1. Reassign the column by converting Boolean to binary (1/0)."
   ]
  },
  {
   "cell_type": "code",
   "execution_count": 10,
   "id": "4e7cefd3",
   "metadata": {
    "execution": {
     "iopub.execute_input": "2024-10-05T13:32:01.889169Z",
     "iopub.status.busy": "2024-10-05T13:32:01.888748Z",
     "iopub.status.idle": "2024-10-05T13:32:01.896533Z",
     "shell.execute_reply": "2024-10-05T13:32:01.895246Z"
    },
    "papermill": {
     "duration": 0.020994,
     "end_time": "2024-10-05T13:32:01.898860",
     "exception": false,
     "start_time": "2024-10-05T13:32:01.877866",
     "status": "completed"
    },
    "tags": []
   },
   "outputs": [],
   "source": [
    "# Create a copy of tip_percent\n",
    "df1['generous'] = df1['tip_percent'].copy()\n",
    "\n",
    "# Convert to Boolean\n",
    "df1['generous'] = df1['generous'] >= 20\n",
    "\n",
    "# Convert Boolean to binary\n",
    "df1['generous'] = df1['generous'].astype(int)"
   ]
  },
  {
   "cell_type": "markdown",
   "id": "6e1d73e6",
   "metadata": {
    "papermill": {
     "duration": 0.009228,
     "end_time": "2024-10-05T13:32:01.917761",
     "exception": false,
     "start_time": "2024-10-05T13:32:01.908533",
     "status": "completed"
    },
    "tags": []
   },
   "source": [
    "**Create day column**\n",
    "\n",
    "Working with the pickup and dropoff columns.\n",
    "\n",
    "Convert the *tpep_pickup_datetime* and *tpep_dropoff_datetime* columns to datetime."
   ]
  },
  {
   "cell_type": "code",
   "execution_count": 11,
   "id": "19c62ab3",
   "metadata": {
    "execution": {
     "iopub.execute_input": "2024-10-05T13:32:01.938818Z",
     "iopub.status.busy": "2024-10-05T13:32:01.938103Z",
     "iopub.status.idle": "2024-10-05T13:32:01.945923Z",
     "shell.execute_reply": "2024-10-05T13:32:01.944666Z"
    },
    "papermill": {
     "duration": 0.02101,
     "end_time": "2024-10-05T13:32:01.948375",
     "exception": false,
     "start_time": "2024-10-05T13:32:01.927365",
     "status": "completed"
    },
    "tags": []
   },
   "outputs": [
    {
     "data": {
      "text/plain": [
       "'03/25/2017 8:55:43 AM'"
      ]
     },
     "execution_count": 11,
     "metadata": {},
     "output_type": "execute_result"
    }
   ],
   "source": [
    "# Check the format of the data tpep_pickup_datetime\n",
    "df1['tpep_pickup_datetime'][0]"
   ]
  },
  {
   "cell_type": "code",
   "execution_count": 12,
   "id": "6f3859e9",
   "metadata": {
    "execution": {
     "iopub.execute_input": "2024-10-05T13:32:01.969552Z",
     "iopub.status.busy": "2024-10-05T13:32:01.969161Z",
     "iopub.status.idle": "2024-10-05T13:32:01.976242Z",
     "shell.execute_reply": "2024-10-05T13:32:01.975029Z"
    },
    "papermill": {
     "duration": 0.020273,
     "end_time": "2024-10-05T13:32:01.978347",
     "exception": false,
     "start_time": "2024-10-05T13:32:01.958074",
     "status": "completed"
    },
    "tags": []
   },
   "outputs": [
    {
     "data": {
      "text/plain": [
       "'03/25/2017 9:09:47 AM'"
      ]
     },
     "execution_count": 12,
     "metadata": {},
     "output_type": "execute_result"
    }
   ],
   "source": [
    "# Check the format of the data tpep_dropoff_datetime\n",
    "df1['tpep_dropoff_datetime'][0]"
   ]
  },
  {
   "cell_type": "code",
   "execution_count": 13,
   "id": "5f63b632",
   "metadata": {
    "execution": {
     "iopub.execute_input": "2024-10-05T13:32:02.000565Z",
     "iopub.status.busy": "2024-10-05T13:32:01.999482Z",
     "iopub.status.idle": "2024-10-05T13:32:02.154454Z",
     "shell.execute_reply": "2024-10-05T13:32:02.153323Z"
    },
    "papermill": {
     "duration": 0.168399,
     "end_time": "2024-10-05T13:32:02.156577",
     "exception": false,
     "start_time": "2024-10-05T13:32:01.988178",
     "status": "completed"
    },
    "tags": []
   },
   "outputs": [
    {
     "name": "stdout",
     "output_type": "stream",
     "text": [
      "Data type of tpep_pickup_datetime: object\n",
      "Data type of tpep_dropoff_datetime: object\n",
      "Data type of tpep_pickup_datetime: datetime64[ns]\n",
      "Data type of tpep_dropoff_datetime: datetime64[ns]\n"
     ]
    },
    {
     "data": {
      "text/html": [
       "<div>\n",
       "<style scoped>\n",
       "    .dataframe tbody tr th:only-of-type {\n",
       "        vertical-align: middle;\n",
       "    }\n",
       "\n",
       "    .dataframe tbody tr th {\n",
       "        vertical-align: top;\n",
       "    }\n",
       "\n",
       "    .dataframe thead th {\n",
       "        text-align: right;\n",
       "    }\n",
       "</style>\n",
       "<table border=\"1\" class=\"dataframe\">\n",
       "  <thead>\n",
       "    <tr style=\"text-align: right;\">\n",
       "      <th></th>\n",
       "      <th>Unnamed: 0</th>\n",
       "      <th>VendorID</th>\n",
       "      <th>tpep_pickup_datetime</th>\n",
       "      <th>tpep_dropoff_datetime</th>\n",
       "      <th>passenger_count</th>\n",
       "      <th>trip_distance</th>\n",
       "      <th>RatecodeID</th>\n",
       "      <th>store_and_fwd_flag</th>\n",
       "      <th>PULocationID</th>\n",
       "      <th>DOLocationID</th>\n",
       "      <th>payment_type</th>\n",
       "      <th>fare_amount</th>\n",
       "      <th>extra</th>\n",
       "      <th>mta_tax</th>\n",
       "      <th>tip_amount</th>\n",
       "      <th>tolls_amount</th>\n",
       "      <th>improvement_surcharge</th>\n",
       "      <th>total_amount</th>\n",
       "      <th>mean_duration</th>\n",
       "      <th>mean_distance</th>\n",
       "      <th>predicted_fare</th>\n",
       "      <th>tip_percent</th>\n",
       "      <th>generous</th>\n",
       "    </tr>\n",
       "  </thead>\n",
       "  <tbody>\n",
       "    <tr>\n",
       "      <th>0</th>\n",
       "      <td>24870114</td>\n",
       "      <td>2</td>\n",
       "      <td>2017-03-25 08:55:43</td>\n",
       "      <td>2017-03-25 09:09:47</td>\n",
       "      <td>6</td>\n",
       "      <td>3.34</td>\n",
       "      <td>1</td>\n",
       "      <td>N</td>\n",
       "      <td>100</td>\n",
       "      <td>231</td>\n",
       "      <td>1</td>\n",
       "      <td>13.0</td>\n",
       "      <td>0.0</td>\n",
       "      <td>0.5</td>\n",
       "      <td>2.76</td>\n",
       "      <td>0.0</td>\n",
       "      <td>0.3</td>\n",
       "      <td>16.56</td>\n",
       "      <td>22.847222</td>\n",
       "      <td>3.521667</td>\n",
       "      <td>16.434245</td>\n",
       "      <td>20.000</td>\n",
       "      <td>1</td>\n",
       "    </tr>\n",
       "    <tr>\n",
       "      <th>1</th>\n",
       "      <td>35634249</td>\n",
       "      <td>1</td>\n",
       "      <td>2017-04-11 14:53:28</td>\n",
       "      <td>2017-04-11 15:19:58</td>\n",
       "      <td>1</td>\n",
       "      <td>1.80</td>\n",
       "      <td>1</td>\n",
       "      <td>N</td>\n",
       "      <td>186</td>\n",
       "      <td>43</td>\n",
       "      <td>1</td>\n",
       "      <td>16.0</td>\n",
       "      <td>0.0</td>\n",
       "      <td>0.5</td>\n",
       "      <td>4.00</td>\n",
       "      <td>0.0</td>\n",
       "      <td>0.3</td>\n",
       "      <td>20.80</td>\n",
       "      <td>24.470370</td>\n",
       "      <td>3.108889</td>\n",
       "      <td>16.052218</td>\n",
       "      <td>23.810</td>\n",
       "      <td>1</td>\n",
       "    </tr>\n",
       "    <tr>\n",
       "      <th>2</th>\n",
       "      <td>106203690</td>\n",
       "      <td>1</td>\n",
       "      <td>2017-12-15 07:26:56</td>\n",
       "      <td>2017-12-15 07:34:08</td>\n",
       "      <td>1</td>\n",
       "      <td>1.00</td>\n",
       "      <td>1</td>\n",
       "      <td>N</td>\n",
       "      <td>262</td>\n",
       "      <td>236</td>\n",
       "      <td>1</td>\n",
       "      <td>6.5</td>\n",
       "      <td>0.0</td>\n",
       "      <td>0.5</td>\n",
       "      <td>1.45</td>\n",
       "      <td>0.0</td>\n",
       "      <td>0.3</td>\n",
       "      <td>8.75</td>\n",
       "      <td>7.250000</td>\n",
       "      <td>0.881429</td>\n",
       "      <td>7.053706</td>\n",
       "      <td>19.863</td>\n",
       "      <td>0</td>\n",
       "    </tr>\n",
       "  </tbody>\n",
       "</table>\n",
       "</div>"
      ],
      "text/plain": [
       "   Unnamed: 0  VendorID tpep_pickup_datetime tpep_dropoff_datetime  \\\n",
       "0    24870114         2  2017-03-25 08:55:43   2017-03-25 09:09:47   \n",
       "1    35634249         1  2017-04-11 14:53:28   2017-04-11 15:19:58   \n",
       "2   106203690         1  2017-12-15 07:26:56   2017-12-15 07:34:08   \n",
       "\n",
       "   passenger_count  trip_distance  RatecodeID store_and_fwd_flag  \\\n",
       "0                6           3.34           1                  N   \n",
       "1                1           1.80           1                  N   \n",
       "2                1           1.00           1                  N   \n",
       "\n",
       "   PULocationID  DOLocationID  payment_type  fare_amount  extra  mta_tax  \\\n",
       "0           100           231             1         13.0    0.0      0.5   \n",
       "1           186            43             1         16.0    0.0      0.5   \n",
       "2           262           236             1          6.5    0.0      0.5   \n",
       "\n",
       "   tip_amount  tolls_amount  improvement_surcharge  total_amount  \\\n",
       "0        2.76           0.0                    0.3         16.56   \n",
       "1        4.00           0.0                    0.3         20.80   \n",
       "2        1.45           0.0                    0.3          8.75   \n",
       "\n",
       "   mean_duration  mean_distance  predicted_fare  tip_percent  generous  \n",
       "0      22.847222       3.521667       16.434245       20.000         1  \n",
       "1      24.470370       3.108889       16.052218       23.810         1  \n",
       "2       7.250000       0.881429        7.053706       19.863         0  "
      ]
     },
     "execution_count": 13,
     "metadata": {},
     "output_type": "execute_result"
    }
   ],
   "source": [
    "# Convert pickup and dropoff cols to datetime\n",
    "\n",
    "# Display data types of `tpep_pickup_datetime`, `tpep_dropoff_datetime`\n",
    "print('Data type of tpep_pickup_datetime:', df1['tpep_pickup_datetime'].dtype)\n",
    "print('Data type of tpep_dropoff_datetime:', df1['tpep_dropoff_datetime'].dtype)\n",
    "\n",
    "# Convert `tpep_pickup_datetime` to datetime format\n",
    "df1['tpep_pickup_datetime'] = pd.to_datetime(df1['tpep_pickup_datetime'],format='%m/%d/%Y %I:%M:%S %p')\n",
    "\n",
    "# Convert `tpep_dropoff_datetime` to datetime format\n",
    "df1['tpep_dropoff_datetime'] = pd.to_datetime(df1['tpep_dropoff_datetime'],format='%m/%d/%Y %I:%M:%S %p')\n",
    "\n",
    "# Display data types of `tpep_pickup_datetime`, `tpep_dropoff_datetime`\n",
    "print('Data type of tpep_pickup_datetime:', df1['tpep_pickup_datetime'].dtype)\n",
    "print('Data type of tpep_dropoff_datetime:', df1['tpep_dropoff_datetime'].dtype)\n",
    "\n",
    "df1.head(3)"
   ]
  },
  {
   "cell_type": "markdown",
   "id": "77e15a8d",
   "metadata": {
    "papermill": {
     "duration": 0.009709,
     "end_time": "2024-10-05T13:32:02.176641",
     "exception": false,
     "start_time": "2024-10-05T13:32:02.166932",
     "status": "completed"
    },
    "tags": []
   },
   "source": [
    "Create a day column that contains only the day of the week when each passenger was picked up. Then, convert the values to lowercase."
   ]
  },
  {
   "cell_type": "code",
   "execution_count": 14,
   "id": "1fd98774",
   "metadata": {
    "execution": {
     "iopub.execute_input": "2024-10-05T13:32:02.198796Z",
     "iopub.status.busy": "2024-10-05T13:32:02.198388Z",
     "iopub.status.idle": "2024-10-05T13:32:02.214115Z",
     "shell.execute_reply": "2024-10-05T13:32:02.213062Z"
    },
    "papermill": {
     "duration": 0.030008,
     "end_time": "2024-10-05T13:32:02.216731",
     "exception": false,
     "start_time": "2024-10-05T13:32:02.186723",
     "status": "completed"
    },
    "tags": []
   },
   "outputs": [],
   "source": [
    "# Extract the day of the week from tpep_pickup_datetime\n",
    "df1['day'] = df1['tpep_pickup_datetime'].dt.day_name()\n",
    "\n",
    "# Convert to lowercase\n",
    "df1['day'] = df1['day'].str.lower()"
   ]
  },
  {
   "cell_type": "markdown",
   "id": "42e76fb9",
   "metadata": {
    "papermill": {
     "duration": 0.009705,
     "end_time": "2024-10-05T13:32:02.236722",
     "exception": false,
     "start_time": "2024-10-05T13:32:02.227017",
     "status": "completed"
    },
    "tags": []
   },
   "source": [
    "**Create time of day columns**\n",
    "\n",
    "Next, engineer four new columns that represent time of day bins. Each column should contain binary values (0=no, 1=yes) that indicate whether a trip began (picked up) during the following times:\n",
    "\n",
    "* am_rush = [06:00–10:00)\n",
    "* daytime = [10:00–16:00)\n",
    "* pm_rush = [16:00–20:00)\n",
    "* nighttime = [20:00–06:00)\n",
    "\n",
    "To do this, first create the four columns. For now, each new column should be identical and contain the same information: the hour (only) from the *tpep_pickup_datetime* column."
   ]
  },
  {
   "cell_type": "code",
   "execution_count": 15,
   "id": "69d42097",
   "metadata": {
    "execution": {
     "iopub.execute_input": "2024-10-05T13:32:02.259110Z",
     "iopub.status.busy": "2024-10-05T13:32:02.258350Z",
     "iopub.status.idle": "2024-10-05T13:32:02.270523Z",
     "shell.execute_reply": "2024-10-05T13:32:02.269110Z"
    },
    "papermill": {
     "duration": 0.026346,
     "end_time": "2024-10-05T13:32:02.273246",
     "exception": false,
     "start_time": "2024-10-05T13:32:02.246900",
     "status": "completed"
    },
    "tags": []
   },
   "outputs": [],
   "source": [
    "# Create 'am_rush' col\n",
    "df1['am_rush'] = df1['tpep_pickup_datetime'].dt.hour\n",
    "\n",
    "# Create 'daytime' col\n",
    "df1['daytime'] = df1['tpep_pickup_datetime'].dt.hour\n",
    "\n",
    "# Create 'pm_rush' col\n",
    "df1['pm_rush'] = df1['tpep_pickup_datetime'].dt.hour\n",
    "\n",
    "# Create 'nighttime' col\n",
    "df1['nighttime'] = df1['tpep_pickup_datetime'].dt.hour"
   ]
  },
  {
   "cell_type": "code",
   "execution_count": 16,
   "id": "fc86fc23",
   "metadata": {
    "execution": {
     "iopub.execute_input": "2024-10-05T13:32:02.295748Z",
     "iopub.status.busy": "2024-10-05T13:32:02.294894Z",
     "iopub.status.idle": "2024-10-05T13:32:02.309664Z",
     "shell.execute_reply": "2024-10-05T13:32:02.308419Z"
    },
    "papermill": {
     "duration": 0.028695,
     "end_time": "2024-10-05T13:32:02.312258",
     "exception": false,
     "start_time": "2024-10-05T13:32:02.283563",
     "status": "completed"
    },
    "tags": []
   },
   "outputs": [
    {
     "name": "stdout",
     "output_type": "stream",
     "text": [
      "0    1\n",
      "1    0\n",
      "2    1\n",
      "3    0\n",
      "5    0\n",
      "Name: am_rush, dtype: int64\n"
     ]
    }
   ],
   "source": [
    "# Define 'am_rush()' conversion function [06:00–10:00)\n",
    "\n",
    "# Function to convert am_rush to binary\n",
    "def am_rush_binary(hour):\n",
    "    if 6 <= hour < 10:\n",
    "        return 1\n",
    "    else:\n",
    "        return 0\n",
    "\n",
    "# Apply the function to the am_rush column\n",
    "df1['am_rush'] = df1['am_rush'].apply(am_rush_binary)\n",
    "# Print the first five values\n",
    "print(df1['am_rush'].head())"
   ]
  },
  {
   "cell_type": "code",
   "execution_count": 17,
   "id": "0924ca32",
   "metadata": {
    "execution": {
     "iopub.execute_input": "2024-10-05T13:32:02.334968Z",
     "iopub.status.busy": "2024-10-05T13:32:02.334184Z",
     "iopub.status.idle": "2024-10-05T13:32:02.348849Z",
     "shell.execute_reply": "2024-10-05T13:32:02.347786Z"
    },
    "papermill": {
     "duration": 0.02872,
     "end_time": "2024-10-05T13:32:02.351277",
     "exception": false,
     "start_time": "2024-10-05T13:32:02.322557",
     "status": "completed"
    },
    "tags": []
   },
   "outputs": [
    {
     "name": "stdout",
     "output_type": "stream",
     "text": [
      "0    0\n",
      "1    1\n",
      "2    0\n",
      "3    1\n",
      "5    0\n",
      "Name: daytime, dtype: int64\n"
     ]
    }
   ],
   "source": [
    "# Define 'daytime()' conversion function [10:00–16:00)\n",
    "def daytime_binary(hour):\n",
    "    if 10 <= hour < 16:\n",
    "        return 1\n",
    "    else:\n",
    "        return 0\n",
    "    \n",
    "# Apply 'daytime()' function to the 'daytime' series\n",
    "df1['daytime'] = df1['daytime'].apply(daytime_binary)\n",
    "# Print the first five values\n",
    "print(df1['daytime'].head())"
   ]
  },
  {
   "cell_type": "code",
   "execution_count": 18,
   "id": "a55d98b4",
   "metadata": {
    "execution": {
     "iopub.execute_input": "2024-10-05T13:32:02.373904Z",
     "iopub.status.busy": "2024-10-05T13:32:02.373488Z",
     "iopub.status.idle": "2024-10-05T13:32:02.388483Z",
     "shell.execute_reply": "2024-10-05T13:32:02.387210Z"
    },
    "papermill": {
     "duration": 0.028908,
     "end_time": "2024-10-05T13:32:02.390648",
     "exception": false,
     "start_time": "2024-10-05T13:32:02.361740",
     "status": "completed"
    },
    "tags": []
   },
   "outputs": [
    {
     "name": "stdout",
     "output_type": "stream",
     "text": [
      "0    0\n",
      "1    0\n",
      "2    0\n",
      "3    0\n",
      "5    0\n",
      "Name: pm_rush, dtype: int64\n"
     ]
    }
   ],
   "source": [
    "# Define 'pm_rush()' conversion function [16:00–20:00)\n",
    "def pm_rush_binary(hour):\n",
    "    if 16 <= hour < 20:\n",
    "        return 1\n",
    "    else:\n",
    "        return 0\n",
    "# Apply 'pm_rush()' function to the 'pm_rush' series\n",
    "df1['pm_rush'] = df1['pm_rush'].apply(pm_rush_binary)\n",
    "# Print the first five values\n",
    "print(df1['pm_rush'].head())"
   ]
  },
  {
   "cell_type": "code",
   "execution_count": 19,
   "id": "3216f06d",
   "metadata": {
    "execution": {
     "iopub.execute_input": "2024-10-05T13:32:02.413100Z",
     "iopub.status.busy": "2024-10-05T13:32:02.412654Z",
     "iopub.status.idle": "2024-10-05T13:32:02.427908Z",
     "shell.execute_reply": "2024-10-05T13:32:02.426784Z"
    },
    "papermill": {
     "duration": 0.029172,
     "end_time": "2024-10-05T13:32:02.430255",
     "exception": false,
     "start_time": "2024-10-05T13:32:02.401083",
     "status": "completed"
    },
    "tags": []
   },
   "outputs": [
    {
     "name": "stdout",
     "output_type": "stream",
     "text": [
      "0    0\n",
      "1    0\n",
      "2    0\n",
      "3    0\n",
      "5    0\n",
      "Name: nighttime, dtype: int64\n"
     ]
    }
   ],
   "source": [
    "# Define 'nighttime()' conversion function [20:00–06:00)\n",
    "def nighttime_binary(hour):\n",
    "    if 20 <= hour < 6:\n",
    "        return 1\n",
    "    else:\n",
    "        return 0\n",
    "# Apply 'nighttime' function to the 'nighttime' series\n",
    "df1['nighttime'] = df1['nighttime'].apply(nighttime_binary)\n",
    "# Print the first five values\n",
    "print(df1['nighttime'].head())"
   ]
  },
  {
   "cell_type": "markdown",
   "id": "a37473f1",
   "metadata": {
    "papermill": {
     "duration": 0.012132,
     "end_time": "2024-10-05T13:32:02.453021",
     "exception": false,
     "start_time": "2024-10-05T13:32:02.440889",
     "status": "completed"
    },
    "tags": []
   },
   "source": [
    "**Create month column**"
   ]
  },
  {
   "cell_type": "code",
   "execution_count": 20,
   "id": "f2066c29",
   "metadata": {
    "execution": {
     "iopub.execute_input": "2024-10-05T13:32:02.475961Z",
     "iopub.status.busy": "2024-10-05T13:32:02.475207Z",
     "iopub.status.idle": "2024-10-05T13:32:02.566642Z",
     "shell.execute_reply": "2024-10-05T13:32:02.565451Z"
    },
    "papermill": {
     "duration": 0.105337,
     "end_time": "2024-10-05T13:32:02.568879",
     "exception": false,
     "start_time": "2024-10-05T13:32:02.463542",
     "status": "completed"
    },
    "tags": []
   },
   "outputs": [
    {
     "name": "stdout",
     "output_type": "stream",
     "text": [
      "0    mar\n",
      "1    apr\n",
      "2    dec\n",
      "3    may\n",
      "5    mar\n",
      "Name: month, dtype: object\n"
     ]
    }
   ],
   "source": [
    "# Create 'month' col\n",
    "# Extract the month name from tpep_pickup_datetime\n",
    "df1['month'] = df1['tpep_pickup_datetime'].dt.strftime('%b')\n",
    "\n",
    "# Convert to lowercase\n",
    "df1['month'] = df1['month'].str.lower()\n",
    "print(df1['month'].head(5))"
   ]
  },
  {
   "cell_type": "markdown",
   "id": "eb4d1fb4",
   "metadata": {
    "papermill": {
     "duration": 0.010245,
     "end_time": "2024-10-05T13:32:02.589763",
     "exception": false,
     "start_time": "2024-10-05T13:32:02.579518",
     "status": "completed"
    },
    "tags": []
   },
   "source": [
    "**Drop columns**\n",
    "\n",
    "Drop redundant and irrelevant columns as well as those that would not be available when the model is deployed. This includes information like payment type, trip distance, tip amount, tip percentage, total amount, toll amount, etc. The target variable (generous) must remain in the data because it will get isolated as the y data for modeling."
   ]
  },
  {
   "cell_type": "code",
   "execution_count": 21,
   "id": "72cd3348",
   "metadata": {
    "execution": {
     "iopub.execute_input": "2024-10-05T13:32:02.612289Z",
     "iopub.status.busy": "2024-10-05T13:32:02.611818Z",
     "iopub.status.idle": "2024-10-05T13:32:02.638409Z",
     "shell.execute_reply": "2024-10-05T13:32:02.637362Z"
    },
    "papermill": {
     "duration": 0.04086,
     "end_time": "2024-10-05T13:32:02.641086",
     "exception": false,
     "start_time": "2024-10-05T13:32:02.600226",
     "status": "completed"
    },
    "tags": []
   },
   "outputs": [
    {
     "data": {
      "text/html": [
       "<div>\n",
       "<style scoped>\n",
       "    .dataframe tbody tr th:only-of-type {\n",
       "        vertical-align: middle;\n",
       "    }\n",
       "\n",
       "    .dataframe tbody tr th {\n",
       "        vertical-align: top;\n",
       "    }\n",
       "\n",
       "    .dataframe thead th {\n",
       "        text-align: right;\n",
       "    }\n",
       "</style>\n",
       "<table border=\"1\" class=\"dataframe\">\n",
       "  <thead>\n",
       "    <tr style=\"text-align: right;\">\n",
       "      <th></th>\n",
       "      <th>Unnamed: 0</th>\n",
       "      <th>VendorID</th>\n",
       "      <th>tpep_pickup_datetime</th>\n",
       "      <th>tpep_dropoff_datetime</th>\n",
       "      <th>passenger_count</th>\n",
       "      <th>trip_distance</th>\n",
       "      <th>RatecodeID</th>\n",
       "      <th>store_and_fwd_flag</th>\n",
       "      <th>PULocationID</th>\n",
       "      <th>DOLocationID</th>\n",
       "      <th>payment_type</th>\n",
       "      <th>fare_amount</th>\n",
       "      <th>extra</th>\n",
       "      <th>mta_tax</th>\n",
       "      <th>tip_amount</th>\n",
       "      <th>tolls_amount</th>\n",
       "      <th>improvement_surcharge</th>\n",
       "      <th>total_amount</th>\n",
       "      <th>mean_duration</th>\n",
       "      <th>mean_distance</th>\n",
       "      <th>predicted_fare</th>\n",
       "      <th>tip_percent</th>\n",
       "      <th>generous</th>\n",
       "      <th>day</th>\n",
       "      <th>am_rush</th>\n",
       "      <th>daytime</th>\n",
       "      <th>pm_rush</th>\n",
       "      <th>nighttime</th>\n",
       "      <th>month</th>\n",
       "    </tr>\n",
       "  </thead>\n",
       "  <tbody>\n",
       "    <tr>\n",
       "      <th>0</th>\n",
       "      <td>24870114</td>\n",
       "      <td>2</td>\n",
       "      <td>2017-03-25 08:55:43</td>\n",
       "      <td>2017-03-25 09:09:47</td>\n",
       "      <td>6</td>\n",
       "      <td>3.34</td>\n",
       "      <td>1</td>\n",
       "      <td>N</td>\n",
       "      <td>100</td>\n",
       "      <td>231</td>\n",
       "      <td>1</td>\n",
       "      <td>13.0</td>\n",
       "      <td>0.0</td>\n",
       "      <td>0.5</td>\n",
       "      <td>2.76</td>\n",
       "      <td>0.0</td>\n",
       "      <td>0.3</td>\n",
       "      <td>16.56</td>\n",
       "      <td>22.847222</td>\n",
       "      <td>3.521667</td>\n",
       "      <td>16.434245</td>\n",
       "      <td>20.000</td>\n",
       "      <td>1</td>\n",
       "      <td>saturday</td>\n",
       "      <td>1</td>\n",
       "      <td>0</td>\n",
       "      <td>0</td>\n",
       "      <td>0</td>\n",
       "      <td>mar</td>\n",
       "    </tr>\n",
       "    <tr>\n",
       "      <th>1</th>\n",
       "      <td>35634249</td>\n",
       "      <td>1</td>\n",
       "      <td>2017-04-11 14:53:28</td>\n",
       "      <td>2017-04-11 15:19:58</td>\n",
       "      <td>1</td>\n",
       "      <td>1.80</td>\n",
       "      <td>1</td>\n",
       "      <td>N</td>\n",
       "      <td>186</td>\n",
       "      <td>43</td>\n",
       "      <td>1</td>\n",
       "      <td>16.0</td>\n",
       "      <td>0.0</td>\n",
       "      <td>0.5</td>\n",
       "      <td>4.00</td>\n",
       "      <td>0.0</td>\n",
       "      <td>0.3</td>\n",
       "      <td>20.80</td>\n",
       "      <td>24.470370</td>\n",
       "      <td>3.108889</td>\n",
       "      <td>16.052218</td>\n",
       "      <td>23.810</td>\n",
       "      <td>1</td>\n",
       "      <td>tuesday</td>\n",
       "      <td>0</td>\n",
       "      <td>1</td>\n",
       "      <td>0</td>\n",
       "      <td>0</td>\n",
       "      <td>apr</td>\n",
       "    </tr>\n",
       "    <tr>\n",
       "      <th>2</th>\n",
       "      <td>106203690</td>\n",
       "      <td>1</td>\n",
       "      <td>2017-12-15 07:26:56</td>\n",
       "      <td>2017-12-15 07:34:08</td>\n",
       "      <td>1</td>\n",
       "      <td>1.00</td>\n",
       "      <td>1</td>\n",
       "      <td>N</td>\n",
       "      <td>262</td>\n",
       "      <td>236</td>\n",
       "      <td>1</td>\n",
       "      <td>6.5</td>\n",
       "      <td>0.0</td>\n",
       "      <td>0.5</td>\n",
       "      <td>1.45</td>\n",
       "      <td>0.0</td>\n",
       "      <td>0.3</td>\n",
       "      <td>8.75</td>\n",
       "      <td>7.250000</td>\n",
       "      <td>0.881429</td>\n",
       "      <td>7.053706</td>\n",
       "      <td>19.863</td>\n",
       "      <td>0</td>\n",
       "      <td>friday</td>\n",
       "      <td>1</td>\n",
       "      <td>0</td>\n",
       "      <td>0</td>\n",
       "      <td>0</td>\n",
       "      <td>dec</td>\n",
       "    </tr>\n",
       "    <tr>\n",
       "      <th>3</th>\n",
       "      <td>38942136</td>\n",
       "      <td>2</td>\n",
       "      <td>2017-05-07 13:17:59</td>\n",
       "      <td>2017-05-07 13:48:14</td>\n",
       "      <td>1</td>\n",
       "      <td>3.70</td>\n",
       "      <td>1</td>\n",
       "      <td>N</td>\n",
       "      <td>188</td>\n",
       "      <td>97</td>\n",
       "      <td>1</td>\n",
       "      <td>20.5</td>\n",
       "      <td>0.0</td>\n",
       "      <td>0.5</td>\n",
       "      <td>6.39</td>\n",
       "      <td>0.0</td>\n",
       "      <td>0.3</td>\n",
       "      <td>27.69</td>\n",
       "      <td>30.250000</td>\n",
       "      <td>3.700000</td>\n",
       "      <td>18.731650</td>\n",
       "      <td>30.000</td>\n",
       "      <td>1</td>\n",
       "      <td>sunday</td>\n",
       "      <td>0</td>\n",
       "      <td>1</td>\n",
       "      <td>0</td>\n",
       "      <td>0</td>\n",
       "      <td>may</td>\n",
       "    </tr>\n",
       "    <tr>\n",
       "      <th>5</th>\n",
       "      <td>23345809</td>\n",
       "      <td>2</td>\n",
       "      <td>2017-03-25 20:34:11</td>\n",
       "      <td>2017-03-25 20:42:11</td>\n",
       "      <td>6</td>\n",
       "      <td>2.30</td>\n",
       "      <td>1</td>\n",
       "      <td>N</td>\n",
       "      <td>161</td>\n",
       "      <td>236</td>\n",
       "      <td>1</td>\n",
       "      <td>9.0</td>\n",
       "      <td>0.5</td>\n",
       "      <td>0.5</td>\n",
       "      <td>2.06</td>\n",
       "      <td>0.0</td>\n",
       "      <td>0.3</td>\n",
       "      <td>12.36</td>\n",
       "      <td>11.855376</td>\n",
       "      <td>2.052258</td>\n",
       "      <td>10.441351</td>\n",
       "      <td>20.000</td>\n",
       "      <td>1</td>\n",
       "      <td>saturday</td>\n",
       "      <td>0</td>\n",
       "      <td>0</td>\n",
       "      <td>0</td>\n",
       "      <td>0</td>\n",
       "      <td>mar</td>\n",
       "    </tr>\n",
       "  </tbody>\n",
       "</table>\n",
       "</div>"
      ],
      "text/plain": [
       "   Unnamed: 0  VendorID tpep_pickup_datetime tpep_dropoff_datetime  \\\n",
       "0    24870114         2  2017-03-25 08:55:43   2017-03-25 09:09:47   \n",
       "1    35634249         1  2017-04-11 14:53:28   2017-04-11 15:19:58   \n",
       "2   106203690         1  2017-12-15 07:26:56   2017-12-15 07:34:08   \n",
       "3    38942136         2  2017-05-07 13:17:59   2017-05-07 13:48:14   \n",
       "5    23345809         2  2017-03-25 20:34:11   2017-03-25 20:42:11   \n",
       "\n",
       "   passenger_count  trip_distance  RatecodeID store_and_fwd_flag  \\\n",
       "0                6           3.34           1                  N   \n",
       "1                1           1.80           1                  N   \n",
       "2                1           1.00           1                  N   \n",
       "3                1           3.70           1                  N   \n",
       "5                6           2.30           1                  N   \n",
       "\n",
       "   PULocationID  DOLocationID  payment_type  fare_amount  extra  mta_tax  \\\n",
       "0           100           231             1         13.0    0.0      0.5   \n",
       "1           186            43             1         16.0    0.0      0.5   \n",
       "2           262           236             1          6.5    0.0      0.5   \n",
       "3           188            97             1         20.5    0.0      0.5   \n",
       "5           161           236             1          9.0    0.5      0.5   \n",
       "\n",
       "   tip_amount  tolls_amount  improvement_surcharge  total_amount  \\\n",
       "0        2.76           0.0                    0.3         16.56   \n",
       "1        4.00           0.0                    0.3         20.80   \n",
       "2        1.45           0.0                    0.3          8.75   \n",
       "3        6.39           0.0                    0.3         27.69   \n",
       "5        2.06           0.0                    0.3         12.36   \n",
       "\n",
       "   mean_duration  mean_distance  predicted_fare  tip_percent  generous  \\\n",
       "0      22.847222       3.521667       16.434245       20.000         1   \n",
       "1      24.470370       3.108889       16.052218       23.810         1   \n",
       "2       7.250000       0.881429        7.053706       19.863         0   \n",
       "3      30.250000       3.700000       18.731650       30.000         1   \n",
       "5      11.855376       2.052258       10.441351       20.000         1   \n",
       "\n",
       "        day  am_rush  daytime  pm_rush  nighttime month  \n",
       "0  saturday        1        0        0          0   mar  \n",
       "1   tuesday        0        1        0          0   apr  \n",
       "2    friday        1        0        0          0   dec  \n",
       "3    sunday        0        1        0          0   may  \n",
       "5  saturday        0        0        0          0   mar  "
      ]
     },
     "execution_count": 21,
     "metadata": {},
     "output_type": "execute_result"
    }
   ],
   "source": [
    "df1.head(5)"
   ]
  },
  {
   "cell_type": "code",
   "execution_count": 22,
   "id": "89fbed2b",
   "metadata": {
    "execution": {
     "iopub.execute_input": "2024-10-05T13:32:02.664896Z",
     "iopub.status.busy": "2024-10-05T13:32:02.664474Z",
     "iopub.status.idle": "2024-10-05T13:32:02.684791Z",
     "shell.execute_reply": "2024-10-05T13:32:02.683453Z"
    },
    "papermill": {
     "duration": 0.035054,
     "end_time": "2024-10-05T13:32:02.687322",
     "exception": false,
     "start_time": "2024-10-05T13:32:02.652268",
     "status": "completed"
    },
    "tags": []
   },
   "outputs": [
    {
     "data": {
      "text/html": [
       "<div>\n",
       "<style scoped>\n",
       "    .dataframe tbody tr th:only-of-type {\n",
       "        vertical-align: middle;\n",
       "    }\n",
       "\n",
       "    .dataframe tbody tr th {\n",
       "        vertical-align: top;\n",
       "    }\n",
       "\n",
       "    .dataframe thead th {\n",
       "        text-align: right;\n",
       "    }\n",
       "</style>\n",
       "<table border=\"1\" class=\"dataframe\">\n",
       "  <thead>\n",
       "    <tr style=\"text-align: right;\">\n",
       "      <th></th>\n",
       "      <th>VendorID</th>\n",
       "      <th>passenger_count</th>\n",
       "      <th>RatecodeID</th>\n",
       "      <th>PULocationID</th>\n",
       "      <th>DOLocationID</th>\n",
       "      <th>mean_duration</th>\n",
       "      <th>mean_distance</th>\n",
       "      <th>predicted_fare</th>\n",
       "      <th>generous</th>\n",
       "      <th>day</th>\n",
       "      <th>am_rush</th>\n",
       "      <th>daytime</th>\n",
       "      <th>pm_rush</th>\n",
       "      <th>nighttime</th>\n",
       "      <th>month</th>\n",
       "    </tr>\n",
       "  </thead>\n",
       "  <tbody>\n",
       "    <tr>\n",
       "      <th>0</th>\n",
       "      <td>2</td>\n",
       "      <td>6</td>\n",
       "      <td>1</td>\n",
       "      <td>100</td>\n",
       "      <td>231</td>\n",
       "      <td>22.847222</td>\n",
       "      <td>3.521667</td>\n",
       "      <td>16.434245</td>\n",
       "      <td>1</td>\n",
       "      <td>saturday</td>\n",
       "      <td>1</td>\n",
       "      <td>0</td>\n",
       "      <td>0</td>\n",
       "      <td>0</td>\n",
       "      <td>mar</td>\n",
       "    </tr>\n",
       "    <tr>\n",
       "      <th>1</th>\n",
       "      <td>1</td>\n",
       "      <td>1</td>\n",
       "      <td>1</td>\n",
       "      <td>186</td>\n",
       "      <td>43</td>\n",
       "      <td>24.470370</td>\n",
       "      <td>3.108889</td>\n",
       "      <td>16.052218</td>\n",
       "      <td>1</td>\n",
       "      <td>tuesday</td>\n",
       "      <td>0</td>\n",
       "      <td>1</td>\n",
       "      <td>0</td>\n",
       "      <td>0</td>\n",
       "      <td>apr</td>\n",
       "    </tr>\n",
       "    <tr>\n",
       "      <th>2</th>\n",
       "      <td>1</td>\n",
       "      <td>1</td>\n",
       "      <td>1</td>\n",
       "      <td>262</td>\n",
       "      <td>236</td>\n",
       "      <td>7.250000</td>\n",
       "      <td>0.881429</td>\n",
       "      <td>7.053706</td>\n",
       "      <td>0</td>\n",
       "      <td>friday</td>\n",
       "      <td>1</td>\n",
       "      <td>0</td>\n",
       "      <td>0</td>\n",
       "      <td>0</td>\n",
       "      <td>dec</td>\n",
       "    </tr>\n",
       "    <tr>\n",
       "      <th>3</th>\n",
       "      <td>2</td>\n",
       "      <td>1</td>\n",
       "      <td>1</td>\n",
       "      <td>188</td>\n",
       "      <td>97</td>\n",
       "      <td>30.250000</td>\n",
       "      <td>3.700000</td>\n",
       "      <td>18.731650</td>\n",
       "      <td>1</td>\n",
       "      <td>sunday</td>\n",
       "      <td>0</td>\n",
       "      <td>1</td>\n",
       "      <td>0</td>\n",
       "      <td>0</td>\n",
       "      <td>may</td>\n",
       "    </tr>\n",
       "    <tr>\n",
       "      <th>5</th>\n",
       "      <td>2</td>\n",
       "      <td>6</td>\n",
       "      <td>1</td>\n",
       "      <td>161</td>\n",
       "      <td>236</td>\n",
       "      <td>11.855376</td>\n",
       "      <td>2.052258</td>\n",
       "      <td>10.441351</td>\n",
       "      <td>1</td>\n",
       "      <td>saturday</td>\n",
       "      <td>0</td>\n",
       "      <td>0</td>\n",
       "      <td>0</td>\n",
       "      <td>0</td>\n",
       "      <td>mar</td>\n",
       "    </tr>\n",
       "  </tbody>\n",
       "</table>\n",
       "</div>"
      ],
      "text/plain": [
       "   VendorID  passenger_count  RatecodeID  PULocationID  DOLocationID  \\\n",
       "0         2                6           1           100           231   \n",
       "1         1                1           1           186            43   \n",
       "2         1                1           1           262           236   \n",
       "3         2                1           1           188            97   \n",
       "5         2                6           1           161           236   \n",
       "\n",
       "   mean_duration  mean_distance  predicted_fare  generous       day  am_rush  \\\n",
       "0      22.847222       3.521667       16.434245         1  saturday        1   \n",
       "1      24.470370       3.108889       16.052218         1   tuesday        0   \n",
       "2       7.250000       0.881429        7.053706         0    friday        1   \n",
       "3      30.250000       3.700000       18.731650         1    sunday        0   \n",
       "5      11.855376       2.052258       10.441351         1  saturday        0   \n",
       "\n",
       "   daytime  pm_rush  nighttime month  \n",
       "0        0        0          0   mar  \n",
       "1        1        0          0   apr  \n",
       "2        0        0          0   dec  \n",
       "3        1        0          0   may  \n",
       "5        0        0          0   mar  "
      ]
     },
     "execution_count": 22,
     "metadata": {},
     "output_type": "execute_result"
    }
   ],
   "source": [
    "# Drop columns\n",
    "# List of columns to drop\n",
    "columns_to_drop = ['Unnamed: 0', 'tpep_pickup_datetime', 'tpep_dropoff_datetime',\n",
    "             'payment_type', 'trip_distance', 'store_and_fwd_flag', 'payment_type',\n",
    "             'fare_amount', 'extra', 'mta_tax', 'tip_amount', 'tolls_amount',\n",
    "             'improvement_surcharge', 'total_amount', 'tip_percent']\n",
    "\n",
    "# Drop the columns\n",
    "df1 = df1.drop(columns=columns_to_drop)\n",
    "\n",
    "df1.head(5)"
   ]
  },
  {
   "cell_type": "markdown",
   "id": "4cfa967e",
   "metadata": {
    "papermill": {
     "duration": 0.01081,
     "end_time": "2024-10-05T13:32:02.709466",
     "exception": false,
     "start_time": "2024-10-05T13:32:02.698656",
     "status": "completed"
    },
    "tags": []
   },
   "source": [
    "**Variable encoding**\n",
    "\n",
    "Many of the columns are categorical and will need to be dummied (converted to binary). Some of these columns are numeric, but they actually encode categorical information, such as RatecodeID and the pickup and dropoff locations. To make these columns recognizable to the get_dummies() function as categorical variables, you'll first need to convert them to type(str)."
   ]
  },
  {
   "cell_type": "code",
   "execution_count": 23,
   "id": "8210b290",
   "metadata": {
    "execution": {
     "iopub.execute_input": "2024-10-05T13:32:02.733772Z",
     "iopub.status.busy": "2024-10-05T13:32:02.732836Z",
     "iopub.status.idle": "2024-10-05T13:32:02.752588Z",
     "shell.execute_reply": "2024-10-05T13:32:02.751582Z"
    },
    "papermill": {
     "duration": 0.034419,
     "end_time": "2024-10-05T13:32:02.754961",
     "exception": false,
     "start_time": "2024-10-05T13:32:02.720542",
     "status": "completed"
    },
    "tags": []
   },
   "outputs": [],
   "source": [
    "# 1. Define list of cols to convert to string\n",
    "cols_to_str = ['RatecodeID', 'PULocationID', 'DOLocationID']\n",
    "\n",
    "# 2. Convert each column to string\n",
    "for col in cols_to_str:\n",
    "    df1[col] = df1[col].astype(str)"
   ]
  },
  {
   "cell_type": "code",
   "execution_count": 24,
   "id": "0f78e0d2",
   "metadata": {
    "execution": {
     "iopub.execute_input": "2024-10-05T13:32:02.779743Z",
     "iopub.status.busy": "2024-10-05T13:32:02.779027Z",
     "iopub.status.idle": "2024-10-05T13:32:02.815158Z",
     "shell.execute_reply": "2024-10-05T13:32:02.813920Z"
    },
    "papermill": {
     "duration": 0.051343,
     "end_time": "2024-10-05T13:32:02.817822",
     "exception": false,
     "start_time": "2024-10-05T13:32:02.766479",
     "status": "completed"
    },
    "tags": []
   },
   "outputs": [],
   "source": [
    "# Convert categoricals to binary\n",
    "df2 = pd.get_dummies(df1, drop_first=True)"
   ]
  },
  {
   "cell_type": "markdown",
   "id": "91b7a1f6",
   "metadata": {
    "papermill": {
     "duration": 0.010846,
     "end_time": "2024-10-05T13:32:02.839953",
     "exception": false,
     "start_time": "2024-10-05T13:32:02.829107",
     "status": "completed"
    },
    "tags": []
   },
   "source": [
    "**Evaluation metric**"
   ]
  },
  {
   "cell_type": "code",
   "execution_count": 25,
   "id": "c41c2959",
   "metadata": {
    "execution": {
     "iopub.execute_input": "2024-10-05T13:32:02.864604Z",
     "iopub.status.busy": "2024-10-05T13:32:02.864153Z",
     "iopub.status.idle": "2024-10-05T13:32:02.874193Z",
     "shell.execute_reply": "2024-10-05T13:32:02.872913Z"
    },
    "papermill": {
     "duration": 0.025138,
     "end_time": "2024-10-05T13:32:02.876572",
     "exception": false,
     "start_time": "2024-10-05T13:32:02.851434",
     "status": "completed"
    },
    "tags": []
   },
   "outputs": [
    {
     "name": "stdout",
     "output_type": "stream",
     "text": [
      "Class balance:\n",
      "generous\n",
      "0    0.519424\n",
      "1    0.480576\n",
      "Name: count, dtype: float64\n"
     ]
    }
   ],
   "source": [
    "# Count the occurrences of each class\n",
    "class_counts = df2['generous'].value_counts()\n",
    "\n",
    "# Calculate proportions\n",
    "class_proportions = class_counts / len(df2)\n",
    "\n",
    "print(\"Class balance:\")\n",
    "print(class_proportions)"
   ]
  },
  {
   "cell_type": "markdown",
   "id": "228a3876",
   "metadata": {
    "papermill": {
     "duration": 0.010864,
     "end_time": "2024-10-05T13:32:02.898699",
     "exception": false,
     "start_time": "2024-10-05T13:32:02.887835",
     "status": "completed"
    },
    "tags": []
   },
   "source": [
    "A little over half of the customers in this dataset were \"generous\" (tipped ≥ 20%). The dataset is very nearly balanced.\n",
    "\n",
    "To determine a metric, consider the cost of both kinds of model error:\n",
    "\n",
    "* False positives (the model predicts a tip ≥ 20%, but the customer does not give one)\n",
    "* False negatives (the model predicts a tip < 20%, but the customer gives more)\n",
    "\n",
    "False positives are worse for cab drivers, because they would pick up a customer expecting a good tip and then not receive one, frustrating the driver.\n",
    "\n",
    "False negatives are worse for customers, because a cab driver would likely pick up a different customer who was predicted to tip more—even when the original customer would have tipped generously."
   ]
  },
  {
   "cell_type": "markdown",
   "id": "20bbf0de",
   "metadata": {
    "papermill": {
     "duration": 0.010692,
     "end_time": "2024-10-05T13:32:02.920772",
     "exception": false,
     "start_time": "2024-10-05T13:32:02.910080",
     "status": "completed"
    },
    "tags": []
   },
   "source": [
    "# Task 3. Modeling"
   ]
  }
 ],
 "metadata": {
  "kaggle": {
   "accelerator": "none",
   "dataSources": [
    {
     "datasetId": 4115721,
     "sourceId": 7163213,
     "sourceType": "datasetVersion"
    },
    {
     "datasetId": 5821033,
     "sourceId": 9553380,
     "sourceType": "datasetVersion"
    }
   ],
   "dockerImageVersionId": 30786,
   "isGpuEnabled": false,
   "isInternetEnabled": true,
   "language": "python",
   "sourceType": "notebook"
  },
  "kernelspec": {
   "display_name": "Python 3",
   "language": "python",
   "name": "python3"
  },
  "language_info": {
   "codemirror_mode": {
    "name": "ipython",
    "version": 3
   },
   "file_extension": ".py",
   "mimetype": "text/x-python",
   "name": "python",
   "nbconvert_exporter": "python",
   "pygments_lexer": "ipython3",
   "version": "3.10.14"
  },
  "papermill": {
   "default_parameters": {},
   "duration": 7.572181,
   "end_time": "2024-10-05T13:32:03.553412",
   "environment_variables": {},
   "exception": null,
   "input_path": "__notebook__.ipynb",
   "output_path": "__notebook__.ipynb",
   "parameters": {},
   "start_time": "2024-10-05T13:31:55.981231",
   "version": "2.6.0"
  }
 },
 "nbformat": 4,
 "nbformat_minor": 5
}
