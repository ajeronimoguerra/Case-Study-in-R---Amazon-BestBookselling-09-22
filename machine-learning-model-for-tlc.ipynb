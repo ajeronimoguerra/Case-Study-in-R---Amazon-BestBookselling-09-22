{
 "cells": [
  {
   "cell_type": "markdown",
   "id": "dd21ca71",
   "metadata": {
    "papermill": {
     "duration": 0.023432,
     "end_time": "2024-10-05T21:44:26.054148",
     "exception": false,
     "start_time": "2024-10-05T21:44:26.030716",
     "status": "completed"
    },
    "tags": []
   },
   "source": [
    "# Goal\n",
    "\n",
    "The goal of this project is to predict whether a rider will be a generous tipper using a random forest model. This will help the New York City Taxi & Limousine Commission (TLC) understand factors influencing tipping behavior and potentially develop strategies to increase gratuities.\n",
    "\n",
    "* The purpose of this model is to find ways to generate more revenue for taxi cab drivers.\n",
    "* The goal of this model is to predict whether or not a customer is a generous tipper.\n",
    "\n",
    "This activity has three parts:\n",
    "\n",
    "**Part 1**: Ethical considerations\n",
    "\n",
    "* Consider the ethical implications of the request\n",
    "* Should the objective of the model be adjusted?\n",
    "\n",
    "**Part 2**: Feature engineering\n",
    "\n",
    "* Perform feature selection, extraction, and transformation to prepare the data for modeling\n",
    "\n",
    "**Part 3**: Modeling\n",
    "\n",
    "* Build the models, evaluate them, and advise on next steps"
   ]
  },
  {
   "cell_type": "markdown",
   "id": "65f8045b",
   "metadata": {
    "papermill": {
     "duration": 0.020153,
     "end_time": "2024-10-05T21:44:26.094929",
     "exception": false,
     "start_time": "2024-10-05T21:44:26.074776",
     "status": "completed"
    },
    "tags": []
   },
   "source": [
    "# Task 1. Imports and data loading\n",
    "\n",
    "Import packages and libraries needed to build and evaluate random forest and XGBoost classification models."
   ]
  },
  {
   "cell_type": "code",
   "execution_count": 1,
   "id": "413d72a9",
   "metadata": {
    "execution": {
     "iopub.execute_input": "2024-10-05T21:44:26.138018Z",
     "iopub.status.busy": "2024-10-05T21:44:26.137554Z",
     "iopub.status.idle": "2024-10-05T21:44:28.615805Z",
     "shell.execute_reply": "2024-10-05T21:44:28.614823Z"
    },
    "papermill": {
     "duration": 2.502798,
     "end_time": "2024-10-05T21:44:28.618488",
     "exception": false,
     "start_time": "2024-10-05T21:44:26.115690",
     "status": "completed"
    },
    "tags": []
   },
   "outputs": [],
   "source": [
    "# Import relevant libraries and modules.\n",
    "\n",
    "import numpy as np\n",
    "import pandas as pd\n",
    "\n",
    "# This is the classifier\n",
    "from xgboost import XGBClassifier\n",
    "\n",
    "# This is the function that helps plot feature importance \n",
    "from xgboost import plot_importance\n",
    "\n",
    "from sklearn.model_selection import GridSearchCV, train_test_split\n",
    "from sklearn.metrics import accuracy_score, precision_score, recall_score,\\\n",
    "f1_score, confusion_matrix, ConfusionMatrixDisplay, RocCurveDisplay\n",
    "from sklearn.ensemble import RandomForestClassifier\n",
    "\n",
    "import matplotlib.pyplot as plt\n",
    "\n",
    "# This displays all of the columns, preventing Juptyer from redacting them.\n",
    "pd.set_option('display.max_columns', None)\n",
    "\n",
    "# This module lets us save our models once we fit them.\n",
    "import pickle"
   ]
  },
  {
   "cell_type": "code",
   "execution_count": 2,
   "id": "4d4dd20a",
   "metadata": {
    "execution": {
     "iopub.execute_input": "2024-10-05T21:44:28.661471Z",
     "iopub.status.busy": "2024-10-05T21:44:28.660460Z",
     "iopub.status.idle": "2024-10-05T21:44:28.665674Z",
     "shell.execute_reply": "2024-10-05T21:44:28.664612Z"
    },
    "papermill": {
     "duration": 0.029218,
     "end_time": "2024-10-05T21:44:28.667969",
     "exception": false,
     "start_time": "2024-10-05T21:44:28.638751",
     "status": "completed"
    },
    "tags": []
   },
   "outputs": [],
   "source": [
    "# RUN THIS CELL TO SEE ALL COLUMNS \n",
    "# This lets us see all of the columns, preventing Juptyer from redacting them.\n",
    "pd.set_option('display.max_columns', None)"
   ]
  },
  {
   "cell_type": "code",
   "execution_count": 3,
   "id": "4b48b6fe",
   "metadata": {
    "execution": {
     "iopub.execute_input": "2024-10-05T21:44:28.710365Z",
     "iopub.status.busy": "2024-10-05T21:44:28.709976Z",
     "iopub.status.idle": "2024-10-05T21:44:28.877715Z",
     "shell.execute_reply": "2024-10-05T21:44:28.876484Z"
    },
    "papermill": {
     "duration": 0.192009,
     "end_time": "2024-10-05T21:44:28.880504",
     "exception": false,
     "start_time": "2024-10-05T21:44:28.688495",
     "status": "completed"
    },
    "tags": []
   },
   "outputs": [],
   "source": [
    "# Load dataset into dataframe\n",
    "df0 = pd.read_csv('/kaggle/input/yellow-taxi-trip-data-2017/C2_2017_Yellow_Taxi_Trip_Data.csv')\n",
    "nyc_preds_means = pd.read_csv('/kaggle/input/predicted-fares-and-mean-distance-and-duration/nyc_preds_means.csv')"
   ]
  },
  {
   "cell_type": "code",
   "execution_count": 4,
   "id": "195a7b08",
   "metadata": {
    "execution": {
     "iopub.execute_input": "2024-10-05T21:44:28.923839Z",
     "iopub.status.busy": "2024-10-05T21:44:28.922881Z",
     "iopub.status.idle": "2024-10-05T21:44:28.956164Z",
     "shell.execute_reply": "2024-10-05T21:44:28.955051Z"
    },
    "papermill": {
     "duration": 0.057602,
     "end_time": "2024-10-05T21:44:28.958737",
     "exception": false,
     "start_time": "2024-10-05T21:44:28.901135",
     "status": "completed"
    },
    "tags": []
   },
   "outputs": [
    {
     "data": {
      "text/html": [
       "<div>\n",
       "<style scoped>\n",
       "    .dataframe tbody tr th:only-of-type {\n",
       "        vertical-align: middle;\n",
       "    }\n",
       "\n",
       "    .dataframe tbody tr th {\n",
       "        vertical-align: top;\n",
       "    }\n",
       "\n",
       "    .dataframe thead th {\n",
       "        text-align: right;\n",
       "    }\n",
       "</style>\n",
       "<table border=\"1\" class=\"dataframe\">\n",
       "  <thead>\n",
       "    <tr style=\"text-align: right;\">\n",
       "      <th></th>\n",
       "      <th>Unnamed: 0</th>\n",
       "      <th>VendorID</th>\n",
       "      <th>tpep_pickup_datetime</th>\n",
       "      <th>tpep_dropoff_datetime</th>\n",
       "      <th>passenger_count</th>\n",
       "      <th>trip_distance</th>\n",
       "      <th>RatecodeID</th>\n",
       "      <th>store_and_fwd_flag</th>\n",
       "      <th>PULocationID</th>\n",
       "      <th>DOLocationID</th>\n",
       "      <th>payment_type</th>\n",
       "      <th>fare_amount</th>\n",
       "      <th>extra</th>\n",
       "      <th>mta_tax</th>\n",
       "      <th>tip_amount</th>\n",
       "      <th>tolls_amount</th>\n",
       "      <th>improvement_surcharge</th>\n",
       "      <th>total_amount</th>\n",
       "    </tr>\n",
       "  </thead>\n",
       "  <tbody>\n",
       "    <tr>\n",
       "      <th>0</th>\n",
       "      <td>24870114</td>\n",
       "      <td>2</td>\n",
       "      <td>03/25/2017 8:55:43 AM</td>\n",
       "      <td>03/25/2017 9:09:47 AM</td>\n",
       "      <td>6</td>\n",
       "      <td>3.34</td>\n",
       "      <td>1</td>\n",
       "      <td>N</td>\n",
       "      <td>100</td>\n",
       "      <td>231</td>\n",
       "      <td>1</td>\n",
       "      <td>13.0</td>\n",
       "      <td>0.0</td>\n",
       "      <td>0.5</td>\n",
       "      <td>2.76</td>\n",
       "      <td>0.0</td>\n",
       "      <td>0.3</td>\n",
       "      <td>16.56</td>\n",
       "    </tr>\n",
       "    <tr>\n",
       "      <th>1</th>\n",
       "      <td>35634249</td>\n",
       "      <td>1</td>\n",
       "      <td>04/11/2017 2:53:28 PM</td>\n",
       "      <td>04/11/2017 3:19:58 PM</td>\n",
       "      <td>1</td>\n",
       "      <td>1.80</td>\n",
       "      <td>1</td>\n",
       "      <td>N</td>\n",
       "      <td>186</td>\n",
       "      <td>43</td>\n",
       "      <td>1</td>\n",
       "      <td>16.0</td>\n",
       "      <td>0.0</td>\n",
       "      <td>0.5</td>\n",
       "      <td>4.00</td>\n",
       "      <td>0.0</td>\n",
       "      <td>0.3</td>\n",
       "      <td>20.80</td>\n",
       "    </tr>\n",
       "    <tr>\n",
       "      <th>2</th>\n",
       "      <td>106203690</td>\n",
       "      <td>1</td>\n",
       "      <td>12/15/2017 7:26:56 AM</td>\n",
       "      <td>12/15/2017 7:34:08 AM</td>\n",
       "      <td>1</td>\n",
       "      <td>1.00</td>\n",
       "      <td>1</td>\n",
       "      <td>N</td>\n",
       "      <td>262</td>\n",
       "      <td>236</td>\n",
       "      <td>1</td>\n",
       "      <td>6.5</td>\n",
       "      <td>0.0</td>\n",
       "      <td>0.5</td>\n",
       "      <td>1.45</td>\n",
       "      <td>0.0</td>\n",
       "      <td>0.3</td>\n",
       "      <td>8.75</td>\n",
       "    </tr>\n",
       "    <tr>\n",
       "      <th>3</th>\n",
       "      <td>38942136</td>\n",
       "      <td>2</td>\n",
       "      <td>05/07/2017 1:17:59 PM</td>\n",
       "      <td>05/07/2017 1:48:14 PM</td>\n",
       "      <td>1</td>\n",
       "      <td>3.70</td>\n",
       "      <td>1</td>\n",
       "      <td>N</td>\n",
       "      <td>188</td>\n",
       "      <td>97</td>\n",
       "      <td>1</td>\n",
       "      <td>20.5</td>\n",
       "      <td>0.0</td>\n",
       "      <td>0.5</td>\n",
       "      <td>6.39</td>\n",
       "      <td>0.0</td>\n",
       "      <td>0.3</td>\n",
       "      <td>27.69</td>\n",
       "    </tr>\n",
       "    <tr>\n",
       "      <th>4</th>\n",
       "      <td>30841670</td>\n",
       "      <td>2</td>\n",
       "      <td>04/15/2017 11:32:20 PM</td>\n",
       "      <td>04/15/2017 11:49:03 PM</td>\n",
       "      <td>1</td>\n",
       "      <td>4.37</td>\n",
       "      <td>1</td>\n",
       "      <td>N</td>\n",
       "      <td>4</td>\n",
       "      <td>112</td>\n",
       "      <td>2</td>\n",
       "      <td>16.5</td>\n",
       "      <td>0.5</td>\n",
       "      <td>0.5</td>\n",
       "      <td>0.00</td>\n",
       "      <td>0.0</td>\n",
       "      <td>0.3</td>\n",
       "      <td>17.80</td>\n",
       "    </tr>\n",
       "  </tbody>\n",
       "</table>\n",
       "</div>"
      ],
      "text/plain": [
       "   Unnamed: 0  VendorID    tpep_pickup_datetime   tpep_dropoff_datetime  \\\n",
       "0    24870114         2   03/25/2017 8:55:43 AM   03/25/2017 9:09:47 AM   \n",
       "1    35634249         1   04/11/2017 2:53:28 PM   04/11/2017 3:19:58 PM   \n",
       "2   106203690         1   12/15/2017 7:26:56 AM   12/15/2017 7:34:08 AM   \n",
       "3    38942136         2   05/07/2017 1:17:59 PM   05/07/2017 1:48:14 PM   \n",
       "4    30841670         2  04/15/2017 11:32:20 PM  04/15/2017 11:49:03 PM   \n",
       "\n",
       "   passenger_count  trip_distance  RatecodeID store_and_fwd_flag  \\\n",
       "0                6           3.34           1                  N   \n",
       "1                1           1.80           1                  N   \n",
       "2                1           1.00           1                  N   \n",
       "3                1           3.70           1                  N   \n",
       "4                1           4.37           1                  N   \n",
       "\n",
       "   PULocationID  DOLocationID  payment_type  fare_amount  extra  mta_tax  \\\n",
       "0           100           231             1         13.0    0.0      0.5   \n",
       "1           186            43             1         16.0    0.0      0.5   \n",
       "2           262           236             1          6.5    0.0      0.5   \n",
       "3           188            97             1         20.5    0.0      0.5   \n",
       "4             4           112             2         16.5    0.5      0.5   \n",
       "\n",
       "   tip_amount  tolls_amount  improvement_surcharge  total_amount  \n",
       "0        2.76           0.0                    0.3         16.56  \n",
       "1        4.00           0.0                    0.3         20.80  \n",
       "2        1.45           0.0                    0.3          8.75  \n",
       "3        6.39           0.0                    0.3         27.69  \n",
       "4        0.00           0.0                    0.3         17.80  "
      ]
     },
     "execution_count": 4,
     "metadata": {},
     "output_type": "execute_result"
    }
   ],
   "source": [
    "# Inspect the first few rows of df0\n",
    "df0.head()"
   ]
  },
  {
   "cell_type": "code",
   "execution_count": 5,
   "id": "9b69f500",
   "metadata": {
    "execution": {
     "iopub.execute_input": "2024-10-05T21:44:29.004734Z",
     "iopub.status.busy": "2024-10-05T21:44:29.003750Z",
     "iopub.status.idle": "2024-10-05T21:44:29.015576Z",
     "shell.execute_reply": "2024-10-05T21:44:29.014570Z"
    },
    "papermill": {
     "duration": 0.036168,
     "end_time": "2024-10-05T21:44:29.017829",
     "exception": false,
     "start_time": "2024-10-05T21:44:28.981661",
     "status": "completed"
    },
    "tags": []
   },
   "outputs": [
    {
     "data": {
      "text/html": [
       "<div>\n",
       "<style scoped>\n",
       "    .dataframe tbody tr th:only-of-type {\n",
       "        vertical-align: middle;\n",
       "    }\n",
       "\n",
       "    .dataframe tbody tr th {\n",
       "        vertical-align: top;\n",
       "    }\n",
       "\n",
       "    .dataframe thead th {\n",
       "        text-align: right;\n",
       "    }\n",
       "</style>\n",
       "<table border=\"1\" class=\"dataframe\">\n",
       "  <thead>\n",
       "    <tr style=\"text-align: right;\">\n",
       "      <th></th>\n",
       "      <th>mean_duration</th>\n",
       "      <th>mean_distance</th>\n",
       "      <th>predicted_fare</th>\n",
       "    </tr>\n",
       "  </thead>\n",
       "  <tbody>\n",
       "    <tr>\n",
       "      <th>0</th>\n",
       "      <td>22.847222</td>\n",
       "      <td>3.521667</td>\n",
       "      <td>16.434245</td>\n",
       "    </tr>\n",
       "    <tr>\n",
       "      <th>1</th>\n",
       "      <td>24.470370</td>\n",
       "      <td>3.108889</td>\n",
       "      <td>16.052218</td>\n",
       "    </tr>\n",
       "    <tr>\n",
       "      <th>2</th>\n",
       "      <td>7.250000</td>\n",
       "      <td>0.881429</td>\n",
       "      <td>7.053706</td>\n",
       "    </tr>\n",
       "    <tr>\n",
       "      <th>3</th>\n",
       "      <td>30.250000</td>\n",
       "      <td>3.700000</td>\n",
       "      <td>18.731650</td>\n",
       "    </tr>\n",
       "    <tr>\n",
       "      <th>4</th>\n",
       "      <td>14.616667</td>\n",
       "      <td>4.435000</td>\n",
       "      <td>15.845642</td>\n",
       "    </tr>\n",
       "  </tbody>\n",
       "</table>\n",
       "</div>"
      ],
      "text/plain": [
       "   mean_duration  mean_distance  predicted_fare\n",
       "0      22.847222       3.521667       16.434245\n",
       "1      24.470370       3.108889       16.052218\n",
       "2       7.250000       0.881429        7.053706\n",
       "3      30.250000       3.700000       18.731650\n",
       "4      14.616667       4.435000       15.845642"
      ]
     },
     "execution_count": 5,
     "metadata": {},
     "output_type": "execute_result"
    }
   ],
   "source": [
    "# Inspect the first few rows of `nyc_preds_means`\n",
    "nyc_preds_means.head()"
   ]
  },
  {
   "cell_type": "markdown",
   "id": "e758540f",
   "metadata": {
    "papermill": {
     "duration": 0.020904,
     "end_time": "2024-10-05T21:44:29.059620",
     "exception": false,
     "start_time": "2024-10-05T21:44:29.038716",
     "status": "completed"
    },
    "tags": []
   },
   "source": [
    "**Join the two dataframes**\n",
    "\n",
    "Join the two dataframes using a method of your choice."
   ]
  },
  {
   "cell_type": "code",
   "execution_count": 6,
   "id": "a41f8681",
   "metadata": {
    "execution": {
     "iopub.execute_input": "2024-10-05T21:44:29.104213Z",
     "iopub.status.busy": "2024-10-05T21:44:29.103278Z",
     "iopub.status.idle": "2024-10-05T21:44:29.135702Z",
     "shell.execute_reply": "2024-10-05T21:44:29.134641Z"
    },
    "papermill": {
     "duration": 0.057526,
     "end_time": "2024-10-05T21:44:29.138467",
     "exception": false,
     "start_time": "2024-10-05T21:44:29.080941",
     "status": "completed"
    },
    "tags": []
   },
   "outputs": [
    {
     "data": {
      "text/html": [
       "<div>\n",
       "<style scoped>\n",
       "    .dataframe tbody tr th:only-of-type {\n",
       "        vertical-align: middle;\n",
       "    }\n",
       "\n",
       "    .dataframe tbody tr th {\n",
       "        vertical-align: top;\n",
       "    }\n",
       "\n",
       "    .dataframe thead th {\n",
       "        text-align: right;\n",
       "    }\n",
       "</style>\n",
       "<table border=\"1\" class=\"dataframe\">\n",
       "  <thead>\n",
       "    <tr style=\"text-align: right;\">\n",
       "      <th></th>\n",
       "      <th>Unnamed: 0</th>\n",
       "      <th>VendorID</th>\n",
       "      <th>tpep_pickup_datetime</th>\n",
       "      <th>tpep_dropoff_datetime</th>\n",
       "      <th>passenger_count</th>\n",
       "      <th>trip_distance</th>\n",
       "      <th>RatecodeID</th>\n",
       "      <th>store_and_fwd_flag</th>\n",
       "      <th>PULocationID</th>\n",
       "      <th>DOLocationID</th>\n",
       "      <th>payment_type</th>\n",
       "      <th>fare_amount</th>\n",
       "      <th>extra</th>\n",
       "      <th>mta_tax</th>\n",
       "      <th>tip_amount</th>\n",
       "      <th>tolls_amount</th>\n",
       "      <th>improvement_surcharge</th>\n",
       "      <th>total_amount</th>\n",
       "      <th>mean_duration</th>\n",
       "      <th>mean_distance</th>\n",
       "      <th>predicted_fare</th>\n",
       "    </tr>\n",
       "  </thead>\n",
       "  <tbody>\n",
       "    <tr>\n",
       "      <th>0</th>\n",
       "      <td>24870114</td>\n",
       "      <td>2</td>\n",
       "      <td>03/25/2017 8:55:43 AM</td>\n",
       "      <td>03/25/2017 9:09:47 AM</td>\n",
       "      <td>6</td>\n",
       "      <td>3.34</td>\n",
       "      <td>1</td>\n",
       "      <td>N</td>\n",
       "      <td>100</td>\n",
       "      <td>231</td>\n",
       "      <td>1</td>\n",
       "      <td>13.0</td>\n",
       "      <td>0.0</td>\n",
       "      <td>0.5</td>\n",
       "      <td>2.76</td>\n",
       "      <td>0.0</td>\n",
       "      <td>0.3</td>\n",
       "      <td>16.56</td>\n",
       "      <td>22.847222</td>\n",
       "      <td>3.521667</td>\n",
       "      <td>16.434245</td>\n",
       "    </tr>\n",
       "    <tr>\n",
       "      <th>1</th>\n",
       "      <td>35634249</td>\n",
       "      <td>1</td>\n",
       "      <td>04/11/2017 2:53:28 PM</td>\n",
       "      <td>04/11/2017 3:19:58 PM</td>\n",
       "      <td>1</td>\n",
       "      <td>1.80</td>\n",
       "      <td>1</td>\n",
       "      <td>N</td>\n",
       "      <td>186</td>\n",
       "      <td>43</td>\n",
       "      <td>1</td>\n",
       "      <td>16.0</td>\n",
       "      <td>0.0</td>\n",
       "      <td>0.5</td>\n",
       "      <td>4.00</td>\n",
       "      <td>0.0</td>\n",
       "      <td>0.3</td>\n",
       "      <td>20.80</td>\n",
       "      <td>24.470370</td>\n",
       "      <td>3.108889</td>\n",
       "      <td>16.052218</td>\n",
       "    </tr>\n",
       "    <tr>\n",
       "      <th>2</th>\n",
       "      <td>106203690</td>\n",
       "      <td>1</td>\n",
       "      <td>12/15/2017 7:26:56 AM</td>\n",
       "      <td>12/15/2017 7:34:08 AM</td>\n",
       "      <td>1</td>\n",
       "      <td>1.00</td>\n",
       "      <td>1</td>\n",
       "      <td>N</td>\n",
       "      <td>262</td>\n",
       "      <td>236</td>\n",
       "      <td>1</td>\n",
       "      <td>6.5</td>\n",
       "      <td>0.0</td>\n",
       "      <td>0.5</td>\n",
       "      <td>1.45</td>\n",
       "      <td>0.0</td>\n",
       "      <td>0.3</td>\n",
       "      <td>8.75</td>\n",
       "      <td>7.250000</td>\n",
       "      <td>0.881429</td>\n",
       "      <td>7.053706</td>\n",
       "    </tr>\n",
       "    <tr>\n",
       "      <th>3</th>\n",
       "      <td>38942136</td>\n",
       "      <td>2</td>\n",
       "      <td>05/07/2017 1:17:59 PM</td>\n",
       "      <td>05/07/2017 1:48:14 PM</td>\n",
       "      <td>1</td>\n",
       "      <td>3.70</td>\n",
       "      <td>1</td>\n",
       "      <td>N</td>\n",
       "      <td>188</td>\n",
       "      <td>97</td>\n",
       "      <td>1</td>\n",
       "      <td>20.5</td>\n",
       "      <td>0.0</td>\n",
       "      <td>0.5</td>\n",
       "      <td>6.39</td>\n",
       "      <td>0.0</td>\n",
       "      <td>0.3</td>\n",
       "      <td>27.69</td>\n",
       "      <td>30.250000</td>\n",
       "      <td>3.700000</td>\n",
       "      <td>18.731650</td>\n",
       "    </tr>\n",
       "    <tr>\n",
       "      <th>4</th>\n",
       "      <td>30841670</td>\n",
       "      <td>2</td>\n",
       "      <td>04/15/2017 11:32:20 PM</td>\n",
       "      <td>04/15/2017 11:49:03 PM</td>\n",
       "      <td>1</td>\n",
       "      <td>4.37</td>\n",
       "      <td>1</td>\n",
       "      <td>N</td>\n",
       "      <td>4</td>\n",
       "      <td>112</td>\n",
       "      <td>2</td>\n",
       "      <td>16.5</td>\n",
       "      <td>0.5</td>\n",
       "      <td>0.5</td>\n",
       "      <td>0.00</td>\n",
       "      <td>0.0</td>\n",
       "      <td>0.3</td>\n",
       "      <td>17.80</td>\n",
       "      <td>14.616667</td>\n",
       "      <td>4.435000</td>\n",
       "      <td>15.845642</td>\n",
       "    </tr>\n",
       "  </tbody>\n",
       "</table>\n",
       "</div>"
      ],
      "text/plain": [
       "   Unnamed: 0  VendorID    tpep_pickup_datetime   tpep_dropoff_datetime  \\\n",
       "0    24870114         2   03/25/2017 8:55:43 AM   03/25/2017 9:09:47 AM   \n",
       "1    35634249         1   04/11/2017 2:53:28 PM   04/11/2017 3:19:58 PM   \n",
       "2   106203690         1   12/15/2017 7:26:56 AM   12/15/2017 7:34:08 AM   \n",
       "3    38942136         2   05/07/2017 1:17:59 PM   05/07/2017 1:48:14 PM   \n",
       "4    30841670         2  04/15/2017 11:32:20 PM  04/15/2017 11:49:03 PM   \n",
       "\n",
       "   passenger_count  trip_distance  RatecodeID store_and_fwd_flag  \\\n",
       "0                6           3.34           1                  N   \n",
       "1                1           1.80           1                  N   \n",
       "2                1           1.00           1                  N   \n",
       "3                1           3.70           1                  N   \n",
       "4                1           4.37           1                  N   \n",
       "\n",
       "   PULocationID  DOLocationID  payment_type  fare_amount  extra  mta_tax  \\\n",
       "0           100           231             1         13.0    0.0      0.5   \n",
       "1           186            43             1         16.0    0.0      0.5   \n",
       "2           262           236             1          6.5    0.0      0.5   \n",
       "3           188            97             1         20.5    0.0      0.5   \n",
       "4             4           112             2         16.5    0.5      0.5   \n",
       "\n",
       "   tip_amount  tolls_amount  improvement_surcharge  total_amount  \\\n",
       "0        2.76           0.0                    0.3         16.56   \n",
       "1        4.00           0.0                    0.3         20.80   \n",
       "2        1.45           0.0                    0.3          8.75   \n",
       "3        6.39           0.0                    0.3         27.69   \n",
       "4        0.00           0.0                    0.3         17.80   \n",
       "\n",
       "   mean_duration  mean_distance  predicted_fare  \n",
       "0      22.847222       3.521667       16.434245  \n",
       "1      24.470370       3.108889       16.052218  \n",
       "2       7.250000       0.881429        7.053706  \n",
       "3      30.250000       3.700000       18.731650  \n",
       "4      14.616667       4.435000       15.845642  "
      ]
     },
     "execution_count": 6,
     "metadata": {},
     "output_type": "execute_result"
    }
   ],
   "source": [
    "# Merge datasets\n",
    "df0 = df0.join(nyc_preds_means)\n",
    "df0.head()"
   ]
  },
  {
   "cell_type": "markdown",
   "id": "e0ec2abf",
   "metadata": {
    "papermill": {
     "duration": 0.020709,
     "end_time": "2024-10-05T21:44:29.182332",
     "exception": false,
     "start_time": "2024-10-05T21:44:29.161623",
     "status": "completed"
    },
    "tags": []
   },
   "source": [
    "# Task 2. Feature engineering"
   ]
  },
  {
   "cell_type": "code",
   "execution_count": 7,
   "id": "2cd0ccb1",
   "metadata": {
    "execution": {
     "iopub.execute_input": "2024-10-05T21:44:29.227783Z",
     "iopub.status.busy": "2024-10-05T21:44:29.227365Z",
     "iopub.status.idle": "2024-10-05T21:44:29.258319Z",
     "shell.execute_reply": "2024-10-05T21:44:29.257182Z"
    },
    "papermill": {
     "duration": 0.057012,
     "end_time": "2024-10-05T21:44:29.261106",
     "exception": false,
     "start_time": "2024-10-05T21:44:29.204094",
     "status": "completed"
    },
    "tags": []
   },
   "outputs": [
    {
     "name": "stdout",
     "output_type": "stream",
     "text": [
      "<class 'pandas.core.frame.DataFrame'>\n",
      "RangeIndex: 22699 entries, 0 to 22698\n",
      "Data columns (total 21 columns):\n",
      " #   Column                 Non-Null Count  Dtype  \n",
      "---  ------                 --------------  -----  \n",
      " 0   Unnamed: 0             22699 non-null  int64  \n",
      " 1   VendorID               22699 non-null  int64  \n",
      " 2   tpep_pickup_datetime   22699 non-null  object \n",
      " 3   tpep_dropoff_datetime  22699 non-null  object \n",
      " 4   passenger_count        22699 non-null  int64  \n",
      " 5   trip_distance          22699 non-null  float64\n",
      " 6   RatecodeID             22699 non-null  int64  \n",
      " 7   store_and_fwd_flag     22699 non-null  object \n",
      " 8   PULocationID           22699 non-null  int64  \n",
      " 9   DOLocationID           22699 non-null  int64  \n",
      " 10  payment_type           22699 non-null  int64  \n",
      " 11  fare_amount            22699 non-null  float64\n",
      " 12  extra                  22699 non-null  float64\n",
      " 13  mta_tax                22699 non-null  float64\n",
      " 14  tip_amount             22699 non-null  float64\n",
      " 15  tolls_amount           22699 non-null  float64\n",
      " 16  improvement_surcharge  22699 non-null  float64\n",
      " 17  total_amount           22699 non-null  float64\n",
      " 18  mean_duration          22699 non-null  float64\n",
      " 19  mean_distance          22699 non-null  float64\n",
      " 20  predicted_fare         22699 non-null  float64\n",
      "dtypes: float64(11), int64(7), object(3)\n",
      "memory usage: 3.6+ MB\n"
     ]
    }
   ],
   "source": [
    "df0.info()"
   ]
  },
  {
   "cell_type": "markdown",
   "id": "66253258",
   "metadata": {
    "papermill": {
     "duration": 0.021575,
     "end_time": "2024-10-05T21:44:29.306190",
     "exception": false,
     "start_time": "2024-10-05T21:44:29.284615",
     "status": "completed"
    },
    "tags": []
   },
   "source": [
    "we know from our EDA that customers who pay cash generally have a tip amount of $0. To meet the modeling objective, we'll need to sample the data to select only the customers who pay with credit card.\n",
    "\n",
    "*Column name* Payment_type\n",
    "\n",
    "*Description* A numeric code signifying how the passenger paid for the trip. \n",
    "\n",
    "1= Credit card \n",
    "\n",
    "2= Cash \n",
    "\n",
    "3= No charge \n",
    "\n",
    "4= Dispute \n",
    "\n",
    "5= Unknown \n",
    "\n",
    "6= Voided trip"
   ]
  },
  {
   "cell_type": "code",
   "execution_count": 8,
   "id": "5e396796",
   "metadata": {
    "execution": {
     "iopub.execute_input": "2024-10-05T21:44:29.350838Z",
     "iopub.status.busy": "2024-10-05T21:44:29.350410Z",
     "iopub.status.idle": "2024-10-05T21:44:29.364957Z",
     "shell.execute_reply": "2024-10-05T21:44:29.364069Z"
    },
    "papermill": {
     "duration": 0.039878,
     "end_time": "2024-10-05T21:44:29.367352",
     "exception": false,
     "start_time": "2024-10-05T21:44:29.327474",
     "status": "completed"
    },
    "tags": []
   },
   "outputs": [],
   "source": [
    "# Create a copy of df0\n",
    "df1 = df0.copy()\n",
    "\n",
    "# Filter for credit card payments\n",
    "df1 = df1[df1['payment_type'] == 1]"
   ]
  },
  {
   "cell_type": "markdown",
   "id": "2a85067f",
   "metadata": {
    "papermill": {
     "duration": 0.020676,
     "end_time": "2024-10-05T21:44:29.409921",
     "exception": false,
     "start_time": "2024-10-05T21:44:29.389245",
     "status": "completed"
    },
    "tags": []
   },
   "source": [
    "**Target**\n",
    "\n",
    "Notice that there isn't a column that indicates tip percent, which is what you need to create the target variable. You'll have to engineer it.\n",
    "\n",
    "Add a tip_percent column to the dataframe by performing the following calculation:\n",
    "\n",
    "\n",
    "> 𝑡𝑖𝑝 𝑝𝑒𝑟𝑐𝑒𝑛𝑡 = 𝑡𝑖𝑝 𝑎𝑚𝑜𝑢𝑛𝑡 / (𝑡𝑜𝑡𝑎𝑙 𝑎𝑚𝑜𝑢𝑛𝑡−𝑡𝑖𝑝 𝑎𝑚𝑜𝑢𝑛𝑡)\n",
    "\n",
    "Round the result to three places beyond the decimal. This is an important step. It affects how many customers are labeled as generous tippers."
   ]
  },
  {
   "cell_type": "code",
   "execution_count": 9,
   "id": "2ddf6c4e",
   "metadata": {
    "execution": {
     "iopub.execute_input": "2024-10-05T21:44:29.452903Z",
     "iopub.status.busy": "2024-10-05T21:44:29.452455Z",
     "iopub.status.idle": "2024-10-05T21:44:29.460179Z",
     "shell.execute_reply": "2024-10-05T21:44:29.459380Z"
    },
    "papermill": {
     "duration": 0.031913,
     "end_time": "2024-10-05T21:44:29.462186",
     "exception": false,
     "start_time": "2024-10-05T21:44:29.430273",
     "status": "completed"
    },
    "tags": []
   },
   "outputs": [],
   "source": [
    "# Calculate tip percentage\n",
    "df1['tip_percent'] = (df1['tip_amount'] / (df1['total_amount'] - df1['tip_amount'])) * 100\n",
    "\n",
    "# Round to three decimal places\n",
    "df1['tip_percent'] = df1['tip_percent'].round(3)"
   ]
  },
  {
   "cell_type": "markdown",
   "id": "892a6780",
   "metadata": {
    "papermill": {
     "duration": 0.020356,
     "end_time": "2024-10-05T21:44:29.502579",
     "exception": false,
     "start_time": "2024-10-05T21:44:29.482223",
     "status": "completed"
    },
    "tags": []
   },
   "source": [
    "Create another column called generous. This will be the target variable. The column should be a binary indicator of whether or not a customer tipped ≥ 20% (0=no, 1=yes).\n",
    "\n",
    "1. Begin by making the generous column a copy of the tip_percent column.\n",
    "1. Reassign the column by converting it to Boolean (True/False).\n",
    "1. Reassign the column by converting Boolean to binary (1/0)."
   ]
  },
  {
   "cell_type": "code",
   "execution_count": 10,
   "id": "9e4c8aaf",
   "metadata": {
    "execution": {
     "iopub.execute_input": "2024-10-05T21:44:29.544830Z",
     "iopub.status.busy": "2024-10-05T21:44:29.544440Z",
     "iopub.status.idle": "2024-10-05T21:44:29.551928Z",
     "shell.execute_reply": "2024-10-05T21:44:29.551054Z"
    },
    "papermill": {
     "duration": 0.031574,
     "end_time": "2024-10-05T21:44:29.554154",
     "exception": false,
     "start_time": "2024-10-05T21:44:29.522580",
     "status": "completed"
    },
    "tags": []
   },
   "outputs": [],
   "source": [
    "# Create a copy of tip_percent\n",
    "df1['generous'] = df1['tip_percent'].copy()\n",
    "\n",
    "# Convert to Boolean\n",
    "df1['generous'] = df1['generous'] >= 20\n",
    "\n",
    "# Convert Boolean to binary\n",
    "df1['generous'] = df1['generous'].astype(int)"
   ]
  },
  {
   "cell_type": "markdown",
   "id": "0b2d8452",
   "metadata": {
    "papermill": {
     "duration": 0.020696,
     "end_time": "2024-10-05T21:44:29.595294",
     "exception": false,
     "start_time": "2024-10-05T21:44:29.574598",
     "status": "completed"
    },
    "tags": []
   },
   "source": [
    "**Create day column**\n",
    "\n",
    "Working with the pickup and dropoff columns.\n",
    "\n",
    "Convert the *tpep_pickup_datetime* and *tpep_dropoff_datetime* columns to datetime."
   ]
  },
  {
   "cell_type": "code",
   "execution_count": 11,
   "id": "34afeb3b",
   "metadata": {
    "execution": {
     "iopub.execute_input": "2024-10-05T21:44:29.639123Z",
     "iopub.status.busy": "2024-10-05T21:44:29.638456Z",
     "iopub.status.idle": "2024-10-05T21:44:29.645444Z",
     "shell.execute_reply": "2024-10-05T21:44:29.644414Z"
    },
    "papermill": {
     "duration": 0.03164,
     "end_time": "2024-10-05T21:44:29.647759",
     "exception": false,
     "start_time": "2024-10-05T21:44:29.616119",
     "status": "completed"
    },
    "tags": []
   },
   "outputs": [
    {
     "data": {
      "text/plain": [
       "'03/25/2017 8:55:43 AM'"
      ]
     },
     "execution_count": 11,
     "metadata": {},
     "output_type": "execute_result"
    }
   ],
   "source": [
    "# Check the format of the data tpep_pickup_datetime\n",
    "df1['tpep_pickup_datetime'][0]"
   ]
  },
  {
   "cell_type": "code",
   "execution_count": 12,
   "id": "2b4e7880",
   "metadata": {
    "execution": {
     "iopub.execute_input": "2024-10-05T21:44:29.693196Z",
     "iopub.status.busy": "2024-10-05T21:44:29.692320Z",
     "iopub.status.idle": "2024-10-05T21:44:29.699065Z",
     "shell.execute_reply": "2024-10-05T21:44:29.698138Z"
    },
    "papermill": {
     "duration": 0.032177,
     "end_time": "2024-10-05T21:44:29.701337",
     "exception": false,
     "start_time": "2024-10-05T21:44:29.669160",
     "status": "completed"
    },
    "tags": []
   },
   "outputs": [
    {
     "data": {
      "text/plain": [
       "'03/25/2017 9:09:47 AM'"
      ]
     },
     "execution_count": 12,
     "metadata": {},
     "output_type": "execute_result"
    }
   ],
   "source": [
    "# Check the format of the data tpep_dropoff_datetime\n",
    "df1['tpep_dropoff_datetime'][0]"
   ]
  },
  {
   "cell_type": "code",
   "execution_count": 13,
   "id": "0d19efc1",
   "metadata": {
    "execution": {
     "iopub.execute_input": "2024-10-05T21:44:29.746942Z",
     "iopub.status.busy": "2024-10-05T21:44:29.746164Z",
     "iopub.status.idle": "2024-10-05T21:44:30.013481Z",
     "shell.execute_reply": "2024-10-05T21:44:30.012135Z"
    },
    "papermill": {
     "duration": 0.294988,
     "end_time": "2024-10-05T21:44:30.018284",
     "exception": false,
     "start_time": "2024-10-05T21:44:29.723296",
     "status": "completed"
    },
    "tags": []
   },
   "outputs": [
    {
     "name": "stdout",
     "output_type": "stream",
     "text": [
      "Data type of tpep_pickup_datetime: object\n",
      "Data type of tpep_dropoff_datetime: object\n",
      "Data type of tpep_pickup_datetime: datetime64[ns]\n",
      "Data type of tpep_dropoff_datetime: datetime64[ns]\n"
     ]
    },
    {
     "data": {
      "text/html": [
       "<div>\n",
       "<style scoped>\n",
       "    .dataframe tbody tr th:only-of-type {\n",
       "        vertical-align: middle;\n",
       "    }\n",
       "\n",
       "    .dataframe tbody tr th {\n",
       "        vertical-align: top;\n",
       "    }\n",
       "\n",
       "    .dataframe thead th {\n",
       "        text-align: right;\n",
       "    }\n",
       "</style>\n",
       "<table border=\"1\" class=\"dataframe\">\n",
       "  <thead>\n",
       "    <tr style=\"text-align: right;\">\n",
       "      <th></th>\n",
       "      <th>Unnamed: 0</th>\n",
       "      <th>VendorID</th>\n",
       "      <th>tpep_pickup_datetime</th>\n",
       "      <th>tpep_dropoff_datetime</th>\n",
       "      <th>passenger_count</th>\n",
       "      <th>trip_distance</th>\n",
       "      <th>RatecodeID</th>\n",
       "      <th>store_and_fwd_flag</th>\n",
       "      <th>PULocationID</th>\n",
       "      <th>DOLocationID</th>\n",
       "      <th>payment_type</th>\n",
       "      <th>fare_amount</th>\n",
       "      <th>extra</th>\n",
       "      <th>mta_tax</th>\n",
       "      <th>tip_amount</th>\n",
       "      <th>tolls_amount</th>\n",
       "      <th>improvement_surcharge</th>\n",
       "      <th>total_amount</th>\n",
       "      <th>mean_duration</th>\n",
       "      <th>mean_distance</th>\n",
       "      <th>predicted_fare</th>\n",
       "      <th>tip_percent</th>\n",
       "      <th>generous</th>\n",
       "    </tr>\n",
       "  </thead>\n",
       "  <tbody>\n",
       "    <tr>\n",
       "      <th>0</th>\n",
       "      <td>24870114</td>\n",
       "      <td>2</td>\n",
       "      <td>2017-03-25 08:55:43</td>\n",
       "      <td>2017-03-25 09:09:47</td>\n",
       "      <td>6</td>\n",
       "      <td>3.34</td>\n",
       "      <td>1</td>\n",
       "      <td>N</td>\n",
       "      <td>100</td>\n",
       "      <td>231</td>\n",
       "      <td>1</td>\n",
       "      <td>13.0</td>\n",
       "      <td>0.0</td>\n",
       "      <td>0.5</td>\n",
       "      <td>2.76</td>\n",
       "      <td>0.0</td>\n",
       "      <td>0.3</td>\n",
       "      <td>16.56</td>\n",
       "      <td>22.847222</td>\n",
       "      <td>3.521667</td>\n",
       "      <td>16.434245</td>\n",
       "      <td>20.000</td>\n",
       "      <td>1</td>\n",
       "    </tr>\n",
       "    <tr>\n",
       "      <th>1</th>\n",
       "      <td>35634249</td>\n",
       "      <td>1</td>\n",
       "      <td>2017-04-11 14:53:28</td>\n",
       "      <td>2017-04-11 15:19:58</td>\n",
       "      <td>1</td>\n",
       "      <td>1.80</td>\n",
       "      <td>1</td>\n",
       "      <td>N</td>\n",
       "      <td>186</td>\n",
       "      <td>43</td>\n",
       "      <td>1</td>\n",
       "      <td>16.0</td>\n",
       "      <td>0.0</td>\n",
       "      <td>0.5</td>\n",
       "      <td>4.00</td>\n",
       "      <td>0.0</td>\n",
       "      <td>0.3</td>\n",
       "      <td>20.80</td>\n",
       "      <td>24.470370</td>\n",
       "      <td>3.108889</td>\n",
       "      <td>16.052218</td>\n",
       "      <td>23.810</td>\n",
       "      <td>1</td>\n",
       "    </tr>\n",
       "    <tr>\n",
       "      <th>2</th>\n",
       "      <td>106203690</td>\n",
       "      <td>1</td>\n",
       "      <td>2017-12-15 07:26:56</td>\n",
       "      <td>2017-12-15 07:34:08</td>\n",
       "      <td>1</td>\n",
       "      <td>1.00</td>\n",
       "      <td>1</td>\n",
       "      <td>N</td>\n",
       "      <td>262</td>\n",
       "      <td>236</td>\n",
       "      <td>1</td>\n",
       "      <td>6.5</td>\n",
       "      <td>0.0</td>\n",
       "      <td>0.5</td>\n",
       "      <td>1.45</td>\n",
       "      <td>0.0</td>\n",
       "      <td>0.3</td>\n",
       "      <td>8.75</td>\n",
       "      <td>7.250000</td>\n",
       "      <td>0.881429</td>\n",
       "      <td>7.053706</td>\n",
       "      <td>19.863</td>\n",
       "      <td>0</td>\n",
       "    </tr>\n",
       "  </tbody>\n",
       "</table>\n",
       "</div>"
      ],
      "text/plain": [
       "   Unnamed: 0  VendorID tpep_pickup_datetime tpep_dropoff_datetime  \\\n",
       "0    24870114         2  2017-03-25 08:55:43   2017-03-25 09:09:47   \n",
       "1    35634249         1  2017-04-11 14:53:28   2017-04-11 15:19:58   \n",
       "2   106203690         1  2017-12-15 07:26:56   2017-12-15 07:34:08   \n",
       "\n",
       "   passenger_count  trip_distance  RatecodeID store_and_fwd_flag  \\\n",
       "0                6           3.34           1                  N   \n",
       "1                1           1.80           1                  N   \n",
       "2                1           1.00           1                  N   \n",
       "\n",
       "   PULocationID  DOLocationID  payment_type  fare_amount  extra  mta_tax  \\\n",
       "0           100           231             1         13.0    0.0      0.5   \n",
       "1           186            43             1         16.0    0.0      0.5   \n",
       "2           262           236             1          6.5    0.0      0.5   \n",
       "\n",
       "   tip_amount  tolls_amount  improvement_surcharge  total_amount  \\\n",
       "0        2.76           0.0                    0.3         16.56   \n",
       "1        4.00           0.0                    0.3         20.80   \n",
       "2        1.45           0.0                    0.3          8.75   \n",
       "\n",
       "   mean_duration  mean_distance  predicted_fare  tip_percent  generous  \n",
       "0      22.847222       3.521667       16.434245       20.000         1  \n",
       "1      24.470370       3.108889       16.052218       23.810         1  \n",
       "2       7.250000       0.881429        7.053706       19.863         0  "
      ]
     },
     "execution_count": 13,
     "metadata": {},
     "output_type": "execute_result"
    }
   ],
   "source": [
    "# Convert pickup and dropoff cols to datetime\n",
    "\n",
    "# Display data types of `tpep_pickup_datetime`, `tpep_dropoff_datetime`\n",
    "print('Data type of tpep_pickup_datetime:', df1['tpep_pickup_datetime'].dtype)\n",
    "print('Data type of tpep_dropoff_datetime:', df1['tpep_dropoff_datetime'].dtype)\n",
    "\n",
    "# Convert `tpep_pickup_datetime` to datetime format\n",
    "df1['tpep_pickup_datetime'] = pd.to_datetime(df1['tpep_pickup_datetime'],format='%m/%d/%Y %I:%M:%S %p')\n",
    "\n",
    "# Convert `tpep_dropoff_datetime` to datetime format\n",
    "df1['tpep_dropoff_datetime'] = pd.to_datetime(df1['tpep_dropoff_datetime'],format='%m/%d/%Y %I:%M:%S %p')\n",
    "\n",
    "# Display data types of `tpep_pickup_datetime`, `tpep_dropoff_datetime`\n",
    "print('Data type of tpep_pickup_datetime:', df1['tpep_pickup_datetime'].dtype)\n",
    "print('Data type of tpep_dropoff_datetime:', df1['tpep_dropoff_datetime'].dtype)\n",
    "\n",
    "df1.head(3)"
   ]
  },
  {
   "cell_type": "markdown",
   "id": "276b6e47",
   "metadata": {
    "papermill": {
     "duration": 0.033392,
     "end_time": "2024-10-05T21:44:30.082833",
     "exception": false,
     "start_time": "2024-10-05T21:44:30.049441",
     "status": "completed"
    },
    "tags": []
   },
   "source": [
    "Create a day column that contains only the day of the week when each passenger was picked up. Then, convert the values to lowercase."
   ]
  },
  {
   "cell_type": "code",
   "execution_count": 14,
   "id": "ebc0f2aa",
   "metadata": {
    "execution": {
     "iopub.execute_input": "2024-10-05T21:44:30.136966Z",
     "iopub.status.busy": "2024-10-05T21:44:30.136215Z",
     "iopub.status.idle": "2024-10-05T21:44:30.153913Z",
     "shell.execute_reply": "2024-10-05T21:44:30.152712Z"
    },
    "papermill": {
     "duration": 0.043317,
     "end_time": "2024-10-05T21:44:30.156281",
     "exception": false,
     "start_time": "2024-10-05T21:44:30.112964",
     "status": "completed"
    },
    "tags": []
   },
   "outputs": [],
   "source": [
    "# Extract the day of the week from tpep_pickup_datetime\n",
    "df1['day'] = df1['tpep_pickup_datetime'].dt.day_name()\n",
    "\n",
    "# Convert to lowercase\n",
    "df1['day'] = df1['day'].str.lower()"
   ]
  },
  {
   "cell_type": "markdown",
   "id": "38b2ff94",
   "metadata": {
    "papermill": {
     "duration": 0.024953,
     "end_time": "2024-10-05T21:44:30.202705",
     "exception": false,
     "start_time": "2024-10-05T21:44:30.177752",
     "status": "completed"
    },
    "tags": []
   },
   "source": [
    "**Create time of day columns**\n",
    "\n",
    "Next, engineer four new columns that represent time of day bins. Each column should contain binary values (0=no, 1=yes) that indicate whether a trip began (picked up) during the following times:\n",
    "\n",
    "* am_rush = [06:00–10:00)\n",
    "* daytime = [10:00–16:00)\n",
    "* pm_rush = [16:00–20:00)\n",
    "* nighttime = [20:00–06:00)\n",
    "\n",
    "To do this, first create the four columns. For now, each new column should be identical and contain the same information: the hour (only) from the *tpep_pickup_datetime* column."
   ]
  },
  {
   "cell_type": "code",
   "execution_count": 15,
   "id": "1f456b4a",
   "metadata": {
    "execution": {
     "iopub.execute_input": "2024-10-05T21:44:30.254619Z",
     "iopub.status.busy": "2024-10-05T21:44:30.253658Z",
     "iopub.status.idle": "2024-10-05T21:44:30.266032Z",
     "shell.execute_reply": "2024-10-05T21:44:30.264930Z"
    },
    "papermill": {
     "duration": 0.038724,
     "end_time": "2024-10-05T21:44:30.268396",
     "exception": false,
     "start_time": "2024-10-05T21:44:30.229672",
     "status": "completed"
    },
    "tags": []
   },
   "outputs": [],
   "source": [
    "# Create 'am_rush' col\n",
    "df1['am_rush'] = df1['tpep_pickup_datetime'].dt.hour\n",
    "\n",
    "# Create 'daytime' col\n",
    "df1['daytime'] = df1['tpep_pickup_datetime'].dt.hour\n",
    "\n",
    "# Create 'pm_rush' col\n",
    "df1['pm_rush'] = df1['tpep_pickup_datetime'].dt.hour\n",
    "\n",
    "# Create 'nighttime' col\n",
    "df1['nighttime'] = df1['tpep_pickup_datetime'].dt.hour"
   ]
  },
  {
   "cell_type": "code",
   "execution_count": 16,
   "id": "e4237944",
   "metadata": {
    "execution": {
     "iopub.execute_input": "2024-10-05T21:44:30.315530Z",
     "iopub.status.busy": "2024-10-05T21:44:30.315151Z",
     "iopub.status.idle": "2024-10-05T21:44:30.339465Z",
     "shell.execute_reply": "2024-10-05T21:44:30.337947Z"
    },
    "papermill": {
     "duration": 0.051252,
     "end_time": "2024-10-05T21:44:30.342494",
     "exception": false,
     "start_time": "2024-10-05T21:44:30.291242",
     "status": "completed"
    },
    "tags": []
   },
   "outputs": [
    {
     "name": "stdout",
     "output_type": "stream",
     "text": [
      "0    1\n",
      "1    0\n",
      "2    1\n",
      "3    0\n",
      "5    0\n",
      "Name: am_rush, dtype: int64\n"
     ]
    }
   ],
   "source": [
    "# Define 'am_rush()' conversion function [06:00–10:00)\n",
    "\n",
    "# Function to convert am_rush to binary\n",
    "def am_rush_binary(hour):\n",
    "    if 6 <= hour < 10:\n",
    "        return 1\n",
    "    else:\n",
    "        return 0\n",
    "\n",
    "# Apply the function to the am_rush column\n",
    "df1['am_rush'] = df1['am_rush'].apply(am_rush_binary)\n",
    "# Print the first five values\n",
    "print(df1['am_rush'].head())"
   ]
  },
  {
   "cell_type": "code",
   "execution_count": 17,
   "id": "b7184862",
   "metadata": {
    "execution": {
     "iopub.execute_input": "2024-10-05T21:44:30.391827Z",
     "iopub.status.busy": "2024-10-05T21:44:30.390944Z",
     "iopub.status.idle": "2024-10-05T21:44:30.413709Z",
     "shell.execute_reply": "2024-10-05T21:44:30.412701Z"
    },
    "papermill": {
     "duration": 0.048835,
     "end_time": "2024-10-05T21:44:30.416461",
     "exception": false,
     "start_time": "2024-10-05T21:44:30.367626",
     "status": "completed"
    },
    "tags": []
   },
   "outputs": [
    {
     "name": "stdout",
     "output_type": "stream",
     "text": [
      "0    0\n",
      "1    1\n",
      "2    0\n",
      "3    1\n",
      "5    0\n",
      "Name: daytime, dtype: int64\n"
     ]
    }
   ],
   "source": [
    "# Define 'daytime()' conversion function [10:00–16:00)\n",
    "def daytime_binary(hour):\n",
    "    if 10 <= hour < 16:\n",
    "        return 1\n",
    "    else:\n",
    "        return 0\n",
    "    \n",
    "# Apply 'daytime()' function to the 'daytime' series\n",
    "df1['daytime'] = df1['daytime'].apply(daytime_binary)\n",
    "# Print the first five values\n",
    "print(df1['daytime'].head())"
   ]
  },
  {
   "cell_type": "code",
   "execution_count": 18,
   "id": "ebf9209a",
   "metadata": {
    "execution": {
     "iopub.execute_input": "2024-10-05T21:44:30.460280Z",
     "iopub.status.busy": "2024-10-05T21:44:30.459890Z",
     "iopub.status.idle": "2024-10-05T21:44:30.479558Z",
     "shell.execute_reply": "2024-10-05T21:44:30.478552Z"
    },
    "papermill": {
     "duration": 0.044744,
     "end_time": "2024-10-05T21:44:30.482277",
     "exception": false,
     "start_time": "2024-10-05T21:44:30.437533",
     "status": "completed"
    },
    "tags": []
   },
   "outputs": [
    {
     "name": "stdout",
     "output_type": "stream",
     "text": [
      "0    0\n",
      "1    0\n",
      "2    0\n",
      "3    0\n",
      "5    0\n",
      "Name: pm_rush, dtype: int64\n"
     ]
    }
   ],
   "source": [
    "# Define 'pm_rush()' conversion function [16:00–20:00)\n",
    "def pm_rush_binary(hour):\n",
    "    if 16 <= hour < 20:\n",
    "        return 1\n",
    "    else:\n",
    "        return 0\n",
    "# Apply 'pm_rush()' function to the 'pm_rush' series\n",
    "df1['pm_rush'] = df1['pm_rush'].apply(pm_rush_binary)\n",
    "# Print the first five values\n",
    "print(df1['pm_rush'].head())"
   ]
  },
  {
   "cell_type": "code",
   "execution_count": 19,
   "id": "e96371fa",
   "metadata": {
    "execution": {
     "iopub.execute_input": "2024-10-05T21:44:30.527609Z",
     "iopub.status.busy": "2024-10-05T21:44:30.526829Z",
     "iopub.status.idle": "2024-10-05T21:44:30.547398Z",
     "shell.execute_reply": "2024-10-05T21:44:30.546059Z"
    },
    "papermill": {
     "duration": 0.045935,
     "end_time": "2024-10-05T21:44:30.549638",
     "exception": false,
     "start_time": "2024-10-05T21:44:30.503703",
     "status": "completed"
    },
    "tags": []
   },
   "outputs": [
    {
     "name": "stdout",
     "output_type": "stream",
     "text": [
      "0    0\n",
      "1    0\n",
      "2    0\n",
      "3    0\n",
      "5    0\n",
      "Name: nighttime, dtype: int64\n"
     ]
    }
   ],
   "source": [
    "# Define 'nighttime()' conversion function [20:00–06:00)\n",
    "def nighttime_binary(hour):\n",
    "    if 20 <= hour < 6:\n",
    "        return 1\n",
    "    else:\n",
    "        return 0\n",
    "# Apply 'nighttime' function to the 'nighttime' series\n",
    "df1['nighttime'] = df1['nighttime'].apply(nighttime_binary)\n",
    "# Print the first five values\n",
    "print(df1['nighttime'].head())"
   ]
  },
  {
   "cell_type": "markdown",
   "id": "05b36ab0",
   "metadata": {
    "papermill": {
     "duration": 0.020712,
     "end_time": "2024-10-05T21:44:30.591775",
     "exception": false,
     "start_time": "2024-10-05T21:44:30.571063",
     "status": "completed"
    },
    "tags": []
   },
   "source": [
    "**Create month column**"
   ]
  },
  {
   "cell_type": "code",
   "execution_count": 20,
   "id": "f880ae50",
   "metadata": {
    "execution": {
     "iopub.execute_input": "2024-10-05T21:44:30.637072Z",
     "iopub.status.busy": "2024-10-05T21:44:30.636631Z",
     "iopub.status.idle": "2024-10-05T21:44:30.767662Z",
     "shell.execute_reply": "2024-10-05T21:44:30.766385Z"
    },
    "papermill": {
     "duration": 0.156858,
     "end_time": "2024-10-05T21:44:30.770297",
     "exception": false,
     "start_time": "2024-10-05T21:44:30.613439",
     "status": "completed"
    },
    "tags": []
   },
   "outputs": [
    {
     "name": "stdout",
     "output_type": "stream",
     "text": [
      "0    mar\n",
      "1    apr\n",
      "2    dec\n",
      "3    may\n",
      "5    mar\n",
      "Name: month, dtype: object\n"
     ]
    }
   ],
   "source": [
    "# Create 'month' col\n",
    "# Extract the month name from tpep_pickup_datetime\n",
    "df1['month'] = df1['tpep_pickup_datetime'].dt.strftime('%b')\n",
    "\n",
    "# Convert to lowercase\n",
    "df1['month'] = df1['month'].str.lower()\n",
    "print(df1['month'].head(5))"
   ]
  },
  {
   "cell_type": "markdown",
   "id": "eb80a72d",
   "metadata": {
    "papermill": {
     "duration": 0.02209,
     "end_time": "2024-10-05T21:44:30.817452",
     "exception": false,
     "start_time": "2024-10-05T21:44:30.795362",
     "status": "completed"
    },
    "tags": []
   },
   "source": [
    "**Drop columns**\n",
    "\n",
    "Drop redundant and irrelevant columns as well as those that would not be available when the model is deployed. This includes information like payment type, trip distance, tip amount, tip percentage, total amount, toll amount, etc. The target variable (generous) must remain in the data because it will get isolated as the y data for modeling."
   ]
  },
  {
   "cell_type": "code",
   "execution_count": 21,
   "id": "7d275d3f",
   "metadata": {
    "execution": {
     "iopub.execute_input": "2024-10-05T21:44:30.864498Z",
     "iopub.status.busy": "2024-10-05T21:44:30.863932Z",
     "iopub.status.idle": "2024-10-05T21:44:30.897944Z",
     "shell.execute_reply": "2024-10-05T21:44:30.896891Z"
    },
    "papermill": {
     "duration": 0.060357,
     "end_time": "2024-10-05T21:44:30.900633",
     "exception": false,
     "start_time": "2024-10-05T21:44:30.840276",
     "status": "completed"
    },
    "tags": []
   },
   "outputs": [
    {
     "data": {
      "text/html": [
       "<div>\n",
       "<style scoped>\n",
       "    .dataframe tbody tr th:only-of-type {\n",
       "        vertical-align: middle;\n",
       "    }\n",
       "\n",
       "    .dataframe tbody tr th {\n",
       "        vertical-align: top;\n",
       "    }\n",
       "\n",
       "    .dataframe thead th {\n",
       "        text-align: right;\n",
       "    }\n",
       "</style>\n",
       "<table border=\"1\" class=\"dataframe\">\n",
       "  <thead>\n",
       "    <tr style=\"text-align: right;\">\n",
       "      <th></th>\n",
       "      <th>Unnamed: 0</th>\n",
       "      <th>VendorID</th>\n",
       "      <th>tpep_pickup_datetime</th>\n",
       "      <th>tpep_dropoff_datetime</th>\n",
       "      <th>passenger_count</th>\n",
       "      <th>trip_distance</th>\n",
       "      <th>RatecodeID</th>\n",
       "      <th>store_and_fwd_flag</th>\n",
       "      <th>PULocationID</th>\n",
       "      <th>DOLocationID</th>\n",
       "      <th>payment_type</th>\n",
       "      <th>fare_amount</th>\n",
       "      <th>extra</th>\n",
       "      <th>mta_tax</th>\n",
       "      <th>tip_amount</th>\n",
       "      <th>tolls_amount</th>\n",
       "      <th>improvement_surcharge</th>\n",
       "      <th>total_amount</th>\n",
       "      <th>mean_duration</th>\n",
       "      <th>mean_distance</th>\n",
       "      <th>predicted_fare</th>\n",
       "      <th>tip_percent</th>\n",
       "      <th>generous</th>\n",
       "      <th>day</th>\n",
       "      <th>am_rush</th>\n",
       "      <th>daytime</th>\n",
       "      <th>pm_rush</th>\n",
       "      <th>nighttime</th>\n",
       "      <th>month</th>\n",
       "    </tr>\n",
       "  </thead>\n",
       "  <tbody>\n",
       "    <tr>\n",
       "      <th>0</th>\n",
       "      <td>24870114</td>\n",
       "      <td>2</td>\n",
       "      <td>2017-03-25 08:55:43</td>\n",
       "      <td>2017-03-25 09:09:47</td>\n",
       "      <td>6</td>\n",
       "      <td>3.34</td>\n",
       "      <td>1</td>\n",
       "      <td>N</td>\n",
       "      <td>100</td>\n",
       "      <td>231</td>\n",
       "      <td>1</td>\n",
       "      <td>13.0</td>\n",
       "      <td>0.0</td>\n",
       "      <td>0.5</td>\n",
       "      <td>2.76</td>\n",
       "      <td>0.0</td>\n",
       "      <td>0.3</td>\n",
       "      <td>16.56</td>\n",
       "      <td>22.847222</td>\n",
       "      <td>3.521667</td>\n",
       "      <td>16.434245</td>\n",
       "      <td>20.000</td>\n",
       "      <td>1</td>\n",
       "      <td>saturday</td>\n",
       "      <td>1</td>\n",
       "      <td>0</td>\n",
       "      <td>0</td>\n",
       "      <td>0</td>\n",
       "      <td>mar</td>\n",
       "    </tr>\n",
       "    <tr>\n",
       "      <th>1</th>\n",
       "      <td>35634249</td>\n",
       "      <td>1</td>\n",
       "      <td>2017-04-11 14:53:28</td>\n",
       "      <td>2017-04-11 15:19:58</td>\n",
       "      <td>1</td>\n",
       "      <td>1.80</td>\n",
       "      <td>1</td>\n",
       "      <td>N</td>\n",
       "      <td>186</td>\n",
       "      <td>43</td>\n",
       "      <td>1</td>\n",
       "      <td>16.0</td>\n",
       "      <td>0.0</td>\n",
       "      <td>0.5</td>\n",
       "      <td>4.00</td>\n",
       "      <td>0.0</td>\n",
       "      <td>0.3</td>\n",
       "      <td>20.80</td>\n",
       "      <td>24.470370</td>\n",
       "      <td>3.108889</td>\n",
       "      <td>16.052218</td>\n",
       "      <td>23.810</td>\n",
       "      <td>1</td>\n",
       "      <td>tuesday</td>\n",
       "      <td>0</td>\n",
       "      <td>1</td>\n",
       "      <td>0</td>\n",
       "      <td>0</td>\n",
       "      <td>apr</td>\n",
       "    </tr>\n",
       "    <tr>\n",
       "      <th>2</th>\n",
       "      <td>106203690</td>\n",
       "      <td>1</td>\n",
       "      <td>2017-12-15 07:26:56</td>\n",
       "      <td>2017-12-15 07:34:08</td>\n",
       "      <td>1</td>\n",
       "      <td>1.00</td>\n",
       "      <td>1</td>\n",
       "      <td>N</td>\n",
       "      <td>262</td>\n",
       "      <td>236</td>\n",
       "      <td>1</td>\n",
       "      <td>6.5</td>\n",
       "      <td>0.0</td>\n",
       "      <td>0.5</td>\n",
       "      <td>1.45</td>\n",
       "      <td>0.0</td>\n",
       "      <td>0.3</td>\n",
       "      <td>8.75</td>\n",
       "      <td>7.250000</td>\n",
       "      <td>0.881429</td>\n",
       "      <td>7.053706</td>\n",
       "      <td>19.863</td>\n",
       "      <td>0</td>\n",
       "      <td>friday</td>\n",
       "      <td>1</td>\n",
       "      <td>0</td>\n",
       "      <td>0</td>\n",
       "      <td>0</td>\n",
       "      <td>dec</td>\n",
       "    </tr>\n",
       "    <tr>\n",
       "      <th>3</th>\n",
       "      <td>38942136</td>\n",
       "      <td>2</td>\n",
       "      <td>2017-05-07 13:17:59</td>\n",
       "      <td>2017-05-07 13:48:14</td>\n",
       "      <td>1</td>\n",
       "      <td>3.70</td>\n",
       "      <td>1</td>\n",
       "      <td>N</td>\n",
       "      <td>188</td>\n",
       "      <td>97</td>\n",
       "      <td>1</td>\n",
       "      <td>20.5</td>\n",
       "      <td>0.0</td>\n",
       "      <td>0.5</td>\n",
       "      <td>6.39</td>\n",
       "      <td>0.0</td>\n",
       "      <td>0.3</td>\n",
       "      <td>27.69</td>\n",
       "      <td>30.250000</td>\n",
       "      <td>3.700000</td>\n",
       "      <td>18.731650</td>\n",
       "      <td>30.000</td>\n",
       "      <td>1</td>\n",
       "      <td>sunday</td>\n",
       "      <td>0</td>\n",
       "      <td>1</td>\n",
       "      <td>0</td>\n",
       "      <td>0</td>\n",
       "      <td>may</td>\n",
       "    </tr>\n",
       "    <tr>\n",
       "      <th>5</th>\n",
       "      <td>23345809</td>\n",
       "      <td>2</td>\n",
       "      <td>2017-03-25 20:34:11</td>\n",
       "      <td>2017-03-25 20:42:11</td>\n",
       "      <td>6</td>\n",
       "      <td>2.30</td>\n",
       "      <td>1</td>\n",
       "      <td>N</td>\n",
       "      <td>161</td>\n",
       "      <td>236</td>\n",
       "      <td>1</td>\n",
       "      <td>9.0</td>\n",
       "      <td>0.5</td>\n",
       "      <td>0.5</td>\n",
       "      <td>2.06</td>\n",
       "      <td>0.0</td>\n",
       "      <td>0.3</td>\n",
       "      <td>12.36</td>\n",
       "      <td>11.855376</td>\n",
       "      <td>2.052258</td>\n",
       "      <td>10.441351</td>\n",
       "      <td>20.000</td>\n",
       "      <td>1</td>\n",
       "      <td>saturday</td>\n",
       "      <td>0</td>\n",
       "      <td>0</td>\n",
       "      <td>0</td>\n",
       "      <td>0</td>\n",
       "      <td>mar</td>\n",
       "    </tr>\n",
       "  </tbody>\n",
       "</table>\n",
       "</div>"
      ],
      "text/plain": [
       "   Unnamed: 0  VendorID tpep_pickup_datetime tpep_dropoff_datetime  \\\n",
       "0    24870114         2  2017-03-25 08:55:43   2017-03-25 09:09:47   \n",
       "1    35634249         1  2017-04-11 14:53:28   2017-04-11 15:19:58   \n",
       "2   106203690         1  2017-12-15 07:26:56   2017-12-15 07:34:08   \n",
       "3    38942136         2  2017-05-07 13:17:59   2017-05-07 13:48:14   \n",
       "5    23345809         2  2017-03-25 20:34:11   2017-03-25 20:42:11   \n",
       "\n",
       "   passenger_count  trip_distance  RatecodeID store_and_fwd_flag  \\\n",
       "0                6           3.34           1                  N   \n",
       "1                1           1.80           1                  N   \n",
       "2                1           1.00           1                  N   \n",
       "3                1           3.70           1                  N   \n",
       "5                6           2.30           1                  N   \n",
       "\n",
       "   PULocationID  DOLocationID  payment_type  fare_amount  extra  mta_tax  \\\n",
       "0           100           231             1         13.0    0.0      0.5   \n",
       "1           186            43             1         16.0    0.0      0.5   \n",
       "2           262           236             1          6.5    0.0      0.5   \n",
       "3           188            97             1         20.5    0.0      0.5   \n",
       "5           161           236             1          9.0    0.5      0.5   \n",
       "\n",
       "   tip_amount  tolls_amount  improvement_surcharge  total_amount  \\\n",
       "0        2.76           0.0                    0.3         16.56   \n",
       "1        4.00           0.0                    0.3         20.80   \n",
       "2        1.45           0.0                    0.3          8.75   \n",
       "3        6.39           0.0                    0.3         27.69   \n",
       "5        2.06           0.0                    0.3         12.36   \n",
       "\n",
       "   mean_duration  mean_distance  predicted_fare  tip_percent  generous  \\\n",
       "0      22.847222       3.521667       16.434245       20.000         1   \n",
       "1      24.470370       3.108889       16.052218       23.810         1   \n",
       "2       7.250000       0.881429        7.053706       19.863         0   \n",
       "3      30.250000       3.700000       18.731650       30.000         1   \n",
       "5      11.855376       2.052258       10.441351       20.000         1   \n",
       "\n",
       "        day  am_rush  daytime  pm_rush  nighttime month  \n",
       "0  saturday        1        0        0          0   mar  \n",
       "1   tuesday        0        1        0          0   apr  \n",
       "2    friday        1        0        0          0   dec  \n",
       "3    sunday        0        1        0          0   may  \n",
       "5  saturday        0        0        0          0   mar  "
      ]
     },
     "execution_count": 21,
     "metadata": {},
     "output_type": "execute_result"
    }
   ],
   "source": [
    "df1.head(5)"
   ]
  },
  {
   "cell_type": "code",
   "execution_count": 22,
   "id": "0493faef",
   "metadata": {
    "execution": {
     "iopub.execute_input": "2024-10-05T21:44:30.950702Z",
     "iopub.status.busy": "2024-10-05T21:44:30.949770Z",
     "iopub.status.idle": "2024-10-05T21:44:30.973032Z",
     "shell.execute_reply": "2024-10-05T21:44:30.971834Z"
    },
    "papermill": {
     "duration": 0.049795,
     "end_time": "2024-10-05T21:44:30.975236",
     "exception": false,
     "start_time": "2024-10-05T21:44:30.925441",
     "status": "completed"
    },
    "tags": []
   },
   "outputs": [
    {
     "data": {
      "text/html": [
       "<div>\n",
       "<style scoped>\n",
       "    .dataframe tbody tr th:only-of-type {\n",
       "        vertical-align: middle;\n",
       "    }\n",
       "\n",
       "    .dataframe tbody tr th {\n",
       "        vertical-align: top;\n",
       "    }\n",
       "\n",
       "    .dataframe thead th {\n",
       "        text-align: right;\n",
       "    }\n",
       "</style>\n",
       "<table border=\"1\" class=\"dataframe\">\n",
       "  <thead>\n",
       "    <tr style=\"text-align: right;\">\n",
       "      <th></th>\n",
       "      <th>VendorID</th>\n",
       "      <th>passenger_count</th>\n",
       "      <th>RatecodeID</th>\n",
       "      <th>PULocationID</th>\n",
       "      <th>DOLocationID</th>\n",
       "      <th>mean_duration</th>\n",
       "      <th>mean_distance</th>\n",
       "      <th>predicted_fare</th>\n",
       "      <th>generous</th>\n",
       "      <th>day</th>\n",
       "      <th>am_rush</th>\n",
       "      <th>daytime</th>\n",
       "      <th>pm_rush</th>\n",
       "      <th>nighttime</th>\n",
       "      <th>month</th>\n",
       "    </tr>\n",
       "  </thead>\n",
       "  <tbody>\n",
       "    <tr>\n",
       "      <th>0</th>\n",
       "      <td>2</td>\n",
       "      <td>6</td>\n",
       "      <td>1</td>\n",
       "      <td>100</td>\n",
       "      <td>231</td>\n",
       "      <td>22.847222</td>\n",
       "      <td>3.521667</td>\n",
       "      <td>16.434245</td>\n",
       "      <td>1</td>\n",
       "      <td>saturday</td>\n",
       "      <td>1</td>\n",
       "      <td>0</td>\n",
       "      <td>0</td>\n",
       "      <td>0</td>\n",
       "      <td>mar</td>\n",
       "    </tr>\n",
       "    <tr>\n",
       "      <th>1</th>\n",
       "      <td>1</td>\n",
       "      <td>1</td>\n",
       "      <td>1</td>\n",
       "      <td>186</td>\n",
       "      <td>43</td>\n",
       "      <td>24.470370</td>\n",
       "      <td>3.108889</td>\n",
       "      <td>16.052218</td>\n",
       "      <td>1</td>\n",
       "      <td>tuesday</td>\n",
       "      <td>0</td>\n",
       "      <td>1</td>\n",
       "      <td>0</td>\n",
       "      <td>0</td>\n",
       "      <td>apr</td>\n",
       "    </tr>\n",
       "    <tr>\n",
       "      <th>2</th>\n",
       "      <td>1</td>\n",
       "      <td>1</td>\n",
       "      <td>1</td>\n",
       "      <td>262</td>\n",
       "      <td>236</td>\n",
       "      <td>7.250000</td>\n",
       "      <td>0.881429</td>\n",
       "      <td>7.053706</td>\n",
       "      <td>0</td>\n",
       "      <td>friday</td>\n",
       "      <td>1</td>\n",
       "      <td>0</td>\n",
       "      <td>0</td>\n",
       "      <td>0</td>\n",
       "      <td>dec</td>\n",
       "    </tr>\n",
       "    <tr>\n",
       "      <th>3</th>\n",
       "      <td>2</td>\n",
       "      <td>1</td>\n",
       "      <td>1</td>\n",
       "      <td>188</td>\n",
       "      <td>97</td>\n",
       "      <td>30.250000</td>\n",
       "      <td>3.700000</td>\n",
       "      <td>18.731650</td>\n",
       "      <td>1</td>\n",
       "      <td>sunday</td>\n",
       "      <td>0</td>\n",
       "      <td>1</td>\n",
       "      <td>0</td>\n",
       "      <td>0</td>\n",
       "      <td>may</td>\n",
       "    </tr>\n",
       "    <tr>\n",
       "      <th>5</th>\n",
       "      <td>2</td>\n",
       "      <td>6</td>\n",
       "      <td>1</td>\n",
       "      <td>161</td>\n",
       "      <td>236</td>\n",
       "      <td>11.855376</td>\n",
       "      <td>2.052258</td>\n",
       "      <td>10.441351</td>\n",
       "      <td>1</td>\n",
       "      <td>saturday</td>\n",
       "      <td>0</td>\n",
       "      <td>0</td>\n",
       "      <td>0</td>\n",
       "      <td>0</td>\n",
       "      <td>mar</td>\n",
       "    </tr>\n",
       "  </tbody>\n",
       "</table>\n",
       "</div>"
      ],
      "text/plain": [
       "   VendorID  passenger_count  RatecodeID  PULocationID  DOLocationID  \\\n",
       "0         2                6           1           100           231   \n",
       "1         1                1           1           186            43   \n",
       "2         1                1           1           262           236   \n",
       "3         2                1           1           188            97   \n",
       "5         2                6           1           161           236   \n",
       "\n",
       "   mean_duration  mean_distance  predicted_fare  generous       day  am_rush  \\\n",
       "0      22.847222       3.521667       16.434245         1  saturday        1   \n",
       "1      24.470370       3.108889       16.052218         1   tuesday        0   \n",
       "2       7.250000       0.881429        7.053706         0    friday        1   \n",
       "3      30.250000       3.700000       18.731650         1    sunday        0   \n",
       "5      11.855376       2.052258       10.441351         1  saturday        0   \n",
       "\n",
       "   daytime  pm_rush  nighttime month  \n",
       "0        0        0          0   mar  \n",
       "1        1        0          0   apr  \n",
       "2        0        0          0   dec  \n",
       "3        1        0          0   may  \n",
       "5        0        0          0   mar  "
      ]
     },
     "execution_count": 22,
     "metadata": {},
     "output_type": "execute_result"
    }
   ],
   "source": [
    "# Drop columns\n",
    "# List of columns to drop\n",
    "columns_to_drop = ['Unnamed: 0', 'tpep_pickup_datetime', 'tpep_dropoff_datetime',\n",
    "             'payment_type', 'trip_distance', 'store_and_fwd_flag', 'payment_type',\n",
    "             'fare_amount', 'extra', 'mta_tax', 'tip_amount', 'tolls_amount',\n",
    "             'improvement_surcharge', 'total_amount', 'tip_percent']\n",
    "\n",
    "# Drop the columns\n",
    "df1 = df1.drop(columns=columns_to_drop)\n",
    "\n",
    "df1.head(5)"
   ]
  },
  {
   "cell_type": "markdown",
   "id": "f2f00d75",
   "metadata": {
    "papermill": {
     "duration": 0.023007,
     "end_time": "2024-10-05T21:44:31.021637",
     "exception": false,
     "start_time": "2024-10-05T21:44:30.998630",
     "status": "completed"
    },
    "tags": []
   },
   "source": [
    "**Variable encoding**\n",
    "\n",
    "Many of the columns are categorical and will need to be dummied (converted to binary). Some of these columns are numeric, but they actually encode categorical information, such as RatecodeID and the pickup and dropoff locations. To make these columns recognizable to the get_dummies() function as categorical variables, you'll first need to convert them to type(str)."
   ]
  },
  {
   "cell_type": "code",
   "execution_count": 23,
   "id": "5d663eef",
   "metadata": {
    "execution": {
     "iopub.execute_input": "2024-10-05T21:44:31.071532Z",
     "iopub.status.busy": "2024-10-05T21:44:31.070125Z",
     "iopub.status.idle": "2024-10-05T21:44:31.099275Z",
     "shell.execute_reply": "2024-10-05T21:44:31.098361Z"
    },
    "papermill": {
     "duration": 0.056606,
     "end_time": "2024-10-05T21:44:31.101704",
     "exception": false,
     "start_time": "2024-10-05T21:44:31.045098",
     "status": "completed"
    },
    "tags": []
   },
   "outputs": [],
   "source": [
    "# 1. Define list of cols to convert to string\n",
    "cols_to_str = ['RatecodeID', 'PULocationID', 'DOLocationID']\n",
    "\n",
    "# 2. Convert each column to string\n",
    "for col in cols_to_str:\n",
    "    df1[col] = df1[col].astype(str)"
   ]
  },
  {
   "cell_type": "code",
   "execution_count": 24,
   "id": "89c06e64",
   "metadata": {
    "execution": {
     "iopub.execute_input": "2024-10-05T21:44:31.150428Z",
     "iopub.status.busy": "2024-10-05T21:44:31.150029Z",
     "iopub.status.idle": "2024-10-05T21:44:31.185315Z",
     "shell.execute_reply": "2024-10-05T21:44:31.184328Z"
    },
    "papermill": {
     "duration": 0.063177,
     "end_time": "2024-10-05T21:44:31.188322",
     "exception": false,
     "start_time": "2024-10-05T21:44:31.125145",
     "status": "completed"
    },
    "tags": []
   },
   "outputs": [],
   "source": [
    "# Convert categoricals to binary\n",
    "df2 = pd.get_dummies(df1, drop_first=True)"
   ]
  },
  {
   "cell_type": "markdown",
   "id": "d08d8173",
   "metadata": {
    "papermill": {
     "duration": 0.025151,
     "end_time": "2024-10-05T21:44:31.239392",
     "exception": false,
     "start_time": "2024-10-05T21:44:31.214241",
     "status": "completed"
    },
    "tags": []
   },
   "source": [
    "**Evaluation metric**"
   ]
  },
  {
   "cell_type": "code",
   "execution_count": 25,
   "id": "066278fd",
   "metadata": {
    "execution": {
     "iopub.execute_input": "2024-10-05T21:44:31.288832Z",
     "iopub.status.busy": "2024-10-05T21:44:31.288404Z",
     "iopub.status.idle": "2024-10-05T21:44:31.298344Z",
     "shell.execute_reply": "2024-10-05T21:44:31.297301Z"
    },
    "papermill": {
     "duration": 0.037597,
     "end_time": "2024-10-05T21:44:31.300946",
     "exception": false,
     "start_time": "2024-10-05T21:44:31.263349",
     "status": "completed"
    },
    "tags": []
   },
   "outputs": [
    {
     "name": "stdout",
     "output_type": "stream",
     "text": [
      "Class balance:\n",
      "generous\n",
      "0    0.519424\n",
      "1    0.480576\n",
      "Name: count, dtype: float64\n"
     ]
    }
   ],
   "source": [
    "# Count the occurrences of each class\n",
    "class_counts = df2['generous'].value_counts()\n",
    "\n",
    "# Calculate proportions\n",
    "class_proportions = class_counts / len(df2)\n",
    "\n",
    "print(\"Class balance:\")\n",
    "print(class_proportions)"
   ]
  },
  {
   "cell_type": "markdown",
   "id": "6866c9e5",
   "metadata": {
    "papermill": {
     "duration": 0.02335,
     "end_time": "2024-10-05T21:44:31.348130",
     "exception": false,
     "start_time": "2024-10-05T21:44:31.324780",
     "status": "completed"
    },
    "tags": []
   },
   "source": [
    "A little over half of the customers in this dataset were \"generous\" (tipped ≥ 20%). The dataset is very nearly balanced.\n",
    "\n",
    "To determine a metric, consider the cost of both kinds of model error:\n",
    "\n",
    "* False positives (the model predicts a tip ≥ 20%, but the customer does not give one)\n",
    "* False negatives (the model predicts a tip < 20%, but the customer gives more)\n",
    "\n",
    "False positives are worse for cab drivers, because they would pick up a customer expecting a good tip and then not receive one, frustrating the driver.\n",
    "\n",
    "False negatives are worse for customers, because a cab driver would likely pick up a different customer who was predicted to tip more—even when the original customer would have tipped generously."
   ]
  },
  {
   "cell_type": "markdown",
   "id": "150f7700",
   "metadata": {
    "papermill": {
     "duration": 0.023435,
     "end_time": "2024-10-05T21:44:31.395105",
     "exception": false,
     "start_time": "2024-10-05T21:44:31.371670",
     "status": "completed"
    },
    "tags": []
   },
   "source": [
    "# Task 3. Modeling\n",
    "\n",
    "**Split the data**\n",
    "\n",
    "The only remaining step is to split the data into features/target variable and training/testing data."
   ]
  },
  {
   "cell_type": "code",
   "execution_count": 26,
   "id": "ab2a9ab8",
   "metadata": {
    "execution": {
     "iopub.execute_input": "2024-10-05T21:44:31.443387Z",
     "iopub.status.busy": "2024-10-05T21:44:31.442593Z",
     "iopub.status.idle": "2024-10-05T21:44:31.481675Z",
     "shell.execute_reply": "2024-10-05T21:44:31.480718Z"
    },
    "papermill": {
     "duration": 0.066504,
     "end_time": "2024-10-05T21:44:31.484429",
     "exception": false,
     "start_time": "2024-10-05T21:44:31.417925",
     "status": "completed"
    },
    "tags": []
   },
   "outputs": [],
   "source": [
    "# Isolate target variable (y)\n",
    "y = df2['generous']\n",
    "\n",
    "# Isolate the features (X)\n",
    "X = df2.drop(columns=['generous'])\n",
    "\n",
    "# Split into train and test sets\n",
    "X_train, X_test, y_train, y_test = train_test_split(X, y, test_size=0.2, stratify=y, random_state=42)"
   ]
  },
  {
   "cell_type": "markdown",
   "id": "498401d9",
   "metadata": {
    "papermill": {
     "duration": 0.02394,
     "end_time": "2024-10-05T21:44:31.532590",
     "exception": false,
     "start_time": "2024-10-05T21:44:31.508650",
     "status": "completed"
    },
    "tags": []
   },
   "source": [
    "Random **forest**"
   ]
  },
  {
   "cell_type": "code",
   "execution_count": 27,
   "id": "4d1a9a85",
   "metadata": {
    "execution": {
     "iopub.execute_input": "2024-10-05T21:44:31.580793Z",
     "iopub.status.busy": "2024-10-05T21:44:31.580405Z",
     "iopub.status.idle": "2024-10-05T21:44:31.587247Z",
     "shell.execute_reply": "2024-10-05T21:44:31.586236Z"
    },
    "papermill": {
     "duration": 0.033268,
     "end_time": "2024-10-05T21:44:31.589446",
     "exception": false,
     "start_time": "2024-10-05T21:44:31.556178",
     "status": "completed"
    },
    "tags": []
   },
   "outputs": [],
   "source": [
    "# 1. Instantiate the random forest classifier\n",
    "rf = RandomForestClassifier(random_state=42)\n",
    "\n",
    "# 2. Create a dictionary of hyperparameters to tune \n",
    "cv_params = {'max_depth': [None],\n",
    "             'max_features': [1.0],\n",
    "             'max_samples': [0.7],\n",
    "             'min_samples_leaf': [1],\n",
    "             'min_samples_split': [2],\n",
    "             'n_estimators': [300]\n",
    "             }\n",
    "# 3. Define a set of scoring metrics to capture\n",
    "scoring = ['precision', 'recall', 'f1', 'accuracy']\n",
    "\n",
    "# 4. Instantiate the GridSearchCV object\n",
    "rf1 = GridSearchCV(estimator=rf, param_grid=cv_params, scoring=scoring, cv=5, refit='f1')"
   ]
  },
  {
   "cell_type": "markdown",
   "id": "704ba06a",
   "metadata": {
    "papermill": {
     "duration": 0.024442,
     "end_time": "2024-10-05T21:44:31.637164",
     "exception": false,
     "start_time": "2024-10-05T21:44:31.612722",
     "status": "completed"
    },
    "tags": []
   },
   "source": [
    "\n",
    "Fit the model to the training data."
   ]
  },
  {
   "cell_type": "code",
   "execution_count": 28,
   "id": "c1b66f06",
   "metadata": {
    "execution": {
     "iopub.execute_input": "2024-10-05T21:44:31.685112Z",
     "iopub.status.busy": "2024-10-05T21:44:31.684648Z",
     "iopub.status.idle": "2024-10-05T21:50:20.416604Z",
     "shell.execute_reply": "2024-10-05T21:50:20.415599Z"
    },
    "papermill": {
     "duration": 348.784421,
     "end_time": "2024-10-05T21:50:20.444488",
     "exception": false,
     "start_time": "2024-10-05T21:44:31.660067",
     "status": "completed"
    },
    "tags": []
   },
   "outputs": [
    {
     "name": "stdout",
     "output_type": "stream",
     "text": [
      "CPU times: user 5min 48s, sys: 309 ms, total: 5min 48s\n",
      "Wall time: 5min 48s\n"
     ]
    },
    {
     "data": {
      "text/html": [
       "<style>#sk-container-id-1 {color: black;background-color: white;}#sk-container-id-1 pre{padding: 0;}#sk-container-id-1 div.sk-toggleable {background-color: white;}#sk-container-id-1 label.sk-toggleable__label {cursor: pointer;display: block;width: 100%;margin-bottom: 0;padding: 0.3em;box-sizing: border-box;text-align: center;}#sk-container-id-1 label.sk-toggleable__label-arrow:before {content: \"▸\";float: left;margin-right: 0.25em;color: #696969;}#sk-container-id-1 label.sk-toggleable__label-arrow:hover:before {color: black;}#sk-container-id-1 div.sk-estimator:hover label.sk-toggleable__label-arrow:before {color: black;}#sk-container-id-1 div.sk-toggleable__content {max-height: 0;max-width: 0;overflow: hidden;text-align: left;background-color: #f0f8ff;}#sk-container-id-1 div.sk-toggleable__content pre {margin: 0.2em;color: black;border-radius: 0.25em;background-color: #f0f8ff;}#sk-container-id-1 input.sk-toggleable__control:checked~div.sk-toggleable__content {max-height: 200px;max-width: 100%;overflow: auto;}#sk-container-id-1 input.sk-toggleable__control:checked~label.sk-toggleable__label-arrow:before {content: \"▾\";}#sk-container-id-1 div.sk-estimator input.sk-toggleable__control:checked~label.sk-toggleable__label {background-color: #d4ebff;}#sk-container-id-1 div.sk-label input.sk-toggleable__control:checked~label.sk-toggleable__label {background-color: #d4ebff;}#sk-container-id-1 input.sk-hidden--visually {border: 0;clip: rect(1px 1px 1px 1px);clip: rect(1px, 1px, 1px, 1px);height: 1px;margin: -1px;overflow: hidden;padding: 0;position: absolute;width: 1px;}#sk-container-id-1 div.sk-estimator {font-family: monospace;background-color: #f0f8ff;border: 1px dotted black;border-radius: 0.25em;box-sizing: border-box;margin-bottom: 0.5em;}#sk-container-id-1 div.sk-estimator:hover {background-color: #d4ebff;}#sk-container-id-1 div.sk-parallel-item::after {content: \"\";width: 100%;border-bottom: 1px solid gray;flex-grow: 1;}#sk-container-id-1 div.sk-label:hover label.sk-toggleable__label {background-color: #d4ebff;}#sk-container-id-1 div.sk-serial::before {content: \"\";position: absolute;border-left: 1px solid gray;box-sizing: border-box;top: 0;bottom: 0;left: 50%;z-index: 0;}#sk-container-id-1 div.sk-serial {display: flex;flex-direction: column;align-items: center;background-color: white;padding-right: 0.2em;padding-left: 0.2em;position: relative;}#sk-container-id-1 div.sk-item {position: relative;z-index: 1;}#sk-container-id-1 div.sk-parallel {display: flex;align-items: stretch;justify-content: center;background-color: white;position: relative;}#sk-container-id-1 div.sk-item::before, #sk-container-id-1 div.sk-parallel-item::before {content: \"\";position: absolute;border-left: 1px solid gray;box-sizing: border-box;top: 0;bottom: 0;left: 50%;z-index: -1;}#sk-container-id-1 div.sk-parallel-item {display: flex;flex-direction: column;z-index: 1;position: relative;background-color: white;}#sk-container-id-1 div.sk-parallel-item:first-child::after {align-self: flex-end;width: 50%;}#sk-container-id-1 div.sk-parallel-item:last-child::after {align-self: flex-start;width: 50%;}#sk-container-id-1 div.sk-parallel-item:only-child::after {width: 0;}#sk-container-id-1 div.sk-dashed-wrapped {border: 1px dashed gray;margin: 0 0.4em 0.5em 0.4em;box-sizing: border-box;padding-bottom: 0.4em;background-color: white;}#sk-container-id-1 div.sk-label label {font-family: monospace;font-weight: bold;display: inline-block;line-height: 1.2em;}#sk-container-id-1 div.sk-label-container {text-align: center;}#sk-container-id-1 div.sk-container {/* jupyter's `normalize.less` sets `[hidden] { display: none; }` but bootstrap.min.css set `[hidden] { display: none !important; }` so we also need the `!important` here to be able to override the default hidden behavior on the sphinx rendered scikit-learn.org. See: https://github.com/scikit-learn/scikit-learn/issues/21755 */display: inline-block !important;position: relative;}#sk-container-id-1 div.sk-text-repr-fallback {display: none;}</style><div id=\"sk-container-id-1\" class=\"sk-top-container\"><div class=\"sk-text-repr-fallback\"><pre>GridSearchCV(cv=5, estimator=RandomForestClassifier(random_state=42),\n",
       "             param_grid={&#x27;max_depth&#x27;: [None], &#x27;max_features&#x27;: [1.0],\n",
       "                         &#x27;max_samples&#x27;: [0.7], &#x27;min_samples_leaf&#x27;: [1],\n",
       "                         &#x27;min_samples_split&#x27;: [2], &#x27;n_estimators&#x27;: [300]},\n",
       "             refit=&#x27;f1&#x27;, scoring=[&#x27;precision&#x27;, &#x27;recall&#x27;, &#x27;f1&#x27;, &#x27;accuracy&#x27;])</pre><b>In a Jupyter environment, please rerun this cell to show the HTML representation or trust the notebook. <br />On GitHub, the HTML representation is unable to render, please try loading this page with nbviewer.org.</b></div><div class=\"sk-container\" hidden><div class=\"sk-item sk-dashed-wrapped\"><div class=\"sk-label-container\"><div class=\"sk-label sk-toggleable\"><input class=\"sk-toggleable__control sk-hidden--visually\" id=\"sk-estimator-id-1\" type=\"checkbox\" ><label for=\"sk-estimator-id-1\" class=\"sk-toggleable__label sk-toggleable__label-arrow\">GridSearchCV</label><div class=\"sk-toggleable__content\"><pre>GridSearchCV(cv=5, estimator=RandomForestClassifier(random_state=42),\n",
       "             param_grid={&#x27;max_depth&#x27;: [None], &#x27;max_features&#x27;: [1.0],\n",
       "                         &#x27;max_samples&#x27;: [0.7], &#x27;min_samples_leaf&#x27;: [1],\n",
       "                         &#x27;min_samples_split&#x27;: [2], &#x27;n_estimators&#x27;: [300]},\n",
       "             refit=&#x27;f1&#x27;, scoring=[&#x27;precision&#x27;, &#x27;recall&#x27;, &#x27;f1&#x27;, &#x27;accuracy&#x27;])</pre></div></div></div><div class=\"sk-parallel\"><div class=\"sk-parallel-item\"><div class=\"sk-item\"><div class=\"sk-label-container\"><div class=\"sk-label sk-toggleable\"><input class=\"sk-toggleable__control sk-hidden--visually\" id=\"sk-estimator-id-2\" type=\"checkbox\" ><label for=\"sk-estimator-id-2\" class=\"sk-toggleable__label sk-toggleable__label-arrow\">estimator: RandomForestClassifier</label><div class=\"sk-toggleable__content\"><pre>RandomForestClassifier(random_state=42)</pre></div></div></div><div class=\"sk-serial\"><div class=\"sk-item\"><div class=\"sk-estimator sk-toggleable\"><input class=\"sk-toggleable__control sk-hidden--visually\" id=\"sk-estimator-id-3\" type=\"checkbox\" ><label for=\"sk-estimator-id-3\" class=\"sk-toggleable__label sk-toggleable__label-arrow\">RandomForestClassifier</label><div class=\"sk-toggleable__content\"><pre>RandomForestClassifier(random_state=42)</pre></div></div></div></div></div></div></div></div></div></div>"
      ],
      "text/plain": [
       "GridSearchCV(cv=5, estimator=RandomForestClassifier(random_state=42),\n",
       "             param_grid={'max_depth': [None], 'max_features': [1.0],\n",
       "                         'max_samples': [0.7], 'min_samples_leaf': [1],\n",
       "                         'min_samples_split': [2], 'n_estimators': [300]},\n",
       "             refit='f1', scoring=['precision', 'recall', 'f1', 'accuracy'])"
      ]
     },
     "execution_count": 28,
     "metadata": {},
     "output_type": "execute_result"
    }
   ],
   "source": [
    "%%time\n",
    "rf1.fit(X_train, y_train)"
   ]
  },
  {
   "cell_type": "markdown",
   "id": "73c085ed",
   "metadata": {
    "papermill": {
     "duration": 0.024544,
     "end_time": "2024-10-05T21:50:20.493989",
     "exception": false,
     "start_time": "2024-10-05T21:50:20.469445",
     "status": "completed"
    },
    "tags": []
   },
   "source": [
    "**Save the model for reference using pickle**\n",
    "\n",
    "Use the pickle library you've already imported to save the output of this model."
   ]
  },
  {
   "cell_type": "code",
   "execution_count": 29,
   "id": "0f1d90d2",
   "metadata": {
    "execution": {
     "iopub.execute_input": "2024-10-05T21:50:20.544813Z",
     "iopub.status.busy": "2024-10-05T21:50:20.544400Z",
     "iopub.status.idle": "2024-10-05T21:50:20.549697Z",
     "shell.execute_reply": "2024-10-05T21:50:20.548591Z"
    },
    "papermill": {
     "duration": 0.033719,
     "end_time": "2024-10-05T21:50:20.552045",
     "exception": false,
     "start_time": "2024-10-05T21:50:20.518326",
     "status": "completed"
    },
    "tags": []
   },
   "outputs": [],
   "source": [
    "import pickle \n",
    "\n",
    "# Define a path to the folder where you want to save the model\n",
    "path = '/home/jovyan/work/'"
   ]
  },
  {
   "cell_type": "code",
   "execution_count": 30,
   "id": "2f9df75c",
   "metadata": {
    "execution": {
     "iopub.execute_input": "2024-10-05T21:50:20.603374Z",
     "iopub.status.busy": "2024-10-05T21:50:20.602926Z",
     "iopub.status.idle": "2024-10-05T21:50:20.609367Z",
     "shell.execute_reply": "2024-10-05T21:50:20.608186Z"
    },
    "papermill": {
     "duration": 0.034921,
     "end_time": "2024-10-05T21:50:20.611823",
     "exception": false,
     "start_time": "2024-10-05T21:50:20.576902",
     "status": "completed"
    },
    "tags": []
   },
   "outputs": [],
   "source": [
    "def write_pickle(path, model_object, save_name:str):\n",
    "    '''\n",
    "    save_name is a string.\n",
    "    '''\n",
    "    with open(path + save_name + '.pickle', 'wb') as to_write:\n",
    "        pickle.dump(model_object, to_write)"
   ]
  },
  {
   "cell_type": "code",
   "execution_count": 31,
   "id": "3fc12513",
   "metadata": {
    "execution": {
     "iopub.execute_input": "2024-10-05T21:50:20.662836Z",
     "iopub.status.busy": "2024-10-05T21:50:20.662408Z",
     "iopub.status.idle": "2024-10-05T21:50:20.668407Z",
     "shell.execute_reply": "2024-10-05T21:50:20.667280Z"
    },
    "papermill": {
     "duration": 0.03419,
     "end_time": "2024-10-05T21:50:20.670689",
     "exception": false,
     "start_time": "2024-10-05T21:50:20.636499",
     "status": "completed"
    },
    "tags": []
   },
   "outputs": [],
   "source": [
    "def read_pickle(path, saved_model_name:str):\n",
    "    '''\n",
    "    saved_model_name is a string.\n",
    "    '''\n",
    "    with open(path + saved_model_name + '.pickle', 'rb') as to_read:\n",
    "        model = pickle.load(to_read)\n",
    "\n",
    "        return model"
   ]
  },
  {
   "cell_type": "markdown",
   "id": "68aa4ea7",
   "metadata": {
    "papermill": {
     "duration": 0.024297,
     "end_time": "2024-10-05T21:50:20.719591",
     "exception": false,
     "start_time": "2024-10-05T21:50:20.695294",
     "status": "completed"
    },
    "tags": []
   },
   "source": [
    "Examine the best average score across all the validation folds."
   ]
  },
  {
   "cell_type": "code",
   "execution_count": 32,
   "id": "fa2a2709",
   "metadata": {
    "execution": {
     "iopub.execute_input": "2024-10-05T21:50:20.770369Z",
     "iopub.status.busy": "2024-10-05T21:50:20.769934Z",
     "iopub.status.idle": "2024-10-05T21:50:20.776682Z",
     "shell.execute_reply": "2024-10-05T21:50:20.775656Z"
    },
    "papermill": {
     "duration": 0.034709,
     "end_time": "2024-10-05T21:50:20.779001",
     "exception": false,
     "start_time": "2024-10-05T21:50:20.744292",
     "status": "completed"
    },
    "tags": []
   },
   "outputs": [
    {
     "data": {
      "text/plain": [
       "0.6945681934367212"
      ]
     },
     "execution_count": 32,
     "metadata": {},
     "output_type": "execute_result"
    }
   ],
   "source": [
    "# Examine best score\n",
    "rf1.best_score_"
   ]
  },
  {
   "cell_type": "markdown",
   "id": "50176836",
   "metadata": {
    "papermill": {
     "duration": 0.023857,
     "end_time": "2024-10-05T21:50:20.827157",
     "exception": false,
     "start_time": "2024-10-05T21:50:20.803300",
     "status": "completed"
    },
    "tags": []
   },
   "source": [
    "Examine the best combination of hyperparameters."
   ]
  },
  {
   "cell_type": "code",
   "execution_count": 33,
   "id": "16e760be",
   "metadata": {
    "execution": {
     "iopub.execute_input": "2024-10-05T21:50:20.877606Z",
     "iopub.status.busy": "2024-10-05T21:50:20.877189Z",
     "iopub.status.idle": "2024-10-05T21:50:20.884290Z",
     "shell.execute_reply": "2024-10-05T21:50:20.883243Z"
    },
    "papermill": {
     "duration": 0.035307,
     "end_time": "2024-10-05T21:50:20.886731",
     "exception": false,
     "start_time": "2024-10-05T21:50:20.851424",
     "status": "completed"
    },
    "tags": []
   },
   "outputs": [
    {
     "data": {
      "text/plain": [
       "{'max_depth': None,\n",
       " 'max_features': 1.0,\n",
       " 'max_samples': 0.7,\n",
       " 'min_samples_leaf': 1,\n",
       " 'min_samples_split': 2,\n",
       " 'n_estimators': 300}"
      ]
     },
     "execution_count": 33,
     "metadata": {},
     "output_type": "execute_result"
    }
   ],
   "source": [
    "rf1.best_params_"
   ]
  },
  {
   "cell_type": "code",
   "execution_count": 34,
   "id": "46249d45",
   "metadata": {
    "execution": {
     "iopub.execute_input": "2024-10-05T21:50:20.938625Z",
     "iopub.status.busy": "2024-10-05T21:50:20.937752Z",
     "iopub.status.idle": "2024-10-05T21:50:20.946633Z",
     "shell.execute_reply": "2024-10-05T21:50:20.945646Z"
    },
    "papermill": {
     "duration": 0.037553,
     "end_time": "2024-10-05T21:50:20.949083",
     "exception": false,
     "start_time": "2024-10-05T21:50:20.911530",
     "status": "completed"
    },
    "tags": []
   },
   "outputs": [],
   "source": [
    "def make_results(model_name:str, model_object, metric:str):\n",
    "    '''\n",
    "    Arguments:\n",
    "    model_name (string): what you want the model to be called in the output table\n",
    "    model_object: a fit GridSearchCV object\n",
    "    metric (string): precision, recall, f1, or accuracy\n",
    "\n",
    "    Returns a pandas df with the F1, recall, precision, and accuracy scores\n",
    "    for the model with the best mean 'metric' score across all validation folds.\n",
    "    '''\n",
    "\n",
    "    # Create dictionary that maps input metric to actual metric name in GridSearchCV\n",
    "    metric_dict = {'precision': 'mean_test_precision',\n",
    "                 'recall': 'mean_test_recall',\n",
    "                 'f1': 'mean_test_f1',\n",
    "                 'accuracy': 'mean_test_accuracy',\n",
    "                 }\n",
    "\n",
    "    # Get all the results from the CV and put them in a df\n",
    "    cv_results = pd.DataFrame(model_object.cv_results_)\n",
    "\n",
    "    # Isolate the row of the df with the max(metric) score\n",
    "    best_estimator_results = cv_results.iloc[cv_results[metric_dict[metric]].idxmax(), :]\n",
    "\n",
    "    # Extract Accuracy, precision, recall, and f1 score from that row\n",
    "    f1 = best_estimator_results.mean_test_f1\n",
    "    recall = best_estimator_results.mean_test_recall\n",
    "    precision = best_estimator_results.mean_test_precision\n",
    "    accuracy = best_estimator_results.mean_test_accuracy\n",
    "\n",
    "    # Create table of results\n",
    "    table = pd.DataFrame({'model': [model_name],\n",
    "                        'precision': [precision],\n",
    "                        'recall': [recall],\n",
    "                        'F1': [f1],\n",
    "                        'accuracy': [accuracy],\n",
    "                        },\n",
    "                       )\n",
    "\n",
    "    return table"
   ]
  },
  {
   "cell_type": "code",
   "execution_count": 35,
   "id": "d7f90a53",
   "metadata": {
    "execution": {
     "iopub.execute_input": "2024-10-05T21:50:21.000773Z",
     "iopub.status.busy": "2024-10-05T21:50:21.000308Z",
     "iopub.status.idle": "2024-10-05T21:50:21.018106Z",
     "shell.execute_reply": "2024-10-05T21:50:21.016901Z"
    },
    "papermill": {
     "duration": 0.046444,
     "end_time": "2024-10-05T21:50:21.020581",
     "exception": false,
     "start_time": "2024-10-05T21:50:20.974137",
     "status": "completed"
    },
    "tags": []
   },
   "outputs": [
    {
     "data": {
      "text/html": [
       "<div>\n",
       "<style scoped>\n",
       "    .dataframe tbody tr th:only-of-type {\n",
       "        vertical-align: middle;\n",
       "    }\n",
       "\n",
       "    .dataframe tbody tr th {\n",
       "        vertical-align: top;\n",
       "    }\n",
       "\n",
       "    .dataframe thead th {\n",
       "        text-align: right;\n",
       "    }\n",
       "</style>\n",
       "<table border=\"1\" class=\"dataframe\">\n",
       "  <thead>\n",
       "    <tr style=\"text-align: right;\">\n",
       "      <th></th>\n",
       "      <th>model</th>\n",
       "      <th>precision</th>\n",
       "      <th>recall</th>\n",
       "      <th>F1</th>\n",
       "      <th>accuracy</th>\n",
       "    </tr>\n",
       "  </thead>\n",
       "  <tbody>\n",
       "    <tr>\n",
       "      <th>0</th>\n",
       "      <td>RF CV</td>\n",
       "      <td>0.674792</td>\n",
       "      <td>0.715622</td>\n",
       "      <td>0.694568</td>\n",
       "      <td>0.697593</td>\n",
       "    </tr>\n",
       "  </tbody>\n",
       "</table>\n",
       "</div>"
      ],
      "text/plain": [
       "   model  precision    recall        F1  accuracy\n",
       "0  RF CV   0.674792  0.715622  0.694568  0.697593"
      ]
     },
     "execution_count": 35,
     "metadata": {},
     "output_type": "execute_result"
    }
   ],
   "source": [
    "# Call 'make_results()' on the GridSearch object\n",
    "results = make_results('RF CV', rf1, 'f1')\n",
    "results"
   ]
  },
  {
   "cell_type": "markdown",
   "id": "08d5968e",
   "metadata": {
    "papermill": {
     "duration": 0.024853,
     "end_time": "2024-10-05T21:50:21.071206",
     "exception": false,
     "start_time": "2024-10-05T21:50:21.046353",
     "status": "completed"
    },
    "tags": []
   },
   "source": [
    "Use your model to predict on the test data. Assign the results to a variable called rf_preds."
   ]
  },
  {
   "cell_type": "code",
   "execution_count": 36,
   "id": "6d9983e9",
   "metadata": {
    "execution": {
     "iopub.execute_input": "2024-10-05T21:50:21.122421Z",
     "iopub.status.busy": "2024-10-05T21:50:21.121997Z",
     "iopub.status.idle": "2024-10-05T21:50:21.426425Z",
     "shell.execute_reply": "2024-10-05T21:50:21.425384Z"
    },
    "papermill": {
     "duration": 0.333286,
     "end_time": "2024-10-05T21:50:21.429272",
     "exception": false,
     "start_time": "2024-10-05T21:50:21.095986",
     "status": "completed"
    },
    "tags": []
   },
   "outputs": [],
   "source": [
    "# Get scores on test data\n",
    "rf_preds = rf1.best_estimator_.predict(X_test)"
   ]
  },
  {
   "cell_type": "code",
   "execution_count": 37,
   "id": "6c5f50cf",
   "metadata": {
    "execution": {
     "iopub.execute_input": "2024-10-05T21:50:21.481232Z",
     "iopub.status.busy": "2024-10-05T21:50:21.480789Z",
     "iopub.status.idle": "2024-10-05T21:50:21.487901Z",
     "shell.execute_reply": "2024-10-05T21:50:21.486907Z"
    },
    "papermill": {
     "duration": 0.035916,
     "end_time": "2024-10-05T21:50:21.490269",
     "exception": false,
     "start_time": "2024-10-05T21:50:21.454353",
     "status": "completed"
    },
    "tags": []
   },
   "outputs": [],
   "source": [
    "def get_test_scores(model_name:str, preds, y_test_data):\n",
    "    '''\n",
    "    Generate a table of test scores.\n",
    "\n",
    "    In:\n",
    "    model_name (string): Your choice: how the model will be named in the output table\n",
    "    preds: numpy array of test predictions\n",
    "    y_test_data: numpy array of y_test data\n",
    "\n",
    "    Out:\n",
    "    table: a pandas df of precision, recall, f1, and accuracy scores for your model\n",
    "    '''\n",
    "    accuracy = accuracy_score(y_test_data, preds)\n",
    "    precision = precision_score(y_test_data, preds)\n",
    "    recall = recall_score(y_test_data, preds)\n",
    "    f1 = f1_score(y_test_data, preds)\n",
    "\n",
    "    table = pd.DataFrame({'model': [model_name],\n",
    "                        'precision': [precision],\n",
    "                        'recall': [recall],\n",
    "                        'F1': [f1],\n",
    "                        'accuracy': [accuracy]\n",
    "                        })\n",
    "\n",
    "    return table"
   ]
  },
  {
   "cell_type": "markdown",
   "id": "1d1daf4e",
   "metadata": {
    "papermill": {
     "duration": 0.024605,
     "end_time": "2024-10-05T21:50:21.539700",
     "exception": false,
     "start_time": "2024-10-05T21:50:21.515095",
     "status": "completed"
    },
    "tags": []
   },
   "source": [
    "**RF test results**"
   ]
  },
  {
   "cell_type": "code",
   "execution_count": 38,
   "id": "963ba144",
   "metadata": {
    "execution": {
     "iopub.execute_input": "2024-10-05T21:50:21.591895Z",
     "iopub.status.busy": "2024-10-05T21:50:21.591419Z",
     "iopub.status.idle": "2024-10-05T21:50:21.617416Z",
     "shell.execute_reply": "2024-10-05T21:50:21.616299Z"
    },
    "papermill": {
     "duration": 0.055154,
     "end_time": "2024-10-05T21:50:21.619907",
     "exception": false,
     "start_time": "2024-10-05T21:50:21.564753",
     "status": "completed"
    },
    "tags": []
   },
   "outputs": [
    {
     "data": {
      "text/html": [
       "<div>\n",
       "<style scoped>\n",
       "    .dataframe tbody tr th:only-of-type {\n",
       "        vertical-align: middle;\n",
       "    }\n",
       "\n",
       "    .dataframe tbody tr th {\n",
       "        vertical-align: top;\n",
       "    }\n",
       "\n",
       "    .dataframe thead th {\n",
       "        text-align: right;\n",
       "    }\n",
       "</style>\n",
       "<table border=\"1\" class=\"dataframe\">\n",
       "  <thead>\n",
       "    <tr style=\"text-align: right;\">\n",
       "      <th></th>\n",
       "      <th>model</th>\n",
       "      <th>precision</th>\n",
       "      <th>recall</th>\n",
       "      <th>F1</th>\n",
       "      <th>accuracy</th>\n",
       "    </tr>\n",
       "  </thead>\n",
       "  <tbody>\n",
       "    <tr>\n",
       "      <th>0</th>\n",
       "      <td>RF CV</td>\n",
       "      <td>0.674792</td>\n",
       "      <td>0.715622</td>\n",
       "      <td>0.694568</td>\n",
       "      <td>0.697593</td>\n",
       "    </tr>\n",
       "    <tr>\n",
       "      <th>0</th>\n",
       "      <td>RF test</td>\n",
       "      <td>0.670878</td>\n",
       "      <td>0.723926</td>\n",
       "      <td>0.696393</td>\n",
       "      <td>0.696692</td>\n",
       "    </tr>\n",
       "  </tbody>\n",
       "</table>\n",
       "</div>"
      ],
      "text/plain": [
       "     model  precision    recall        F1  accuracy\n",
       "0    RF CV   0.674792  0.715622  0.694568  0.697593\n",
       "0  RF test   0.670878  0.723926  0.696393  0.696692"
      ]
     },
     "execution_count": 38,
     "metadata": {},
     "output_type": "execute_result"
    }
   ],
   "source": [
    "# Get scores on test data\n",
    "rf_test_scores = get_test_scores('RF test', rf_preds, y_test)\n",
    "results = pd.concat([results, rf_test_scores], axis=0)\n",
    "results"
   ]
  },
  {
   "cell_type": "markdown",
   "id": "ae443ee3",
   "metadata": {
    "papermill": {
     "duration": 0.025223,
     "end_time": "2024-10-05T21:50:21.670441",
     "exception": false,
     "start_time": "2024-10-05T21:50:21.645218",
     "status": "completed"
    },
    "tags": []
   },
   "source": [
    "**XGBoost**"
   ]
  },
  {
   "cell_type": "code",
   "execution_count": 39,
   "id": "e6d127d5",
   "metadata": {
    "execution": {
     "iopub.execute_input": "2024-10-05T21:50:21.722782Z",
     "iopub.status.busy": "2024-10-05T21:50:21.722326Z",
     "iopub.status.idle": "2024-10-05T21:50:21.729716Z",
     "shell.execute_reply": "2024-10-05T21:50:21.728613Z"
    },
    "papermill": {
     "duration": 0.036437,
     "end_time": "2024-10-05T21:50:21.732220",
     "exception": false,
     "start_time": "2024-10-05T21:50:21.695783",
     "status": "completed"
    },
    "tags": []
   },
   "outputs": [],
   "source": [
    "# 1. Instantiate the XGBoost classifier\n",
    "xgb = XGBClassifier(objective='binary:logistic', random_state=0)\n",
    "\n",
    "# 2. Create a dictionary of hyperparameters to tune\n",
    "# Note that this example only contains 1 value for each parameter for simplicity,\n",
    "# but you should assign a dictionary with ranges of values\n",
    "cv_params = {'learning_rate': [0.1],\n",
    "             'max_depth': [8],\n",
    "             'min_child_weight': [2],\n",
    "             'n_estimators': [500]\n",
    "             }\n",
    "\n",
    "# 3. Define a set of scoring metrics to capture\n",
    "scoring = {'accuracy', 'precision', 'recall', 'f1'}\n",
    "\n",
    "# 4. Instantiate the GridSearchCV object\n",
    "xgb1 = GridSearchCV(xgb, cv_params, scoring=scoring, cv=4, refit='f1')"
   ]
  },
  {
   "cell_type": "code",
   "execution_count": 40,
   "id": "f979fa2f",
   "metadata": {
    "execution": {
     "iopub.execute_input": "2024-10-05T21:50:21.785054Z",
     "iopub.status.busy": "2024-10-05T21:50:21.784236Z",
     "iopub.status.idle": "2024-10-05T21:50:50.880635Z",
     "shell.execute_reply": "2024-10-05T21:50:50.879549Z"
    },
    "papermill": {
     "duration": 29.125332,
     "end_time": "2024-10-05T21:50:50.882989",
     "exception": false,
     "start_time": "2024-10-05T21:50:21.757657",
     "status": "completed"
    },
    "tags": []
   },
   "outputs": [
    {
     "name": "stdout",
     "output_type": "stream",
     "text": [
      "CPU times: user 1min 44s, sys: 431 ms, total: 1min 44s\n",
      "Wall time: 29.1 s\n"
     ]
    },
    {
     "data": {
      "text/html": [
       "<style>#sk-container-id-2 {color: black;background-color: white;}#sk-container-id-2 pre{padding: 0;}#sk-container-id-2 div.sk-toggleable {background-color: white;}#sk-container-id-2 label.sk-toggleable__label {cursor: pointer;display: block;width: 100%;margin-bottom: 0;padding: 0.3em;box-sizing: border-box;text-align: center;}#sk-container-id-2 label.sk-toggleable__label-arrow:before {content: \"▸\";float: left;margin-right: 0.25em;color: #696969;}#sk-container-id-2 label.sk-toggleable__label-arrow:hover:before {color: black;}#sk-container-id-2 div.sk-estimator:hover label.sk-toggleable__label-arrow:before {color: black;}#sk-container-id-2 div.sk-toggleable__content {max-height: 0;max-width: 0;overflow: hidden;text-align: left;background-color: #f0f8ff;}#sk-container-id-2 div.sk-toggleable__content pre {margin: 0.2em;color: black;border-radius: 0.25em;background-color: #f0f8ff;}#sk-container-id-2 input.sk-toggleable__control:checked~div.sk-toggleable__content {max-height: 200px;max-width: 100%;overflow: auto;}#sk-container-id-2 input.sk-toggleable__control:checked~label.sk-toggleable__label-arrow:before {content: \"▾\";}#sk-container-id-2 div.sk-estimator input.sk-toggleable__control:checked~label.sk-toggleable__label {background-color: #d4ebff;}#sk-container-id-2 div.sk-label input.sk-toggleable__control:checked~label.sk-toggleable__label {background-color: #d4ebff;}#sk-container-id-2 input.sk-hidden--visually {border: 0;clip: rect(1px 1px 1px 1px);clip: rect(1px, 1px, 1px, 1px);height: 1px;margin: -1px;overflow: hidden;padding: 0;position: absolute;width: 1px;}#sk-container-id-2 div.sk-estimator {font-family: monospace;background-color: #f0f8ff;border: 1px dotted black;border-radius: 0.25em;box-sizing: border-box;margin-bottom: 0.5em;}#sk-container-id-2 div.sk-estimator:hover {background-color: #d4ebff;}#sk-container-id-2 div.sk-parallel-item::after {content: \"\";width: 100%;border-bottom: 1px solid gray;flex-grow: 1;}#sk-container-id-2 div.sk-label:hover label.sk-toggleable__label {background-color: #d4ebff;}#sk-container-id-2 div.sk-serial::before {content: \"\";position: absolute;border-left: 1px solid gray;box-sizing: border-box;top: 0;bottom: 0;left: 50%;z-index: 0;}#sk-container-id-2 div.sk-serial {display: flex;flex-direction: column;align-items: center;background-color: white;padding-right: 0.2em;padding-left: 0.2em;position: relative;}#sk-container-id-2 div.sk-item {position: relative;z-index: 1;}#sk-container-id-2 div.sk-parallel {display: flex;align-items: stretch;justify-content: center;background-color: white;position: relative;}#sk-container-id-2 div.sk-item::before, #sk-container-id-2 div.sk-parallel-item::before {content: \"\";position: absolute;border-left: 1px solid gray;box-sizing: border-box;top: 0;bottom: 0;left: 50%;z-index: -1;}#sk-container-id-2 div.sk-parallel-item {display: flex;flex-direction: column;z-index: 1;position: relative;background-color: white;}#sk-container-id-2 div.sk-parallel-item:first-child::after {align-self: flex-end;width: 50%;}#sk-container-id-2 div.sk-parallel-item:last-child::after {align-self: flex-start;width: 50%;}#sk-container-id-2 div.sk-parallel-item:only-child::after {width: 0;}#sk-container-id-2 div.sk-dashed-wrapped {border: 1px dashed gray;margin: 0 0.4em 0.5em 0.4em;box-sizing: border-box;padding-bottom: 0.4em;background-color: white;}#sk-container-id-2 div.sk-label label {font-family: monospace;font-weight: bold;display: inline-block;line-height: 1.2em;}#sk-container-id-2 div.sk-label-container {text-align: center;}#sk-container-id-2 div.sk-container {/* jupyter's `normalize.less` sets `[hidden] { display: none; }` but bootstrap.min.css set `[hidden] { display: none !important; }` so we also need the `!important` here to be able to override the default hidden behavior on the sphinx rendered scikit-learn.org. See: https://github.com/scikit-learn/scikit-learn/issues/21755 */display: inline-block !important;position: relative;}#sk-container-id-2 div.sk-text-repr-fallback {display: none;}</style><div id=\"sk-container-id-2\" class=\"sk-top-container\"><div class=\"sk-text-repr-fallback\"><pre>GridSearchCV(cv=4,\n",
       "             estimator=XGBClassifier(base_score=None, booster=None,\n",
       "                                     callbacks=None, colsample_bylevel=None,\n",
       "                                     colsample_bynode=None,\n",
       "                                     colsample_bytree=None, device=None,\n",
       "                                     early_stopping_rounds=None,\n",
       "                                     enable_categorical=False, eval_metric=None,\n",
       "                                     feature_types=None, gamma=None,\n",
       "                                     grow_policy=None, importance_type=None,\n",
       "                                     interaction_constraints=None,\n",
       "                                     learning_rate=None,...\n",
       "                                     max_delta_step=None, max_depth=None,\n",
       "                                     max_leaves=None, min_child_weight=None,\n",
       "                                     missing=nan, monotone_constraints=None,\n",
       "                                     multi_strategy=None, n_estimators=None,\n",
       "                                     n_jobs=None, num_parallel_tree=None,\n",
       "                                     random_state=0, ...),\n",
       "             param_grid={&#x27;learning_rate&#x27;: [0.1], &#x27;max_depth&#x27;: [8],\n",
       "                         &#x27;min_child_weight&#x27;: [2], &#x27;n_estimators&#x27;: [500]},\n",
       "             refit=&#x27;f1&#x27;, scoring={&#x27;accuracy&#x27;, &#x27;precision&#x27;, &#x27;f1&#x27;, &#x27;recall&#x27;})</pre><b>In a Jupyter environment, please rerun this cell to show the HTML representation or trust the notebook. <br />On GitHub, the HTML representation is unable to render, please try loading this page with nbviewer.org.</b></div><div class=\"sk-container\" hidden><div class=\"sk-item sk-dashed-wrapped\"><div class=\"sk-label-container\"><div class=\"sk-label sk-toggleable\"><input class=\"sk-toggleable__control sk-hidden--visually\" id=\"sk-estimator-id-4\" type=\"checkbox\" ><label for=\"sk-estimator-id-4\" class=\"sk-toggleable__label sk-toggleable__label-arrow\">GridSearchCV</label><div class=\"sk-toggleable__content\"><pre>GridSearchCV(cv=4,\n",
       "             estimator=XGBClassifier(base_score=None, booster=None,\n",
       "                                     callbacks=None, colsample_bylevel=None,\n",
       "                                     colsample_bynode=None,\n",
       "                                     colsample_bytree=None, device=None,\n",
       "                                     early_stopping_rounds=None,\n",
       "                                     enable_categorical=False, eval_metric=None,\n",
       "                                     feature_types=None, gamma=None,\n",
       "                                     grow_policy=None, importance_type=None,\n",
       "                                     interaction_constraints=None,\n",
       "                                     learning_rate=None,...\n",
       "                                     max_delta_step=None, max_depth=None,\n",
       "                                     max_leaves=None, min_child_weight=None,\n",
       "                                     missing=nan, monotone_constraints=None,\n",
       "                                     multi_strategy=None, n_estimators=None,\n",
       "                                     n_jobs=None, num_parallel_tree=None,\n",
       "                                     random_state=0, ...),\n",
       "             param_grid={&#x27;learning_rate&#x27;: [0.1], &#x27;max_depth&#x27;: [8],\n",
       "                         &#x27;min_child_weight&#x27;: [2], &#x27;n_estimators&#x27;: [500]},\n",
       "             refit=&#x27;f1&#x27;, scoring={&#x27;accuracy&#x27;, &#x27;precision&#x27;, &#x27;f1&#x27;, &#x27;recall&#x27;})</pre></div></div></div><div class=\"sk-parallel\"><div class=\"sk-parallel-item\"><div class=\"sk-item\"><div class=\"sk-label-container\"><div class=\"sk-label sk-toggleable\"><input class=\"sk-toggleable__control sk-hidden--visually\" id=\"sk-estimator-id-5\" type=\"checkbox\" ><label for=\"sk-estimator-id-5\" class=\"sk-toggleable__label sk-toggleable__label-arrow\">estimator: XGBClassifier</label><div class=\"sk-toggleable__content\"><pre>XGBClassifier(base_score=None, booster=None, callbacks=None,\n",
       "              colsample_bylevel=None, colsample_bynode=None,\n",
       "              colsample_bytree=None, device=None, early_stopping_rounds=None,\n",
       "              enable_categorical=False, eval_metric=None, feature_types=None,\n",
       "              gamma=None, grow_policy=None, importance_type=None,\n",
       "              interaction_constraints=None, learning_rate=None, max_bin=None,\n",
       "              max_cat_threshold=None, max_cat_to_onehot=None,\n",
       "              max_delta_step=None, max_depth=None, max_leaves=None,\n",
       "              min_child_weight=None, missing=nan, monotone_constraints=None,\n",
       "              multi_strategy=None, n_estimators=None, n_jobs=None,\n",
       "              num_parallel_tree=None, random_state=0, ...)</pre></div></div></div><div class=\"sk-serial\"><div class=\"sk-item\"><div class=\"sk-estimator sk-toggleable\"><input class=\"sk-toggleable__control sk-hidden--visually\" id=\"sk-estimator-id-6\" type=\"checkbox\" ><label for=\"sk-estimator-id-6\" class=\"sk-toggleable__label sk-toggleable__label-arrow\">XGBClassifier</label><div class=\"sk-toggleable__content\"><pre>XGBClassifier(base_score=None, booster=None, callbacks=None,\n",
       "              colsample_bylevel=None, colsample_bynode=None,\n",
       "              colsample_bytree=None, device=None, early_stopping_rounds=None,\n",
       "              enable_categorical=False, eval_metric=None, feature_types=None,\n",
       "              gamma=None, grow_policy=None, importance_type=None,\n",
       "              interaction_constraints=None, learning_rate=None, max_bin=None,\n",
       "              max_cat_threshold=None, max_cat_to_onehot=None,\n",
       "              max_delta_step=None, max_depth=None, max_leaves=None,\n",
       "              min_child_weight=None, missing=nan, monotone_constraints=None,\n",
       "              multi_strategy=None, n_estimators=None, n_jobs=None,\n",
       "              num_parallel_tree=None, random_state=0, ...)</pre></div></div></div></div></div></div></div></div></div></div>"
      ],
      "text/plain": [
       "GridSearchCV(cv=4,\n",
       "             estimator=XGBClassifier(base_score=None, booster=None,\n",
       "                                     callbacks=None, colsample_bylevel=None,\n",
       "                                     colsample_bynode=None,\n",
       "                                     colsample_bytree=None, device=None,\n",
       "                                     early_stopping_rounds=None,\n",
       "                                     enable_categorical=False, eval_metric=None,\n",
       "                                     feature_types=None, gamma=None,\n",
       "                                     grow_policy=None, importance_type=None,\n",
       "                                     interaction_constraints=None,\n",
       "                                     learning_rate=None,...\n",
       "                                     max_delta_step=None, max_depth=None,\n",
       "                                     max_leaves=None, min_child_weight=None,\n",
       "                                     missing=nan, monotone_constraints=None,\n",
       "                                     multi_strategy=None, n_estimators=None,\n",
       "                                     n_jobs=None, num_parallel_tree=None,\n",
       "                                     random_state=0, ...),\n",
       "             param_grid={'learning_rate': [0.1], 'max_depth': [8],\n",
       "                         'min_child_weight': [2], 'n_estimators': [500]},\n",
       "             refit='f1', scoring={'accuracy', 'precision', 'f1', 'recall'})"
      ]
     },
     "execution_count": 40,
     "metadata": {},
     "output_type": "execute_result"
    }
   ],
   "source": [
    "%%time\n",
    "xgb1.fit(X_train, y_train)"
   ]
  },
  {
   "cell_type": "markdown",
   "id": "a7faada9",
   "metadata": {
    "papermill": {
     "duration": 0.024658,
     "end_time": "2024-10-05T21:50:50.932934",
     "exception": false,
     "start_time": "2024-10-05T21:50:50.908276",
     "status": "completed"
    },
    "tags": []
   },
   "source": [
    "Get the best score from this model."
   ]
  },
  {
   "cell_type": "code",
   "execution_count": 41,
   "id": "8f8e44cc",
   "metadata": {
    "execution": {
     "iopub.execute_input": "2024-10-05T21:50:51.040802Z",
     "iopub.status.busy": "2024-10-05T21:50:51.040000Z",
     "iopub.status.idle": "2024-10-05T21:50:51.047099Z",
     "shell.execute_reply": "2024-10-05T21:50:51.046043Z"
    },
    "papermill": {
     "duration": 0.091038,
     "end_time": "2024-10-05T21:50:51.049321",
     "exception": false,
     "start_time": "2024-10-05T21:50:50.958283",
     "status": "completed"
    },
    "tags": []
   },
   "outputs": [
    {
     "data": {
      "text/plain": [
       "0.6763753616973366"
      ]
     },
     "execution_count": 41,
     "metadata": {},
     "output_type": "execute_result"
    }
   ],
   "source": [
    "# Examine best score\n",
    "xgb1.best_score_"
   ]
  },
  {
   "cell_type": "markdown",
   "id": "68b9ff9e",
   "metadata": {
    "papermill": {
     "duration": 0.024525,
     "end_time": "2024-10-05T21:50:51.099237",
     "exception": false,
     "start_time": "2024-10-05T21:50:51.074712",
     "status": "completed"
    },
    "tags": []
   },
   "source": [
    "And the best parameters."
   ]
  },
  {
   "cell_type": "code",
   "execution_count": 42,
   "id": "54f96e21",
   "metadata": {
    "execution": {
     "iopub.execute_input": "2024-10-05T21:50:51.151741Z",
     "iopub.status.busy": "2024-10-05T21:50:51.150851Z",
     "iopub.status.idle": "2024-10-05T21:50:51.157650Z",
     "shell.execute_reply": "2024-10-05T21:50:51.156611Z"
    },
    "papermill": {
     "duration": 0.035659,
     "end_time": "2024-10-05T21:50:51.160095",
     "exception": false,
     "start_time": "2024-10-05T21:50:51.124436",
     "status": "completed"
    },
    "tags": []
   },
   "outputs": [
    {
     "data": {
      "text/plain": [
       "{'learning_rate': 0.1,\n",
       " 'max_depth': 8,\n",
       " 'min_child_weight': 2,\n",
       " 'n_estimators': 500}"
      ]
     },
     "execution_count": 42,
     "metadata": {},
     "output_type": "execute_result"
    }
   ],
   "source": [
    "# Examine best parameters\n",
    "xgb1.best_params_"
   ]
  },
  {
   "cell_type": "markdown",
   "id": "7f5667b7",
   "metadata": {
    "papermill": {
     "duration": 0.024697,
     "end_time": "2024-10-05T21:50:51.210476",
     "exception": false,
     "start_time": "2024-10-05T21:50:51.185779",
     "status": "completed"
    },
    "tags": []
   },
   "source": [
    "**XGB CV results**"
   ]
  },
  {
   "cell_type": "code",
   "execution_count": 43,
   "id": "22a6eb39",
   "metadata": {
    "execution": {
     "iopub.execute_input": "2024-10-05T21:50:51.265592Z",
     "iopub.status.busy": "2024-10-05T21:50:51.265176Z",
     "iopub.status.idle": "2024-10-05T21:50:51.283451Z",
     "shell.execute_reply": "2024-10-05T21:50:51.282288Z"
    },
    "papermill": {
     "duration": 0.048903,
     "end_time": "2024-10-05T21:50:51.286039",
     "exception": false,
     "start_time": "2024-10-05T21:50:51.237136",
     "status": "completed"
    },
    "tags": []
   },
   "outputs": [
    {
     "data": {
      "text/html": [
       "<div>\n",
       "<style scoped>\n",
       "    .dataframe tbody tr th:only-of-type {\n",
       "        vertical-align: middle;\n",
       "    }\n",
       "\n",
       "    .dataframe tbody tr th {\n",
       "        vertical-align: top;\n",
       "    }\n",
       "\n",
       "    .dataframe thead th {\n",
       "        text-align: right;\n",
       "    }\n",
       "</style>\n",
       "<table border=\"1\" class=\"dataframe\">\n",
       "  <thead>\n",
       "    <tr style=\"text-align: right;\">\n",
       "      <th></th>\n",
       "      <th>model</th>\n",
       "      <th>precision</th>\n",
       "      <th>recall</th>\n",
       "      <th>F1</th>\n",
       "      <th>accuracy</th>\n",
       "    </tr>\n",
       "  </thead>\n",
       "  <tbody>\n",
       "    <tr>\n",
       "      <th>0</th>\n",
       "      <td>RF CV</td>\n",
       "      <td>0.674792</td>\n",
       "      <td>0.715622</td>\n",
       "      <td>0.694568</td>\n",
       "      <td>0.697593</td>\n",
       "    </tr>\n",
       "    <tr>\n",
       "      <th>0</th>\n",
       "      <td>RF test</td>\n",
       "      <td>0.670878</td>\n",
       "      <td>0.723926</td>\n",
       "      <td>0.696393</td>\n",
       "      <td>0.696692</td>\n",
       "    </tr>\n",
       "    <tr>\n",
       "      <th>0</th>\n",
       "      <td>XGB CV</td>\n",
       "      <td>0.665553</td>\n",
       "      <td>0.687683</td>\n",
       "      <td>0.676375</td>\n",
       "      <td>0.683754</td>\n",
       "    </tr>\n",
       "  </tbody>\n",
       "</table>\n",
       "</div>"
      ],
      "text/plain": [
       "     model  precision    recall        F1  accuracy\n",
       "0    RF CV   0.674792  0.715622  0.694568  0.697593\n",
       "0  RF test   0.670878  0.723926  0.696393  0.696692\n",
       "0   XGB CV   0.665553  0.687683  0.676375  0.683754"
      ]
     },
     "execution_count": 43,
     "metadata": {},
     "output_type": "execute_result"
    }
   ],
   "source": [
    "# Call 'make_results()' on the GridSearch object\n",
    "xgb1_cv_results = make_results('XGB CV', xgb1, 'f1')\n",
    "results = pd.concat([results, xgb1_cv_results], axis=0)\n",
    "results"
   ]
  },
  {
   "cell_type": "code",
   "execution_count": 44,
   "id": "37bc46fd",
   "metadata": {
    "execution": {
     "iopub.execute_input": "2024-10-05T21:50:51.341820Z",
     "iopub.status.busy": "2024-10-05T21:50:51.341125Z",
     "iopub.status.idle": "2024-10-05T21:50:51.543233Z",
     "shell.execute_reply": "2024-10-05T21:50:51.542201Z"
    },
    "papermill": {
     "duration": 0.231634,
     "end_time": "2024-10-05T21:50:51.546290",
     "exception": false,
     "start_time": "2024-10-05T21:50:51.314656",
     "status": "completed"
    },
    "tags": []
   },
   "outputs": [],
   "source": [
    "# Get scores on test data\n",
    "xgb_preds = xgb1.best_estimator_.predict(X_test)"
   ]
  },
  {
   "cell_type": "markdown",
   "id": "3cce4c06",
   "metadata": {
    "papermill": {
     "duration": 0.025879,
     "end_time": "2024-10-05T21:50:51.601736",
     "exception": false,
     "start_time": "2024-10-05T21:50:51.575857",
     "status": "completed"
    },
    "tags": []
   },
   "source": [
    "**XGB test results**"
   ]
  },
  {
   "cell_type": "code",
   "execution_count": 45,
   "id": "34dce04b",
   "metadata": {
    "execution": {
     "iopub.execute_input": "2024-10-05T21:50:51.656327Z",
     "iopub.status.busy": "2024-10-05T21:50:51.655027Z",
     "iopub.status.idle": "2024-10-05T21:50:51.680413Z",
     "shell.execute_reply": "2024-10-05T21:50:51.679307Z"
    },
    "papermill": {
     "duration": 0.055535,
     "end_time": "2024-10-05T21:50:51.683236",
     "exception": false,
     "start_time": "2024-10-05T21:50:51.627701",
     "status": "completed"
    },
    "tags": []
   },
   "outputs": [
    {
     "data": {
      "text/html": [
       "<div>\n",
       "<style scoped>\n",
       "    .dataframe tbody tr th:only-of-type {\n",
       "        vertical-align: middle;\n",
       "    }\n",
       "\n",
       "    .dataframe tbody tr th {\n",
       "        vertical-align: top;\n",
       "    }\n",
       "\n",
       "    .dataframe thead th {\n",
       "        text-align: right;\n",
       "    }\n",
       "</style>\n",
       "<table border=\"1\" class=\"dataframe\">\n",
       "  <thead>\n",
       "    <tr style=\"text-align: right;\">\n",
       "      <th></th>\n",
       "      <th>model</th>\n",
       "      <th>precision</th>\n",
       "      <th>recall</th>\n",
       "      <th>F1</th>\n",
       "      <th>accuracy</th>\n",
       "    </tr>\n",
       "  </thead>\n",
       "  <tbody>\n",
       "    <tr>\n",
       "      <th>0</th>\n",
       "      <td>RF CV</td>\n",
       "      <td>0.674792</td>\n",
       "      <td>0.715622</td>\n",
       "      <td>0.694568</td>\n",
       "      <td>0.697593</td>\n",
       "    </tr>\n",
       "    <tr>\n",
       "      <th>0</th>\n",
       "      <td>RF test</td>\n",
       "      <td>0.670878</td>\n",
       "      <td>0.723926</td>\n",
       "      <td>0.696393</td>\n",
       "      <td>0.696692</td>\n",
       "    </tr>\n",
       "    <tr>\n",
       "      <th>0</th>\n",
       "      <td>XGB CV</td>\n",
       "      <td>0.665553</td>\n",
       "      <td>0.687683</td>\n",
       "      <td>0.676375</td>\n",
       "      <td>0.683754</td>\n",
       "    </tr>\n",
       "    <tr>\n",
       "      <th>0</th>\n",
       "      <td>XGB test</td>\n",
       "      <td>0.671383</td>\n",
       "      <td>0.711656</td>\n",
       "      <td>0.690933</td>\n",
       "      <td>0.694071</td>\n",
       "    </tr>\n",
       "  </tbody>\n",
       "</table>\n",
       "</div>"
      ],
      "text/plain": [
       "      model  precision    recall        F1  accuracy\n",
       "0     RF CV   0.674792  0.715622  0.694568  0.697593\n",
       "0   RF test   0.670878  0.723926  0.696393  0.696692\n",
       "0    XGB CV   0.665553  0.687683  0.676375  0.683754\n",
       "0  XGB test   0.671383  0.711656  0.690933  0.694071"
      ]
     },
     "execution_count": 45,
     "metadata": {},
     "output_type": "execute_result"
    }
   ],
   "source": [
    "# Get scores on test data\n",
    "xgb_test_scores = get_test_scores('XGB test', xgb_preds, y_test)\n",
    "results = pd.concat([results, xgb_test_scores], axis=0)\n",
    "results"
   ]
  },
  {
   "cell_type": "markdown",
   "id": "6eb0ca8d",
   "metadata": {
    "papermill": {
     "duration": 0.02632,
     "end_time": "2024-10-05T21:50:51.738536",
     "exception": false,
     "start_time": "2024-10-05T21:50:51.712216",
     "status": "completed"
    },
    "tags": []
   },
   "source": [
    "Plot a confusion matrix of the champion model's predictions on the test data."
   ]
  },
  {
   "cell_type": "code",
   "execution_count": 46,
   "id": "288226e7",
   "metadata": {
    "execution": {
     "iopub.execute_input": "2024-10-05T21:50:51.792946Z",
     "iopub.status.busy": "2024-10-05T21:50:51.791966Z",
     "iopub.status.idle": "2024-10-05T21:50:52.153442Z",
     "shell.execute_reply": "2024-10-05T21:50:52.152408Z"
    },
    "papermill": {
     "duration": 0.391643,
     "end_time": "2024-10-05T21:50:52.155939",
     "exception": false,
     "start_time": "2024-10-05T21:50:51.764296",
     "status": "completed"
    },
    "tags": []
   },
   "outputs": [
    {
     "data": {
      "image/png": "[encoded data removed]",
      "text/plain": [
       "<Figure size 640x480 with 2 Axes>"
      ]
     },
     "metadata": {},
     "output_type": "display_data"
    }
   ],
   "source": [
    "# Generate array of values for confusion matrix\n",
    "cm = confusion_matrix(y_test, rf_preds, labels=rf1.classes_)\n",
    "\n",
    "# Plot confusion matrix\n",
    "disp = ConfusionMatrixDisplay(confusion_matrix=cm,\n",
    "                             display_labels=rf1.classes_, \n",
    "                             )\n",
    "disp.plot(values_format='');"
   ]
  },
  {
   "cell_type": "markdown",
   "id": "cb44a4f7",
   "metadata": {
    "papermill": {
     "duration": 0.026047,
     "end_time": "2024-10-05T21:50:52.209111",
     "exception": false,
     "start_time": "2024-10-05T21:50:52.183064",
     "status": "completed"
    },
    "tags": []
   },
   "source": [
    "The model is almost twice as likely to predict a false positive than it is to predict a false negative. Therefore, type I errors are more common. This is less desirable, because it's better for a driver to be pleasantly surprised by a generous tip when they weren't expecting one than to be disappointed by a low tip when they were expecting a generous one. However, the overall performance of this model is satisfactory."
   ]
  },
  {
   "cell_type": "markdown",
   "id": "932fedd7",
   "metadata": {
    "papermill": {
     "duration": 0.026333,
     "end_time": "2024-10-05T21:50:52.262060",
     "exception": false,
     "start_time": "2024-10-05T21:50:52.235727",
     "status": "completed"
    },
    "tags": []
   },
   "source": [
    "**Feature importance**\n",
    "\n",
    "The `feature_importances_` attribute of the best estimator object to inspect the features of your final model."
   ]
  },
  {
   "cell_type": "code",
   "execution_count": 47,
   "id": "b08e10ae",
   "metadata": {
    "execution": {
     "iopub.execute_input": "2024-10-05T21:50:52.318110Z",
     "iopub.status.busy": "2024-10-05T21:50:52.317397Z",
     "iopub.status.idle": "2024-10-05T21:50:52.934117Z",
     "shell.execute_reply": "2024-10-05T21:50:52.933188Z"
    },
    "papermill": {
     "duration": 0.647533,
     "end_time": "2024-10-05T21:50:52.936571",
     "exception": false,
     "start_time": "2024-10-05T21:50:52.289038",
     "status": "completed"
    },
    "tags": []
   },
   "outputs": [
    {
     "data": {
      "image/png": "[encoded data removed]",
      "text/plain": [
       "<Figure size 800x500 with 1 Axes>"
      ]
     },
     "metadata": {},
     "output_type": "display_data"
    }
   ],
   "source": [
    "importances = rf1.best_estimator_.feature_importances_\n",
    "rf_importances = pd.Series(importances, index=X_test.columns)\n",
    "rf_importances = rf_importances.sort_values(ascending=False)[:15]\n",
    "\n",
    "fig, ax = plt.subplots(figsize=(8,5))\n",
    "rf_importances.plot.bar(ax=ax)\n",
    "ax.set_title('Feature importances')\n",
    "ax.set_ylabel('Mean decrease in impurity')\n",
    "fig.tight_layout();"
   ]
  }
 ],
 "metadata": {
  "kaggle": {
   "accelerator": "gpu",
   "dataSources": [
    {
     "datasetId": 4115721,
     "sourceId": 7163213,
     "sourceType": "datasetVersion"
    },
    {
     "datasetId": 5821033,
     "sourceId": 9553380,
     "sourceType": "datasetVersion"
    }
   ],
   "dockerImageVersionId": 30786,
   "isGpuEnabled": true,
   "isInternetEnabled": true,
   "language": "python",
   "sourceType": "notebook"
  },
  "kernelspec": {
   "display_name": "Python 3",
   "language": "python",
   "name": "python3"
  },
  "language_info": {
   "codemirror_mode": {
    "name": "ipython",
    "version": 3
   },
   "file_extension": ".py",
   "mimetype": "text/x-python",
   "name": "python",
   "nbconvert_exporter": "python",
   "pygments_lexer": "ipython3",
   "version": "3.10.14"
  },
  "papermill": {
   "default_parameters": {},
   "duration": 390.616532,
   "end_time": "2024-10-05T21:50:53.582964",
   "environment_variables": {},
   "exception": null,
   "input_path": "__notebook__.ipynb",
   "output_path": "__notebook__.ipynb",
   "parameters": {},
   "start_time": "2024-10-05T21:44:22.966432",
   "version": "2.6.0"
  }
 },
 "nbformat": 4,
 "nbformat_minor": 5
}
