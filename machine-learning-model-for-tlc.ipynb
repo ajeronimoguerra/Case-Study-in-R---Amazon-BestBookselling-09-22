{
 "cells": [
  {
   "cell_type": "markdown",
   "id": "1aacb6da",
   "metadata": {
    "papermill": {
     "duration": 0.00186,
     "end_time": "2024-10-04T16:37:28.864827",
     "exception": false,
     "start_time": "2024-10-04T16:37:28.862967",
     "status": "completed"
    },
    "tags": []
   },
   "source": [
    "# Goal\n",
    "\n",
    "The goal of this project is to predict whether a rider will be a generous tipper using a random forest model. This will help the New York City Taxi & Limousine Commission (TLC) understand factors influencing tipping behavior and potentially develop strategies to increase gratuities."
   ]
  }
 ],
 "metadata": {
  "kaggle": {
   "accelerator": "none",
   "dataSources": [
    {
     "datasetId": 4115721,
     "sourceId": 7163213,
     "sourceType": "datasetVersion"
    }
   ],
   "isGpuEnabled": false,
   "isInternetEnabled": true,
   "language": "python",
   "sourceType": "notebook"
  },
  "kernelspec": {
   "display_name": "Python 3",
   "language": "python",
   "name": "python3"
  },
  "language_info": {
   "codemirror_mode": {
    "name": "ipython",
    "version": 3
   },
   "file_extension": ".py",
   "mimetype": "text/x-python",
   "name": "python",
   "nbconvert_exporter": "python",
   "pygments_lexer": "ipython3",
   "version": "3.10.14"
  },
  "papermill": {
   "default_parameters": {},
   "duration": 3.246631,
   "end_time": "2024-10-04T16:37:29.287959",
   "environment_variables": {},
   "exception": null,
   "input_path": "__notebook__.ipynb",
   "output_path": "__notebook__.ipynb",
   "parameters": {},
   "start_time": "2024-10-04T16:37:26.041328",
   "version": "2.6.0"
  }
 },
 "nbformat": 4,
 "nbformat_minor": 5
}
