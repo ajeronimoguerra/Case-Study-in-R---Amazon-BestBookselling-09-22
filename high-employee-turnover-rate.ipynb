{
 "cells": [
  {
   "cell_type": "markdown",
   "id": "9834018d",
   "metadata": {
    "papermill": {
     "duration": 0.002818,
     "end_time": "2024-10-24T10:48:56.639332",
     "exception": false,
     "start_time": "2024-10-24T10:48:56.636514",
     "status": "completed"
    },
    "tags": []
   },
   "source": [
    "## Understanding the Project Scenario\n",
    "\n",
    "**Problem Statement:**\n",
    "Salifort Motors is facing a high employee turnover rate, leading to increased costs and decreased productivity. The leadership team seeks to understand the underlying factors contributing to turnover and develop strategies to improve retention.\n",
    "\n",
    "**Objective:**\n",
    "To build a predictive model that can accurately predict whether an employee will leave the company based on various factors such as job title, department, number of projects, average monthly hours, and other relevant data points.\n",
    "\n",
    "**Data:**\n",
    "* Employee survey data: Likely includes demographic information, job satisfaction, work-life balance, compensation, etc.\n",
    "* Relevant variables: Consider factors like department, number of projects, average monthly hours, tenure, and potentially others.\n",
    "\n",
    "**Model Approach:**\n",
    "* **Statistical Model:** Logistic regression could be a suitable choice due to its ability to handle binary outcomes (leave or stay).\n",
    "* **Machine Learning Models:** Decision trees, random forests, and XGBoost are potential candidates for their ability to handle complex relationships and potentially improve predictive accuracy.\n",
    "\n",
    "**Evaluation:**\n",
    "* Use appropriate metrics such as accuracy, precision, recall, F1-score, and AUC-ROC to assess the model's performance.\n",
    "\n",
    "**Recommendations:**\n",
    "* Based on the model's findings, identify key factors driving turnover.\n",
    "* Propose strategies to address these factors and improve employee retention.\n",
    "\n",
    "By following these steps, I can effectively address the employee turnover issue at Salifort Motors and contribute to the company's success.\n"
   ]
  },
  {
   "cell_type": "markdown",
   "id": "5e5ce0fb",
   "metadata": {
    "papermill": {
     "duration": 0.001889,
     "end_time": "2024-10-24T10:48:56.643539",
     "exception": false,
     "start_time": "2024-10-24T10:48:56.641650",
     "status": "completed"
    },
    "tags": []
   },
   "source": [
    "## PACE Strategy Table for the Salifort Motors Project\n",
    "\n",
    "| Milestone | Task | PACE Stage |\n",
    "|---|---|---|\n",
    "| **Data Acquisition and Exploration** | Collect employee survey data | Plan |\n",
    "| | Clean and preprocess data | Do |\n",
    "| | Explore data relationships and distributions | Check |\n",
    "| | Identify relevant variables | Act |\n",
    "| **Model Development and Selection** | Build logistic regression model | Plan |\n",
    "| | Build decision tree, random forest, and XGBoost models | Do |\n",
    "| | Evaluate model performance using appropriate metrics | Check |\n",
    "| | Select the best-performing model | Act |\n",
    "| **Model Interpretation and Insights** | Analyze model coefficients or feature importance | Plan |\n",
    "| | Identify key factors driving turnover | Do |\n",
    "| | Generate actionable recommendations | Check |\n",
    "| | Communicate findings to leadership | Act |\n",
    "| **Model Deployment and Monitoring** | Deploy model into production environment | Plan |\n",
    "| | Monitor model performance and retrain as needed | Do |\n",
    "| | Continuously evaluate and refine the model | Check |\n",
    "| | Provide ongoing insights to leadership | Act |\n",
    "\n"
   ]
  },
  {
   "cell_type": "markdown",
   "id": "963b2b81",
   "metadata": {
    "papermill": {
     "duration": 0.001792,
     "end_time": "2024-10-24T10:48:56.647524",
     "exception": false,
     "start_time": "2024-10-24T10:48:56.645732",
     "status": "completed"
    },
    "tags": []
   },
   "source": [
    "## Analyzing the Salifort Motors Employee Data\n",
    "\n",
    "### Data Understanding\n",
    "\n",
    "**Dataset:** HR_capstone_dataset.csv\n",
    "\n",
    "**Rows:** 14,999 (representing individual employees)\n",
    "\n",
    "**Columns:** 10 (containing various employee attributes)\n",
    "\n",
    "**Column Descriptions:**\n",
    "\n",
    "| Column Name | Type | Description |\n",
    "|---|---|---|\n",
    "| satisfaction_level | int64 | Self-reported satisfaction level (0-1) |\n",
    "| last_evaluation | int64 | Score of last performance review (0-1) |\n",
    "| number_project | int64 | Number of projects contributed to |\n",
    "| average_monthly_hours | int64 | Average monthly working hours |\n",
    "| time_spend_company | int64 | Years with the company |\n",
    "| work_accident | int64 | Whether an accident occurred |\n",
    "| left | int64 | Whether the employee left the company |\n",
    "| promotion_last_5years | int64 | Whether promoted in the last 5 years |\n",
    "| department | str | Employee's department |\n",
    "| salary | str | Salary level (low, medium, high) |\n",
    "\n",
    "### Initial Observations\n",
    "\n",
    "* **Target Variable:** `left` (binary indicating employee attrition)\n",
    "* **Predictor Variables:** `satisfaction_level`, `last_evaluation`, `number_project`, `average_monthly_hours`, `time_spend_company`, `work_accident`, `promotion_last_5years`, `department`, and `salary`\n",
    "* **Data Types:** Most variables are numerical (int64), while `department` and `salary` are categorical.\n",
    "\n",
    "### Potential Relationships and Hypotheses\n",
    "\n",
    "Based on the data, we can explore the following relationships and hypotheses:\n",
    "\n",
    "* **Satisfaction and Attrition:** Employees with lower satisfaction levels may be more likely to leave.\n",
    "* **Performance and Attrition:** Employees with poor performance reviews or excessive workload might be more likely to leave.\n",
    "* **Tenure and Attrition:** Employees with shorter tenures may be more likely to leave due to lack of commitment or fit.\n",
    "* **Promotions and Attrition:** Employees who feel undervalued or lack opportunities for growth may be more likely to leave.\n",
    "* **Work-Life Balance and Attrition:** Employees with excessive working hours or poor work-life balance may be more likely to leave.\n",
    "* **Department and Attrition:** Certain departments or roles might have higher turnover rates.\n",
    "* **Salary and Attrition:** Employees who feel underpaid or dissatisfied with their compensation may be more likely to leave.\n",
    "\n",
    "### Next Steps\n",
    "\n",
    "1. **Data Cleaning and Preprocessing:**\n",
    "   * Handle missing values (if any).\n",
    "   * Check for outliers and inconsistencies.\n",
    "   * Convert categorical variables (department, salary) to numerical format (e.g., one-hot encoding).\n",
    "\n",
    "2. **Exploratory Data Analysis (EDA):**\n",
    "   * Visualize the distribution of variables (histograms, box plots).\n",
    "   * Calculate summary statistics (mean, median, mode, standard deviation).\n",
    "   * Explore correlations between variables.\n",
    "\n",
    "3. **Feature Engineering:**\n",
    "   * Consider creating new features based on existing variables (e.g., calculate a work-life balance index).\n",
    "\n",
    "4. **Model Building and Evaluation:**\n",
    "   * Build and evaluate various models (logistic regression, decision trees, random forests, XGBoost).\n",
    "   * Use appropriate metrics (accuracy, precision, recall, F1-score, AUC-ROC) to assess model performance.\n",
    "\n",
    "5. **Interpretation and Recommendations:**\n",
    "   * Analyze the model's results to identify key factors influencing attrition.\n",
    "   * Provide actionable recommendations to improve employee retention.\n",
    "\n"
   ]
  }
 ],
 "metadata": {
  "kaggle": {
   "accelerator": "none",
   "dataSources": [
    {
     "datasetId": 1409252,
     "sourceId": 2334549,
     "sourceType": "datasetVersion"
    }
   ],
   "isGpuEnabled": false,
   "isInternetEnabled": true,
   "language": "python",
   "sourceType": "notebook"
  },
  "kernelspec": {
   "display_name": "Python 3",
   "language": "python",
   "name": "python3"
  },
  "language_info": {
   "codemirror_mode": {
    "name": "ipython",
    "version": 3
   },
   "file_extension": ".py",
   "mimetype": "text/x-python",
   "name": "python",
   "nbconvert_exporter": "python",
   "pygments_lexer": "ipython3",
   "version": "3.10.14"
  },
  "papermill": {
   "default_parameters": {},
   "duration": 3.599491,
   "end_time": "2024-10-24T10:48:57.070666",
   "environment_variables": {},
   "exception": null,
   "input_path": "__notebook__.ipynb",
   "output_path": "__notebook__.ipynb",
   "parameters": {},
   "start_time": "2024-10-24T10:48:53.471175",
   "version": "2.6.0"
  }
 },
 "nbformat": 4,
 "nbformat_minor": 5
}
