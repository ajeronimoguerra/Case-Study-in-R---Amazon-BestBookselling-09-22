{
 "cells": [
  {
   "cell_type": "markdown",
   "id": "db0ebb08",
   "metadata": {
    "papermill": {
     "duration": 0.028324,
     "end_time": "2024-11-02T12:35:11.308312",
     "exception": false,
     "start_time": "2024-11-02T12:35:11.279988",
     "status": "completed"
    },
    "tags": []
   },
   "source": [
    "## Understanding the Project Scenario\n",
    "\n",
    "**Problem Statement:**\n",
    "Salifort Motors is facing a high employee turnover rate, leading to increased costs and decreased productivity. The leadership team seeks to understand the underlying factors contributing to turnover and develop strategies to improve retention.\n",
    "\n",
    "**Objective:**\n",
    "To build a predictive model that can accurately predict whether an employee will leave the company based on various factors such as job title, department, number of projects, average monthly hours, and other relevant data points.\n",
    "\n",
    "**Data:**\n",
    "* Employee survey data: Likely includes demographic information, job satisfaction, work-life balance, compensation, etc.\n",
    "* Relevant variables: Consider factors like department, number of projects, average monthly hours, tenure, and potentially others.\n",
    "\n",
    "**Model Approach:**\n",
    "* **Statistical Model:** Logistic regression could be a suitable choice due to its ability to handle binary outcomes (leave or stay).\n",
    "* **Machine Learning Models:** Decision trees, random forests, and XGBoost are potential candidates for their ability to handle complex relationships and potentially improve predictive accuracy.\n",
    "\n",
    "**Evaluation:**\n",
    "* Use appropriate metrics such as accuracy, precision, recall, F1-score, and AUC-ROC to assess the model's performance.\n",
    "\n",
    "**Recommendations:**\n",
    "* Based on the model's findings, identify key factors driving turnover.\n",
    "* Propose strategies to address these factors and improve employee retention.\n",
    "\n",
    "By following these steps, I can effectively address the employee turnover issue at Salifort Motors and contribute to the company's success.\n"
   ]
  },
  {
   "cell_type": "markdown",
   "id": "36db77ba",
   "metadata": {
    "papermill": {
     "duration": 0.0277,
     "end_time": "2024-11-02T12:35:11.362302",
     "exception": false,
     "start_time": "2024-11-02T12:35:11.334602",
     "status": "completed"
    },
    "tags": []
   },
   "source": [
    "## PACE Strategy Table for the Salifort Motors Project\n",
    "\n",
    "| Milestone | Task | PACE Stage |\n",
    "|---|---|---|\n",
    "| **Data Acquisition and Exploration** | Collect employee survey data | Plan |\n",
    "| | Clean and preprocess data | Do |\n",
    "| | Explore data relationships and distributions | Check |\n",
    "| | Identify relevant variables | Act |\n",
    "| **Model Development and Selection** | Build logistic regression model | Plan |\n",
    "| | Build decision tree, random forest, and XGBoost models | Do |\n",
    "| | Evaluate model performance using appropriate metrics | Check |\n",
    "| | Select the best-performing model | Act |\n",
    "| **Model Interpretation and Insights** | Analyze model coefficients or feature importance | Plan |\n",
    "| | Identify key factors driving turnover | Do |\n",
    "| | Generate actionable recommendations | Check |\n",
    "| | Communicate findings to leadership | Act |\n",
    "| **Model Deployment and Monitoring** | Deploy model into production environment | Plan |\n",
    "| | Monitor model performance and retrain as needed | Do |\n",
    "| | Continuously evaluate and refine the model | Check |\n",
    "| | Provide ongoing insights to leadership | Act |\n",
    "\n"
   ]
  },
  {
   "cell_type": "markdown",
   "id": "4a06da11",
   "metadata": {
    "papermill": {
     "duration": 0.02521,
     "end_time": "2024-11-02T12:35:11.412836",
     "exception": false,
     "start_time": "2024-11-02T12:35:11.387626",
     "status": "completed"
    },
    "tags": []
   },
   "source": [
    "Step 1. Imports\n",
    "Import packages\n",
    "Load dataset## Analyzing the Salifort Motors Employee Data\n",
    "\n",
    "### Data Understanding\n",
    "\n",
    "**Dataset:** HR_capstone_dataset.csv\n",
    "\n",
    "**Rows:** 14,999 (representing individual employees)\n",
    "\n",
    "**Columns:** 10 (containing various employee attributes)\n",
    "\n",
    "**Column Descriptions:**\n",
    "\n",
    "| Column Name | Type | Description |\n",
    "|---|---|---|\n",
    "| satisfaction_level | int64 | Self-reported satisfaction level (0-1) |\n",
    "| last_evaluation | int64 | Score of last performance review (0-1) |\n",
    "| number_project | int64 | Number of projects contributed to |\n",
    "| average_monthly_hours | int64 | Average monthly working hours |\n",
    "| time_spend_company | int64 | Years with the company |\n",
    "| work_accident | int64 | Whether an accident occurred |\n",
    "| left | int64 | Whether the employee left the company |\n",
    "| promotion_last_5years | int64 | Whether promoted in the last 5 years |\n",
    "| department | str | Employee's department |\n",
    "| salary | str | Salary level (low, medium, high) |\n",
    "\n",
    "### Initial Observations\n",
    "\n",
    "* **Target Variable:** `left` (binary indicating employee attrition)\n",
    "* **Predictor Variables:** `satisfaction_level`, `last_evaluation`, `number_project`, `average_monthly_hours`, `time_spend_company`, `work_accident`, `promotion_last_5years`, `department`, and `salary`\n",
    "* **Data Types:** Most variables are numerical (int64), while `department` and `salary` are categorical.\n",
    "\n",
    "### Potential Relationships and Hypotheses\n",
    "\n",
    "Based on the data, we can explore the following relationships and hypotheses:\n",
    "\n",
    "* **Satisfaction and Attrition:** Employees with lower satisfaction levels may be more likely to leave.\n",
    "* **Performance and Attrition:** Employees with poor performance reviews or excessive workload might be more likely to leave.\n",
    "* **Tenure and Attrition:** Employees with shorter tenures may be more likely to leave due to lack of commitment or fit.\n",
    "* **Promotions and Attrition:** Employees who feel undervalued or lack opportunities for growth may be more likely to leave.\n",
    "* **Work-Life Balance and Attrition:** Employees with excessive working hours or poor work-life balance may be more likely to leave.\n",
    "* **Department and Attrition:** Certain departments or roles might have higher turnover rates.\n",
    "* **Salary and Attrition:** Employees who feel underpaid or dissatisfied with their compensation may be more likely to leave.\n",
    "\n",
    "### Next Steps\n",
    "\n",
    "1. **Data Cleaning and Preprocessing:**\n",
    "   * Handle missing values (if any).\n",
    "   * Check for outliers and inconsistencies.\n",
    "   * Convert categorical variables (department, salary) to numerical format (e.g., one-hot encoding).\n",
    "\n",
    "2. **Exploratory Data Analysis (EDA):**\n",
    "   * Visualize the distribution of variables (histograms, box plots).\n",
    "   * Calculate summary statistics (mean, median, mode, standard deviation).\n",
    "   * Explore correlations between variables.\n",
    "\n",
    "3. **Feature Engineering:**\n",
    "   * Consider creating new features based on existing variables (e.g., calculate a work-life balance index).\n",
    "\n",
    "4. **Model Building and Evaluation:**\n",
    "   * Build and evaluate various models (logistic regression, decision trees, random forests, XGBoost).\n",
    "   * Use appropriate metrics (accuracy, precision, recall, F1-score, AUC-ROC) to assess model performance.\n",
    "\n",
    "5. **Interpretation and Recommendations:**\n",
    "   * Analyze the model's results to identify key factors influencing attrition.\n",
    "   * Provide actionable recommendations to improve employee retention.\n",
    "\n"
   ]
  },
  {
   "cell_type": "markdown",
   "id": "04986e2e",
   "metadata": {
    "papermill": {
     "duration": 0.025859,
     "end_time": "2024-11-02T12:35:11.464049",
     "exception": false,
     "start_time": "2024-11-02T12:35:11.438190",
     "status": "completed"
    },
    "tags": []
   },
   "source": [
    "## Step 1. Imports\n",
    "\n",
    "*   Import packages\n",
    "*   Load dataset"
   ]
  },
  {
   "cell_type": "markdown",
   "id": "22a681c3",
   "metadata": {
    "papermill": {
     "duration": 0.025411,
     "end_time": "2024-11-02T12:35:11.515496",
     "exception": false,
     "start_time": "2024-11-02T12:35:11.490085",
     "status": "completed"
    },
    "tags": []
   },
   "source": [
    "### Import packages"
   ]
  },
  {
   "cell_type": "code",
   "execution_count": 1,
   "id": "040edee1",
   "metadata": {
    "execution": {
     "iopub.execute_input": "2024-11-02T12:35:11.568215Z",
     "iopub.status.busy": "2024-11-02T12:35:11.567751Z",
     "iopub.status.idle": "2024-11-02T12:35:15.950642Z",
     "shell.execute_reply": "2024-11-02T12:35:15.949184Z"
    },
    "papermill": {
     "duration": 4.412812,
     "end_time": "2024-11-02T12:35:15.953645",
     "exception": false,
     "start_time": "2024-11-02T12:35:11.540833",
     "status": "completed"
    },
    "tags": []
   },
   "outputs": [],
   "source": [
    "# For data manipulation\n",
    "import numpy as np\n",
    "import pandas as pd\n",
    "\n",
    "# For data visualization\n",
    "import matplotlib.pyplot as plt\n",
    "import seaborn as sns\n",
    "\n",
    "# For displaying all of the columns in dataframes\n",
    "pd.set_option('display.max_columns', None)\n",
    "\n",
    "# For data modeling\n",
    "from xgboost import XGBClassifier\n",
    "from xgboost import XGBRegressor\n",
    "from xgboost import plot_importance\n",
    "\n",
    "from sklearn.linear_model import LogisticRegression\n",
    "from sklearn.tree import DecisionTreeClassifier\n",
    "from sklearn.ensemble import RandomForestClassifier\n",
    "\n",
    "# For metrics and helpful functions\n",
    "from sklearn.model_selection import GridSearchCV, train_test_split\n",
    "from sklearn.metrics import accuracy_score, precision_score, recall_score,\\\n",
    "f1_score, confusion_matrix, ConfusionMatrixDisplay, classification_report\n",
    "from sklearn.metrics import roc_auc_score, roc_curve\n",
    "from sklearn.tree import plot_tree\n",
    "\n",
    "# For saving models\n",
    "import pickle"
   ]
  },
  {
   "cell_type": "markdown",
   "id": "3ab9f70e",
   "metadata": {
    "papermill": {
     "duration": 0.028517,
     "end_time": "2024-11-02T12:35:16.009878",
     "exception": false,
     "start_time": "2024-11-02T12:35:15.981361",
     "status": "completed"
    },
    "tags": []
   },
   "source": [
    "### Load dataset"
   ]
  },
  {
   "cell_type": "code",
   "execution_count": 2,
   "id": "05191a18",
   "metadata": {
    "execution": {
     "iopub.execute_input": "2024-11-02T12:35:16.065230Z",
     "iopub.status.busy": "2024-11-02T12:35:16.064553Z",
     "iopub.status.idle": "2024-11-02T12:35:16.144734Z",
     "shell.execute_reply": "2024-11-02T12:35:16.143453Z"
    },
    "papermill": {
     "duration": 0.11083,
     "end_time": "2024-11-02T12:35:16.147946",
     "exception": false,
     "start_time": "2024-11-02T12:35:16.037116",
     "status": "completed"
    },
    "tags": []
   },
   "outputs": [
    {
     "data": {
      "text/html": [
       "<div>\n",
       "<style scoped>\n",
       "    .dataframe tbody tr th:only-of-type {\n",
       "        vertical-align: middle;\n",
       "    }\n",
       "\n",
       "    .dataframe tbody tr th {\n",
       "        vertical-align: top;\n",
       "    }\n",
       "\n",
       "    .dataframe thead th {\n",
       "        text-align: right;\n",
       "    }\n",
       "</style>\n",
       "<table border=\"1\" class=\"dataframe\">\n",
       "  <thead>\n",
       "    <tr style=\"text-align: right;\">\n",
       "      <th></th>\n",
       "      <th>satisfaction_level</th>\n",
       "      <th>last_evaluation</th>\n",
       "      <th>number_project</th>\n",
       "      <th>average_montly_hours</th>\n",
       "      <th>time_spend_company</th>\n",
       "      <th>Work_accident</th>\n",
       "      <th>left</th>\n",
       "      <th>promotion_last_5years</th>\n",
       "      <th>Department</th>\n",
       "      <th>salary</th>\n",
       "    </tr>\n",
       "  </thead>\n",
       "  <tbody>\n",
       "    <tr>\n",
       "      <th>0</th>\n",
       "      <td>0.38</td>\n",
       "      <td>0.53</td>\n",
       "      <td>2</td>\n",
       "      <td>157</td>\n",
       "      <td>3</td>\n",
       "      <td>0</td>\n",
       "      <td>1</td>\n",
       "      <td>0</td>\n",
       "      <td>sales</td>\n",
       "      <td>low</td>\n",
       "    </tr>\n",
       "    <tr>\n",
       "      <th>1</th>\n",
       "      <td>0.80</td>\n",
       "      <td>0.86</td>\n",
       "      <td>5</td>\n",
       "      <td>262</td>\n",
       "      <td>6</td>\n",
       "      <td>0</td>\n",
       "      <td>1</td>\n",
       "      <td>0</td>\n",
       "      <td>sales</td>\n",
       "      <td>medium</td>\n",
       "    </tr>\n",
       "    <tr>\n",
       "      <th>2</th>\n",
       "      <td>0.11</td>\n",
       "      <td>0.88</td>\n",
       "      <td>7</td>\n",
       "      <td>272</td>\n",
       "      <td>4</td>\n",
       "      <td>0</td>\n",
       "      <td>1</td>\n",
       "      <td>0</td>\n",
       "      <td>sales</td>\n",
       "      <td>medium</td>\n",
       "    </tr>\n",
       "    <tr>\n",
       "      <th>3</th>\n",
       "      <td>0.72</td>\n",
       "      <td>0.87</td>\n",
       "      <td>5</td>\n",
       "      <td>223</td>\n",
       "      <td>5</td>\n",
       "      <td>0</td>\n",
       "      <td>1</td>\n",
       "      <td>0</td>\n",
       "      <td>sales</td>\n",
       "      <td>low</td>\n",
       "    </tr>\n",
       "    <tr>\n",
       "      <th>4</th>\n",
       "      <td>0.37</td>\n",
       "      <td>0.52</td>\n",
       "      <td>2</td>\n",
       "      <td>159</td>\n",
       "      <td>3</td>\n",
       "      <td>0</td>\n",
       "      <td>1</td>\n",
       "      <td>0</td>\n",
       "      <td>sales</td>\n",
       "      <td>low</td>\n",
       "    </tr>\n",
       "  </tbody>\n",
       "</table>\n",
       "</div>"
      ],
      "text/plain": [
       "   satisfaction_level  last_evaluation  number_project  average_montly_hours  \\\n",
       "0                0.38             0.53               2                   157   \n",
       "1                0.80             0.86               5                   262   \n",
       "2                0.11             0.88               7                   272   \n",
       "3                0.72             0.87               5                   223   \n",
       "4                0.37             0.52               2                   159   \n",
       "\n",
       "   time_spend_company  Work_accident  left  promotion_last_5years Department  \\\n",
       "0                   3              0     1                      0      sales   \n",
       "1                   6              0     1                      0      sales   \n",
       "2                   4              0     1                      0      sales   \n",
       "3                   5              0     1                      0      sales   \n",
       "4                   3              0     1                      0      sales   \n",
       "\n",
       "   salary  \n",
       "0     low  \n",
       "1  medium  \n",
       "2  medium  \n",
       "3     low  \n",
       "4     low  "
      ]
     },
     "execution_count": 2,
     "metadata": {},
     "output_type": "execute_result"
    }
   ],
   "source": [
    "# Load dataset into a dataframe\n",
    "df0 = pd.read_csv(\"/kaggle/input/hr-analytics-and-job-prediction/HR_comma_sep.csv\")\n",
    "\n",
    "# Display first few rows of the dataframe\n",
    "df0.head()"
   ]
  },
  {
   "cell_type": "markdown",
   "id": "58b5c5e3",
   "metadata": {
    "papermill": {
     "duration": 0.026697,
     "end_time": "2024-11-02T12:35:16.200879",
     "exception": false,
     "start_time": "2024-11-02T12:35:16.174182",
     "status": "completed"
    },
    "tags": []
   },
   "source": [
    "## Step 2. Data Exploration (Initial EDA and data cleaning)\n",
    "\n",
    "- Understand your variables\n",
    "- Clean your dataset (missing data, redundant data, outliers)"
   ]
  },
  {
   "cell_type": "code",
   "execution_count": 3,
   "id": "1430fbd9",
   "metadata": {
    "execution": {
     "iopub.execute_input": "2024-11-02T12:35:16.256410Z",
     "iopub.status.busy": "2024-11-02T12:35:16.255900Z",
     "iopub.status.idle": "2024-11-02T12:35:16.265652Z",
     "shell.execute_reply": "2024-11-02T12:35:16.264230Z"
    },
    "papermill": {
     "duration": 0.040562,
     "end_time": "2024-11-02T12:35:16.268473",
     "exception": false,
     "start_time": "2024-11-02T12:35:16.227911",
     "status": "completed"
    },
    "tags": []
   },
   "outputs": [
    {
     "name": "stdout",
     "output_type": "stream",
     "text": [
      "Dataset Shape:\n"
     ]
    },
    {
     "data": {
      "text/plain": [
       "(14999, 10)"
      ]
     },
     "execution_count": 3,
     "metadata": {},
     "output_type": "execute_result"
    }
   ],
   "source": [
    "print(\"Dataset Shape:\")\n",
    "df0.shape"
   ]
  },
  {
   "cell_type": "code",
   "execution_count": 4,
   "id": "767201cc",
   "metadata": {
    "execution": {
     "iopub.execute_input": "2024-11-02T12:35:16.324714Z",
     "iopub.status.busy": "2024-11-02T12:35:16.324174Z",
     "iopub.status.idle": "2024-11-02T12:35:16.335518Z",
     "shell.execute_reply": "2024-11-02T12:35:16.333931Z"
    },
    "papermill": {
     "duration": 0.043498,
     "end_time": "2024-11-02T12:35:16.338817",
     "exception": false,
     "start_time": "2024-11-02T12:35:16.295319",
     "status": "completed"
    },
    "tags": []
   },
   "outputs": [
    {
     "name": "stdout",
     "output_type": "stream",
     "text": [
      "\n",
      "Data Types:\n"
     ]
    },
    {
     "data": {
      "text/plain": [
       "satisfaction_level       float64\n",
       "last_evaluation          float64\n",
       "number_project             int64\n",
       "average_montly_hours       int64\n",
       "time_spend_company         int64\n",
       "Work_accident              int64\n",
       "left                       int64\n",
       "promotion_last_5years      int64\n",
       "Department                object\n",
       "salary                    object\n",
       "dtype: object"
      ]
     },
     "execution_count": 4,
     "metadata": {},
     "output_type": "execute_result"
    }
   ],
   "source": [
    "print(\"\\nData Types:\")\n",
    "df0.dtypes"
   ]
  },
  {
   "cell_type": "code",
   "execution_count": 5,
   "id": "8da3c11f",
   "metadata": {
    "execution": {
     "iopub.execute_input": "2024-11-02T12:35:16.396529Z",
     "iopub.status.busy": "2024-11-02T12:35:16.396078Z",
     "iopub.status.idle": "2024-11-02T12:35:16.447613Z",
     "shell.execute_reply": "2024-11-02T12:35:16.446335Z"
    },
    "papermill": {
     "duration": 0.083218,
     "end_time": "2024-11-02T12:35:16.450447",
     "exception": false,
     "start_time": "2024-11-02T12:35:16.367229",
     "status": "completed"
    },
    "tags": []
   },
   "outputs": [
    {
     "data": {
      "text/html": [
       "<div>\n",
       "<style scoped>\n",
       "    .dataframe tbody tr th:only-of-type {\n",
       "        vertical-align: middle;\n",
       "    }\n",
       "\n",
       "    .dataframe tbody tr th {\n",
       "        vertical-align: top;\n",
       "    }\n",
       "\n",
       "    .dataframe thead th {\n",
       "        text-align: right;\n",
       "    }\n",
       "</style>\n",
       "<table border=\"1\" class=\"dataframe\">\n",
       "  <thead>\n",
       "    <tr style=\"text-align: right;\">\n",
       "      <th></th>\n",
       "      <th>satisfaction_level</th>\n",
       "      <th>last_evaluation</th>\n",
       "      <th>number_project</th>\n",
       "      <th>average_montly_hours</th>\n",
       "      <th>time_spend_company</th>\n",
       "      <th>Work_accident</th>\n",
       "      <th>left</th>\n",
       "      <th>promotion_last_5years</th>\n",
       "    </tr>\n",
       "  </thead>\n",
       "  <tbody>\n",
       "    <tr>\n",
       "      <th>count</th>\n",
       "      <td>14999.000000</td>\n",
       "      <td>14999.000000</td>\n",
       "      <td>14999.000000</td>\n",
       "      <td>14999.000000</td>\n",
       "      <td>14999.000000</td>\n",
       "      <td>14999.000000</td>\n",
       "      <td>14999.000000</td>\n",
       "      <td>14999.000000</td>\n",
       "    </tr>\n",
       "    <tr>\n",
       "      <th>mean</th>\n",
       "      <td>0.612834</td>\n",
       "      <td>0.716102</td>\n",
       "      <td>3.803054</td>\n",
       "      <td>201.050337</td>\n",
       "      <td>3.498233</td>\n",
       "      <td>0.144610</td>\n",
       "      <td>0.238083</td>\n",
       "      <td>0.021268</td>\n",
       "    </tr>\n",
       "    <tr>\n",
       "      <th>std</th>\n",
       "      <td>0.248631</td>\n",
       "      <td>0.171169</td>\n",
       "      <td>1.232592</td>\n",
       "      <td>49.943099</td>\n",
       "      <td>1.460136</td>\n",
       "      <td>0.351719</td>\n",
       "      <td>0.425924</td>\n",
       "      <td>0.144281</td>\n",
       "    </tr>\n",
       "    <tr>\n",
       "      <th>min</th>\n",
       "      <td>0.090000</td>\n",
       "      <td>0.360000</td>\n",
       "      <td>2.000000</td>\n",
       "      <td>96.000000</td>\n",
       "      <td>2.000000</td>\n",
       "      <td>0.000000</td>\n",
       "      <td>0.000000</td>\n",
       "      <td>0.000000</td>\n",
       "    </tr>\n",
       "    <tr>\n",
       "      <th>25%</th>\n",
       "      <td>0.440000</td>\n",
       "      <td>0.560000</td>\n",
       "      <td>3.000000</td>\n",
       "      <td>156.000000</td>\n",
       "      <td>3.000000</td>\n",
       "      <td>0.000000</td>\n",
       "      <td>0.000000</td>\n",
       "      <td>0.000000</td>\n",
       "    </tr>\n",
       "    <tr>\n",
       "      <th>50%</th>\n",
       "      <td>0.640000</td>\n",
       "      <td>0.720000</td>\n",
       "      <td>4.000000</td>\n",
       "      <td>200.000000</td>\n",
       "      <td>3.000000</td>\n",
       "      <td>0.000000</td>\n",
       "      <td>0.000000</td>\n",
       "      <td>0.000000</td>\n",
       "    </tr>\n",
       "    <tr>\n",
       "      <th>75%</th>\n",
       "      <td>0.820000</td>\n",
       "      <td>0.870000</td>\n",
       "      <td>5.000000</td>\n",
       "      <td>245.000000</td>\n",
       "      <td>4.000000</td>\n",
       "      <td>0.000000</td>\n",
       "      <td>0.000000</td>\n",
       "      <td>0.000000</td>\n",
       "    </tr>\n",
       "    <tr>\n",
       "      <th>max</th>\n",
       "      <td>1.000000</td>\n",
       "      <td>1.000000</td>\n",
       "      <td>7.000000</td>\n",
       "      <td>310.000000</td>\n",
       "      <td>10.000000</td>\n",
       "      <td>1.000000</td>\n",
       "      <td>1.000000</td>\n",
       "      <td>1.000000</td>\n",
       "    </tr>\n",
       "  </tbody>\n",
       "</table>\n",
       "</div>"
      ],
      "text/plain": [
       "       satisfaction_level  last_evaluation  number_project  \\\n",
       "count        14999.000000     14999.000000    14999.000000   \n",
       "mean             0.612834         0.716102        3.803054   \n",
       "std              0.248631         0.171169        1.232592   \n",
       "min              0.090000         0.360000        2.000000   \n",
       "25%              0.440000         0.560000        3.000000   \n",
       "50%              0.640000         0.720000        4.000000   \n",
       "75%              0.820000         0.870000        5.000000   \n",
       "max              1.000000         1.000000        7.000000   \n",
       "\n",
       "       average_montly_hours  time_spend_company  Work_accident          left  \\\n",
       "count          14999.000000        14999.000000   14999.000000  14999.000000   \n",
       "mean             201.050337            3.498233       0.144610      0.238083   \n",
       "std               49.943099            1.460136       0.351719      0.425924   \n",
       "min               96.000000            2.000000       0.000000      0.000000   \n",
       "25%              156.000000            3.000000       0.000000      0.000000   \n",
       "50%              200.000000            3.000000       0.000000      0.000000   \n",
       "75%              245.000000            4.000000       0.000000      0.000000   \n",
       "max              310.000000           10.000000       1.000000      1.000000   \n",
       "\n",
       "       promotion_last_5years  \n",
       "count           14999.000000  \n",
       "mean                0.021268  \n",
       "std                 0.144281  \n",
       "min                 0.000000  \n",
       "25%                 0.000000  \n",
       "50%                 0.000000  \n",
       "75%                 0.000000  \n",
       "max                 1.000000  "
      ]
     },
     "execution_count": 5,
     "metadata": {},
     "output_type": "execute_result"
    }
   ],
   "source": [
    "# Gather descriptive statistics about the data\n",
    "df0.describe()"
   ]
  },
  {
   "cell_type": "markdown",
   "id": "dddff723",
   "metadata": {
    "papermill": {
     "duration": 0.02637,
     "end_time": "2024-11-02T12:35:16.504009",
     "exception": false,
     "start_time": "2024-11-02T12:35:16.477639",
     "status": "completed"
    },
    "tags": []
   },
   "source": [
    "### Rename columns"
   ]
  },
  {
   "cell_type": "code",
   "execution_count": 6,
   "id": "67f72f8f",
   "metadata": {
    "execution": {
     "iopub.execute_input": "2024-11-02T12:35:16.559803Z",
     "iopub.status.busy": "2024-11-02T12:35:16.559330Z",
     "iopub.status.idle": "2024-11-02T12:35:16.568119Z",
     "shell.execute_reply": "2024-11-02T12:35:16.566702Z"
    },
    "papermill": {
     "duration": 0.040052,
     "end_time": "2024-11-02T12:35:16.570828",
     "exception": false,
     "start_time": "2024-11-02T12:35:16.530776",
     "status": "completed"
    },
    "tags": []
   },
   "outputs": [
    {
     "data": {
      "text/plain": [
       "Index(['satisfaction_level', 'last_evaluation', 'number_project',\n",
       "       'average_montly_hours', 'time_spend_company', 'Work_accident', 'left',\n",
       "       'promotion_last_5years', 'Department', 'salary'],\n",
       "      dtype='object')"
      ]
     },
     "execution_count": 6,
     "metadata": {},
     "output_type": "execute_result"
    }
   ],
   "source": [
    "# Display all column names\n",
    "df0.columns"
   ]
  },
  {
   "cell_type": "code",
   "execution_count": 7,
   "id": "77db7f8c",
   "metadata": {
    "execution": {
     "iopub.execute_input": "2024-11-02T12:35:16.626224Z",
     "iopub.status.busy": "2024-11-02T12:35:16.625772Z",
     "iopub.status.idle": "2024-11-02T12:35:16.635513Z",
     "shell.execute_reply": "2024-11-02T12:35:16.634128Z"
    },
    "papermill": {
     "duration": 0.040937,
     "end_time": "2024-11-02T12:35:16.638455",
     "exception": false,
     "start_time": "2024-11-02T12:35:16.597518",
     "status": "completed"
    },
    "tags": []
   },
   "outputs": [
    {
     "name": "stdout",
     "output_type": "stream",
     "text": [
      "Index(['satisfaction', 'performance_score', 'projects', 'average_hours',\n",
      "       'tenure', 'Work_accident', 'left', 'promotion', 'department', 'salary'],\n",
      "      dtype='object')\n"
     ]
    }
   ],
   "source": [
    "# Rename columns as needed\n",
    "df0 = df0.rename(columns={'satisfaction_level': 'satisfaction', 'last_evaluation': 'performance_score', 'number_project': 'projects',\n",
    "       'average_montly_hours': 'average_hours', 'time_spend_company': 'tenure', 'promotion_last_5years': 'promotion', 'Department': 'department'})\n",
    "\n",
    "\n",
    "# Display all column names after the update\n",
    "print(df0.columns)"
   ]
  },
  {
   "cell_type": "markdown",
   "id": "dcf413a8",
   "metadata": {
    "papermill": {
     "duration": 0.026723,
     "end_time": "2024-11-02T12:35:16.692363",
     "exception": false,
     "start_time": "2024-11-02T12:35:16.665640",
     "status": "completed"
    },
    "tags": []
   },
   "source": [
    "### Check missing values"
   ]
  },
  {
   "cell_type": "code",
   "execution_count": 8,
   "id": "3e3989e8",
   "metadata": {
    "execution": {
     "iopub.execute_input": "2024-11-02T12:35:16.749953Z",
     "iopub.status.busy": "2024-11-02T12:35:16.749474Z",
     "iopub.status.idle": "2024-11-02T12:35:16.765118Z",
     "shell.execute_reply": "2024-11-02T12:35:16.763690Z"
    },
    "papermill": {
     "duration": 0.048005,
     "end_time": "2024-11-02T12:35:16.767859",
     "exception": false,
     "start_time": "2024-11-02T12:35:16.719854",
     "status": "completed"
    },
    "tags": []
   },
   "outputs": [
    {
     "data": {
      "text/plain": [
       "satisfaction         0\n",
       "performance_score    0\n",
       "projects             0\n",
       "average_hours        0\n",
       "tenure               0\n",
       "Work_accident        0\n",
       "left                 0\n",
       "promotion            0\n",
       "department           0\n",
       "salary               0\n",
       "dtype: int64"
      ]
     },
     "execution_count": 8,
     "metadata": {},
     "output_type": "execute_result"
    }
   ],
   "source": [
    "# Check for missing values\n",
    "df0.isnull().sum()"
   ]
  },
  {
   "cell_type": "markdown",
   "id": "aaf0757d",
   "metadata": {
    "papermill": {
     "duration": 0.026737,
     "end_time": "2024-11-02T12:35:16.822004",
     "exception": false,
     "start_time": "2024-11-02T12:35:16.795267",
     "status": "completed"
    },
    "tags": []
   },
   "source": [
    "### Check duplicates"
   ]
  },
  {
   "cell_type": "code",
   "execution_count": 9,
   "id": "e962d77f",
   "metadata": {
    "execution": {
     "iopub.execute_input": "2024-11-02T12:35:16.878901Z",
     "iopub.status.busy": "2024-11-02T12:35:16.878442Z",
     "iopub.status.idle": "2024-11-02T12:35:16.901188Z",
     "shell.execute_reply": "2024-11-02T12:35:16.899918Z"
    },
    "papermill": {
     "duration": 0.054525,
     "end_time": "2024-11-02T12:35:16.904068",
     "exception": false,
     "start_time": "2024-11-02T12:35:16.849543",
     "status": "completed"
    },
    "tags": []
   },
   "outputs": [
    {
     "name": "stdout",
     "output_type": "stream",
     "text": [
      "Number of duplicates: 3008\n"
     ]
    }
   ],
   "source": [
    "# Check for duplicates\n",
    "duplicates = df0.duplicated()\n",
    "# Count the number of duplicates\n",
    "num_duplicates = duplicates.sum()\n",
    "# Print the number of duplicates\n",
    "print(\"Number of duplicates:\", num_duplicates)"
   ]
  },
  {
   "cell_type": "code",
   "execution_count": 10,
   "id": "86813e14",
   "metadata": {
    "execution": {
     "iopub.execute_input": "2024-11-02T12:35:16.966497Z",
     "iopub.status.busy": "2024-11-02T12:35:16.965278Z",
     "iopub.status.idle": "2024-11-02T12:35:17.004430Z",
     "shell.execute_reply": "2024-11-02T12:35:17.002338Z"
    },
    "papermill": {
     "duration": 0.07675,
     "end_time": "2024-11-02T12:35:17.008526",
     "exception": false,
     "start_time": "2024-11-02T12:35:16.931776",
     "status": "completed"
    },
    "tags": []
   },
   "outputs": [
    {
     "data": {
      "text/html": [
       "<div>\n",
       "<style scoped>\n",
       "    .dataframe tbody tr th:only-of-type {\n",
       "        vertical-align: middle;\n",
       "    }\n",
       "\n",
       "    .dataframe tbody tr th {\n",
       "        vertical-align: top;\n",
       "    }\n",
       "\n",
       "    .dataframe thead th {\n",
       "        text-align: right;\n",
       "    }\n",
       "</style>\n",
       "<table border=\"1\" class=\"dataframe\">\n",
       "  <thead>\n",
       "    <tr style=\"text-align: right;\">\n",
       "      <th></th>\n",
       "      <th>satisfaction</th>\n",
       "      <th>performance_score</th>\n",
       "      <th>projects</th>\n",
       "      <th>average_hours</th>\n",
       "      <th>tenure</th>\n",
       "      <th>Work_accident</th>\n",
       "      <th>left</th>\n",
       "      <th>promotion</th>\n",
       "      <th>department</th>\n",
       "      <th>salary</th>\n",
       "    </tr>\n",
       "  </thead>\n",
       "  <tbody>\n",
       "    <tr>\n",
       "      <th>396</th>\n",
       "      <td>0.46</td>\n",
       "      <td>0.57</td>\n",
       "      <td>2</td>\n",
       "      <td>139</td>\n",
       "      <td>3</td>\n",
       "      <td>0</td>\n",
       "      <td>1</td>\n",
       "      <td>0</td>\n",
       "      <td>sales</td>\n",
       "      <td>low</td>\n",
       "    </tr>\n",
       "    <tr>\n",
       "      <th>866</th>\n",
       "      <td>0.41</td>\n",
       "      <td>0.46</td>\n",
       "      <td>2</td>\n",
       "      <td>128</td>\n",
       "      <td>3</td>\n",
       "      <td>0</td>\n",
       "      <td>1</td>\n",
       "      <td>0</td>\n",
       "      <td>accounting</td>\n",
       "      <td>low</td>\n",
       "    </tr>\n",
       "    <tr>\n",
       "      <th>1317</th>\n",
       "      <td>0.37</td>\n",
       "      <td>0.51</td>\n",
       "      <td>2</td>\n",
       "      <td>127</td>\n",
       "      <td>3</td>\n",
       "      <td>0</td>\n",
       "      <td>1</td>\n",
       "      <td>0</td>\n",
       "      <td>sales</td>\n",
       "      <td>medium</td>\n",
       "    </tr>\n",
       "    <tr>\n",
       "      <th>1368</th>\n",
       "      <td>0.41</td>\n",
       "      <td>0.52</td>\n",
       "      <td>2</td>\n",
       "      <td>132</td>\n",
       "      <td>3</td>\n",
       "      <td>0</td>\n",
       "      <td>1</td>\n",
       "      <td>0</td>\n",
       "      <td>RandD</td>\n",
       "      <td>low</td>\n",
       "    </tr>\n",
       "    <tr>\n",
       "      <th>1461</th>\n",
       "      <td>0.42</td>\n",
       "      <td>0.53</td>\n",
       "      <td>2</td>\n",
       "      <td>142</td>\n",
       "      <td>3</td>\n",
       "      <td>0</td>\n",
       "      <td>1</td>\n",
       "      <td>0</td>\n",
       "      <td>sales</td>\n",
       "      <td>low</td>\n",
       "    </tr>\n",
       "  </tbody>\n",
       "</table>\n",
       "</div>"
      ],
      "text/plain": [
       "      satisfaction  performance_score  projects  average_hours  tenure  \\\n",
       "396           0.46               0.57         2            139       3   \n",
       "866           0.41               0.46         2            128       3   \n",
       "1317          0.37               0.51         2            127       3   \n",
       "1368          0.41               0.52         2            132       3   \n",
       "1461          0.42               0.53         2            142       3   \n",
       "\n",
       "      Work_accident  left  promotion  department  salary  \n",
       "396               0     1          0       sales     low  \n",
       "866               0     1          0  accounting     low  \n",
       "1317              0     1          0       sales  medium  \n",
       "1368              0     1          0       RandD     low  \n",
       "1461              0     1          0       sales     low  "
      ]
     },
     "execution_count": 10,
     "metadata": {},
     "output_type": "execute_result"
    }
   ],
   "source": [
    "# Inspect some rows containing duplicates as needed\n",
    "df0[df0.duplicated()].head()"
   ]
  },
  {
   "cell_type": "code",
   "execution_count": 11,
   "id": "0de5067c",
   "metadata": {
    "execution": {
     "iopub.execute_input": "2024-11-02T12:35:17.070490Z",
     "iopub.status.busy": "2024-11-02T12:35:17.070024Z",
     "iopub.status.idle": "2024-11-02T12:35:17.103859Z",
     "shell.execute_reply": "2024-11-02T12:35:17.102845Z"
    },
    "papermill": {
     "duration": 0.06773,
     "end_time": "2024-11-02T12:35:17.108508",
     "exception": false,
     "start_time": "2024-11-02T12:35:17.040778",
     "status": "completed"
    },
    "tags": []
   },
   "outputs": [
    {
     "name": "stdout",
     "output_type": "stream",
     "text": [
      "First few rows of the dataframe without duplicates:\n"
     ]
    },
    {
     "data": {
      "text/html": [
       "<div>\n",
       "<style scoped>\n",
       "    .dataframe tbody tr th:only-of-type {\n",
       "        vertical-align: middle;\n",
       "    }\n",
       "\n",
       "    .dataframe tbody tr th {\n",
       "        vertical-align: top;\n",
       "    }\n",
       "\n",
       "    .dataframe thead th {\n",
       "        text-align: right;\n",
       "    }\n",
       "</style>\n",
       "<table border=\"1\" class=\"dataframe\">\n",
       "  <thead>\n",
       "    <tr style=\"text-align: right;\">\n",
       "      <th></th>\n",
       "      <th>satisfaction</th>\n",
       "      <th>performance_score</th>\n",
       "      <th>projects</th>\n",
       "      <th>average_hours</th>\n",
       "      <th>tenure</th>\n",
       "      <th>Work_accident</th>\n",
       "      <th>left</th>\n",
       "      <th>promotion</th>\n",
       "      <th>department</th>\n",
       "      <th>salary</th>\n",
       "    </tr>\n",
       "  </thead>\n",
       "  <tbody>\n",
       "    <tr>\n",
       "      <th>0</th>\n",
       "      <td>0.38</td>\n",
       "      <td>0.53</td>\n",
       "      <td>2</td>\n",
       "      <td>157</td>\n",
       "      <td>3</td>\n",
       "      <td>0</td>\n",
       "      <td>1</td>\n",
       "      <td>0</td>\n",
       "      <td>sales</td>\n",
       "      <td>low</td>\n",
       "    </tr>\n",
       "    <tr>\n",
       "      <th>1</th>\n",
       "      <td>0.80</td>\n",
       "      <td>0.86</td>\n",
       "      <td>5</td>\n",
       "      <td>262</td>\n",
       "      <td>6</td>\n",
       "      <td>0</td>\n",
       "      <td>1</td>\n",
       "      <td>0</td>\n",
       "      <td>sales</td>\n",
       "      <td>medium</td>\n",
       "    </tr>\n",
       "    <tr>\n",
       "      <th>2</th>\n",
       "      <td>0.11</td>\n",
       "      <td>0.88</td>\n",
       "      <td>7</td>\n",
       "      <td>272</td>\n",
       "      <td>4</td>\n",
       "      <td>0</td>\n",
       "      <td>1</td>\n",
       "      <td>0</td>\n",
       "      <td>sales</td>\n",
       "      <td>medium</td>\n",
       "    </tr>\n",
       "    <tr>\n",
       "      <th>3</th>\n",
       "      <td>0.72</td>\n",
       "      <td>0.87</td>\n",
       "      <td>5</td>\n",
       "      <td>223</td>\n",
       "      <td>5</td>\n",
       "      <td>0</td>\n",
       "      <td>1</td>\n",
       "      <td>0</td>\n",
       "      <td>sales</td>\n",
       "      <td>low</td>\n",
       "    </tr>\n",
       "    <tr>\n",
       "      <th>4</th>\n",
       "      <td>0.37</td>\n",
       "      <td>0.52</td>\n",
       "      <td>2</td>\n",
       "      <td>159</td>\n",
       "      <td>3</td>\n",
       "      <td>0</td>\n",
       "      <td>1</td>\n",
       "      <td>0</td>\n",
       "      <td>sales</td>\n",
       "      <td>low</td>\n",
       "    </tr>\n",
       "  </tbody>\n",
       "</table>\n",
       "</div>"
      ],
      "text/plain": [
       "   satisfaction  performance_score  projects  average_hours  tenure  \\\n",
       "0          0.38               0.53         2            157       3   \n",
       "1          0.80               0.86         5            262       6   \n",
       "2          0.11               0.88         7            272       4   \n",
       "3          0.72               0.87         5            223       5   \n",
       "4          0.37               0.52         2            159       3   \n",
       "\n",
       "   Work_accident  left  promotion department  salary  \n",
       "0              0     1          0      sales     low  \n",
       "1              0     1          0      sales  medium  \n",
       "2              0     1          0      sales  medium  \n",
       "3              0     1          0      sales     low  \n",
       "4              0     1          0      sales     low  "
      ]
     },
     "execution_count": 11,
     "metadata": {},
     "output_type": "execute_result"
    }
   ],
   "source": [
    "# Drop duplicates and save resulting dataframe in a new variable as needed\n",
    "df0_no_duplicates = df0.drop_duplicates(keep='first')\n",
    "\n",
    "# Display first few rows of new dataframe as needed\n",
    "print(\"First few rows of the dataframe without duplicates:\")\n",
    "df0_no_duplicates.head()"
   ]
  },
  {
   "cell_type": "code",
   "execution_count": 12,
   "id": "589ced4c",
   "metadata": {
    "execution": {
     "iopub.execute_input": "2024-11-02T12:35:17.182986Z",
     "iopub.status.busy": "2024-11-02T12:35:17.182473Z",
     "iopub.status.idle": "2024-11-02T12:35:17.192046Z",
     "shell.execute_reply": "2024-11-02T12:35:17.190509Z"
    },
    "papermill": {
     "duration": 0.047649,
     "end_time": "2024-11-02T12:35:17.195038",
     "exception": false,
     "start_time": "2024-11-02T12:35:17.147389",
     "status": "completed"
    },
    "tags": []
   },
   "outputs": [
    {
     "name": "stdout",
     "output_type": "stream",
     "text": [
      "Dataset Shape with duplicates:\n"
     ]
    },
    {
     "data": {
      "text/plain": [
       "(14999, 10)"
      ]
     },
     "execution_count": 12,
     "metadata": {},
     "output_type": "execute_result"
    }
   ],
   "source": [
    "print(\"Dataset Shape with duplicates:\")\n",
    "df0.shape"
   ]
  },
  {
   "cell_type": "code",
   "execution_count": 13,
   "id": "8ac9d3c0",
   "metadata": {
    "execution": {
     "iopub.execute_input": "2024-11-02T12:35:17.254278Z",
     "iopub.status.busy": "2024-11-02T12:35:17.253817Z",
     "iopub.status.idle": "2024-11-02T12:35:17.262656Z",
     "shell.execute_reply": "2024-11-02T12:35:17.261113Z"
    },
    "papermill": {
     "duration": 0.042404,
     "end_time": "2024-11-02T12:35:17.266241",
     "exception": false,
     "start_time": "2024-11-02T12:35:17.223837",
     "status": "completed"
    },
    "tags": []
   },
   "outputs": [
    {
     "name": "stdout",
     "output_type": "stream",
     "text": [
      "Dataset Shape with no duplicates:\n"
     ]
    },
    {
     "data": {
      "text/plain": [
       "(11991, 10)"
      ]
     },
     "execution_count": 13,
     "metadata": {},
     "output_type": "execute_result"
    }
   ],
   "source": [
    "print(\"Dataset Shape with no duplicates:\")\n",
    "df0_no_duplicates.shape"
   ]
  },
  {
   "cell_type": "markdown",
   "id": "a5ca29c0",
   "metadata": {
    "papermill": {
     "duration": 0.028279,
     "end_time": "2024-11-02T12:35:17.323451",
     "exception": false,
     "start_time": "2024-11-02T12:35:17.295172",
     "status": "completed"
    },
    "tags": []
   },
   "source": [
    "3,008 rows contain duplicates. That is 20% of the data."
   ]
  },
  {
   "cell_type": "markdown",
   "id": "b391cd17",
   "metadata": {
    "papermill": {
     "duration": 0.038207,
     "end_time": "2024-11-02T12:35:17.392800",
     "exception": false,
     "start_time": "2024-11-02T12:35:17.354593",
     "status": "completed"
    },
    "tags": []
   },
   "source": [
    "### Check outliers"
   ]
  },
  {
   "cell_type": "code",
   "execution_count": 14,
   "id": "4232fa64",
   "metadata": {
    "execution": {
     "iopub.execute_input": "2024-11-02T12:35:17.455941Z",
     "iopub.status.busy": "2024-11-02T12:35:17.455401Z",
     "iopub.status.idle": "2024-11-02T12:35:17.721151Z",
     "shell.execute_reply": "2024-11-02T12:35:17.719852Z"
    },
    "papermill": {
     "duration": 0.300079,
     "end_time": "2024-11-02T12:35:17.724358",
     "exception": false,
     "start_time": "2024-11-02T12:35:17.424279",
     "status": "completed"
    },
    "tags": []
   },
   "outputs": [
    {
     "data": {
      "image/png": "[encoded data removed]",
      "text/plain": [
       "<Figure size 300x300 with 1 Axes>"
      ]
     },
     "metadata": {},
     "output_type": "display_data"
    }
   ],
   "source": [
    "# Create a boxplot to visualize distribution of `tenure` and detect any outliers\n",
    "plt.figure(figsize=(3,3))\n",
    "plt.title('Boxplot to detect outliers for tenure', fontsize=12)\n",
    "plt.xticks(fontsize=12)\n",
    "plt.yticks(fontsize=12)\n",
    "sns.boxplot(x= df0_no_duplicates['tenure'])\n",
    "plt.show()"
   ]
  },
  {
   "cell_type": "code",
   "execution_count": 15,
   "id": "a8016a24",
   "metadata": {
    "execution": {
     "iopub.execute_input": "2024-11-02T12:35:17.785298Z",
     "iopub.status.busy": "2024-11-02T12:35:17.784803Z",
     "iopub.status.idle": "2024-11-02T12:35:17.805646Z",
     "shell.execute_reply": "2024-11-02T12:35:17.804138Z"
    },
    "papermill": {
     "duration": 0.058631,
     "end_time": "2024-11-02T12:35:17.812582",
     "exception": false,
     "start_time": "2024-11-02T12:35:17.753951",
     "status": "completed"
    },
    "tags": []
   },
   "outputs": [
    {
     "name": "stdout",
     "output_type": "stream",
     "text": [
      "Lower limit: 1.5\n",
      "Upper limit: 5.5\n",
      "Number of outliers in 'tenure': 824\n"
     ]
    }
   ],
   "source": [
    "# Determine the number of rows containing outliers\n",
    "\n",
    "# Define a threshold for outliers (e.g., 1.5 times the interquartile range)\n",
    "iqr = df0_no_duplicates['tenure'].quantile(0.75) - df0_no_duplicates['tenure'].quantile(0.25)\n",
    "threshold = 1.5 * iqr\n",
    "lower_bound = df0_no_duplicates['tenure'].quantile(0.25) - threshold\n",
    "upper_bound = df0_no_duplicates['tenure'].quantile(0.75) + threshold\n",
    "\n",
    "print(\"Lower limit:\", lower_bound)\n",
    "print(\"Upper limit:\", upper_bound)\n",
    "\n",
    "# Identify outliers\n",
    "outliers = df0_no_duplicates[(df0_no_duplicates['tenure'] < lower_bound) | (df0_no_duplicates['tenure'] > upper_bound)]\n",
    "\n",
    "# Count the number of outliers\n",
    "num_outliers = len(outliers)\n",
    "print(\"Number of outliers in 'tenure':\", num_outliers)\n"
   ]
  },
  {
   "cell_type": "markdown",
   "id": "abd0ea54",
   "metadata": {
    "papermill": {
     "duration": 0.091772,
     "end_time": "2024-11-02T12:35:17.936866",
     "exception": false,
     "start_time": "2024-11-02T12:35:17.845094",
     "status": "completed"
    },
    "tags": []
   },
   "source": [
    "# pAce: Analyze Stage\n",
    "- Perform EDA (analyze relationships between variables)"
   ]
  },
  {
   "cell_type": "markdown",
   "id": "502ec513",
   "metadata": {
    "papermill": {
     "duration": 0.028589,
     "end_time": "2024-11-02T12:35:17.994764",
     "exception": false,
     "start_time": "2024-11-02T12:35:17.966175",
     "status": "completed"
    },
    "tags": []
   },
   "source": [
    "**Relationships between Variables:**\n",
    "\n",
    "* **Satisfaction Level and Attrition:** Lower satisfaction levels seem to be correlated with higher attrition rates.\n",
    "* **Performance Evaluation and Attrition:** Employees with lower performance evaluations might be more likely to leave.\n",
    "* **Number of Projects and Attrition:** A high number of projects could lead to increased stress and burnout, potentially contributing to higher attrition.\n",
    "* **Average Monthly Hours and Attrition:** Excessive working hours might negatively impact job satisfaction and lead to attrition.\n",
    "* **Tenure and Attrition:** Employees with shorter tenures might be more likely to leave, especially during the initial period of adjustment.\n",
    "\n",
    "**Distributions in the Data:**\n",
    "\n",
    "* **Satisfaction Level:** The distribution might be skewed, with a majority of employees having moderate to high satisfaction levels.\n",
    "* **Performance Evaluation:** The distribution could be relatively normal, with most employees having average performance ratings.\n",
    "* **Number of Projects:** The distribution might be skewed, with a few employees handling a large number of projects.\n",
    "* **Average Monthly Hours:** The distribution might be skewed, with a few employees working significantly more hours than others.\n",
    "* **Tenure:** The distribution might be skewed, with a higher proportion of employees having shorter tenures.\n",
    "\n",
    "**Data Transformations:**\n",
    "\n",
    "* **Categorical Variables:** Convert categorical variables like `department` and `salary` into numerical representations using techniques like one-hot encoding or label encoding.\n",
    "* **Outliers:** Identify and handle outliers using techniques like capping, flooring, or removal, depending on the nature of the outliers and their impact on the analysis.\n",
    "* **Feature Scaling:** If necessary, scale numerical features to a common range (e.g., using normalization or standardization) to ensure that all features have a similar impact on the model.\n",
    "\n",
    "**Reasons for Transformations:**\n",
    "\n",
    "* **Categorical Variables:** Numerical representations allow machine learning algorithms to process the data effectively.\n",
    "* **Outliers:** Outliers can significantly impact the model's performance, so it's important to handle them appropriately.\n",
    "* **Feature Scaling:** Scaling helps to improve the performance of many machine learning algorithms, especially those that use distance-based metrics.\n",
    "\n",
    "**Purposes of EDA Before Model Construction:**\n",
    "\n",
    "* **Understand the data:** Gain insights into the data's characteristics, distributions, and relationships between variables.\n",
    "* **Identify patterns:** Discover patterns and trends that can inform feature engineering and model selection.\n",
    "* **Detect anomalies:** Identify outliers, missing values, and inconsistencies in the data.\n",
    "* **Inform feature engineering:** Create new features or transform existing ones to improve model performance.\n",
    "* **Assess data quality:** Ensure the data is clean and suitable for analysis.\n",
    "\n",
    "**Resources:**\n",
    "\n",
    "* **Python libraries:** Pandas, NumPy, Matplotlib, Seaborn, Scikit-learn, XGBoost.\n",
    "* **Online tutorials and courses:**\n",
    "    * Coursera: [https://www.coursera.org/](https://www.coursera.org/)\n",
    "    * Kaggle: [https://www.kaggle.com/](https://www.kaggle.com/)\n",
    "    * DataCamp: [https://www.datacamp.com/](https://www.datacamp.com/)\n",
    "* **Statistical textbooks:** Introductory statistics textbooks.\n",
    "\n",
    "**Ethical Considerations:**\n",
    "\n",
    "* **Data privacy:** Ensure compliance with data privacy regulations (e.g., GDPR, CCPA).\n",
    "* **Bias:** Avoid bias in data collection, analysis, and model development.\n",
    "* **Fairness:** Consider the potential impact of the model on different groups and ensure equitable treatment.\n",
    "* **Transparency:** Explain the model's decision-making process and limitations."
   ]
  },
  {
   "cell_type": "markdown",
   "id": "aa9d3469",
   "metadata": {
    "papermill": {
     "duration": 0.030198,
     "end_time": "2024-11-02T12:35:18.057992",
     "exception": false,
     "start_time": "2024-11-02T12:35:18.027794",
     "status": "completed"
    },
    "tags": []
   },
   "source": [
    "## Step 2. Data Exploration (Continue EDA)"
   ]
  },
  {
   "cell_type": "code",
   "execution_count": 16,
   "id": "59bad83e",
   "metadata": {
    "execution": {
     "iopub.execute_input": "2024-11-02T12:35:18.120821Z",
     "iopub.status.busy": "2024-11-02T12:35:18.120285Z",
     "iopub.status.idle": "2024-11-02T12:35:18.129374Z",
     "shell.execute_reply": "2024-11-02T12:35:18.128053Z"
    },
    "papermill": {
     "duration": 0.042866,
     "end_time": "2024-11-02T12:35:18.132034",
     "exception": false,
     "start_time": "2024-11-02T12:35:18.089168",
     "status": "completed"
    },
    "tags": []
   },
   "outputs": [
    {
     "name": "stdout",
     "output_type": "stream",
     "text": [
      "Number of employees who left: 1991\n",
      "Number of employees who stayed: 10000\n",
      "Percentage of employees who left: 16.60%\n",
      "Percentage of employees who stayed: 83.40%\n"
     ]
    }
   ],
   "source": [
    "# Get numbers of people who left vs. stayed\n",
    "num_left = df0_no_duplicates['left'].sum()\n",
    "num_stayed = len(df0_no_duplicates) - num_left\n",
    "\n",
    "# Get percentages of people who left vs. stayed\n",
    "percentage_left = (num_left / len(df0_no_duplicates)) * 100\n",
    "percentage_stayed = (num_stayed / len(df0_no_duplicates)) * 100\n",
    "\n",
    "print(f\"Number of employees who left: {num_left}\")\n",
    "print(f\"Number of employees who stayed: {num_stayed}\")\n",
    "print(f\"Percentage of employees who left: {percentage_left:.2f}%\")\n",
    "print(f\"Percentage of employees who stayed: {percentage_stayed:.2f}%\")"
   ]
  },
  {
   "cell_type": "markdown",
   "id": "9edac141",
   "metadata": {
    "papermill": {
     "duration": 0.029055,
     "end_time": "2024-11-02T12:35:18.190480",
     "exception": false,
     "start_time": "2024-11-02T12:35:18.161425",
     "status": "completed"
    },
    "tags": []
   },
   "source": [
    "### Data visualizations"
   ]
  },
  {
   "cell_type": "code",
   "execution_count": 17,
   "id": "23632e52",
   "metadata": {
    "execution": {
     "iopub.execute_input": "2024-11-02T12:35:18.252130Z",
     "iopub.status.busy": "2024-11-02T12:35:18.251652Z",
     "iopub.status.idle": "2024-11-02T12:35:18.512698Z",
     "shell.execute_reply": "2024-11-02T12:35:18.511350Z"
    },
    "papermill": {
     "duration": 0.295479,
     "end_time": "2024-11-02T12:35:18.515489",
     "exception": false,
     "start_time": "2024-11-02T12:35:18.220010",
     "status": "completed"
    },
    "tags": []
   },
   "outputs": [
    {
     "data": {
      "image/png": "[encoded data removed]",
      "text/plain": [
       "<Figure size 640x480 with 1 Axes>"
      ]
     },
     "metadata": {},
     "output_type": "display_data"
    }
   ],
   "source": [
    "# Visualize the distribution of the target variable 'left'\n",
    "sns.countplot(x='left', data=df0_no_duplicates)\n",
    "plt.title('Distribution of Employee Attrition')\n",
    "plt.xlabel('Left (0: Stayed, 1: Left)')\n",
    "plt.ylabel('Count')\n",
    "plt.show()"
   ]
  },
  {
   "cell_type": "code",
   "execution_count": 18,
   "id": "167c564c",
   "metadata": {
    "execution": {
     "iopub.execute_input": "2024-11-02T12:35:18.578209Z",
     "iopub.status.busy": "2024-11-02T12:35:18.577749Z",
     "iopub.status.idle": "2024-11-02T12:35:18.851871Z",
     "shell.execute_reply": "2024-11-02T12:35:18.850248Z"
    },
    "papermill": {
     "duration": 0.308955,
     "end_time": "2024-11-02T12:35:18.855283",
     "exception": false,
     "start_time": "2024-11-02T12:35:18.546328",
     "status": "completed"
    },
    "tags": []
   },
   "outputs": [
    {
     "data": {
      "image/png": "[encoded data removed]",
      "text/plain": [
       "<Figure size 640x480 with 1 Axes>"
      ]
     },
     "metadata": {},
     "output_type": "display_data"
    }
   ],
   "source": [
    "# Visualize the relationship between satisfaction level and attrition\n",
    "sns.boxplot(x='left', y='satisfaction', data=df0_no_duplicates)\n",
    "plt.title('Satisfaction Level vs. Attrition')\n",
    "plt.xlabel('Left (0: Stayed, 1: Left)')\n",
    "plt.ylabel('Satisfaction Level')\n",
    "plt.show()"
   ]
  },
  {
   "cell_type": "code",
   "execution_count": 19,
   "id": "ad06f58b",
   "metadata": {
    "execution": {
     "iopub.execute_input": "2024-11-02T12:35:18.919041Z",
     "iopub.status.busy": "2024-11-02T12:35:18.918546Z",
     "iopub.status.idle": "2024-11-02T12:35:19.214249Z",
     "shell.execute_reply": "2024-11-02T12:35:19.212860Z"
    },
    "papermill": {
     "duration": 0.330793,
     "end_time": "2024-11-02T12:35:19.217139",
     "exception": false,
     "start_time": "2024-11-02T12:35:18.886346",
     "status": "completed"
    },
    "tags": []
   },
   "outputs": [
    {
     "data": {
      "image/png": "[encoded data removed]",
      "text/plain": [
       "<Figure size 640x480 with 1 Axes>"
      ]
     },
     "metadata": {},
     "output_type": "display_data"
    }
   ],
   "source": [
    "# Visualize the relationship between promotion in the last 5 years and attrition\n",
    "sns.countplot(x='promotion', hue='left', data=df0_no_duplicates)\n",
    "plt.title('Promotion in Last 5 Years vs. Attrition')\n",
    "plt.xlabel('Promotion in Last 5 Years (0: No, 1: Yes)')\n",
    "plt.ylabel('Count')\n",
    "plt.show()"
   ]
  },
  {
   "cell_type": "code",
   "execution_count": 20,
   "id": "4dc85db1",
   "metadata": {
    "execution": {
     "iopub.execute_input": "2024-11-02T12:35:19.281623Z",
     "iopub.status.busy": "2024-11-02T12:35:19.281091Z",
     "iopub.status.idle": "2024-11-02T12:35:19.556253Z",
     "shell.execute_reply": "2024-11-02T12:35:19.554983Z"
    },
    "papermill": {
     "duration": 0.310418,
     "end_time": "2024-11-02T12:35:19.559007",
     "exception": false,
     "start_time": "2024-11-02T12:35:19.248589",
     "status": "completed"
    },
    "tags": []
   },
   "outputs": [
    {
     "data": {
      "image/png": "[encoded data removed]",
      "text/plain": [
       "<Figure size 640x480 with 1 Axes>"
      ]
     },
     "metadata": {},
     "output_type": "display_data"
    }
   ],
   "source": [
    "#This plot can help you understand if a higher number of projects is associated with higher attritio\n",
    "sns.boxplot(x='left', y='projects', data=df0_no_duplicates)\n",
    "plt.title('Number of Projects vs. Attrition')\n",
    "plt.xlabel('Left (0: Stayed, 1: Left)')\n",
    "plt.ylabel('Number of Projects')\n",
    "plt.show()"
   ]
  },
  {
   "cell_type": "code",
   "execution_count": 21,
   "id": "aade4df4",
   "metadata": {
    "execution": {
     "iopub.execute_input": "2024-11-02T12:35:19.624866Z",
     "iopub.status.busy": "2024-11-02T12:35:19.624342Z",
     "iopub.status.idle": "2024-11-02T12:35:19.870003Z",
     "shell.execute_reply": "2024-11-02T12:35:19.868583Z"
    },
    "papermill": {
     "duration": 0.282014,
     "end_time": "2024-11-02T12:35:19.872889",
     "exception": false,
     "start_time": "2024-11-02T12:35:19.590875",
     "status": "completed"
    },
    "tags": []
   },
   "outputs": [
    {
     "data": {
      "image/png": "[encoded data removed]",
      "text/plain": [
       "<Figure size 640x480 with 1 Axes>"
      ]
     },
     "metadata": {},
     "output_type": "display_data"
    }
   ],
   "source": [
    "#This plot can help you identify if employees with specific tenures are more likely to leave\n",
    "sns.boxplot(x='left', y='tenure', data=df0_no_duplicates)\n",
    "plt.title('Time Spend Company vs. Attrition')\n",
    "plt.xlabel('Left (0: Stayed, 1: Left)')\n",
    "plt.ylabel('Time Spend Company')\n",
    "plt.show()"
   ]
  },
  {
   "cell_type": "code",
   "execution_count": 22,
   "id": "93d35231",
   "metadata": {
    "execution": {
     "iopub.execute_input": "2024-11-02T12:35:19.944652Z",
     "iopub.status.busy": "2024-11-02T12:35:19.944182Z",
     "iopub.status.idle": "2024-11-02T12:35:19.959317Z",
     "shell.execute_reply": "2024-11-02T12:35:19.957668Z"
    },
    "papermill": {
     "duration": 0.055079,
     "end_time": "2024-11-02T12:35:19.962386",
     "exception": false,
     "start_time": "2024-11-02T12:35:19.907307",
     "status": "completed"
    },
    "tags": []
   },
   "outputs": [
    {
     "data": {
      "text/plain": [
       "department\n",
       "sales          3239\n",
       "technical      2244\n",
       "support        1821\n",
       "IT              976\n",
       "RandD           694\n",
       "product_mng     686\n",
       "marketing       673\n",
       "accounting      621\n",
       "hr              601\n",
       "management      436\n",
       "Name: count, dtype: int64"
      ]
     },
     "execution_count": 22,
     "metadata": {},
     "output_type": "execute_result"
    }
   ],
   "source": [
    "# Display counts for each department\n",
    "df0_no_duplicates[\"department\"].value_counts()"
   ]
  },
  {
   "cell_type": "code",
   "execution_count": 23,
   "id": "47c2b87e",
   "metadata": {
    "execution": {
     "iopub.execute_input": "2024-11-02T12:35:20.034834Z",
     "iopub.status.busy": "2024-11-02T12:35:20.034344Z",
     "iopub.status.idle": "2024-11-02T12:35:20.445253Z",
     "shell.execute_reply": "2024-11-02T12:35:20.443619Z"
    },
    "papermill": {
     "duration": 0.451616,
     "end_time": "2024-11-02T12:35:20.448144",
     "exception": false,
     "start_time": "2024-11-02T12:35:19.996528",
     "status": "completed"
    },
    "tags": []
   },
   "outputs": [
    {
     "data": {
      "image/png": "[encoded data removed]",
      "text/plain": [
       "<Figure size 640x480 with 1 Axes>"
      ]
     },
     "metadata": {},
     "output_type": "display_data"
    }
   ],
   "source": [
    "#This plot can help you understand if certain departments have higher attrition rates than others.\n",
    "sns.countplot(x='department', hue='left', data=df0_no_duplicates)\n",
    "plt.title('Department vs. Attrition')\n",
    "plt.xlabel('Department')\n",
    "plt.ylabel('Count')\n",
    "plt.xticks(rotation=45)\n",
    "plt.show()"
   ]
  },
  {
   "cell_type": "code",
   "execution_count": 24,
   "id": "1725343d",
   "metadata": {
    "execution": {
     "iopub.execute_input": "2024-11-02T12:35:20.514012Z",
     "iopub.status.busy": "2024-11-02T12:35:20.513536Z",
     "iopub.status.idle": "2024-11-02T12:35:21.678503Z",
     "shell.execute_reply": "2024-11-02T12:35:21.677126Z"
    },
    "papermill": {
     "duration": 1.201949,
     "end_time": "2024-11-02T12:35:21.682405",
     "exception": false,
     "start_time": "2024-11-02T12:35:20.480456",
     "status": "completed"
    },
    "tags": []
   },
   "outputs": [
    {
     "data": {
      "text/plain": [
       "<matplotlib.lines.Line2D at 0x79d9c9384280>"
      ]
     },
     "execution_count": 24,
     "metadata": {},
     "output_type": "execute_result"
    },
    {
     "data": {
      "image/png": "[encoded data removed]",
      "text/plain": [
       "<Figure size 2000x600 with 1 Axes>"
      ]
     },
     "metadata": {},
     "output_type": "display_data"
    }
   ],
   "source": [
    "# Create plot to examine relationship between `average_monthly_hours` and `promotion_last_5years`\n",
    "plt.figure(figsize=(20, 6))\n",
    "sns.scatterplot(data=df0_no_duplicates, x='average_hours', y='promotion', hue='left', alpha=0.4)\n",
    "plt.axvline(x=166.67, color='#ff6361', ls='--')"
   ]
  },
  {
   "cell_type": "markdown",
   "id": "c7062865",
   "metadata": {
    "papermill": {
     "duration": 0.038304,
     "end_time": "2024-11-02T12:35:21.755505",
     "exception": false,
     "start_time": "2024-11-02T12:35:21.717201",
     "status": "completed"
    },
    "tags": []
   },
   "source": [
    "The plot above shows the following:\n",
    "\n",
    "* very few employees who were promoted in the last five years left\n",
    "* very few employees who worked the most hours were promoted\n",
    "* all of the employees who left were working the longest hours"
   ]
  },
  {
   "cell_type": "code",
   "execution_count": 25,
   "id": "5b0d4ff4",
   "metadata": {
    "execution": {
     "iopub.execute_input": "2024-11-02T12:35:21.825675Z",
     "iopub.status.busy": "2024-11-02T12:35:21.825208Z",
     "iopub.status.idle": "2024-11-02T12:35:22.611064Z",
     "shell.execute_reply": "2024-11-02T12:35:22.609834Z"
    },
    "papermill": {
     "duration": 0.824313,
     "end_time": "2024-11-02T12:35:22.614464",
     "exception": false,
     "start_time": "2024-11-02T12:35:21.790151",
     "status": "completed"
    },
    "tags": []
   },
   "outputs": [
    {
     "data": {
      "image/png": "[encoded data removed]",
      "text/plain": [
       "<Figure size 1600x900 with 2 Axes>"
      ]
     },
     "metadata": {},
     "output_type": "display_data"
    }
   ],
   "source": [
    "# Assuming 'df0_no_duplicates' is your DataFrame\n",
    "columns_to_plot = ['satisfaction', 'performance_score', 'projects', 'average_hours',\n",
    "       'tenure', 'Work_accident', 'left'] \n",
    "\n",
    "# Select the desired columns from the DataFrame\n",
    "df_selected = df0_no_duplicates[columns_to_plot]\n",
    "\n",
    "plt.figure(figsize=(16, 9))\n",
    "heatmap = sns.heatmap(df_selected.corr(), vmin=-1, vmax=1, annot=True, cmap=sns.color_palette(\"vlag\", as_cmap=True))\n",
    "heatmap.set_title('Correlation Heatmap', fontdict={'fontsize':14}, pad=12);"
   ]
  },
  {
   "cell_type": "markdown",
   "id": "c0020d8b",
   "metadata": {
    "papermill": {
     "duration": 0.035314,
     "end_time": "2024-11-02T12:35:22.684397",
     "exception": false,
     "start_time": "2024-11-02T12:35:22.649083",
     "status": "completed"
    },
    "tags": []
   },
   "source": [
    "The correlation heatmap confirms that the number of projects, monthly hours, and evaluation scores all have some positive correlation with each other, and whether an employee leaves is negatively correlated with their satisfaction level."
   ]
  },
  {
   "cell_type": "markdown",
   "id": "7a2833c6",
   "metadata": {
    "papermill": {
     "duration": 0.035314,
     "end_time": "2024-11-02T12:35:22.755954",
     "exception": false,
     "start_time": "2024-11-02T12:35:22.720640",
     "status": "completed"
    },
    "tags": []
   },
   "source": [
    "### Insights\n",
    "\n",
    "- Imbalanced Dataset: The dataset is imbalanced, with a significantly higher number of employees who stayed compared to those who left. This imbalance might affect the performance of certain classification models.\n",
    "\n",
    "- Satisfaction Level: Employees who left tend to have lower satisfaction levels compared to those who stayed. This suggests that job satisfaction is a crucial factor influencing employee retention.\n",
    "\n",
    "- Number of Projects: Employees with a higher number of projects tend to have a higher attrition rate. This could indicate that excessive workload might contribute to employee burnout and turnover.\n",
    "\n",
    "- Tenure: Employees with shorter tenures are more likely to leave. This suggests that employee retention strategies should focus on onboarding and early career development.\n",
    "\n",
    "- Department: Certain departments, such as sales, technical, and support, seem to have higher attrition rates. This might be due to various factors, including workload, stress levels, and job satisfaction"
   ]
  },
  {
   "cell_type": "markdown",
   "id": "a3dadbdc",
   "metadata": {
    "papermill": {
     "duration": 0.035745,
     "end_time": "2024-11-02T12:35:22.827293",
     "exception": false,
     "start_time": "2024-11-02T12:35:22.791548",
     "status": "completed"
    },
    "tags": []
   },
   "source": [
    "# paCe: Construct Stage\n",
    "- Determine which models are most appropriate\n",
    "- Construct the model\n",
    "- Confirm model assumptions\n",
    "- Evaluate model results to determine how well your model fits the data"
   ]
  },
  {
   "cell_type": "markdown",
   "id": "66584814",
   "metadata": {
    "papermill": {
     "duration": 0.034563,
     "end_time": "2024-11-02T12:35:22.896432",
     "exception": false,
     "start_time": "2024-11-02T12:35:22.861869",
     "status": "completed"
    },
    "tags": []
   },
   "source": [
    "## Step 3. Model Building, Step 4. Results and Evaluation\n",
    "- Fit a model that predicts the outcome variable using two or more independent variables\n",
    "- Check model assumptions\n",
    "- Evaluate the model"
   ]
  },
  {
   "cell_type": "markdown",
   "id": "dbc25790",
   "metadata": {
    "papermill": {
     "duration": 0.035179,
     "end_time": "2024-11-02T12:35:22.966052",
     "exception": false,
     "start_time": "2024-11-02T12:35:22.930873",
     "status": "completed"
    },
    "tags": []
   },
   "source": [
    "Given that we're dealing with a binary classification problem, the following models are particularly suitable:\n",
    "\n",
    "**1. Logistic Regression:**\n",
    "   * A statistical model that predicts the probability of an event occurring.\n",
    "   * It's a good starting point for binary classification problems.\n",
    "\n",
    "**2. Decision Trees:**\n",
    "   * A tree-based model that makes decisions based on a series of rules.\n",
    "   * It's interpretable and can handle both numerical and categorical data.\n",
    "\n",
    "**3. Random Forest:**\n",
    "   * An ensemble method that combines multiple decision trees to improve accuracy and reduce overfitting.\n",
    "\n",
    "**4. XGBoost:**\n",
    "   * A powerful ensemble method that is often used for classification and regression tasks.\n",
    "   * It's known for its efficient implementation and high performance.\n",
    "\n",
    "**5. Support Vector Machines (SVM):**\n",
    "   * A versatile machine learning algorithm that can be used for both classification and regression.\n",
    "   * It's effective in high-dimensional spaces."
   ]
  },
  {
   "cell_type": "markdown",
   "id": "eb14b629",
   "metadata": {
    "papermill": {
     "duration": 0.035972,
     "end_time": "2024-11-02T12:35:23.038616",
     "exception": false,
     "start_time": "2024-11-02T12:35:23.002644",
     "status": "completed"
    },
    "tags": []
   },
   "source": [
    "### Modeling\n",
    "\n",
    "#### Logistic regression\n",
    "Note that binomial logistic regression suits the task because it involves binary classification.\n",
    "\n",
    "Before splitting the data, encode the non-numeric variables. There are two: `department` and `salary`. \n",
    "\n",
    "`department` is a categorical variable, which means you can dummy it for modeling. \n",
    "\n",
    "`salary` is categorical too, but it's ordinal. There's a hierarchy to the categories, so it's better not to dummy this column, but rather to convert the levels to numbers, 0&ndash;2."
   ]
  },
  {
   "cell_type": "code",
   "execution_count": 26,
   "id": "2ae26179",
   "metadata": {
    "execution": {
     "iopub.execute_input": "2024-11-02T12:35:23.114058Z",
     "iopub.status.busy": "2024-11-02T12:35:23.113569Z",
     "iopub.status.idle": "2024-11-02T12:35:23.148775Z",
     "shell.execute_reply": "2024-11-02T12:35:23.147422Z"
    },
    "papermill": {
     "duration": 0.076058,
     "end_time": "2024-11-02T12:35:23.151557",
     "exception": false,
     "start_time": "2024-11-02T12:35:23.075499",
     "status": "completed"
    },
    "tags": []
   },
   "outputs": [
    {
     "data": {
      "text/html": [
       "<div>\n",
       "<style scoped>\n",
       "    .dataframe tbody tr th:only-of-type {\n",
       "        vertical-align: middle;\n",
       "    }\n",
       "\n",
       "    .dataframe tbody tr th {\n",
       "        vertical-align: top;\n",
       "    }\n",
       "\n",
       "    .dataframe thead th {\n",
       "        text-align: right;\n",
       "    }\n",
       "</style>\n",
       "<table border=\"1\" class=\"dataframe\">\n",
       "  <thead>\n",
       "    <tr style=\"text-align: right;\">\n",
       "      <th></th>\n",
       "      <th>satisfaction</th>\n",
       "      <th>performance_score</th>\n",
       "      <th>projects</th>\n",
       "      <th>average_hours</th>\n",
       "      <th>tenure</th>\n",
       "      <th>Work_accident</th>\n",
       "      <th>left</th>\n",
       "      <th>promotion</th>\n",
       "      <th>salary</th>\n",
       "      <th>department_IT</th>\n",
       "      <th>department_RandD</th>\n",
       "      <th>department_accounting</th>\n",
       "      <th>department_hr</th>\n",
       "      <th>department_management</th>\n",
       "      <th>department_marketing</th>\n",
       "      <th>department_product_mng</th>\n",
       "      <th>department_sales</th>\n",
       "      <th>department_support</th>\n",
       "      <th>department_technical</th>\n",
       "    </tr>\n",
       "  </thead>\n",
       "  <tbody>\n",
       "    <tr>\n",
       "      <th>0</th>\n",
       "      <td>0.38</td>\n",
       "      <td>0.53</td>\n",
       "      <td>2</td>\n",
       "      <td>157</td>\n",
       "      <td>3</td>\n",
       "      <td>0</td>\n",
       "      <td>1</td>\n",
       "      <td>0</td>\n",
       "      <td>0</td>\n",
       "      <td>False</td>\n",
       "      <td>False</td>\n",
       "      <td>False</td>\n",
       "      <td>False</td>\n",
       "      <td>False</td>\n",
       "      <td>False</td>\n",
       "      <td>False</td>\n",
       "      <td>True</td>\n",
       "      <td>False</td>\n",
       "      <td>False</td>\n",
       "    </tr>\n",
       "    <tr>\n",
       "      <th>1</th>\n",
       "      <td>0.80</td>\n",
       "      <td>0.86</td>\n",
       "      <td>5</td>\n",
       "      <td>262</td>\n",
       "      <td>6</td>\n",
       "      <td>0</td>\n",
       "      <td>1</td>\n",
       "      <td>0</td>\n",
       "      <td>1</td>\n",
       "      <td>False</td>\n",
       "      <td>False</td>\n",
       "      <td>False</td>\n",
       "      <td>False</td>\n",
       "      <td>False</td>\n",
       "      <td>False</td>\n",
       "      <td>False</td>\n",
       "      <td>True</td>\n",
       "      <td>False</td>\n",
       "      <td>False</td>\n",
       "    </tr>\n",
       "    <tr>\n",
       "      <th>2</th>\n",
       "      <td>0.11</td>\n",
       "      <td>0.88</td>\n",
       "      <td>7</td>\n",
       "      <td>272</td>\n",
       "      <td>4</td>\n",
       "      <td>0</td>\n",
       "      <td>1</td>\n",
       "      <td>0</td>\n",
       "      <td>1</td>\n",
       "      <td>False</td>\n",
       "      <td>False</td>\n",
       "      <td>False</td>\n",
       "      <td>False</td>\n",
       "      <td>False</td>\n",
       "      <td>False</td>\n",
       "      <td>False</td>\n",
       "      <td>True</td>\n",
       "      <td>False</td>\n",
       "      <td>False</td>\n",
       "    </tr>\n",
       "    <tr>\n",
       "      <th>3</th>\n",
       "      <td>0.72</td>\n",
       "      <td>0.87</td>\n",
       "      <td>5</td>\n",
       "      <td>223</td>\n",
       "      <td>5</td>\n",
       "      <td>0</td>\n",
       "      <td>1</td>\n",
       "      <td>0</td>\n",
       "      <td>0</td>\n",
       "      <td>False</td>\n",
       "      <td>False</td>\n",
       "      <td>False</td>\n",
       "      <td>False</td>\n",
       "      <td>False</td>\n",
       "      <td>False</td>\n",
       "      <td>False</td>\n",
       "      <td>True</td>\n",
       "      <td>False</td>\n",
       "      <td>False</td>\n",
       "    </tr>\n",
       "    <tr>\n",
       "      <th>4</th>\n",
       "      <td>0.37</td>\n",
       "      <td>0.52</td>\n",
       "      <td>2</td>\n",
       "      <td>159</td>\n",
       "      <td>3</td>\n",
       "      <td>0</td>\n",
       "      <td>1</td>\n",
       "      <td>0</td>\n",
       "      <td>0</td>\n",
       "      <td>False</td>\n",
       "      <td>False</td>\n",
       "      <td>False</td>\n",
       "      <td>False</td>\n",
       "      <td>False</td>\n",
       "      <td>False</td>\n",
       "      <td>False</td>\n",
       "      <td>True</td>\n",
       "      <td>False</td>\n",
       "      <td>False</td>\n",
       "    </tr>\n",
       "  </tbody>\n",
       "</table>\n",
       "</div>"
      ],
      "text/plain": [
       "   satisfaction  performance_score  projects  average_hours  tenure  \\\n",
       "0          0.38               0.53         2            157       3   \n",
       "1          0.80               0.86         5            262       6   \n",
       "2          0.11               0.88         7            272       4   \n",
       "3          0.72               0.87         5            223       5   \n",
       "4          0.37               0.52         2            159       3   \n",
       "\n",
       "   Work_accident  left  promotion  salary  department_IT  department_RandD  \\\n",
       "0              0     1          0       0          False             False   \n",
       "1              0     1          0       1          False             False   \n",
       "2              0     1          0       1          False             False   \n",
       "3              0     1          0       0          False             False   \n",
       "4              0     1          0       0          False             False   \n",
       "\n",
       "   department_accounting  department_hr  department_management  \\\n",
       "0                  False          False                  False   \n",
       "1                  False          False                  False   \n",
       "2                  False          False                  False   \n",
       "3                  False          False                  False   \n",
       "4                  False          False                  False   \n",
       "\n",
       "   department_marketing  department_product_mng  department_sales  \\\n",
       "0                 False                   False              True   \n",
       "1                 False                   False              True   \n",
       "2                 False                   False              True   \n",
       "3                 False                   False              True   \n",
       "4                 False                   False              True   \n",
       "\n",
       "   department_support  department_technical  \n",
       "0               False                 False  \n",
       "1               False                 False  \n",
       "2               False                 False  \n",
       "3               False                 False  \n",
       "4               False                 False  "
      ]
     },
     "execution_count": 26,
     "metadata": {},
     "output_type": "execute_result"
    }
   ],
   "source": [
    "# Copy the dataframe\n",
    "df_enc = df0_no_duplicates.copy()\n",
    "\n",
    "# Encode the `salary` column as an ordinal numeric category\n",
    "df_enc['salary'] = (\n",
    "    df_enc['salary'].astype('category')\n",
    "    .cat.set_categories(['low', 'medium', 'high'])\n",
    "    .cat.codes\n",
    ")\n",
    "\n",
    "# Dummy encode the `department` column\n",
    "df_enc = pd.get_dummies(df_enc, drop_first=False)\n",
    "\n",
    "# Display the new dataframe\n",
    "df_enc.head()"
   ]
  },
  {
   "cell_type": "code",
   "execution_count": 27,
   "id": "1de94bae",
   "metadata": {
    "execution": {
     "iopub.execute_input": "2024-11-02T12:35:23.226578Z",
     "iopub.status.busy": "2024-11-02T12:35:23.226114Z",
     "iopub.status.idle": "2024-11-02T12:35:23.608564Z",
     "shell.execute_reply": "2024-11-02T12:35:23.607299Z"
    },
    "papermill": {
     "duration": 0.423666,
     "end_time": "2024-11-02T12:35:23.611360",
     "exception": false,
     "start_time": "2024-11-02T12:35:23.187694",
     "status": "completed"
    },
    "tags": []
   },
   "outputs": [
    {
     "data": {
      "image/png": "[encoded data removed]",
      "text/plain": [
       "<Figure size 800x600 with 2 Axes>"
      ]
     },
     "metadata": {},
     "output_type": "display_data"
    }
   ],
   "source": [
    "# Create a heatmap to visualize how correlated variables are\n",
    "plt.figure(figsize=(8, 6))\n",
    "sns.heatmap(df_enc[['satisfaction', 'performance_score', 'projects', 'average_hours', 'tenure']]\n",
    "            .corr(), annot=True, cmap=\"crest\")\n",
    "plt.title('Heatmap of the dataset')\n",
    "plt.show()"
   ]
  },
  {
   "cell_type": "code",
   "execution_count": 28,
   "id": "dd8e7092",
   "metadata": {
    "execution": {
     "iopub.execute_input": "2024-11-02T12:35:23.687559Z",
     "iopub.status.busy": "2024-11-02T12:35:23.687087Z",
     "iopub.status.idle": "2024-11-02T12:35:24.056924Z",
     "shell.execute_reply": "2024-11-02T12:35:24.055727Z"
    },
    "papermill": {
     "duration": 0.41114,
     "end_time": "2024-11-02T12:35:24.059751",
     "exception": false,
     "start_time": "2024-11-02T12:35:23.648611",
     "status": "completed"
    },
    "tags": []
   },
   "outputs": [
    {
     "data": {
      "image/png": "[encoded data removed]",
      "text/plain": [
       "<Figure size 640x480 with 1 Axes>"
      ]
     },
     "metadata": {},
     "output_type": "display_data"
    }
   ],
   "source": [
    "# Create a stacked bart plot to visualize number of employees across department, comparing those who left with those who didn't\n",
    "# In the legend, 0 (purple color) represents employees who did not leave, 1 (red color) represents employees who left\n",
    "pd.crosstab(df0_no_duplicates['department'], df0_no_duplicates['left']).plot(kind ='bar',color='mr')\n",
    "plt.title('Counts of employees who left versus stayed across department')\n",
    "plt.ylabel('Employee count')\n",
    "plt.xlabel('Department')\n",
    "plt.show()"
   ]
  },
  {
   "cell_type": "markdown",
   "id": "e9769768",
   "metadata": {
    "papermill": {
     "duration": 0.036691,
     "end_time": "2024-11-02T12:35:24.133603",
     "exception": false,
     "start_time": "2024-11-02T12:35:24.096912",
     "status": "completed"
    },
    "tags": []
   },
   "source": [
    "Since logistic regression is quite sensitive to outliers, it would be a good idea at this stage to remove the outliers in the tenure column that were identified earlier."
   ]
  },
  {
   "cell_type": "code",
   "execution_count": 29,
   "id": "753b3b49",
   "metadata": {
    "execution": {
     "iopub.execute_input": "2024-11-02T12:35:24.209350Z",
     "iopub.status.busy": "2024-11-02T12:35:24.208908Z",
     "iopub.status.idle": "2024-11-02T12:35:24.390441Z",
     "shell.execute_reply": "2024-11-02T12:35:24.389166Z"
    },
    "papermill": {
     "duration": 0.222837,
     "end_time": "2024-11-02T12:35:24.393373",
     "exception": false,
     "start_time": "2024-11-02T12:35:24.170536",
     "status": "completed"
    },
    "tags": []
   },
   "outputs": [
    {
     "data": {
      "image/png": "[encoded data removed]",
      "text/plain": [
       "<Figure size 640x480 with 1 Axes>"
      ]
     },
     "metadata": {},
     "output_type": "display_data"
    }
   ],
   "source": [
    "#A box plot visually represents the distribution of data, highlighting outliers as data points beyond the whiskers.\n",
    "sns.boxplot(x=df0_no_duplicates['tenure'])\n",
    "plt.title('Box Plot of tenure')\n",
    "plt.show()"
   ]
  },
  {
   "cell_type": "code",
   "execution_count": 30,
   "id": "9a644221",
   "metadata": {
    "execution": {
     "iopub.execute_input": "2024-11-02T12:35:24.472280Z",
     "iopub.status.busy": "2024-11-02T12:35:24.471709Z",
     "iopub.status.idle": "2024-11-02T12:35:24.507174Z",
     "shell.execute_reply": "2024-11-02T12:35:24.505757Z"
    },
    "papermill": {
     "duration": 0.078646,
     "end_time": "2024-11-02T12:35:24.510568",
     "exception": false,
     "start_time": "2024-11-02T12:35:24.431922",
     "status": "completed"
    },
    "tags": []
   },
   "outputs": [
    {
     "data": {
      "text/html": [
       "<div>\n",
       "<style scoped>\n",
       "    .dataframe tbody tr th:only-of-type {\n",
       "        vertical-align: middle;\n",
       "    }\n",
       "\n",
       "    .dataframe tbody tr th {\n",
       "        vertical-align: top;\n",
       "    }\n",
       "\n",
       "    .dataframe thead th {\n",
       "        text-align: right;\n",
       "    }\n",
       "</style>\n",
       "<table border=\"1\" class=\"dataframe\">\n",
       "  <thead>\n",
       "    <tr style=\"text-align: right;\">\n",
       "      <th></th>\n",
       "      <th>satisfaction</th>\n",
       "      <th>performance_score</th>\n",
       "      <th>projects</th>\n",
       "      <th>average_hours</th>\n",
       "      <th>tenure</th>\n",
       "      <th>Work_accident</th>\n",
       "      <th>left</th>\n",
       "      <th>promotion</th>\n",
       "      <th>salary</th>\n",
       "      <th>department_IT</th>\n",
       "      <th>department_RandD</th>\n",
       "      <th>department_accounting</th>\n",
       "      <th>department_hr</th>\n",
       "      <th>department_management</th>\n",
       "      <th>department_marketing</th>\n",
       "      <th>department_product_mng</th>\n",
       "      <th>department_sales</th>\n",
       "      <th>department_support</th>\n",
       "      <th>department_technical</th>\n",
       "    </tr>\n",
       "  </thead>\n",
       "  <tbody>\n",
       "    <tr>\n",
       "      <th>1</th>\n",
       "      <td>0.80</td>\n",
       "      <td>0.86</td>\n",
       "      <td>5</td>\n",
       "      <td>262</td>\n",
       "      <td>6</td>\n",
       "      <td>0</td>\n",
       "      <td>1</td>\n",
       "      <td>0</td>\n",
       "      <td>1</td>\n",
       "      <td>False</td>\n",
       "      <td>False</td>\n",
       "      <td>False</td>\n",
       "      <td>False</td>\n",
       "      <td>False</td>\n",
       "      <td>False</td>\n",
       "      <td>False</td>\n",
       "      <td>True</td>\n",
       "      <td>False</td>\n",
       "      <td>False</td>\n",
       "    </tr>\n",
       "    <tr>\n",
       "      <th>17</th>\n",
       "      <td>0.78</td>\n",
       "      <td>0.99</td>\n",
       "      <td>4</td>\n",
       "      <td>255</td>\n",
       "      <td>6</td>\n",
       "      <td>0</td>\n",
       "      <td>1</td>\n",
       "      <td>0</td>\n",
       "      <td>0</td>\n",
       "      <td>False</td>\n",
       "      <td>False</td>\n",
       "      <td>False</td>\n",
       "      <td>False</td>\n",
       "      <td>False</td>\n",
       "      <td>False</td>\n",
       "      <td>False</td>\n",
       "      <td>True</td>\n",
       "      <td>False</td>\n",
       "      <td>False</td>\n",
       "    </tr>\n",
       "    <tr>\n",
       "      <th>34</th>\n",
       "      <td>0.84</td>\n",
       "      <td>0.87</td>\n",
       "      <td>4</td>\n",
       "      <td>246</td>\n",
       "      <td>6</td>\n",
       "      <td>0</td>\n",
       "      <td>1</td>\n",
       "      <td>0</td>\n",
       "      <td>0</td>\n",
       "      <td>False</td>\n",
       "      <td>False</td>\n",
       "      <td>False</td>\n",
       "      <td>True</td>\n",
       "      <td>False</td>\n",
       "      <td>False</td>\n",
       "      <td>False</td>\n",
       "      <td>False</td>\n",
       "      <td>False</td>\n",
       "      <td>False</td>\n",
       "    </tr>\n",
       "    <tr>\n",
       "      <th>47</th>\n",
       "      <td>0.57</td>\n",
       "      <td>0.70</td>\n",
       "      <td>3</td>\n",
       "      <td>273</td>\n",
       "      <td>6</td>\n",
       "      <td>0</td>\n",
       "      <td>1</td>\n",
       "      <td>0</td>\n",
       "      <td>0</td>\n",
       "      <td>False</td>\n",
       "      <td>False</td>\n",
       "      <td>False</td>\n",
       "      <td>False</td>\n",
       "      <td>False</td>\n",
       "      <td>False</td>\n",
       "      <td>False</td>\n",
       "      <td>False</td>\n",
       "      <td>True</td>\n",
       "      <td>False</td>\n",
       "    </tr>\n",
       "    <tr>\n",
       "      <th>67</th>\n",
       "      <td>0.90</td>\n",
       "      <td>0.98</td>\n",
       "      <td>4</td>\n",
       "      <td>264</td>\n",
       "      <td>6</td>\n",
       "      <td>0</td>\n",
       "      <td>1</td>\n",
       "      <td>0</td>\n",
       "      <td>1</td>\n",
       "      <td>False</td>\n",
       "      <td>False</td>\n",
       "      <td>False</td>\n",
       "      <td>False</td>\n",
       "      <td>False</td>\n",
       "      <td>False</td>\n",
       "      <td>True</td>\n",
       "      <td>False</td>\n",
       "      <td>False</td>\n",
       "      <td>False</td>\n",
       "    </tr>\n",
       "  </tbody>\n",
       "</table>\n",
       "</div>"
      ],
      "text/plain": [
       "    satisfaction  performance_score  projects  average_hours  tenure  \\\n",
       "1           0.80               0.86         5            262       6   \n",
       "17          0.78               0.99         4            255       6   \n",
       "34          0.84               0.87         4            246       6   \n",
       "47          0.57               0.70         3            273       6   \n",
       "67          0.90               0.98         4            264       6   \n",
       "\n",
       "    Work_accident  left  promotion  salary  department_IT  department_RandD  \\\n",
       "1               0     1          0       1          False             False   \n",
       "17              0     1          0       0          False             False   \n",
       "34              0     1          0       0          False             False   \n",
       "47              0     1          0       0          False             False   \n",
       "67              0     1          0       1          False             False   \n",
       "\n",
       "    department_accounting  department_hr  department_management  \\\n",
       "1                   False          False                  False   \n",
       "17                  False          False                  False   \n",
       "34                  False           True                  False   \n",
       "47                  False          False                  False   \n",
       "67                  False          False                  False   \n",
       "\n",
       "    department_marketing  department_product_mng  department_sales  \\\n",
       "1                  False                   False              True   \n",
       "17                 False                   False              True   \n",
       "34                 False                   False             False   \n",
       "47                 False                   False             False   \n",
       "67                 False                    True             False   \n",
       "\n",
       "    department_support  department_technical  \n",
       "1                False                 False  \n",
       "17               False                 False  \n",
       "34               False                 False  \n",
       "47                True                 False  \n",
       "67               False                 False  "
      ]
     },
     "execution_count": 30,
     "metadata": {},
     "output_type": "execute_result"
    }
   ],
   "source": [
    "#Outliers can be defined as data points that lie outside of 1.5 times the IQR from the quartiles\n",
    "Q1 = df_enc['tenure'].quantile(0.25)\n",
    "Q3 = df_enc['tenure'].quantile(0.75)\n",
    "IQR = Q3 - Q1\n",
    "\n",
    "df_logreg = df_enc[(df_enc['tenure'] < Q1 - 1.5 * IQR) | (df_enc['tenure'] > Q3 + 1.5 * IQR)]\n",
    "# Display first few rows of new dataframe\n",
    "df_logreg.head()"
   ]
  },
  {
   "cell_type": "code",
   "execution_count": 31,
   "id": "29586f26",
   "metadata": {
    "execution": {
     "iopub.execute_input": "2024-11-02T12:35:24.589146Z",
     "iopub.status.busy": "2024-11-02T12:35:24.588618Z",
     "iopub.status.idle": "2024-11-02T12:35:24.597988Z",
     "shell.execute_reply": "2024-11-02T12:35:24.596762Z"
    },
    "papermill": {
     "duration": 0.050891,
     "end_time": "2024-11-02T12:35:24.600510",
     "exception": false,
     "start_time": "2024-11-02T12:35:24.549619",
     "status": "completed"
    },
    "tags": []
   },
   "outputs": [
    {
     "data": {
      "text/plain": [
       "1     1\n",
       "17    1\n",
       "34    1\n",
       "47    1\n",
       "67    1\n",
       "Name: left, dtype: int64"
      ]
     },
     "execution_count": 31,
     "metadata": {},
     "output_type": "execute_result"
    }
   ],
   "source": [
    "# Isolate the outcome variable\n",
    "y = df_logreg['left']\n",
    "\n",
    "# Display first few rows of the outcome variable\n",
    "y.head() "
   ]
  },
  {
   "cell_type": "code",
   "execution_count": 32,
   "id": "b82cfd0c",
   "metadata": {
    "execution": {
     "iopub.execute_input": "2024-11-02T12:35:24.679247Z",
     "iopub.status.busy": "2024-11-02T12:35:24.678588Z",
     "iopub.status.idle": "2024-11-02T12:35:24.706301Z",
     "shell.execute_reply": "2024-11-02T12:35:24.704311Z"
    },
    "papermill": {
     "duration": 0.070245,
     "end_time": "2024-11-02T12:35:24.709380",
     "exception": false,
     "start_time": "2024-11-02T12:35:24.639135",
     "status": "completed"
    },
    "tags": []
   },
   "outputs": [
    {
     "data": {
      "text/html": [
       "<div>\n",
       "<style scoped>\n",
       "    .dataframe tbody tr th:only-of-type {\n",
       "        vertical-align: middle;\n",
       "    }\n",
       "\n",
       "    .dataframe tbody tr th {\n",
       "        vertical-align: top;\n",
       "    }\n",
       "\n",
       "    .dataframe thead th {\n",
       "        text-align: right;\n",
       "    }\n",
       "</style>\n",
       "<table border=\"1\" class=\"dataframe\">\n",
       "  <thead>\n",
       "    <tr style=\"text-align: right;\">\n",
       "      <th></th>\n",
       "      <th>satisfaction</th>\n",
       "      <th>performance_score</th>\n",
       "      <th>projects</th>\n",
       "      <th>average_hours</th>\n",
       "      <th>tenure</th>\n",
       "      <th>Work_accident</th>\n",
       "      <th>promotion</th>\n",
       "      <th>salary</th>\n",
       "      <th>department_IT</th>\n",
       "      <th>department_RandD</th>\n",
       "      <th>department_accounting</th>\n",
       "      <th>department_hr</th>\n",
       "      <th>department_management</th>\n",
       "      <th>department_marketing</th>\n",
       "      <th>department_product_mng</th>\n",
       "      <th>department_sales</th>\n",
       "      <th>department_support</th>\n",
       "      <th>department_technical</th>\n",
       "    </tr>\n",
       "  </thead>\n",
       "  <tbody>\n",
       "    <tr>\n",
       "      <th>1</th>\n",
       "      <td>0.80</td>\n",
       "      <td>0.86</td>\n",
       "      <td>5</td>\n",
       "      <td>262</td>\n",
       "      <td>6</td>\n",
       "      <td>0</td>\n",
       "      <td>0</td>\n",
       "      <td>1</td>\n",
       "      <td>False</td>\n",
       "      <td>False</td>\n",
       "      <td>False</td>\n",
       "      <td>False</td>\n",
       "      <td>False</td>\n",
       "      <td>False</td>\n",
       "      <td>False</td>\n",
       "      <td>True</td>\n",
       "      <td>False</td>\n",
       "      <td>False</td>\n",
       "    </tr>\n",
       "    <tr>\n",
       "      <th>17</th>\n",
       "      <td>0.78</td>\n",
       "      <td>0.99</td>\n",
       "      <td>4</td>\n",
       "      <td>255</td>\n",
       "      <td>6</td>\n",
       "      <td>0</td>\n",
       "      <td>0</td>\n",
       "      <td>0</td>\n",
       "      <td>False</td>\n",
       "      <td>False</td>\n",
       "      <td>False</td>\n",
       "      <td>False</td>\n",
       "      <td>False</td>\n",
       "      <td>False</td>\n",
       "      <td>False</td>\n",
       "      <td>True</td>\n",
       "      <td>False</td>\n",
       "      <td>False</td>\n",
       "    </tr>\n",
       "    <tr>\n",
       "      <th>34</th>\n",
       "      <td>0.84</td>\n",
       "      <td>0.87</td>\n",
       "      <td>4</td>\n",
       "      <td>246</td>\n",
       "      <td>6</td>\n",
       "      <td>0</td>\n",
       "      <td>0</td>\n",
       "      <td>0</td>\n",
       "      <td>False</td>\n",
       "      <td>False</td>\n",
       "      <td>False</td>\n",
       "      <td>True</td>\n",
       "      <td>False</td>\n",
       "      <td>False</td>\n",
       "      <td>False</td>\n",
       "      <td>False</td>\n",
       "      <td>False</td>\n",
       "      <td>False</td>\n",
       "    </tr>\n",
       "    <tr>\n",
       "      <th>47</th>\n",
       "      <td>0.57</td>\n",
       "      <td>0.70</td>\n",
       "      <td>3</td>\n",
       "      <td>273</td>\n",
       "      <td>6</td>\n",
       "      <td>0</td>\n",
       "      <td>0</td>\n",
       "      <td>0</td>\n",
       "      <td>False</td>\n",
       "      <td>False</td>\n",
       "      <td>False</td>\n",
       "      <td>False</td>\n",
       "      <td>False</td>\n",
       "      <td>False</td>\n",
       "      <td>False</td>\n",
       "      <td>False</td>\n",
       "      <td>True</td>\n",
       "      <td>False</td>\n",
       "    </tr>\n",
       "    <tr>\n",
       "      <th>67</th>\n",
       "      <td>0.90</td>\n",
       "      <td>0.98</td>\n",
       "      <td>4</td>\n",
       "      <td>264</td>\n",
       "      <td>6</td>\n",
       "      <td>0</td>\n",
       "      <td>0</td>\n",
       "      <td>1</td>\n",
       "      <td>False</td>\n",
       "      <td>False</td>\n",
       "      <td>False</td>\n",
       "      <td>False</td>\n",
       "      <td>False</td>\n",
       "      <td>False</td>\n",
       "      <td>True</td>\n",
       "      <td>False</td>\n",
       "      <td>False</td>\n",
       "      <td>False</td>\n",
       "    </tr>\n",
       "  </tbody>\n",
       "</table>\n",
       "</div>"
      ],
      "text/plain": [
       "    satisfaction  performance_score  projects  average_hours  tenure  \\\n",
       "1           0.80               0.86         5            262       6   \n",
       "17          0.78               0.99         4            255       6   \n",
       "34          0.84               0.87         4            246       6   \n",
       "47          0.57               0.70         3            273       6   \n",
       "67          0.90               0.98         4            264       6   \n",
       "\n",
       "    Work_accident  promotion  salary  department_IT  department_RandD  \\\n",
       "1               0          0       1          False             False   \n",
       "17              0          0       0          False             False   \n",
       "34              0          0       0          False             False   \n",
       "47              0          0       0          False             False   \n",
       "67              0          0       1          False             False   \n",
       "\n",
       "    department_accounting  department_hr  department_management  \\\n",
       "1                   False          False                  False   \n",
       "17                  False          False                  False   \n",
       "34                  False           True                  False   \n",
       "47                  False          False                  False   \n",
       "67                  False          False                  False   \n",
       "\n",
       "    department_marketing  department_product_mng  department_sales  \\\n",
       "1                  False                   False              True   \n",
       "17                 False                   False              True   \n",
       "34                 False                   False             False   \n",
       "47                 False                   False             False   \n",
       "67                 False                    True             False   \n",
       "\n",
       "    department_support  department_technical  \n",
       "1                False                 False  \n",
       "17               False                 False  \n",
       "34               False                 False  \n",
       "47                True                 False  \n",
       "67               False                 False  "
      ]
     },
     "execution_count": 32,
     "metadata": {},
     "output_type": "execute_result"
    }
   ],
   "source": [
    "# Split the data into features\n",
    "X = df_logreg.drop('left', axis=1)\n",
    "# Display the first few rows of the selected features \n",
    "X.head()"
   ]
  },
  {
   "cell_type": "code",
   "execution_count": 33,
   "id": "cb869012",
   "metadata": {
    "execution": {
     "iopub.execute_input": "2024-11-02T12:35:24.787864Z",
     "iopub.status.busy": "2024-11-02T12:35:24.787369Z",
     "iopub.status.idle": "2024-11-02T12:35:24.800519Z",
     "shell.execute_reply": "2024-11-02T12:35:24.799105Z"
    },
    "papermill": {
     "duration": 0.056103,
     "end_time": "2024-11-02T12:35:24.803712",
     "exception": false,
     "start_time": "2024-11-02T12:35:24.747609",
     "status": "completed"
    },
    "tags": []
   },
   "outputs": [],
   "source": [
    "# Split the data into training and testing sets\n",
    "X_train, X_test, y_train, y_test = train_test_split(X, y, test_size=0.25, random_state=42)"
   ]
  },
  {
   "cell_type": "code",
   "execution_count": 34,
   "id": "e363166c",
   "metadata": {
    "execution": {
     "iopub.execute_input": "2024-11-02T12:35:24.884432Z",
     "iopub.status.busy": "2024-11-02T12:35:24.883961Z",
     "iopub.status.idle": "2024-11-02T12:35:25.130978Z",
     "shell.execute_reply": "2024-11-02T12:35:25.129275Z"
    },
    "papermill": {
     "duration": 0.291322,
     "end_time": "2024-11-02T12:35:25.135457",
     "exception": false,
     "start_time": "2024-11-02T12:35:24.844135",
     "status": "completed"
    },
    "tags": []
   },
   "outputs": [],
   "source": [
    "# Construct a logistic regression model and fit it to the training dataset\n",
    "log_clf = LogisticRegression(random_state=42, max_iter=500).fit(X_train, y_train)"
   ]
  },
  {
   "cell_type": "code",
   "execution_count": 35,
   "id": "305830be",
   "metadata": {
    "execution": {
     "iopub.execute_input": "2024-11-02T12:35:25.272074Z",
     "iopub.status.busy": "2024-11-02T12:35:25.271571Z",
     "iopub.status.idle": "2024-11-02T12:35:25.279829Z",
     "shell.execute_reply": "2024-11-02T12:35:25.278527Z"
    },
    "papermill": {
     "duration": 0.067824,
     "end_time": "2024-11-02T12:35:25.282545",
     "exception": false,
     "start_time": "2024-11-02T12:35:25.214721",
     "status": "completed"
    },
    "tags": []
   },
   "outputs": [],
   "source": [
    "# Use the logistic regression model to get predictions on the test set\n",
    "y_pred = log_clf.predict(X_test)"
   ]
  },
  {
   "cell_type": "code",
   "execution_count": 36,
   "id": "cc332fb9",
   "metadata": {
    "execution": {
     "iopub.execute_input": "2024-11-02T12:35:25.361216Z",
     "iopub.status.busy": "2024-11-02T12:35:25.360547Z",
     "iopub.status.idle": "2024-11-02T12:35:25.595261Z",
     "shell.execute_reply": "2024-11-02T12:35:25.594001Z"
    },
    "papermill": {
     "duration": 0.277283,
     "end_time": "2024-11-02T12:35:25.597817",
     "exception": false,
     "start_time": "2024-11-02T12:35:25.320534",
     "status": "completed"
    },
    "tags": []
   },
   "outputs": [
    {
     "data": {
      "image/png": "[encoded data removed]",
      "text/plain": [
       "<Figure size 640x480 with 2 Axes>"
      ]
     },
     "metadata": {},
     "output_type": "display_data"
    }
   ],
   "source": [
    "# Compute values for confusion matrix\n",
    "log_cm = confusion_matrix(y_test, y_pred, labels=log_clf.classes_)\n",
    "\n",
    "# Create display of confusion matrix\n",
    "log_disp = ConfusionMatrixDisplay(confusion_matrix=log_cm, \n",
    "                                  display_labels=log_clf.classes_)\n",
    "\n",
    "# Plot confusion matrix\n",
    "log_disp.plot(values_format='')\n",
    "\n",
    "# Display plot\n",
    "plt.show()"
   ]
  },
  {
   "cell_type": "markdown",
   "id": "b42b8a3a",
   "metadata": {
    "papermill": {
     "duration": 0.037878,
     "end_time": "2024-11-02T12:35:25.673476",
     "exception": false,
     "start_time": "2024-11-02T12:35:25.635598",
     "status": "completed"
    },
    "tags": []
   },
   "source": [
    "The upper-left quadrant displays the number of true negatives. The upper-right quadrant displays the number of false positives. The bottom-left quadrant displays the number of false negatives. The bottom-right quadrant displays the number of true positives.\n",
    "\n",
    "True negatives: The number of people who did not leave that the model accurately predicted did not leave.\n",
    "\n",
    "False positives: The number of people who did not leave the model inaccurately predicted as leaving.\n",
    "\n",
    "False negatives: The number of people who left that the model inaccurately predicted did not leave\n",
    "\n",
    "True positives: The number of people who left the model accurately predicted as leaving\n",
    "\n",
    "A perfect model would yield all true negatives and true positives, and no false negatives or false positives."
   ]
  },
  {
   "cell_type": "code",
   "execution_count": 37,
   "id": "87c43a4d",
   "metadata": {
    "execution": {
     "iopub.execute_input": "2024-11-02T12:35:25.752848Z",
     "iopub.status.busy": "2024-11-02T12:35:25.752320Z",
     "iopub.status.idle": "2024-11-02T12:35:25.771687Z",
     "shell.execute_reply": "2024-11-02T12:35:25.769839Z"
    },
    "papermill": {
     "duration": 0.062591,
     "end_time": "2024-11-02T12:35:25.774854",
     "exception": false,
     "start_time": "2024-11-02T12:35:25.712263",
     "status": "completed"
    },
    "tags": []
   },
   "outputs": [
    {
     "name": "stdout",
     "output_type": "stream",
     "text": [
      "                           precision    recall  f1-score   support\n",
      "\n",
      "Predicted would not leave       0.95      0.94      0.95       176\n",
      "    Predicted would leave       0.69      0.73      0.71        30\n",
      "\n",
      "                 accuracy                           0.91       206\n",
      "                macro avg       0.82      0.84      0.83       206\n",
      "             weighted avg       0.92      0.91      0.91       206\n",
      "\n"
     ]
    }
   ],
   "source": [
    "# Create classification report for logistic regression model\n",
    "target_names = ['Predicted would not leave', 'Predicted would leave']\n",
    "print(classification_report(y_test, y_pred, target_names=target_names))"
   ]
  },
  {
   "cell_type": "markdown",
   "id": "baee5673",
   "metadata": {
    "papermill": {
     "duration": 0.038644,
     "end_time": "2024-11-02T12:35:25.851946",
     "exception": false,
     "start_time": "2024-11-02T12:35:25.813302",
     "status": "completed"
    },
    "tags": []
   },
   "source": [
    "The classification report above shows that the logistic regression model achieved a precision of 79%, recall of 82%, f1-score of 80% (all weighted averages), and accuracy of 82%. However, if it's most important to predict employees who leave, then the scores are significantly lower."
   ]
  },
  {
   "cell_type": "markdown",
   "id": "a2fbdac4",
   "metadata": {
    "papermill": {
     "duration": 0.038039,
     "end_time": "2024-11-02T12:35:25.928381",
     "exception": false,
     "start_time": "2024-11-02T12:35:25.890342",
     "status": "completed"
    },
    "tags": []
   },
   "source": [
    "### Modeling Approach B: Tree-based Model\n",
    "This approach covers implementation of Decision Tree and Random Forest. "
   ]
  },
  {
   "cell_type": "markdown",
   "id": "bc3cf69f",
   "metadata": {
    "papermill": {
     "duration": 0.038748,
     "end_time": "2024-11-02T12:35:26.005294",
     "exception": false,
     "start_time": "2024-11-02T12:35:25.966546",
     "status": "completed"
    },
    "tags": []
   },
   "source": [
    "#### Decision tree - Round 1"
   ]
  },
  {
   "cell_type": "code",
   "execution_count": 38,
   "id": "937dfa48",
   "metadata": {
    "execution": {
     "iopub.execute_input": "2024-11-02T12:35:26.089801Z",
     "iopub.status.busy": "2024-11-02T12:35:26.089306Z",
     "iopub.status.idle": "2024-11-02T12:35:26.097738Z",
     "shell.execute_reply": "2024-11-02T12:35:26.096149Z"
    },
    "papermill": {
     "duration": 0.054111,
     "end_time": "2024-11-02T12:35:26.100632",
     "exception": false,
     "start_time": "2024-11-02T12:35:26.046521",
     "status": "completed"
    },
    "tags": []
   },
   "outputs": [],
   "source": [
    "# Instantiate model\n",
    "tree = DecisionTreeClassifier(random_state=0)\n",
    "\n",
    "# Assign a dictionary of hyperparameters to search over\n",
    "cv_params = {'max_depth':[4, 6, 8, None],\n",
    "             'min_samples_leaf': [2, 5, 1],\n",
    "             'min_samples_split': [2, 4, 6]\n",
    "             }\n",
    "\n",
    "# Assign a dictionary of scoring metrics to capture\n",
    "scoring = {'accuracy', 'precision', 'recall', 'f1', 'roc_auc'}\n",
    "\n",
    "# Instantiate GridSearch\n",
    "tree1 = GridSearchCV(tree, cv_params, scoring=scoring, cv=4, refit='roc_auc')"
   ]
  },
  {
   "cell_type": "markdown",
   "id": "ef0f4992",
   "metadata": {
    "papermill": {
     "duration": 0.038409,
     "end_time": "2024-11-02T12:35:26.177599",
     "exception": false,
     "start_time": "2024-11-02T12:35:26.139190",
     "status": "completed"
    },
    "tags": []
   },
   "source": [
    "Fit the decision tree model to the training data."
   ]
  },
  {
   "cell_type": "code",
   "execution_count": 39,
   "id": "ae0630d1",
   "metadata": {
    "execution": {
     "iopub.execute_input": "2024-11-02T12:35:26.257593Z",
     "iopub.status.busy": "2024-11-02T12:35:26.256939Z",
     "iopub.status.idle": "2024-11-02T12:35:29.137890Z",
     "shell.execute_reply": "2024-11-02T12:35:29.136439Z"
    },
    "papermill": {
     "duration": 2.925047,
     "end_time": "2024-11-02T12:35:29.140640",
     "exception": false,
     "start_time": "2024-11-02T12:35:26.215593",
     "status": "completed"
    },
    "tags": []
   },
   "outputs": [
    {
     "name": "stdout",
     "output_type": "stream",
     "text": [
      "CPU times: user 2.85 s, sys: 5.36 ms, total: 2.85 s\n",
      "Wall time: 2.87 s\n"
     ]
    },
    {
     "data": {
      "text/html": [
       "<style>#sk-container-id-1 {color: black;background-color: white;}#sk-container-id-1 pre{padding: 0;}#sk-container-id-1 div.sk-toggleable {background-color: white;}#sk-container-id-1 label.sk-toggleable__label {cursor: pointer;display: block;width: 100%;margin-bottom: 0;padding: 0.3em;box-sizing: border-box;text-align: center;}#sk-container-id-1 label.sk-toggleable__label-arrow:before {content: \"▸\";float: left;margin-right: 0.25em;color: #696969;}#sk-container-id-1 label.sk-toggleable__label-arrow:hover:before {color: black;}#sk-container-id-1 div.sk-estimator:hover label.sk-toggleable__label-arrow:before {color: black;}#sk-container-id-1 div.sk-toggleable__content {max-height: 0;max-width: 0;overflow: hidden;text-align: left;background-color: #f0f8ff;}#sk-container-id-1 div.sk-toggleable__content pre {margin: 0.2em;color: black;border-radius: 0.25em;background-color: #f0f8ff;}#sk-container-id-1 input.sk-toggleable__control:checked~div.sk-toggleable__content {max-height: 200px;max-width: 100%;overflow: auto;}#sk-container-id-1 input.sk-toggleable__control:checked~label.sk-toggleable__label-arrow:before {content: \"▾\";}#sk-container-id-1 div.sk-estimator input.sk-toggleable__control:checked~label.sk-toggleable__label {background-color: #d4ebff;}#sk-container-id-1 div.sk-label input.sk-toggleable__control:checked~label.sk-toggleable__label {background-color: #d4ebff;}#sk-container-id-1 input.sk-hidden--visually {border: 0;clip: rect(1px 1px 1px 1px);clip: rect(1px, 1px, 1px, 1px);height: 1px;margin: -1px;overflow: hidden;padding: 0;position: absolute;width: 1px;}#sk-container-id-1 div.sk-estimator {font-family: monospace;background-color: #f0f8ff;border: 1px dotted black;border-radius: 0.25em;box-sizing: border-box;margin-bottom: 0.5em;}#sk-container-id-1 div.sk-estimator:hover {background-color: #d4ebff;}#sk-container-id-1 div.sk-parallel-item::after {content: \"\";width: 100%;border-bottom: 1px solid gray;flex-grow: 1;}#sk-container-id-1 div.sk-label:hover label.sk-toggleable__label {background-color: #d4ebff;}#sk-container-id-1 div.sk-serial::before {content: \"\";position: absolute;border-left: 1px solid gray;box-sizing: border-box;top: 0;bottom: 0;left: 50%;z-index: 0;}#sk-container-id-1 div.sk-serial {display: flex;flex-direction: column;align-items: center;background-color: white;padding-right: 0.2em;padding-left: 0.2em;position: relative;}#sk-container-id-1 div.sk-item {position: relative;z-index: 1;}#sk-container-id-1 div.sk-parallel {display: flex;align-items: stretch;justify-content: center;background-color: white;position: relative;}#sk-container-id-1 div.sk-item::before, #sk-container-id-1 div.sk-parallel-item::before {content: \"\";position: absolute;border-left: 1px solid gray;box-sizing: border-box;top: 0;bottom: 0;left: 50%;z-index: -1;}#sk-container-id-1 div.sk-parallel-item {display: flex;flex-direction: column;z-index: 1;position: relative;background-color: white;}#sk-container-id-1 div.sk-parallel-item:first-child::after {align-self: flex-end;width: 50%;}#sk-container-id-1 div.sk-parallel-item:last-child::after {align-self: flex-start;width: 50%;}#sk-container-id-1 div.sk-parallel-item:only-child::after {width: 0;}#sk-container-id-1 div.sk-dashed-wrapped {border: 1px dashed gray;margin: 0 0.4em 0.5em 0.4em;box-sizing: border-box;padding-bottom: 0.4em;background-color: white;}#sk-container-id-1 div.sk-label label {font-family: monospace;font-weight: bold;display: inline-block;line-height: 1.2em;}#sk-container-id-1 div.sk-label-container {text-align: center;}#sk-container-id-1 div.sk-container {/* jupyter's `normalize.less` sets `[hidden] { display: none; }` but bootstrap.min.css set `[hidden] { display: none !important; }` so we also need the `!important` here to be able to override the default hidden behavior on the sphinx rendered scikit-learn.org. See: https://github.com/scikit-learn/scikit-learn/issues/21755 */display: inline-block !important;position: relative;}#sk-container-id-1 div.sk-text-repr-fallback {display: none;}</style><div id=\"sk-container-id-1\" class=\"sk-top-container\"><div class=\"sk-text-repr-fallback\"><pre>GridSearchCV(cv=4, estimator=DecisionTreeClassifier(random_state=0),\n",
       "             param_grid={&#x27;max_depth&#x27;: [4, 6, 8, None],\n",
       "                         &#x27;min_samples_leaf&#x27;: [2, 5, 1],\n",
       "                         &#x27;min_samples_split&#x27;: [2, 4, 6]},\n",
       "             refit=&#x27;roc_auc&#x27;,\n",
       "             scoring={&#x27;f1&#x27;, &#x27;precision&#x27;, &#x27;roc_auc&#x27;, &#x27;accuracy&#x27;, &#x27;recall&#x27;})</pre><b>In a Jupyter environment, please rerun this cell to show the HTML representation or trust the notebook. <br />On GitHub, the HTML representation is unable to render, please try loading this page with nbviewer.org.</b></div><div class=\"sk-container\" hidden><div class=\"sk-item sk-dashed-wrapped\"><div class=\"sk-label-container\"><div class=\"sk-label sk-toggleable\"><input class=\"sk-toggleable__control sk-hidden--visually\" id=\"sk-estimator-id-1\" type=\"checkbox\" ><label for=\"sk-estimator-id-1\" class=\"sk-toggleable__label sk-toggleable__label-arrow\">GridSearchCV</label><div class=\"sk-toggleable__content\"><pre>GridSearchCV(cv=4, estimator=DecisionTreeClassifier(random_state=0),\n",
       "             param_grid={&#x27;max_depth&#x27;: [4, 6, 8, None],\n",
       "                         &#x27;min_samples_leaf&#x27;: [2, 5, 1],\n",
       "                         &#x27;min_samples_split&#x27;: [2, 4, 6]},\n",
       "             refit=&#x27;roc_auc&#x27;,\n",
       "             scoring={&#x27;f1&#x27;, &#x27;precision&#x27;, &#x27;roc_auc&#x27;, &#x27;accuracy&#x27;, &#x27;recall&#x27;})</pre></div></div></div><div class=\"sk-parallel\"><div class=\"sk-parallel-item\"><div class=\"sk-item\"><div class=\"sk-label-container\"><div class=\"sk-label sk-toggleable\"><input class=\"sk-toggleable__control sk-hidden--visually\" id=\"sk-estimator-id-2\" type=\"checkbox\" ><label for=\"sk-estimator-id-2\" class=\"sk-toggleable__label sk-toggleable__label-arrow\">estimator: DecisionTreeClassifier</label><div class=\"sk-toggleable__content\"><pre>DecisionTreeClassifier(random_state=0)</pre></div></div></div><div class=\"sk-serial\"><div class=\"sk-item\"><div class=\"sk-estimator sk-toggleable\"><input class=\"sk-toggleable__control sk-hidden--visually\" id=\"sk-estimator-id-3\" type=\"checkbox\" ><label for=\"sk-estimator-id-3\" class=\"sk-toggleable__label sk-toggleable__label-arrow\">DecisionTreeClassifier</label><div class=\"sk-toggleable__content\"><pre>DecisionTreeClassifier(random_state=0)</pre></div></div></div></div></div></div></div></div></div></div>"
      ],
      "text/plain": [
       "GridSearchCV(cv=4, estimator=DecisionTreeClassifier(random_state=0),\n",
       "             param_grid={'max_depth': [4, 6, 8, None],\n",
       "                         'min_samples_leaf': [2, 5, 1],\n",
       "                         'min_samples_split': [2, 4, 6]},\n",
       "             refit='roc_auc',\n",
       "             scoring={'f1', 'precision', 'roc_auc', 'accuracy', 'recall'})"
      ]
     },
     "execution_count": 39,
     "metadata": {},
     "output_type": "execute_result"
    }
   ],
   "source": [
    "%%time\n",
    "tree1.fit(X_train, y_train)"
   ]
  },
  {
   "cell_type": "markdown",
   "id": "128978bd",
   "metadata": {
    "papermill": {
     "duration": 0.043314,
     "end_time": "2024-11-02T12:35:29.224222",
     "exception": false,
     "start_time": "2024-11-02T12:35:29.180908",
     "status": "completed"
    },
    "tags": []
   },
   "source": [
    "Identify the optimal values for the decision tree parameters."
   ]
  },
  {
   "cell_type": "code",
   "execution_count": 40,
   "id": "9fea148d",
   "metadata": {
    "execution": {
     "iopub.execute_input": "2024-11-02T12:35:29.308290Z",
     "iopub.status.busy": "2024-11-02T12:35:29.307795Z",
     "iopub.status.idle": "2024-11-02T12:35:29.316366Z",
     "shell.execute_reply": "2024-11-02T12:35:29.315111Z"
    },
    "papermill": {
     "duration": 0.053368,
     "end_time": "2024-11-02T12:35:29.319252",
     "exception": false,
     "start_time": "2024-11-02T12:35:29.265884",
     "status": "completed"
    },
    "tags": []
   },
   "outputs": [
    {
     "data": {
      "text/plain": [
       "{'max_depth': 6, 'min_samples_leaf': 2, 'min_samples_split': 6}"
      ]
     },
     "execution_count": 40,
     "metadata": {},
     "output_type": "execute_result"
    }
   ],
   "source": [
    "# Check best parameters\n",
    "tree1.best_params_"
   ]
  },
  {
   "cell_type": "markdown",
   "id": "b1c48de3",
   "metadata": {
    "papermill": {
     "duration": 0.041873,
     "end_time": "2024-11-02T12:35:29.401529",
     "exception": false,
     "start_time": "2024-11-02T12:35:29.359656",
     "status": "completed"
    },
    "tags": []
   },
   "source": [
    "Identify the best AUC score achieved by the decision tree model on the training set."
   ]
  },
  {
   "cell_type": "code",
   "execution_count": 41,
   "id": "f5adf8f2",
   "metadata": {
    "execution": {
     "iopub.execute_input": "2024-11-02T12:35:29.484242Z",
     "iopub.status.busy": "2024-11-02T12:35:29.483631Z",
     "iopub.status.idle": "2024-11-02T12:35:29.492592Z",
     "shell.execute_reply": "2024-11-02T12:35:29.491077Z"
    },
    "papermill": {
     "duration": 0.054073,
     "end_time": "2024-11-02T12:35:29.495676",
     "exception": false,
     "start_time": "2024-11-02T12:35:29.441603",
     "status": "completed"
    },
    "tags": []
   },
   "outputs": [
    {
     "data": {
      "text/plain": [
       "0.9449096258473714"
      ]
     },
     "execution_count": 41,
     "metadata": {},
     "output_type": "execute_result"
    }
   ],
   "source": [
    "# Check best AUC score on CV\n",
    "tree1.best_score_"
   ]
  },
  {
   "cell_type": "markdown",
   "id": "2aae46e8",
   "metadata": {
    "papermill": {
     "duration": 0.040318,
     "end_time": "2024-11-02T12:35:29.577911",
     "exception": false,
     "start_time": "2024-11-02T12:35:29.537593",
     "status": "completed"
    },
    "tags": []
   },
   "source": [
    "This is a strong AUC score, which shows that this model can predict employees who will leave very well. \n",
    "Extract all the scores from the grid search."
   ]
  },
  {
   "cell_type": "code",
   "execution_count": 42,
   "id": "e8bf5ebd",
   "metadata": {
    "execution": {
     "iopub.execute_input": "2024-11-02T12:35:29.661200Z",
     "iopub.status.busy": "2024-11-02T12:35:29.659734Z",
     "iopub.status.idle": "2024-11-02T12:35:29.671506Z",
     "shell.execute_reply": "2024-11-02T12:35:29.670294Z"
    },
    "papermill": {
     "duration": 0.056223,
     "end_time": "2024-11-02T12:35:29.674421",
     "exception": false,
     "start_time": "2024-11-02T12:35:29.618198",
     "status": "completed"
    },
    "tags": []
   },
   "outputs": [],
   "source": [
    "def make_results(model_name:str, model_object, metric:str):\n",
    "    '''\n",
    "    Arguments:\n",
    "        model_name (string): what you want the model to be called in the output table\n",
    "        model_object: a fit GridSearchCV object\n",
    "        metric (string): precision, recall, f1, accuracy, or auc\n",
    "  \n",
    "    Returns a pandas df with the F1, recall, precision, accuracy, and auc scores\n",
    "    for the model with the best mean 'metric' score across all validation folds.  \n",
    "    '''\n",
    "\n",
    "    # Create dictionary that maps input metric to actual metric name in GridSearchCV\n",
    "    metric_dict = {'auc': 'mean_test_roc_auc',\n",
    "                   'precision': 'mean_test_precision',\n",
    "                   'recall': 'mean_test_recall',\n",
    "                   'f1': 'mean_test_f1',\n",
    "                   'accuracy': 'mean_test_accuracy'\n",
    "                  }\n",
    "\n",
    "    # Get all the results from the CV and put them in a df\n",
    "    cv_results = pd.DataFrame(model_object.cv_results_)\n",
    "\n",
    "    # Isolate the row of the df with the max(metric) score\n",
    "    best_estimator_results = cv_results.iloc[cv_results[metric_dict[metric]].idxmax(), :]\n",
    "\n",
    "    # Extract Accuracy, precision, recall, and f1 score from that row\n",
    "    auc = best_estimator_results.mean_test_roc_auc\n",
    "    f1 = best_estimator_results.mean_test_f1\n",
    "    recall = best_estimator_results.mean_test_recall\n",
    "    precision = best_estimator_results.mean_test_precision\n",
    "    accuracy = best_estimator_results.mean_test_accuracy\n",
    "  \n",
    "    # Create table of results\n",
    "    table = pd.DataFrame()\n",
    "    table = pd.DataFrame({'model': [model_name],\n",
    "                          'precision': [precision],\n",
    "                          'recall': [recall],\n",
    "                          'F1': [f1],\n",
    "                          'accuracy': [accuracy],\n",
    "                          'auc': [auc]\n",
    "                        })\n",
    "  \n",
    "    return table"
   ]
  },
  {
   "cell_type": "markdown",
   "id": "2c8571cc",
   "metadata": {
    "papermill": {
     "duration": 0.040817,
     "end_time": "2024-11-02T12:35:29.756999",
     "exception": false,
     "start_time": "2024-11-02T12:35:29.716182",
     "status": "completed"
    },
    "tags": []
   },
   "source": [
    "Use the function just defined to get all the scores from grid search."
   ]
  },
  {
   "cell_type": "code",
   "execution_count": 43,
   "id": "e90957dd",
   "metadata": {
    "execution": {
     "iopub.execute_input": "2024-11-02T12:35:29.841618Z",
     "iopub.status.busy": "2024-11-02T12:35:29.841121Z",
     "iopub.status.idle": "2024-11-02T12:35:29.860842Z",
     "shell.execute_reply": "2024-11-02T12:35:29.859346Z"
    },
    "papermill": {
     "duration": 0.064766,
     "end_time": "2024-11-02T12:35:29.863728",
     "exception": false,
     "start_time": "2024-11-02T12:35:29.798962",
     "status": "completed"
    },
    "tags": []
   },
   "outputs": [
    {
     "data": {
      "text/html": [
       "<div>\n",
       "<style scoped>\n",
       "    .dataframe tbody tr th:only-of-type {\n",
       "        vertical-align: middle;\n",
       "    }\n",
       "\n",
       "    .dataframe tbody tr th {\n",
       "        vertical-align: top;\n",
       "    }\n",
       "\n",
       "    .dataframe thead th {\n",
       "        text-align: right;\n",
       "    }\n",
       "</style>\n",
       "<table border=\"1\" class=\"dataframe\">\n",
       "  <thead>\n",
       "    <tr style=\"text-align: right;\">\n",
       "      <th></th>\n",
       "      <th>model</th>\n",
       "      <th>precision</th>\n",
       "      <th>recall</th>\n",
       "      <th>F1</th>\n",
       "      <th>accuracy</th>\n",
       "      <th>auc</th>\n",
       "    </tr>\n",
       "  </thead>\n",
       "  <tbody>\n",
       "    <tr>\n",
       "      <th>0</th>\n",
       "      <td>decision tree cv</td>\n",
       "      <td>0.891388</td>\n",
       "      <td>0.886842</td>\n",
       "      <td>0.879232</td>\n",
       "      <td>0.969271</td>\n",
       "      <td>0.94491</td>\n",
       "    </tr>\n",
       "  </tbody>\n",
       "</table>\n",
       "</div>"
      ],
      "text/plain": [
       "              model  precision    recall        F1  accuracy      auc\n",
       "0  decision tree cv   0.891388  0.886842  0.879232  0.969271  0.94491"
      ]
     },
     "execution_count": 43,
     "metadata": {},
     "output_type": "execute_result"
    }
   ],
   "source": [
    "# Get all CV scores\n",
    "tree1_cv_results = make_results('decision tree cv', tree1, 'auc')\n",
    "tree1_cv_results"
   ]
  },
  {
   "cell_type": "markdown",
   "id": "aa36e1f2",
   "metadata": {
    "papermill": {
     "duration": 0.040949,
     "end_time": "2024-11-02T12:35:29.945365",
     "exception": false,
     "start_time": "2024-11-02T12:35:29.904416",
     "status": "completed"
    },
    "tags": []
   },
   "source": [
    "All of these scores from the decision tree model are strong indicators of good model performance."
   ]
  },
  {
   "cell_type": "markdown",
   "id": "44c4d688",
   "metadata": {
    "papermill": {
     "duration": 0.042391,
     "end_time": "2024-11-02T12:35:30.028223",
     "exception": false,
     "start_time": "2024-11-02T12:35:29.985832",
     "status": "completed"
    },
    "tags": []
   },
   "source": [
    "#### Random forest - Round 1\n",
    "Construct a random forest model and set up cross-validated grid-search to exhuastively search for the best model parameters."
   ]
  },
  {
   "cell_type": "code",
   "execution_count": 44,
   "id": "78f441e0",
   "metadata": {
    "execution": {
     "iopub.execute_input": "2024-11-02T12:35:30.113617Z",
     "iopub.status.busy": "2024-11-02T12:35:30.113169Z",
     "iopub.status.idle": "2024-11-02T12:35:30.122645Z",
     "shell.execute_reply": "2024-11-02T12:35:30.120888Z"
    },
    "papermill": {
     "duration": 0.057558,
     "end_time": "2024-11-02T12:35:30.126268",
     "exception": false,
     "start_time": "2024-11-02T12:35:30.068710",
     "status": "completed"
    },
    "tags": []
   },
   "outputs": [],
   "source": [
    "# Instantiate model\n",
    "rf = RandomForestClassifier(random_state=0)\n",
    "\n",
    "# Assign a dictionary of hyperparameters to search over\n",
    "cv_params = {'max_depth': [3,5, None], \n",
    "             'max_features': [1.0],\n",
    "             'max_samples': [0.7, 1.0],\n",
    "             'min_samples_leaf': [1,2,3],\n",
    "             'min_samples_split': [2,3,4],\n",
    "             'n_estimators': [300, 500],\n",
    "             }  \n",
    "\n",
    "# Assign a dictionary of scoring metrics to capture\n",
    "scoring = {'accuracy', 'precision', 'recall', 'f1', 'roc_auc'}\n",
    "\n",
    "# Instantiate GridSearch\n",
    "rf1 = GridSearchCV(rf, cv_params, scoring=scoring, cv=4, refit='roc_auc')"
   ]
  },
  {
   "cell_type": "markdown",
   "id": "0c74f5de",
   "metadata": {
    "papermill": {
     "duration": 0.041257,
     "end_time": "2024-11-02T12:35:30.208194",
     "exception": false,
     "start_time": "2024-11-02T12:35:30.166937",
     "status": "completed"
    },
    "tags": []
   },
   "source": [
    "Fit the random forest model to the training data."
   ]
  },
  {
   "cell_type": "code",
   "execution_count": 45,
   "id": "51140b2f",
   "metadata": {
    "execution": {
     "iopub.execute_input": "2024-11-02T12:35:30.295749Z",
     "iopub.status.busy": "2024-11-02T12:35:30.295250Z",
     "iopub.status.idle": "2024-11-02T12:43:46.010643Z",
     "shell.execute_reply": "2024-11-02T12:43:46.008933Z"
    },
    "papermill": {
     "duration": 495.8019,
     "end_time": "2024-11-02T12:43:46.054016",
     "exception": false,
     "start_time": "2024-11-02T12:35:30.252116",
     "status": "completed"
    },
    "tags": []
   },
   "outputs": [
    {
     "name": "stdout",
     "output_type": "stream",
     "text": [
      "CPU times: user 8min 12s, sys: 3.13 s, total: 8min 15s\n",
      "Wall time: 8min 15s\n"
     ]
    },
    {
     "data": {
      "text/html": [
       "<style>#sk-container-id-2 {color: black;background-color: white;}#sk-container-id-2 pre{padding: 0;}#sk-container-id-2 div.sk-toggleable {background-color: white;}#sk-container-id-2 label.sk-toggleable__label {cursor: pointer;display: block;width: 100%;margin-bottom: 0;padding: 0.3em;box-sizing: border-box;text-align: center;}#sk-container-id-2 label.sk-toggleable__label-arrow:before {content: \"▸\";float: left;margin-right: 0.25em;color: #696969;}#sk-container-id-2 label.sk-toggleable__label-arrow:hover:before {color: black;}#sk-container-id-2 div.sk-estimator:hover label.sk-toggleable__label-arrow:before {color: black;}#sk-container-id-2 div.sk-toggleable__content {max-height: 0;max-width: 0;overflow: hidden;text-align: left;background-color: #f0f8ff;}#sk-container-id-2 div.sk-toggleable__content pre {margin: 0.2em;color: black;border-radius: 0.25em;background-color: #f0f8ff;}#sk-container-id-2 input.sk-toggleable__control:checked~div.sk-toggleable__content {max-height: 200px;max-width: 100%;overflow: auto;}#sk-container-id-2 input.sk-toggleable__control:checked~label.sk-toggleable__label-arrow:before {content: \"▾\";}#sk-container-id-2 div.sk-estimator input.sk-toggleable__control:checked~label.sk-toggleable__label {background-color: #d4ebff;}#sk-container-id-2 div.sk-label input.sk-toggleable__control:checked~label.sk-toggleable__label {background-color: #d4ebff;}#sk-container-id-2 input.sk-hidden--visually {border: 0;clip: rect(1px 1px 1px 1px);clip: rect(1px, 1px, 1px, 1px);height: 1px;margin: -1px;overflow: hidden;padding: 0;position: absolute;width: 1px;}#sk-container-id-2 div.sk-estimator {font-family: monospace;background-color: #f0f8ff;border: 1px dotted black;border-radius: 0.25em;box-sizing: border-box;margin-bottom: 0.5em;}#sk-container-id-2 div.sk-estimator:hover {background-color: #d4ebff;}#sk-container-id-2 div.sk-parallel-item::after {content: \"\";width: 100%;border-bottom: 1px solid gray;flex-grow: 1;}#sk-container-id-2 div.sk-label:hover label.sk-toggleable__label {background-color: #d4ebff;}#sk-container-id-2 div.sk-serial::before {content: \"\";position: absolute;border-left: 1px solid gray;box-sizing: border-box;top: 0;bottom: 0;left: 50%;z-index: 0;}#sk-container-id-2 div.sk-serial {display: flex;flex-direction: column;align-items: center;background-color: white;padding-right: 0.2em;padding-left: 0.2em;position: relative;}#sk-container-id-2 div.sk-item {position: relative;z-index: 1;}#sk-container-id-2 div.sk-parallel {display: flex;align-items: stretch;justify-content: center;background-color: white;position: relative;}#sk-container-id-2 div.sk-item::before, #sk-container-id-2 div.sk-parallel-item::before {content: \"\";position: absolute;border-left: 1px solid gray;box-sizing: border-box;top: 0;bottom: 0;left: 50%;z-index: -1;}#sk-container-id-2 div.sk-parallel-item {display: flex;flex-direction: column;z-index: 1;position: relative;background-color: white;}#sk-container-id-2 div.sk-parallel-item:first-child::after {align-self: flex-end;width: 50%;}#sk-container-id-2 div.sk-parallel-item:last-child::after {align-self: flex-start;width: 50%;}#sk-container-id-2 div.sk-parallel-item:only-child::after {width: 0;}#sk-container-id-2 div.sk-dashed-wrapped {border: 1px dashed gray;margin: 0 0.4em 0.5em 0.4em;box-sizing: border-box;padding-bottom: 0.4em;background-color: white;}#sk-container-id-2 div.sk-label label {font-family: monospace;font-weight: bold;display: inline-block;line-height: 1.2em;}#sk-container-id-2 div.sk-label-container {text-align: center;}#sk-container-id-2 div.sk-container {/* jupyter's `normalize.less` sets `[hidden] { display: none; }` but bootstrap.min.css set `[hidden] { display: none !important; }` so we also need the `!important` here to be able to override the default hidden behavior on the sphinx rendered scikit-learn.org. See: https://github.com/scikit-learn/scikit-learn/issues/21755 */display: inline-block !important;position: relative;}#sk-container-id-2 div.sk-text-repr-fallback {display: none;}</style><div id=\"sk-container-id-2\" class=\"sk-top-container\"><div class=\"sk-text-repr-fallback\"><pre>GridSearchCV(cv=4, estimator=RandomForestClassifier(random_state=0),\n",
       "             param_grid={&#x27;max_depth&#x27;: [3, 5, None], &#x27;max_features&#x27;: [1.0],\n",
       "                         &#x27;max_samples&#x27;: [0.7, 1.0],\n",
       "                         &#x27;min_samples_leaf&#x27;: [1, 2, 3],\n",
       "                         &#x27;min_samples_split&#x27;: [2, 3, 4],\n",
       "                         &#x27;n_estimators&#x27;: [300, 500]},\n",
       "             refit=&#x27;roc_auc&#x27;,\n",
       "             scoring={&#x27;f1&#x27;, &#x27;precision&#x27;, &#x27;roc_auc&#x27;, &#x27;accuracy&#x27;, &#x27;recall&#x27;})</pre><b>In a Jupyter environment, please rerun this cell to show the HTML representation or trust the notebook. <br />On GitHub, the HTML representation is unable to render, please try loading this page with nbviewer.org.</b></div><div class=\"sk-container\" hidden><div class=\"sk-item sk-dashed-wrapped\"><div class=\"sk-label-container\"><div class=\"sk-label sk-toggleable\"><input class=\"sk-toggleable__control sk-hidden--visually\" id=\"sk-estimator-id-4\" type=\"checkbox\" ><label for=\"sk-estimator-id-4\" class=\"sk-toggleable__label sk-toggleable__label-arrow\">GridSearchCV</label><div class=\"sk-toggleable__content\"><pre>GridSearchCV(cv=4, estimator=RandomForestClassifier(random_state=0),\n",
       "             param_grid={&#x27;max_depth&#x27;: [3, 5, None], &#x27;max_features&#x27;: [1.0],\n",
       "                         &#x27;max_samples&#x27;: [0.7, 1.0],\n",
       "                         &#x27;min_samples_leaf&#x27;: [1, 2, 3],\n",
       "                         &#x27;min_samples_split&#x27;: [2, 3, 4],\n",
       "                         &#x27;n_estimators&#x27;: [300, 500]},\n",
       "             refit=&#x27;roc_auc&#x27;,\n",
       "             scoring={&#x27;f1&#x27;, &#x27;precision&#x27;, &#x27;roc_auc&#x27;, &#x27;accuracy&#x27;, &#x27;recall&#x27;})</pre></div></div></div><div class=\"sk-parallel\"><div class=\"sk-parallel-item\"><div class=\"sk-item\"><div class=\"sk-label-container\"><div class=\"sk-label sk-toggleable\"><input class=\"sk-toggleable__control sk-hidden--visually\" id=\"sk-estimator-id-5\" type=\"checkbox\" ><label for=\"sk-estimator-id-5\" class=\"sk-toggleable__label sk-toggleable__label-arrow\">estimator: RandomForestClassifier</label><div class=\"sk-toggleable__content\"><pre>RandomForestClassifier(random_state=0)</pre></div></div></div><div class=\"sk-serial\"><div class=\"sk-item\"><div class=\"sk-estimator sk-toggleable\"><input class=\"sk-toggleable__control sk-hidden--visually\" id=\"sk-estimator-id-6\" type=\"checkbox\" ><label for=\"sk-estimator-id-6\" class=\"sk-toggleable__label sk-toggleable__label-arrow\">RandomForestClassifier</label><div class=\"sk-toggleable__content\"><pre>RandomForestClassifier(random_state=0)</pre></div></div></div></div></div></div></div></div></div></div>"
      ],
      "text/plain": [
       "GridSearchCV(cv=4, estimator=RandomForestClassifier(random_state=0),\n",
       "             param_grid={'max_depth': [3, 5, None], 'max_features': [1.0],\n",
       "                         'max_samples': [0.7, 1.0],\n",
       "                         'min_samples_leaf': [1, 2, 3],\n",
       "                         'min_samples_split': [2, 3, 4],\n",
       "                         'n_estimators': [300, 500]},\n",
       "             refit='roc_auc',\n",
       "             scoring={'f1', 'precision', 'roc_auc', 'accuracy', 'recall'})"
      ]
     },
     "execution_count": 45,
     "metadata": {},
     "output_type": "execute_result"
    }
   ],
   "source": [
    "%%time\n",
    "rf1.fit(X_train, y_train)"
   ]
  },
  {
   "cell_type": "markdown",
   "id": "364545cf",
   "metadata": {
    "papermill": {
     "duration": 0.039838,
     "end_time": "2024-11-02T12:43:46.134304",
     "exception": false,
     "start_time": "2024-11-02T12:43:46.094466",
     "status": "completed"
    },
    "tags": []
   },
   "source": [
    "Specify path to where you want to save your model."
   ]
  },
  {
   "cell_type": "code",
   "execution_count": 46,
   "id": "f5333c49",
   "metadata": {
    "execution": {
     "iopub.execute_input": "2024-11-02T12:43:46.218616Z",
     "iopub.status.busy": "2024-11-02T12:43:46.218140Z",
     "iopub.status.idle": "2024-11-02T12:43:46.224245Z",
     "shell.execute_reply": "2024-11-02T12:43:46.222759Z"
    },
    "papermill": {
     "duration": 0.052572,
     "end_time": "2024-11-02T12:43:46.227028",
     "exception": false,
     "start_time": "2024-11-02T12:43:46.174456",
     "status": "completed"
    },
    "tags": []
   },
   "outputs": [],
   "source": [
    "# Define a path to the folder where you want to save the model\n",
    "path = 'my_model.pkl'\n"
   ]
  },
  {
   "cell_type": "markdown",
   "id": "07860942",
   "metadata": {
    "papermill": {
     "duration": 0.041989,
     "end_time": "2024-11-02T12:43:46.312400",
     "exception": false,
     "start_time": "2024-11-02T12:43:46.270411",
     "status": "completed"
    },
    "tags": []
   },
   "source": [
    "Define functions to pickle the model and read in the model."
   ]
  },
  {
   "cell_type": "code",
   "execution_count": 47,
   "id": "16956a08",
   "metadata": {
    "execution": {
     "iopub.execute_input": "2024-11-02T12:43:46.396502Z",
     "iopub.status.busy": "2024-11-02T12:43:46.396006Z",
     "iopub.status.idle": "2024-11-02T12:43:46.404106Z",
     "shell.execute_reply": "2024-11-02T12:43:46.402399Z"
    },
    "papermill": {
     "duration": 0.053491,
     "end_time": "2024-11-02T12:43:46.406992",
     "exception": false,
     "start_time": "2024-11-02T12:43:46.353501",
     "status": "completed"
    },
    "tags": []
   },
   "outputs": [],
   "source": [
    "def write_pickle(path, model_object, save_as:str):\n",
    "    '''\n",
    "    In: \n",
    "        path:         path of folder where you want to save the pickle\n",
    "        model_object: a model you want to pickle\n",
    "        save_as:      filename for how you want to save the model\n",
    "\n",
    "    Out: A call to pickle the model in the folder indicated\n",
    "    '''    \n",
    "\n",
    "    with open(path + save_as + '.pickle', 'wb') as to_write:\n",
    "        pickle.dump(model_object, to_write)"
   ]
  },
  {
   "cell_type": "code",
   "execution_count": 48,
   "id": "9c47316d",
   "metadata": {
    "execution": {
     "iopub.execute_input": "2024-11-02T12:43:46.491520Z",
     "iopub.status.busy": "2024-11-02T12:43:46.490714Z",
     "iopub.status.idle": "2024-11-02T12:43:46.497959Z",
     "shell.execute_reply": "2024-11-02T12:43:46.496714Z"
    },
    "papermill": {
     "duration": 0.052896,
     "end_time": "2024-11-02T12:43:46.500702",
     "exception": false,
     "start_time": "2024-11-02T12:43:46.447806",
     "status": "completed"
    },
    "tags": []
   },
   "outputs": [],
   "source": [
    "def read_pickle(path, saved_model_name:str):\n",
    "    '''\n",
    "    In: \n",
    "        path:             path to folder where you want to read from\n",
    "        saved_model_name: filename of pickled model you want to read in\n",
    "\n",
    "    Out: \n",
    "        model: the pickled model \n",
    "    '''\n",
    "    with open(path + saved_model_name + '.pickle', 'rb') as to_read:\n",
    "        model = pickle.load(to_read)\n",
    "\n",
    "    return model"
   ]
  },
  {
   "cell_type": "code",
   "execution_count": 49,
   "id": "6ab64196",
   "metadata": {
    "execution": {
     "iopub.execute_input": "2024-11-02T12:43:46.589391Z",
     "iopub.status.busy": "2024-11-02T12:43:46.588927Z",
     "iopub.status.idle": "2024-11-02T12:43:46.649973Z",
     "shell.execute_reply": "2024-11-02T12:43:46.648650Z"
    },
    "papermill": {
     "duration": 0.108037,
     "end_time": "2024-11-02T12:43:46.653004",
     "exception": false,
     "start_time": "2024-11-02T12:43:46.544967",
     "status": "completed"
    },
    "tags": []
   },
   "outputs": [],
   "source": [
    "# Write pickle\n",
    "write_pickle(path, rf1, 'hr_rf1')\n",
    "# Read pickle\n",
    "rf1 = read_pickle(path, 'hr_rf1')"
   ]
  },
  {
   "cell_type": "markdown",
   "id": "657ac05f",
   "metadata": {
    "papermill": {
     "duration": 0.040207,
     "end_time": "2024-11-02T12:43:46.734133",
     "exception": false,
     "start_time": "2024-11-02T12:43:46.693926",
     "status": "completed"
    },
    "tags": []
   },
   "source": [
    "Identify the best AUC score achieved by the random forest model on the training set."
   ]
  },
  {
   "cell_type": "code",
   "execution_count": 50,
   "id": "5c903dcd",
   "metadata": {
    "execution": {
     "iopub.execute_input": "2024-11-02T12:43:46.818573Z",
     "iopub.status.busy": "2024-11-02T12:43:46.818128Z",
     "iopub.status.idle": "2024-11-02T12:43:46.826173Z",
     "shell.execute_reply": "2024-11-02T12:43:46.824862Z"
    },
    "papermill": {
     "duration": 0.05303,
     "end_time": "2024-11-02T12:43:46.828896",
     "exception": false,
     "start_time": "2024-11-02T12:43:46.775866",
     "status": "completed"
    },
    "tags": []
   },
   "outputs": [
    {
     "data": {
      "text/plain": [
       "0.967083006022519"
      ]
     },
     "execution_count": 50,
     "metadata": {},
     "output_type": "execute_result"
    }
   ],
   "source": [
    "# Check best AUC score on CV\n",
    "rf1.best_score_"
   ]
  },
  {
   "cell_type": "markdown",
   "id": "c47712a5",
   "metadata": {
    "papermill": {
     "duration": 0.040462,
     "end_time": "2024-11-02T12:43:46.910253",
     "exception": false,
     "start_time": "2024-11-02T12:43:46.869791",
     "status": "completed"
    },
    "tags": []
   },
   "source": [
    "Identify the optimal values for the parameters of the random forest model."
   ]
  },
  {
   "cell_type": "code",
   "execution_count": 51,
   "id": "0b10b909",
   "metadata": {
    "execution": {
     "iopub.execute_input": "2024-11-02T12:43:46.999368Z",
     "iopub.status.busy": "2024-11-02T12:43:46.998905Z",
     "iopub.status.idle": "2024-11-02T12:43:47.007509Z",
     "shell.execute_reply": "2024-11-02T12:43:47.006121Z"
    },
    "papermill": {
     "duration": 0.05659,
     "end_time": "2024-11-02T12:43:47.010545",
     "exception": false,
     "start_time": "2024-11-02T12:43:46.953955",
     "status": "completed"
    },
    "tags": []
   },
   "outputs": [
    {
     "data": {
      "text/plain": [
       "{'max_depth': 5,\n",
       " 'max_features': 1.0,\n",
       " 'max_samples': 0.7,\n",
       " 'min_samples_leaf': 1,\n",
       " 'min_samples_split': 3,\n",
       " 'n_estimators': 500}"
      ]
     },
     "execution_count": 51,
     "metadata": {},
     "output_type": "execute_result"
    }
   ],
   "source": [
    "# Check best params\n",
    "rf1.best_params_"
   ]
  },
  {
   "cell_type": "code",
   "execution_count": 52,
   "id": "2c7cc3dd",
   "metadata": {
    "execution": {
     "iopub.execute_input": "2024-11-02T12:43:47.103717Z",
     "iopub.status.busy": "2024-11-02T12:43:47.102998Z",
     "iopub.status.idle": "2024-11-02T12:43:47.128002Z",
     "shell.execute_reply": "2024-11-02T12:43:47.126362Z"
    },
    "papermill": {
     "duration": 0.079266,
     "end_time": "2024-11-02T12:43:47.131785",
     "exception": false,
     "start_time": "2024-11-02T12:43:47.052519",
     "status": "completed"
    },
    "tags": []
   },
   "outputs": [
    {
     "name": "stdout",
     "output_type": "stream",
     "text": [
      "              model  precision    recall        F1  accuracy      auc\n",
      "0  decision tree cv   0.891388  0.886842  0.879232  0.969271  0.94491\n",
      "              model  precision    recall        F1  accuracy       auc\n",
      "0  random forest cv   0.929233  0.911842  0.916622  0.978969  0.967083\n"
     ]
    }
   ],
   "source": [
    "# Get all CV scores\n",
    "rf1_cv_results = make_results('random forest cv', rf1, 'auc')\n",
    "print(tree1_cv_results)\n",
    "print(rf1_cv_results)"
   ]
  },
  {
   "cell_type": "markdown",
   "id": "b3bbebb9",
   "metadata": {
    "papermill": {
     "duration": 0.040946,
     "end_time": "2024-11-02T12:43:47.224392",
     "exception": false,
     "start_time": "2024-11-02T12:43:47.183446",
     "status": "completed"
    },
    "tags": []
   },
   "source": [
    "The evaluation scores of the random forest model are better than those of the decision tree model, with the exception of recall. \n",
    "This indicates that the random forest model mostly outperforms the decision tree model.\n",
    "\n",
    "\n",
    "Defining the function to get all the scores from a model's predictions."
   ]
  },
  {
   "cell_type": "code",
   "execution_count": 53,
   "id": "4ad375ea",
   "metadata": {
    "execution": {
     "iopub.execute_input": "2024-11-02T12:43:47.311684Z",
     "iopub.status.busy": "2024-11-02T12:43:47.311204Z",
     "iopub.status.idle": "2024-11-02T12:43:47.320290Z",
     "shell.execute_reply": "2024-11-02T12:43:47.319086Z"
    },
    "papermill": {
     "duration": 0.055069,
     "end_time": "2024-11-02T12:43:47.322937",
     "exception": false,
     "start_time": "2024-11-02T12:43:47.267868",
     "status": "completed"
    },
    "tags": []
   },
   "outputs": [],
   "source": [
    "def get_scores(model_name:str, model, X_test_data, y_test_data):\n",
    "    '''\n",
    "    Generate a table of test scores.\n",
    "\n",
    "    In: \n",
    "        model_name (string):  How you want your model to be named in the output table\n",
    "        model:                A fit GridSearchCV object\n",
    "        X_test_data:          numpy array of X_test data\n",
    "        y_test_data:          numpy array of y_test data\n",
    "\n",
    "    Out: pandas df of precision, recall, f1, accuracy, and AUC scores for your model\n",
    "    '''\n",
    "\n",
    "    preds = model.best_estimator_.predict(X_test_data)\n",
    "\n",
    "    auc = roc_auc_score(y_test_data, preds)\n",
    "    accuracy = accuracy_score(y_test_data, preds)\n",
    "    precision = precision_score(y_test_data, preds)\n",
    "    recall = recall_score(y_test_data, preds)\n",
    "    f1 = f1_score(y_test_data, preds)\n",
    "\n",
    "    table = pd.DataFrame({'model': [model_name],\n",
    "                          'precision': [precision], \n",
    "                          'recall': [recall],\n",
    "                          'f1': [f1],\n",
    "                          'accuracy': [accuracy],\n",
    "                          'AUC': [auc]\n",
    "                         })\n",
    "  \n",
    "    return table"
   ]
  },
  {
   "cell_type": "code",
   "execution_count": 54,
   "id": "2f6b1049",
   "metadata": {
    "execution": {
     "iopub.execute_input": "2024-11-02T12:43:47.408236Z",
     "iopub.status.busy": "2024-11-02T12:43:47.407764Z",
     "iopub.status.idle": "2024-11-02T12:43:47.480498Z",
     "shell.execute_reply": "2024-11-02T12:43:47.479103Z"
    },
    "papermill": {
     "duration": 0.118774,
     "end_time": "2024-11-02T12:43:47.483371",
     "exception": false,
     "start_time": "2024-11-02T12:43:47.364597",
     "status": "completed"
    },
    "tags": []
   },
   "outputs": [
    {
     "data": {
      "text/html": [
       "<div>\n",
       "<style scoped>\n",
       "    .dataframe tbody tr th:only-of-type {\n",
       "        vertical-align: middle;\n",
       "    }\n",
       "\n",
       "    .dataframe tbody tr th {\n",
       "        vertical-align: top;\n",
       "    }\n",
       "\n",
       "    .dataframe thead th {\n",
       "        text-align: right;\n",
       "    }\n",
       "</style>\n",
       "<table border=\"1\" class=\"dataframe\">\n",
       "  <thead>\n",
       "    <tr style=\"text-align: right;\">\n",
       "      <th></th>\n",
       "      <th>model</th>\n",
       "      <th>precision</th>\n",
       "      <th>recall</th>\n",
       "      <th>f1</th>\n",
       "      <th>accuracy</th>\n",
       "      <th>AUC</th>\n",
       "    </tr>\n",
       "  </thead>\n",
       "  <tbody>\n",
       "    <tr>\n",
       "      <th>0</th>\n",
       "      <td>random forest1 test</td>\n",
       "      <td>0.848485</td>\n",
       "      <td>0.933333</td>\n",
       "      <td>0.888889</td>\n",
       "      <td>0.966019</td>\n",
       "      <td>0.952462</td>\n",
       "    </tr>\n",
       "  </tbody>\n",
       "</table>\n",
       "</div>"
      ],
      "text/plain": [
       "                 model  precision    recall        f1  accuracy       AUC\n",
       "0  random forest1 test   0.848485  0.933333  0.888889  0.966019  0.952462"
      ]
     },
     "execution_count": 54,
     "metadata": {},
     "output_type": "execute_result"
    }
   ],
   "source": [
    "# Get predictions on test data\n",
    "rf1_test_scores = get_scores('random forest1 test', rf1, X_test, y_test)\n",
    "rf1_test_scores"
   ]
  }
 ],
 "metadata": {
  "kaggle": {
   "accelerator": "none",
   "dataSources": [
    {
     "datasetId": 1409252,
     "sourceId": 2334549,
     "sourceType": "datasetVersion"
    }
   ],
   "dockerImageVersionId": 30786,
   "isGpuEnabled": false,
   "isInternetEnabled": true,
   "language": "python",
   "sourceType": "notebook"
  },
  "kernelspec": {
   "display_name": "Python 3",
   "language": "python",
   "name": "python3"
  },
  "language_info": {
   "codemirror_mode": {
    "name": "ipython",
    "version": 3
   },
   "file_extension": ".py",
   "mimetype": "text/x-python",
   "name": "python",
   "nbconvert_exporter": "python",
   "pygments_lexer": "ipython3",
   "version": "3.10.14"
  },
  "papermill": {
   "default_parameters": {},
   "duration": 520.571448,
   "end_time": "2024-11-02T12:43:48.349752",
   "environment_variables": {},
   "exception": null,
   "input_path": "__notebook__.ipynb",
   "output_path": "__notebook__.ipynb",
   "parameters": {},
   "start_time": "2024-11-02T12:35:07.778304",
   "version": "2.6.0"
  }
 },
 "nbformat": 4,
 "nbformat_minor": 5
}
