{
 "cells": [
  {
   "cell_type": "markdown",
   "id": "95bd4814",
   "metadata": {
    "papermill": {
     "duration": 0.006294,
     "end_time": "2024-10-28T17:56:21.462838",
     "exception": false,
     "start_time": "2024-10-28T17:56:21.456544",
     "status": "completed"
    },
    "tags": []
   },
   "source": [
    "## Understanding the Project Scenario\n",
    "\n",
    "**Problem Statement:**\n",
    "Salifort Motors is facing a high employee turnover rate, leading to increased costs and decreased productivity. The leadership team seeks to understand the underlying factors contributing to turnover and develop strategies to improve retention.\n",
    "\n",
    "**Objective:**\n",
    "To build a predictive model that can accurately predict whether an employee will leave the company based on various factors such as job title, department, number of projects, average monthly hours, and other relevant data points.\n",
    "\n",
    "**Data:**\n",
    "* Employee survey data: Likely includes demographic information, job satisfaction, work-life balance, compensation, etc.\n",
    "* Relevant variables: Consider factors like department, number of projects, average monthly hours, tenure, and potentially others.\n",
    "\n",
    "**Model Approach:**\n",
    "* **Statistical Model:** Logistic regression could be a suitable choice due to its ability to handle binary outcomes (leave or stay).\n",
    "* **Machine Learning Models:** Decision trees, random forests, and XGBoost are potential candidates for their ability to handle complex relationships and potentially improve predictive accuracy.\n",
    "\n",
    "**Evaluation:**\n",
    "* Use appropriate metrics such as accuracy, precision, recall, F1-score, and AUC-ROC to assess the model's performance.\n",
    "\n",
    "**Recommendations:**\n",
    "* Based on the model's findings, identify key factors driving turnover.\n",
    "* Propose strategies to address these factors and improve employee retention.\n",
    "\n",
    "By following these steps, I can effectively address the employee turnover issue at Salifort Motors and contribute to the company's success.\n"
   ]
  },
  {
   "cell_type": "markdown",
   "id": "2e53c396",
   "metadata": {
    "papermill": {
     "duration": 0.004782,
     "end_time": "2024-10-28T17:56:21.473018",
     "exception": false,
     "start_time": "2024-10-28T17:56:21.468236",
     "status": "completed"
    },
    "tags": []
   },
   "source": [
    "## PACE Strategy Table for the Salifort Motors Project\n",
    "\n",
    "| Milestone | Task | PACE Stage |\n",
    "|---|---|---|\n",
    "| **Data Acquisition and Exploration** | Collect employee survey data | Plan |\n",
    "| | Clean and preprocess data | Do |\n",
    "| | Explore data relationships and distributions | Check |\n",
    "| | Identify relevant variables | Act |\n",
    "| **Model Development and Selection** | Build logistic regression model | Plan |\n",
    "| | Build decision tree, random forest, and XGBoost models | Do |\n",
    "| | Evaluate model performance using appropriate metrics | Check |\n",
    "| | Select the best-performing model | Act |\n",
    "| **Model Interpretation and Insights** | Analyze model coefficients or feature importance | Plan |\n",
    "| | Identify key factors driving turnover | Do |\n",
    "| | Generate actionable recommendations | Check |\n",
    "| | Communicate findings to leadership | Act |\n",
    "| **Model Deployment and Monitoring** | Deploy model into production environment | Plan |\n",
    "| | Monitor model performance and retrain as needed | Do |\n",
    "| | Continuously evaluate and refine the model | Check |\n",
    "| | Provide ongoing insights to leadership | Act |\n",
    "\n"
   ]
  },
  {
   "cell_type": "markdown",
   "id": "e2c9c244",
   "metadata": {
    "papermill": {
     "duration": 0.004802,
     "end_time": "2024-10-28T17:56:21.483022",
     "exception": false,
     "start_time": "2024-10-28T17:56:21.478220",
     "status": "completed"
    },
    "tags": []
   },
   "source": [
    "Step 1. Imports\n",
    "Import packages\n",
    "Load dataset## Analyzing the Salifort Motors Employee Data\n",
    "\n",
    "### Data Understanding\n",
    "\n",
    "**Dataset:** HR_capstone_dataset.csv\n",
    "\n",
    "**Rows:** 14,999 (representing individual employees)\n",
    "\n",
    "**Columns:** 10 (containing various employee attributes)\n",
    "\n",
    "**Column Descriptions:**\n",
    "\n",
    "| Column Name | Type | Description |\n",
    "|---|---|---|\n",
    "| satisfaction_level | int64 | Self-reported satisfaction level (0-1) |\n",
    "| last_evaluation | int64 | Score of last performance review (0-1) |\n",
    "| number_project | int64 | Number of projects contributed to |\n",
    "| average_monthly_hours | int64 | Average monthly working hours |\n",
    "| time_spend_company | int64 | Years with the company |\n",
    "| work_accident | int64 | Whether an accident occurred |\n",
    "| left | int64 | Whether the employee left the company |\n",
    "| promotion_last_5years | int64 | Whether promoted in the last 5 years |\n",
    "| department | str | Employee's department |\n",
    "| salary | str | Salary level (low, medium, high) |\n",
    "\n",
    "### Initial Observations\n",
    "\n",
    "* **Target Variable:** `left` (binary indicating employee attrition)\n",
    "* **Predictor Variables:** `satisfaction_level`, `last_evaluation`, `number_project`, `average_monthly_hours`, `time_spend_company`, `work_accident`, `promotion_last_5years`, `department`, and `salary`\n",
    "* **Data Types:** Most variables are numerical (int64), while `department` and `salary` are categorical.\n",
    "\n",
    "### Potential Relationships and Hypotheses\n",
    "\n",
    "Based on the data, we can explore the following relationships and hypotheses:\n",
    "\n",
    "* **Satisfaction and Attrition:** Employees with lower satisfaction levels may be more likely to leave.\n",
    "* **Performance and Attrition:** Employees with poor performance reviews or excessive workload might be more likely to leave.\n",
    "* **Tenure and Attrition:** Employees with shorter tenures may be more likely to leave due to lack of commitment or fit.\n",
    "* **Promotions and Attrition:** Employees who feel undervalued or lack opportunities for growth may be more likely to leave.\n",
    "* **Work-Life Balance and Attrition:** Employees with excessive working hours or poor work-life balance may be more likely to leave.\n",
    "* **Department and Attrition:** Certain departments or roles might have higher turnover rates.\n",
    "* **Salary and Attrition:** Employees who feel underpaid or dissatisfied with their compensation may be more likely to leave.\n",
    "\n",
    "### Next Steps\n",
    "\n",
    "1. **Data Cleaning and Preprocessing:**\n",
    "   * Handle missing values (if any).\n",
    "   * Check for outliers and inconsistencies.\n",
    "   * Convert categorical variables (department, salary) to numerical format (e.g., one-hot encoding).\n",
    "\n",
    "2. **Exploratory Data Analysis (EDA):**\n",
    "   * Visualize the distribution of variables (histograms, box plots).\n",
    "   * Calculate summary statistics (mean, median, mode, standard deviation).\n",
    "   * Explore correlations between variables.\n",
    "\n",
    "3. **Feature Engineering:**\n",
    "   * Consider creating new features based on existing variables (e.g., calculate a work-life balance index).\n",
    "\n",
    "4. **Model Building and Evaluation:**\n",
    "   * Build and evaluate various models (logistic regression, decision trees, random forests, XGBoost).\n",
    "   * Use appropriate metrics (accuracy, precision, recall, F1-score, AUC-ROC) to assess model performance.\n",
    "\n",
    "5. **Interpretation and Recommendations:**\n",
    "   * Analyze the model's results to identify key factors influencing attrition.\n",
    "   * Provide actionable recommendations to improve employee retention.\n",
    "\n"
   ]
  },
  {
   "cell_type": "markdown",
   "id": "d7ae84b4",
   "metadata": {
    "papermill": {
     "duration": 0.004762,
     "end_time": "2024-10-28T17:56:21.493064",
     "exception": false,
     "start_time": "2024-10-28T17:56:21.488302",
     "status": "completed"
    },
    "tags": []
   },
   "source": [
    "## Step 1. Imports\n",
    "\n",
    "*   Import packages\n",
    "*   Load dataset"
   ]
  },
  {
   "cell_type": "markdown",
   "id": "a7091605",
   "metadata": {
    "papermill": {
     "duration": 0.004885,
     "end_time": "2024-10-28T17:56:21.502947",
     "exception": false,
     "start_time": "2024-10-28T17:56:21.498062",
     "status": "completed"
    },
    "tags": []
   },
   "source": [
    "### Import packages"
   ]
  },
  {
   "cell_type": "code",
   "execution_count": 1,
   "id": "c39a31a5",
   "metadata": {
    "execution": {
     "iopub.execute_input": "2024-10-28T17:56:21.515511Z",
     "iopub.status.busy": "2024-10-28T17:56:21.515083Z",
     "iopub.status.idle": "2024-10-28T17:56:24.306023Z",
     "shell.execute_reply": "2024-10-28T17:56:24.304860Z"
    },
    "papermill": {
     "duration": 2.800876,
     "end_time": "2024-10-28T17:56:24.308728",
     "exception": false,
     "start_time": "2024-10-28T17:56:21.507852",
     "status": "completed"
    },
    "tags": []
   },
   "outputs": [],
   "source": [
    "import pandas as pd\n",
    "import numpy as np\n",
    "import matplotlib.pyplot as plt\n",
    "import seaborn as sns\n",
    "from sklearn.model_selection import train_test_split\n",
    "from sklearn.preprocessing import LabelEncoder\n",
    "from sklearn.linear_model import LogisticRegression\n",
    "from sklearn.tree import DecisionTreeClassifier\n",
    "from sklearn.ensemble import RandomForestClassifier\n",
    "from xgboost import XGBClassifier\n",
    "from sklearn.metrics import accuracy_score, precision_score, recall_score, f1_score, roc_auc_score### Load dataset"
   ]
  },
  {
   "cell_type": "markdown",
   "id": "4f73a9ba",
   "metadata": {
    "papermill": {
     "duration": 0.004915,
     "end_time": "2024-10-28T17:56:24.318928",
     "exception": false,
     "start_time": "2024-10-28T17:56:24.314013",
     "status": "completed"
    },
    "tags": []
   },
   "source": [
    "### Load dataset"
   ]
  },
  {
   "cell_type": "code",
   "execution_count": 2,
   "id": "b7f7e416",
   "metadata": {
    "execution": {
     "iopub.execute_input": "2024-10-28T17:56:24.330629Z",
     "iopub.status.busy": "2024-10-28T17:56:24.330102Z",
     "iopub.status.idle": "2024-10-28T17:56:24.387956Z",
     "shell.execute_reply": "2024-10-28T17:56:24.386803Z"
    },
    "papermill": {
     "duration": 0.066288,
     "end_time": "2024-10-28T17:56:24.390248",
     "exception": false,
     "start_time": "2024-10-28T17:56:24.323960",
     "status": "completed"
    },
    "tags": []
   },
   "outputs": [
    {
     "data": {
      "text/html": [
       "<div>\n",
       "<style scoped>\n",
       "    .dataframe tbody tr th:only-of-type {\n",
       "        vertical-align: middle;\n",
       "    }\n",
       "\n",
       "    .dataframe tbody tr th {\n",
       "        vertical-align: top;\n",
       "    }\n",
       "\n",
       "    .dataframe thead th {\n",
       "        text-align: right;\n",
       "    }\n",
       "</style>\n",
       "<table border=\"1\" class=\"dataframe\">\n",
       "  <thead>\n",
       "    <tr style=\"text-align: right;\">\n",
       "      <th></th>\n",
       "      <th>satisfaction_level</th>\n",
       "      <th>last_evaluation</th>\n",
       "      <th>number_project</th>\n",
       "      <th>average_montly_hours</th>\n",
       "      <th>time_spend_company</th>\n",
       "      <th>Work_accident</th>\n",
       "      <th>left</th>\n",
       "      <th>promotion_last_5years</th>\n",
       "      <th>Department</th>\n",
       "      <th>salary</th>\n",
       "    </tr>\n",
       "  </thead>\n",
       "  <tbody>\n",
       "    <tr>\n",
       "      <th>0</th>\n",
       "      <td>0.38</td>\n",
       "      <td>0.53</td>\n",
       "      <td>2</td>\n",
       "      <td>157</td>\n",
       "      <td>3</td>\n",
       "      <td>0</td>\n",
       "      <td>1</td>\n",
       "      <td>0</td>\n",
       "      <td>sales</td>\n",
       "      <td>low</td>\n",
       "    </tr>\n",
       "    <tr>\n",
       "      <th>1</th>\n",
       "      <td>0.80</td>\n",
       "      <td>0.86</td>\n",
       "      <td>5</td>\n",
       "      <td>262</td>\n",
       "      <td>6</td>\n",
       "      <td>0</td>\n",
       "      <td>1</td>\n",
       "      <td>0</td>\n",
       "      <td>sales</td>\n",
       "      <td>medium</td>\n",
       "    </tr>\n",
       "    <tr>\n",
       "      <th>2</th>\n",
       "      <td>0.11</td>\n",
       "      <td>0.88</td>\n",
       "      <td>7</td>\n",
       "      <td>272</td>\n",
       "      <td>4</td>\n",
       "      <td>0</td>\n",
       "      <td>1</td>\n",
       "      <td>0</td>\n",
       "      <td>sales</td>\n",
       "      <td>medium</td>\n",
       "    </tr>\n",
       "    <tr>\n",
       "      <th>3</th>\n",
       "      <td>0.72</td>\n",
       "      <td>0.87</td>\n",
       "      <td>5</td>\n",
       "      <td>223</td>\n",
       "      <td>5</td>\n",
       "      <td>0</td>\n",
       "      <td>1</td>\n",
       "      <td>0</td>\n",
       "      <td>sales</td>\n",
       "      <td>low</td>\n",
       "    </tr>\n",
       "    <tr>\n",
       "      <th>4</th>\n",
       "      <td>0.37</td>\n",
       "      <td>0.52</td>\n",
       "      <td>2</td>\n",
       "      <td>159</td>\n",
       "      <td>3</td>\n",
       "      <td>0</td>\n",
       "      <td>1</td>\n",
       "      <td>0</td>\n",
       "      <td>sales</td>\n",
       "      <td>low</td>\n",
       "    </tr>\n",
       "  </tbody>\n",
       "</table>\n",
       "</div>"
      ],
      "text/plain": [
       "   satisfaction_level  last_evaluation  number_project  average_montly_hours  \\\n",
       "0                0.38             0.53               2                   157   \n",
       "1                0.80             0.86               5                   262   \n",
       "2                0.11             0.88               7                   272   \n",
       "3                0.72             0.87               5                   223   \n",
       "4                0.37             0.52               2                   159   \n",
       "\n",
       "   time_spend_company  Work_accident  left  promotion_last_5years Department  \\\n",
       "0                   3              0     1                      0      sales   \n",
       "1                   6              0     1                      0      sales   \n",
       "2                   4              0     1                      0      sales   \n",
       "3                   5              0     1                      0      sales   \n",
       "4                   3              0     1                      0      sales   \n",
       "\n",
       "   salary  \n",
       "0     low  \n",
       "1  medium  \n",
       "2  medium  \n",
       "3     low  \n",
       "4     low  "
      ]
     },
     "execution_count": 2,
     "metadata": {},
     "output_type": "execute_result"
    }
   ],
   "source": [
    "# Load dataset into a dataframe\n",
    "df0 = pd.read_csv(\"/kaggle/input/hr-analytics-and-job-prediction/HR_comma_sep.csv\")\n",
    "\n",
    "# Display first few rows of the dataframe\n",
    "df0.head()"
   ]
  },
  {
   "cell_type": "markdown",
   "id": "bf7da0b1",
   "metadata": {
    "papermill": {
     "duration": 0.005101,
     "end_time": "2024-10-28T17:56:24.400832",
     "exception": false,
     "start_time": "2024-10-28T17:56:24.395731",
     "status": "completed"
    },
    "tags": []
   },
   "source": [
    "## Step 2. Data Exploration (Initial EDA and data cleaning)\n",
    "\n",
    "- Understand your variables\n",
    "- Clean your dataset (missing data, redundant data, outliers)"
   ]
  },
  {
   "cell_type": "code",
   "execution_count": 3,
   "id": "90813433",
   "metadata": {
    "execution": {
     "iopub.execute_input": "2024-10-28T17:56:24.412605Z",
     "iopub.status.busy": "2024-10-28T17:56:24.412238Z",
     "iopub.status.idle": "2024-10-28T17:56:24.419113Z",
     "shell.execute_reply": "2024-10-28T17:56:24.418042Z"
    },
    "papermill": {
     "duration": 0.015385,
     "end_time": "2024-10-28T17:56:24.421344",
     "exception": false,
     "start_time": "2024-10-28T17:56:24.405959",
     "status": "completed"
    },
    "tags": []
   },
   "outputs": [
    {
     "name": "stdout",
     "output_type": "stream",
     "text": [
      "Dataset Shape:\n"
     ]
    },
    {
     "data": {
      "text/plain": [
       "(14999, 10)"
      ]
     },
     "execution_count": 3,
     "metadata": {},
     "output_type": "execute_result"
    }
   ],
   "source": [
    "print(\"Dataset Shape:\")\n",
    "df0.shape"
   ]
  },
  {
   "cell_type": "code",
   "execution_count": 4,
   "id": "ccea7080",
   "metadata": {
    "execution": {
     "iopub.execute_input": "2024-10-28T17:56:24.433418Z",
     "iopub.status.busy": "2024-10-28T17:56:24.433083Z",
     "iopub.status.idle": "2024-10-28T17:56:24.441635Z",
     "shell.execute_reply": "2024-10-28T17:56:24.440528Z"
    },
    "papermill": {
     "duration": 0.01694,
     "end_time": "2024-10-28T17:56:24.443665",
     "exception": false,
     "start_time": "2024-10-28T17:56:24.426725",
     "status": "completed"
    },
    "tags": []
   },
   "outputs": [
    {
     "name": "stdout",
     "output_type": "stream",
     "text": [
      "\n",
      "Data Types:\n"
     ]
    },
    {
     "data": {
      "text/plain": [
       "satisfaction_level       float64\n",
       "last_evaluation          float64\n",
       "number_project             int64\n",
       "average_montly_hours       int64\n",
       "time_spend_company         int64\n",
       "Work_accident              int64\n",
       "left                       int64\n",
       "promotion_last_5years      int64\n",
       "Department                object\n",
       "salary                    object\n",
       "dtype: object"
      ]
     },
     "execution_count": 4,
     "metadata": {},
     "output_type": "execute_result"
    }
   ],
   "source": [
    "print(\"\\nData Types:\")\n",
    "df0.dtypes"
   ]
  },
  {
   "cell_type": "code",
   "execution_count": 5,
   "id": "0e863fe8",
   "metadata": {
    "execution": {
     "iopub.execute_input": "2024-10-28T17:56:24.456567Z",
     "iopub.status.busy": "2024-10-28T17:56:24.456217Z",
     "iopub.status.idle": "2024-10-28T17:56:24.491170Z",
     "shell.execute_reply": "2024-10-28T17:56:24.490207Z"
    },
    "papermill": {
     "duration": 0.043997,
     "end_time": "2024-10-28T17:56:24.493382",
     "exception": false,
     "start_time": "2024-10-28T17:56:24.449385",
     "status": "completed"
    },
    "tags": []
   },
   "outputs": [
    {
     "data": {
      "text/html": [
       "<div>\n",
       "<style scoped>\n",
       "    .dataframe tbody tr th:only-of-type {\n",
       "        vertical-align: middle;\n",
       "    }\n",
       "\n",
       "    .dataframe tbody tr th {\n",
       "        vertical-align: top;\n",
       "    }\n",
       "\n",
       "    .dataframe thead th {\n",
       "        text-align: right;\n",
       "    }\n",
       "</style>\n",
       "<table border=\"1\" class=\"dataframe\">\n",
       "  <thead>\n",
       "    <tr style=\"text-align: right;\">\n",
       "      <th></th>\n",
       "      <th>satisfaction_level</th>\n",
       "      <th>last_evaluation</th>\n",
       "      <th>number_project</th>\n",
       "      <th>average_montly_hours</th>\n",
       "      <th>time_spend_company</th>\n",
       "      <th>Work_accident</th>\n",
       "      <th>left</th>\n",
       "      <th>promotion_last_5years</th>\n",
       "    </tr>\n",
       "  </thead>\n",
       "  <tbody>\n",
       "    <tr>\n",
       "      <th>count</th>\n",
       "      <td>14999.000000</td>\n",
       "      <td>14999.000000</td>\n",
       "      <td>14999.000000</td>\n",
       "      <td>14999.000000</td>\n",
       "      <td>14999.000000</td>\n",
       "      <td>14999.000000</td>\n",
       "      <td>14999.000000</td>\n",
       "      <td>14999.000000</td>\n",
       "    </tr>\n",
       "    <tr>\n",
       "      <th>mean</th>\n",
       "      <td>0.612834</td>\n",
       "      <td>0.716102</td>\n",
       "      <td>3.803054</td>\n",
       "      <td>201.050337</td>\n",
       "      <td>3.498233</td>\n",
       "      <td>0.144610</td>\n",
       "      <td>0.238083</td>\n",
       "      <td>0.021268</td>\n",
       "    </tr>\n",
       "    <tr>\n",
       "      <th>std</th>\n",
       "      <td>0.248631</td>\n",
       "      <td>0.171169</td>\n",
       "      <td>1.232592</td>\n",
       "      <td>49.943099</td>\n",
       "      <td>1.460136</td>\n",
       "      <td>0.351719</td>\n",
       "      <td>0.425924</td>\n",
       "      <td>0.144281</td>\n",
       "    </tr>\n",
       "    <tr>\n",
       "      <th>min</th>\n",
       "      <td>0.090000</td>\n",
       "      <td>0.360000</td>\n",
       "      <td>2.000000</td>\n",
       "      <td>96.000000</td>\n",
       "      <td>2.000000</td>\n",
       "      <td>0.000000</td>\n",
       "      <td>0.000000</td>\n",
       "      <td>0.000000</td>\n",
       "    </tr>\n",
       "    <tr>\n",
       "      <th>25%</th>\n",
       "      <td>0.440000</td>\n",
       "      <td>0.560000</td>\n",
       "      <td>3.000000</td>\n",
       "      <td>156.000000</td>\n",
       "      <td>3.000000</td>\n",
       "      <td>0.000000</td>\n",
       "      <td>0.000000</td>\n",
       "      <td>0.000000</td>\n",
       "    </tr>\n",
       "    <tr>\n",
       "      <th>50%</th>\n",
       "      <td>0.640000</td>\n",
       "      <td>0.720000</td>\n",
       "      <td>4.000000</td>\n",
       "      <td>200.000000</td>\n",
       "      <td>3.000000</td>\n",
       "      <td>0.000000</td>\n",
       "      <td>0.000000</td>\n",
       "      <td>0.000000</td>\n",
       "    </tr>\n",
       "    <tr>\n",
       "      <th>75%</th>\n",
       "      <td>0.820000</td>\n",
       "      <td>0.870000</td>\n",
       "      <td>5.000000</td>\n",
       "      <td>245.000000</td>\n",
       "      <td>4.000000</td>\n",
       "      <td>0.000000</td>\n",
       "      <td>0.000000</td>\n",
       "      <td>0.000000</td>\n",
       "    </tr>\n",
       "    <tr>\n",
       "      <th>max</th>\n",
       "      <td>1.000000</td>\n",
       "      <td>1.000000</td>\n",
       "      <td>7.000000</td>\n",
       "      <td>310.000000</td>\n",
       "      <td>10.000000</td>\n",
       "      <td>1.000000</td>\n",
       "      <td>1.000000</td>\n",
       "      <td>1.000000</td>\n",
       "    </tr>\n",
       "  </tbody>\n",
       "</table>\n",
       "</div>"
      ],
      "text/plain": [
       "       satisfaction_level  last_evaluation  number_project  \\\n",
       "count        14999.000000     14999.000000    14999.000000   \n",
       "mean             0.612834         0.716102        3.803054   \n",
       "std              0.248631         0.171169        1.232592   \n",
       "min              0.090000         0.360000        2.000000   \n",
       "25%              0.440000         0.560000        3.000000   \n",
       "50%              0.640000         0.720000        4.000000   \n",
       "75%              0.820000         0.870000        5.000000   \n",
       "max              1.000000         1.000000        7.000000   \n",
       "\n",
       "       average_montly_hours  time_spend_company  Work_accident          left  \\\n",
       "count          14999.000000        14999.000000   14999.000000  14999.000000   \n",
       "mean             201.050337            3.498233       0.144610      0.238083   \n",
       "std               49.943099            1.460136       0.351719      0.425924   \n",
       "min               96.000000            2.000000       0.000000      0.000000   \n",
       "25%              156.000000            3.000000       0.000000      0.000000   \n",
       "50%              200.000000            3.000000       0.000000      0.000000   \n",
       "75%              245.000000            4.000000       0.000000      0.000000   \n",
       "max              310.000000           10.000000       1.000000      1.000000   \n",
       "\n",
       "       promotion_last_5years  \n",
       "count           14999.000000  \n",
       "mean                0.021268  \n",
       "std                 0.144281  \n",
       "min                 0.000000  \n",
       "25%                 0.000000  \n",
       "50%                 0.000000  \n",
       "75%                 0.000000  \n",
       "max                 1.000000  "
      ]
     },
     "execution_count": 5,
     "metadata": {},
     "output_type": "execute_result"
    }
   ],
   "source": [
    "# Gather descriptive statistics about the data\n",
    "df0.describe()"
   ]
  },
  {
   "cell_type": "markdown",
   "id": "645fcb1c",
   "metadata": {
    "papermill": {
     "duration": 0.005707,
     "end_time": "2024-10-28T17:56:24.505213",
     "exception": false,
     "start_time": "2024-10-28T17:56:24.499506",
     "status": "completed"
    },
    "tags": []
   },
   "source": [
    "### Rename columns"
   ]
  },
  {
   "cell_type": "code",
   "execution_count": 6,
   "id": "970f12ac",
   "metadata": {
    "execution": {
     "iopub.execute_input": "2024-10-28T17:56:24.518904Z",
     "iopub.status.busy": "2024-10-28T17:56:24.518497Z",
     "iopub.status.idle": "2024-10-28T17:56:24.524944Z",
     "shell.execute_reply": "2024-10-28T17:56:24.524057Z"
    },
    "papermill": {
     "duration": 0.015706,
     "end_time": "2024-10-28T17:56:24.526983",
     "exception": false,
     "start_time": "2024-10-28T17:56:24.511277",
     "status": "completed"
    },
    "tags": []
   },
   "outputs": [
    {
     "data": {
      "text/plain": [
       "Index(['satisfaction_level', 'last_evaluation', 'number_project',\n",
       "       'average_montly_hours', 'time_spend_company', 'Work_accident', 'left',\n",
       "       'promotion_last_5years', 'Department', 'salary'],\n",
       "      dtype='object')"
      ]
     },
     "execution_count": 6,
     "metadata": {},
     "output_type": "execute_result"
    }
   ],
   "source": [
    "# Display all column names\n",
    "df0.columns"
   ]
  },
  {
   "cell_type": "code",
   "execution_count": 7,
   "id": "c59f5437",
   "metadata": {
    "execution": {
     "iopub.execute_input": "2024-10-28T17:56:24.541008Z",
     "iopub.status.busy": "2024-10-28T17:56:24.540365Z",
     "iopub.status.idle": "2024-10-28T17:56:24.547421Z",
     "shell.execute_reply": "2024-10-28T17:56:24.546390Z"
    },
    "papermill": {
     "duration": 0.016149,
     "end_time": "2024-10-28T17:56:24.549414",
     "exception": false,
     "start_time": "2024-10-28T17:56:24.533265",
     "status": "completed"
    },
    "tags": []
   },
   "outputs": [
    {
     "name": "stdout",
     "output_type": "stream",
     "text": [
      "Index(['satisfaction', 'performance_score', 'projects', 'average_hours',\n",
      "       'time_spend_company', 'Work_accident', 'left', 'promotion',\n",
      "       'department', 'salary'],\n",
      "      dtype='object')\n"
     ]
    }
   ],
   "source": [
    "# Rename columns as needed\n",
    "df0 = df0.rename(columns={'satisfaction_level': 'satisfaction', 'last_evaluation': 'performance_score', 'number_project': 'projects',\n",
    "       'average_montly_hours': 'average_hours', 'promotion_last_5years': 'promotion', 'Department': 'department'})\n",
    "\n",
    "\n",
    "# Display all column names after the update\n",
    "print(df0.columns)"
   ]
  },
  {
   "cell_type": "markdown",
   "id": "1be60c35",
   "metadata": {
    "papermill": {
     "duration": 0.0058,
     "end_time": "2024-10-28T17:56:24.561413",
     "exception": false,
     "start_time": "2024-10-28T17:56:24.555613",
     "status": "completed"
    },
    "tags": []
   },
   "source": [
    "### Check missing values"
   ]
  },
  {
   "cell_type": "code",
   "execution_count": 8,
   "id": "14b0bead",
   "metadata": {
    "execution": {
     "iopub.execute_input": "2024-10-28T17:56:24.575068Z",
     "iopub.status.busy": "2024-10-28T17:56:24.574387Z",
     "iopub.status.idle": "2024-10-28T17:56:24.583163Z",
     "shell.execute_reply": "2024-10-28T17:56:24.582237Z"
    },
    "papermill": {
     "duration": 0.017647,
     "end_time": "2024-10-28T17:56:24.585083",
     "exception": false,
     "start_time": "2024-10-28T17:56:24.567436",
     "status": "completed"
    },
    "tags": []
   },
   "outputs": [
    {
     "data": {
      "text/plain": [
       "satisfaction          0\n",
       "performance_score     0\n",
       "projects              0\n",
       "average_hours         0\n",
       "time_spend_company    0\n",
       "Work_accident         0\n",
       "left                  0\n",
       "promotion             0\n",
       "department            0\n",
       "salary                0\n",
       "dtype: int64"
      ]
     },
     "execution_count": 8,
     "metadata": {},
     "output_type": "execute_result"
    }
   ],
   "source": [
    "# Check for missing values\n",
    "df0.isnull().sum()"
   ]
  },
  {
   "cell_type": "markdown",
   "id": "9bb12a92",
   "metadata": {
    "papermill": {
     "duration": 0.00587,
     "end_time": "2024-10-28T17:56:24.597109",
     "exception": false,
     "start_time": "2024-10-28T17:56:24.591239",
     "status": "completed"
    },
    "tags": []
   },
   "source": [
    "### Check duplicates"
   ]
  },
  {
   "cell_type": "code",
   "execution_count": 9,
   "id": "4bf14ae1",
   "metadata": {
    "execution": {
     "iopub.execute_input": "2024-10-28T17:56:24.611604Z",
     "iopub.status.busy": "2024-10-28T17:56:24.610721Z",
     "iopub.status.idle": "2024-10-28T17:56:24.627859Z",
     "shell.execute_reply": "2024-10-28T17:56:24.626808Z"
    },
    "papermill": {
     "duration": 0.026548,
     "end_time": "2024-10-28T17:56:24.629917",
     "exception": false,
     "start_time": "2024-10-28T17:56:24.603369",
     "status": "completed"
    },
    "tags": []
   },
   "outputs": [
    {
     "name": "stdout",
     "output_type": "stream",
     "text": [
      "Number of duplicates: 3008\n"
     ]
    }
   ],
   "source": [
    "# Check for duplicates\n",
    "duplicates = df0.duplicated()\n",
    "# Count the number of duplicates\n",
    "num_duplicates = duplicates.sum()\n",
    "# Print the number of duplicates\n",
    "print(\"Number of duplicates:\", num_duplicates)"
   ]
  },
  {
   "cell_type": "code",
   "execution_count": 10,
   "id": "96e8c7f6",
   "metadata": {
    "execution": {
     "iopub.execute_input": "2024-10-28T17:56:24.643831Z",
     "iopub.status.busy": "2024-10-28T17:56:24.643487Z",
     "iopub.status.idle": "2024-10-28T17:56:24.663928Z",
     "shell.execute_reply": "2024-10-28T17:56:24.662889Z"
    },
    "papermill": {
     "duration": 0.029832,
     "end_time": "2024-10-28T17:56:24.666153",
     "exception": false,
     "start_time": "2024-10-28T17:56:24.636321",
     "status": "completed"
    },
    "tags": []
   },
   "outputs": [
    {
     "data": {
      "text/html": [
       "<div>\n",
       "<style scoped>\n",
       "    .dataframe tbody tr th:only-of-type {\n",
       "        vertical-align: middle;\n",
       "    }\n",
       "\n",
       "    .dataframe tbody tr th {\n",
       "        vertical-align: top;\n",
       "    }\n",
       "\n",
       "    .dataframe thead th {\n",
       "        text-align: right;\n",
       "    }\n",
       "</style>\n",
       "<table border=\"1\" class=\"dataframe\">\n",
       "  <thead>\n",
       "    <tr style=\"text-align: right;\">\n",
       "      <th></th>\n",
       "      <th>satisfaction</th>\n",
       "      <th>performance_score</th>\n",
       "      <th>projects</th>\n",
       "      <th>average_hours</th>\n",
       "      <th>time_spend_company</th>\n",
       "      <th>Work_accident</th>\n",
       "      <th>left</th>\n",
       "      <th>promotion</th>\n",
       "      <th>department</th>\n",
       "      <th>salary</th>\n",
       "    </tr>\n",
       "  </thead>\n",
       "  <tbody>\n",
       "    <tr>\n",
       "      <th>396</th>\n",
       "      <td>0.46</td>\n",
       "      <td>0.57</td>\n",
       "      <td>2</td>\n",
       "      <td>139</td>\n",
       "      <td>3</td>\n",
       "      <td>0</td>\n",
       "      <td>1</td>\n",
       "      <td>0</td>\n",
       "      <td>sales</td>\n",
       "      <td>low</td>\n",
       "    </tr>\n",
       "    <tr>\n",
       "      <th>866</th>\n",
       "      <td>0.41</td>\n",
       "      <td>0.46</td>\n",
       "      <td>2</td>\n",
       "      <td>128</td>\n",
       "      <td>3</td>\n",
       "      <td>0</td>\n",
       "      <td>1</td>\n",
       "      <td>0</td>\n",
       "      <td>accounting</td>\n",
       "      <td>low</td>\n",
       "    </tr>\n",
       "    <tr>\n",
       "      <th>1317</th>\n",
       "      <td>0.37</td>\n",
       "      <td>0.51</td>\n",
       "      <td>2</td>\n",
       "      <td>127</td>\n",
       "      <td>3</td>\n",
       "      <td>0</td>\n",
       "      <td>1</td>\n",
       "      <td>0</td>\n",
       "      <td>sales</td>\n",
       "      <td>medium</td>\n",
       "    </tr>\n",
       "    <tr>\n",
       "      <th>1368</th>\n",
       "      <td>0.41</td>\n",
       "      <td>0.52</td>\n",
       "      <td>2</td>\n",
       "      <td>132</td>\n",
       "      <td>3</td>\n",
       "      <td>0</td>\n",
       "      <td>1</td>\n",
       "      <td>0</td>\n",
       "      <td>RandD</td>\n",
       "      <td>low</td>\n",
       "    </tr>\n",
       "    <tr>\n",
       "      <th>1461</th>\n",
       "      <td>0.42</td>\n",
       "      <td>0.53</td>\n",
       "      <td>2</td>\n",
       "      <td>142</td>\n",
       "      <td>3</td>\n",
       "      <td>0</td>\n",
       "      <td>1</td>\n",
       "      <td>0</td>\n",
       "      <td>sales</td>\n",
       "      <td>low</td>\n",
       "    </tr>\n",
       "  </tbody>\n",
       "</table>\n",
       "</div>"
      ],
      "text/plain": [
       "      satisfaction  performance_score  projects  average_hours  \\\n",
       "396           0.46               0.57         2            139   \n",
       "866           0.41               0.46         2            128   \n",
       "1317          0.37               0.51         2            127   \n",
       "1368          0.41               0.52         2            132   \n",
       "1461          0.42               0.53         2            142   \n",
       "\n",
       "      time_spend_company  Work_accident  left  promotion  department  salary  \n",
       "396                    3              0     1          0       sales     low  \n",
       "866                    3              0     1          0  accounting     low  \n",
       "1317                   3              0     1          0       sales  medium  \n",
       "1368                   3              0     1          0       RandD     low  \n",
       "1461                   3              0     1          0       sales     low  "
      ]
     },
     "execution_count": 10,
     "metadata": {},
     "output_type": "execute_result"
    }
   ],
   "source": [
    "# Inspect some rows containing duplicates as needed\n",
    "df0[df0.duplicated()].head()"
   ]
  },
  {
   "cell_type": "code",
   "execution_count": 11,
   "id": "c7da7ba8",
   "metadata": {
    "execution": {
     "iopub.execute_input": "2024-10-28T17:56:24.681251Z",
     "iopub.status.busy": "2024-10-28T17:56:24.680656Z",
     "iopub.status.idle": "2024-10-28T17:56:24.700138Z",
     "shell.execute_reply": "2024-10-28T17:56:24.698944Z"
    },
    "papermill": {
     "duration": 0.029059,
     "end_time": "2024-10-28T17:56:24.702179",
     "exception": false,
     "start_time": "2024-10-28T17:56:24.673120",
     "status": "completed"
    },
    "tags": []
   },
   "outputs": [
    {
     "name": "stdout",
     "output_type": "stream",
     "text": [
      "First few rows of the dataframe without duplicates:\n"
     ]
    },
    {
     "data": {
      "text/html": [
       "<div>\n",
       "<style scoped>\n",
       "    .dataframe tbody tr th:only-of-type {\n",
       "        vertical-align: middle;\n",
       "    }\n",
       "\n",
       "    .dataframe tbody tr th {\n",
       "        vertical-align: top;\n",
       "    }\n",
       "\n",
       "    .dataframe thead th {\n",
       "        text-align: right;\n",
       "    }\n",
       "</style>\n",
       "<table border=\"1\" class=\"dataframe\">\n",
       "  <thead>\n",
       "    <tr style=\"text-align: right;\">\n",
       "      <th></th>\n",
       "      <th>satisfaction</th>\n",
       "      <th>performance_score</th>\n",
       "      <th>projects</th>\n",
       "      <th>average_hours</th>\n",
       "      <th>time_spend_company</th>\n",
       "      <th>Work_accident</th>\n",
       "      <th>left</th>\n",
       "      <th>promotion</th>\n",
       "      <th>department</th>\n",
       "      <th>salary</th>\n",
       "    </tr>\n",
       "  </thead>\n",
       "  <tbody>\n",
       "    <tr>\n",
       "      <th>0</th>\n",
       "      <td>0.38</td>\n",
       "      <td>0.53</td>\n",
       "      <td>2</td>\n",
       "      <td>157</td>\n",
       "      <td>3</td>\n",
       "      <td>0</td>\n",
       "      <td>1</td>\n",
       "      <td>0</td>\n",
       "      <td>sales</td>\n",
       "      <td>low</td>\n",
       "    </tr>\n",
       "    <tr>\n",
       "      <th>1</th>\n",
       "      <td>0.80</td>\n",
       "      <td>0.86</td>\n",
       "      <td>5</td>\n",
       "      <td>262</td>\n",
       "      <td>6</td>\n",
       "      <td>0</td>\n",
       "      <td>1</td>\n",
       "      <td>0</td>\n",
       "      <td>sales</td>\n",
       "      <td>medium</td>\n",
       "    </tr>\n",
       "    <tr>\n",
       "      <th>2</th>\n",
       "      <td>0.11</td>\n",
       "      <td>0.88</td>\n",
       "      <td>7</td>\n",
       "      <td>272</td>\n",
       "      <td>4</td>\n",
       "      <td>0</td>\n",
       "      <td>1</td>\n",
       "      <td>0</td>\n",
       "      <td>sales</td>\n",
       "      <td>medium</td>\n",
       "    </tr>\n",
       "    <tr>\n",
       "      <th>3</th>\n",
       "      <td>0.72</td>\n",
       "      <td>0.87</td>\n",
       "      <td>5</td>\n",
       "      <td>223</td>\n",
       "      <td>5</td>\n",
       "      <td>0</td>\n",
       "      <td>1</td>\n",
       "      <td>0</td>\n",
       "      <td>sales</td>\n",
       "      <td>low</td>\n",
       "    </tr>\n",
       "    <tr>\n",
       "      <th>4</th>\n",
       "      <td>0.37</td>\n",
       "      <td>0.52</td>\n",
       "      <td>2</td>\n",
       "      <td>159</td>\n",
       "      <td>3</td>\n",
       "      <td>0</td>\n",
       "      <td>1</td>\n",
       "      <td>0</td>\n",
       "      <td>sales</td>\n",
       "      <td>low</td>\n",
       "    </tr>\n",
       "  </tbody>\n",
       "</table>\n",
       "</div>"
      ],
      "text/plain": [
       "   satisfaction  performance_score  projects  average_hours  \\\n",
       "0          0.38               0.53         2            157   \n",
       "1          0.80               0.86         5            262   \n",
       "2          0.11               0.88         7            272   \n",
       "3          0.72               0.87         5            223   \n",
       "4          0.37               0.52         2            159   \n",
       "\n",
       "   time_spend_company  Work_accident  left  promotion department  salary  \n",
       "0                   3              0     1          0      sales     low  \n",
       "1                   6              0     1          0      sales  medium  \n",
       "2                   4              0     1          0      sales  medium  \n",
       "3                   5              0     1          0      sales     low  \n",
       "4                   3              0     1          0      sales     low  "
      ]
     },
     "execution_count": 11,
     "metadata": {},
     "output_type": "execute_result"
    }
   ],
   "source": [
    "# Drop duplicates and save resulting dataframe in a new variable as needed\n",
    "df0_no_duplicates = df0.drop_duplicates(keep='first')\n",
    "\n",
    "# Display first few rows of new dataframe as needed\n",
    "print(\"First few rows of the dataframe without duplicates:\")\n",
    "df0_no_duplicates.head()"
   ]
  },
  {
   "cell_type": "code",
   "execution_count": 12,
   "id": "1d8eb89c",
   "metadata": {
    "execution": {
     "iopub.execute_input": "2024-10-28T17:56:24.717386Z",
     "iopub.status.busy": "2024-10-28T17:56:24.716702Z",
     "iopub.status.idle": "2024-10-28T17:56:24.723314Z",
     "shell.execute_reply": "2024-10-28T17:56:24.722387Z"
    },
    "papermill": {
     "duration": 0.016421,
     "end_time": "2024-10-28T17:56:24.725334",
     "exception": false,
     "start_time": "2024-10-28T17:56:24.708913",
     "status": "completed"
    },
    "tags": []
   },
   "outputs": [
    {
     "name": "stdout",
     "output_type": "stream",
     "text": [
      "Dataset Shape with duplicates:\n"
     ]
    },
    {
     "data": {
      "text/plain": [
       "(14999, 10)"
      ]
     },
     "execution_count": 12,
     "metadata": {},
     "output_type": "execute_result"
    }
   ],
   "source": [
    "print(\"Dataset Shape with duplicates:\")\n",
    "df0.shape"
   ]
  },
  {
   "cell_type": "code",
   "execution_count": 13,
   "id": "ea49e796",
   "metadata": {
    "execution": {
     "iopub.execute_input": "2024-10-28T17:56:24.740692Z",
     "iopub.status.busy": "2024-10-28T17:56:24.739935Z",
     "iopub.status.idle": "2024-10-28T17:56:24.746565Z",
     "shell.execute_reply": "2024-10-28T17:56:24.745594Z"
    },
    "papermill": {
     "duration": 0.01622,
     "end_time": "2024-10-28T17:56:24.748510",
     "exception": false,
     "start_time": "2024-10-28T17:56:24.732290",
     "status": "completed"
    },
    "tags": []
   },
   "outputs": [
    {
     "name": "stdout",
     "output_type": "stream",
     "text": [
      "Dataset Shape with no duplicates:\n"
     ]
    },
    {
     "data": {
      "text/plain": [
       "(11991, 10)"
      ]
     },
     "execution_count": 13,
     "metadata": {},
     "output_type": "execute_result"
    }
   ],
   "source": [
    "print(\"Dataset Shape with no duplicates:\")\n",
    "df0_no_duplicates.shape"
   ]
  },
  {
   "cell_type": "markdown",
   "id": "df53c19a",
   "metadata": {
    "papermill": {
     "duration": 0.006754,
     "end_time": "2024-10-28T17:56:24.762267",
     "exception": false,
     "start_time": "2024-10-28T17:56:24.755513",
     "status": "completed"
    },
    "tags": []
   },
   "source": [
    "3,008 rows contain duplicates. That is 20% of the data."
   ]
  },
  {
   "cell_type": "markdown",
   "id": "b6bc9e37",
   "metadata": {
    "papermill": {
     "duration": 0.007183,
     "end_time": "2024-10-28T17:56:24.776833",
     "exception": false,
     "start_time": "2024-10-28T17:56:24.769650",
     "status": "completed"
    },
    "tags": []
   },
   "source": [
    "### Check outliers"
   ]
  }
 ],
 "metadata": {
  "kaggle": {
   "accelerator": "none",
   "dataSources": [
    {
     "datasetId": 1409252,
     "sourceId": 2334549,
     "sourceType": "datasetVersion"
    }
   ],
   "dockerImageVersionId": 30786,
   "isGpuEnabled": false,
   "isInternetEnabled": true,
   "language": "python",
   "sourceType": "notebook"
  },
  "kernelspec": {
   "display_name": "Python 3",
   "language": "python",
   "name": "python3"
  },
  "language_info": {
   "codemirror_mode": {
    "name": "ipython",
    "version": 3
   },
   "file_extension": ".py",
   "mimetype": "text/x-python",
   "name": "python",
   "nbconvert_exporter": "python",
   "pygments_lexer": "ipython3",
   "version": "3.10.14"
  },
  "papermill": {
   "default_parameters": {},
   "duration": 6.371268,
   "end_time": "2024-10-28T17:56:25.403852",
   "environment_variables": {},
   "exception": null,
   "input_path": "__notebook__.ipynb",
   "output_path": "__notebook__.ipynb",
   "parameters": {},
   "start_time": "2024-10-28T17:56:19.032584",
   "version": "2.6.0"
  }
 },
 "nbformat": 4,
 "nbformat_minor": 5
}
