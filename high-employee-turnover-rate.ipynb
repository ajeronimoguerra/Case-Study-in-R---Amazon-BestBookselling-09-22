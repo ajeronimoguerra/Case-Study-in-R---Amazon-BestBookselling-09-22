{
 "cells": [
  {
   "cell_type": "markdown",
   "id": "4bdc5295",
   "metadata": {
    "papermill": {
     "duration": 0.012611,
     "end_time": "2024-10-28T18:15:23.178207",
     "exception": false,
     "start_time": "2024-10-28T18:15:23.165596",
     "status": "completed"
    },
    "tags": []
   },
   "source": [
    "## Understanding the Project Scenario\n",
    "\n",
    "**Problem Statement:**\n",
    "Salifort Motors is facing a high employee turnover rate, leading to increased costs and decreased productivity. The leadership team seeks to understand the underlying factors contributing to turnover and develop strategies to improve retention.\n",
    "\n",
    "**Objective:**\n",
    "To build a predictive model that can accurately predict whether an employee will leave the company based on various factors such as job title, department, number of projects, average monthly hours, and other relevant data points.\n",
    "\n",
    "**Data:**\n",
    "* Employee survey data: Likely includes demographic information, job satisfaction, work-life balance, compensation, etc.\n",
    "* Relevant variables: Consider factors like department, number of projects, average monthly hours, tenure, and potentially others.\n",
    "\n",
    "**Model Approach:**\n",
    "* **Statistical Model:** Logistic regression could be a suitable choice due to its ability to handle binary outcomes (leave or stay).\n",
    "* **Machine Learning Models:** Decision trees, random forests, and XGBoost are potential candidates for their ability to handle complex relationships and potentially improve predictive accuracy.\n",
    "\n",
    "**Evaluation:**\n",
    "* Use appropriate metrics such as accuracy, precision, recall, F1-score, and AUC-ROC to assess the model's performance.\n",
    "\n",
    "**Recommendations:**\n",
    "* Based on the model's findings, identify key factors driving turnover.\n",
    "* Propose strategies to address these factors and improve employee retention.\n",
    "\n",
    "By following these steps, I can effectively address the employee turnover issue at Salifort Motors and contribute to the company's success.\n"
   ]
  },
  {
   "cell_type": "markdown",
   "id": "0186305d",
   "metadata": {
    "papermill": {
     "duration": 0.011216,
     "end_time": "2024-10-28T18:15:23.201561",
     "exception": false,
     "start_time": "2024-10-28T18:15:23.190345",
     "status": "completed"
    },
    "tags": []
   },
   "source": [
    "## PACE Strategy Table for the Salifort Motors Project\n",
    "\n",
    "| Milestone | Task | PACE Stage |\n",
    "|---|---|---|\n",
    "| **Data Acquisition and Exploration** | Collect employee survey data | Plan |\n",
    "| | Clean and preprocess data | Do |\n",
    "| | Explore data relationships and distributions | Check |\n",
    "| | Identify relevant variables | Act |\n",
    "| **Model Development and Selection** | Build logistic regression model | Plan |\n",
    "| | Build decision tree, random forest, and XGBoost models | Do |\n",
    "| | Evaluate model performance using appropriate metrics | Check |\n",
    "| | Select the best-performing model | Act |\n",
    "| **Model Interpretation and Insights** | Analyze model coefficients or feature importance | Plan |\n",
    "| | Identify key factors driving turnover | Do |\n",
    "| | Generate actionable recommendations | Check |\n",
    "| | Communicate findings to leadership | Act |\n",
    "| **Model Deployment and Monitoring** | Deploy model into production environment | Plan |\n",
    "| | Monitor model performance and retrain as needed | Do |\n",
    "| | Continuously evaluate and refine the model | Check |\n",
    "| | Provide ongoing insights to leadership | Act |\n",
    "\n"
   ]
  },
  {
   "cell_type": "markdown",
   "id": "3176738e",
   "metadata": {
    "papermill": {
     "duration": 0.010916,
     "end_time": "2024-10-28T18:15:23.223826",
     "exception": false,
     "start_time": "2024-10-28T18:15:23.212910",
     "status": "completed"
    },
    "tags": []
   },
   "source": [
    "Step 1. Imports\n",
    "Import packages\n",
    "Load dataset## Analyzing the Salifort Motors Employee Data\n",
    "\n",
    "### Data Understanding\n",
    "\n",
    "**Dataset:** HR_capstone_dataset.csv\n",
    "\n",
    "**Rows:** 14,999 (representing individual employees)\n",
    "\n",
    "**Columns:** 10 (containing various employee attributes)\n",
    "\n",
    "**Column Descriptions:**\n",
    "\n",
    "| Column Name | Type | Description |\n",
    "|---|---|---|\n",
    "| satisfaction_level | int64 | Self-reported satisfaction level (0-1) |\n",
    "| last_evaluation | int64 | Score of last performance review (0-1) |\n",
    "| number_project | int64 | Number of projects contributed to |\n",
    "| average_monthly_hours | int64 | Average monthly working hours |\n",
    "| time_spend_company | int64 | Years with the company |\n",
    "| work_accident | int64 | Whether an accident occurred |\n",
    "| left | int64 | Whether the employee left the company |\n",
    "| promotion_last_5years | int64 | Whether promoted in the last 5 years |\n",
    "| department | str | Employee's department |\n",
    "| salary | str | Salary level (low, medium, high) |\n",
    "\n",
    "### Initial Observations\n",
    "\n",
    "* **Target Variable:** `left` (binary indicating employee attrition)\n",
    "* **Predictor Variables:** `satisfaction_level`, `last_evaluation`, `number_project`, `average_monthly_hours`, `time_spend_company`, `work_accident`, `promotion_last_5years`, `department`, and `salary`\n",
    "* **Data Types:** Most variables are numerical (int64), while `department` and `salary` are categorical.\n",
    "\n",
    "### Potential Relationships and Hypotheses\n",
    "\n",
    "Based on the data, we can explore the following relationships and hypotheses:\n",
    "\n",
    "* **Satisfaction and Attrition:** Employees with lower satisfaction levels may be more likely to leave.\n",
    "* **Performance and Attrition:** Employees with poor performance reviews or excessive workload might be more likely to leave.\n",
    "* **Tenure and Attrition:** Employees with shorter tenures may be more likely to leave due to lack of commitment or fit.\n",
    "* **Promotions and Attrition:** Employees who feel undervalued or lack opportunities for growth may be more likely to leave.\n",
    "* **Work-Life Balance and Attrition:** Employees with excessive working hours or poor work-life balance may be more likely to leave.\n",
    "* **Department and Attrition:** Certain departments or roles might have higher turnover rates.\n",
    "* **Salary and Attrition:** Employees who feel underpaid or dissatisfied with their compensation may be more likely to leave.\n",
    "\n",
    "### Next Steps\n",
    "\n",
    "1. **Data Cleaning and Preprocessing:**\n",
    "   * Handle missing values (if any).\n",
    "   * Check for outliers and inconsistencies.\n",
    "   * Convert categorical variables (department, salary) to numerical format (e.g., one-hot encoding).\n",
    "\n",
    "2. **Exploratory Data Analysis (EDA):**\n",
    "   * Visualize the distribution of variables (histograms, box plots).\n",
    "   * Calculate summary statistics (mean, median, mode, standard deviation).\n",
    "   * Explore correlations between variables.\n",
    "\n",
    "3. **Feature Engineering:**\n",
    "   * Consider creating new features based on existing variables (e.g., calculate a work-life balance index).\n",
    "\n",
    "4. **Model Building and Evaluation:**\n",
    "   * Build and evaluate various models (logistic regression, decision trees, random forests, XGBoost).\n",
    "   * Use appropriate metrics (accuracy, precision, recall, F1-score, AUC-ROC) to assess model performance.\n",
    "\n",
    "5. **Interpretation and Recommendations:**\n",
    "   * Analyze the model's results to identify key factors influencing attrition.\n",
    "   * Provide actionable recommendations to improve employee retention.\n",
    "\n"
   ]
  },
  {
   "cell_type": "markdown",
   "id": "37c1f8b8",
   "metadata": {
    "papermill": {
     "duration": 0.011106,
     "end_time": "2024-10-28T18:15:23.247232",
     "exception": false,
     "start_time": "2024-10-28T18:15:23.236126",
     "status": "completed"
    },
    "tags": []
   },
   "source": [
    "## Step 1. Imports\n",
    "\n",
    "*   Import packages\n",
    "*   Load dataset"
   ]
  },
  {
   "cell_type": "markdown",
   "id": "24990130",
   "metadata": {
    "papermill": {
     "duration": 0.010999,
     "end_time": "2024-10-28T18:15:23.269616",
     "exception": false,
     "start_time": "2024-10-28T18:15:23.258617",
     "status": "completed"
    },
    "tags": []
   },
   "source": [
    "### Import packages"
   ]
  },
  {
   "cell_type": "code",
   "execution_count": 1,
   "id": "b9f6a683",
   "metadata": {
    "execution": {
     "iopub.execute_input": "2024-10-28T18:15:23.295172Z",
     "iopub.status.busy": "2024-10-28T18:15:23.294149Z",
     "iopub.status.idle": "2024-10-28T18:15:26.300495Z",
     "shell.execute_reply": "2024-10-28T18:15:26.299448Z"
    },
    "papermill": {
     "duration": 3.022234,
     "end_time": "2024-10-28T18:15:26.303448",
     "exception": false,
     "start_time": "2024-10-28T18:15:23.281214",
     "status": "completed"
    },
    "tags": []
   },
   "outputs": [],
   "source": [
    "import pandas as pd\n",
    "import numpy as np\n",
    "import matplotlib.pyplot as plt\n",
    "import seaborn as sns\n",
    "from sklearn.model_selection import train_test_split\n",
    "from sklearn.preprocessing import LabelEncoder\n",
    "from sklearn.linear_model import LogisticRegression\n",
    "from sklearn.tree import DecisionTreeClassifier\n",
    "from sklearn.ensemble import RandomForestClassifier\n",
    "from xgboost import XGBClassifier\n",
    "from sklearn.metrics import accuracy_score, precision_score, recall_score, f1_score, roc_auc_score### Load dataset"
   ]
  },
  {
   "cell_type": "markdown",
   "id": "aab45070",
   "metadata": {
    "papermill": {
     "duration": 0.010987,
     "end_time": "2024-10-28T18:15:26.326514",
     "exception": false,
     "start_time": "2024-10-28T18:15:26.315527",
     "status": "completed"
    },
    "tags": []
   },
   "source": [
    "### Load dataset"
   ]
  },
  {
   "cell_type": "code",
   "execution_count": 2,
   "id": "a0b2527c",
   "metadata": {
    "execution": {
     "iopub.execute_input": "2024-10-28T18:15:26.351735Z",
     "iopub.status.busy": "2024-10-28T18:15:26.351139Z",
     "iopub.status.idle": "2024-10-28T18:15:26.420159Z",
     "shell.execute_reply": "2024-10-28T18:15:26.419054Z"
    },
    "papermill": {
     "duration": 0.084408,
     "end_time": "2024-10-28T18:15:26.422553",
     "exception": false,
     "start_time": "2024-10-28T18:15:26.338145",
     "status": "completed"
    },
    "tags": []
   },
   "outputs": [
    {
     "data": {
      "text/html": [
       "<div>\n",
       "<style scoped>\n",
       "    .dataframe tbody tr th:only-of-type {\n",
       "        vertical-align: middle;\n",
       "    }\n",
       "\n",
       "    .dataframe tbody tr th {\n",
       "        vertical-align: top;\n",
       "    }\n",
       "\n",
       "    .dataframe thead th {\n",
       "        text-align: right;\n",
       "    }\n",
       "</style>\n",
       "<table border=\"1\" class=\"dataframe\">\n",
       "  <thead>\n",
       "    <tr style=\"text-align: right;\">\n",
       "      <th></th>\n",
       "      <th>satisfaction_level</th>\n",
       "      <th>last_evaluation</th>\n",
       "      <th>number_project</th>\n",
       "      <th>average_montly_hours</th>\n",
       "      <th>time_spend_company</th>\n",
       "      <th>Work_accident</th>\n",
       "      <th>left</th>\n",
       "      <th>promotion_last_5years</th>\n",
       "      <th>Department</th>\n",
       "      <th>salary</th>\n",
       "    </tr>\n",
       "  </thead>\n",
       "  <tbody>\n",
       "    <tr>\n",
       "      <th>0</th>\n",
       "      <td>0.38</td>\n",
       "      <td>0.53</td>\n",
       "      <td>2</td>\n",
       "      <td>157</td>\n",
       "      <td>3</td>\n",
       "      <td>0</td>\n",
       "      <td>1</td>\n",
       "      <td>0</td>\n",
       "      <td>sales</td>\n",
       "      <td>low</td>\n",
       "    </tr>\n",
       "    <tr>\n",
       "      <th>1</th>\n",
       "      <td>0.80</td>\n",
       "      <td>0.86</td>\n",
       "      <td>5</td>\n",
       "      <td>262</td>\n",
       "      <td>6</td>\n",
       "      <td>0</td>\n",
       "      <td>1</td>\n",
       "      <td>0</td>\n",
       "      <td>sales</td>\n",
       "      <td>medium</td>\n",
       "    </tr>\n",
       "    <tr>\n",
       "      <th>2</th>\n",
       "      <td>0.11</td>\n",
       "      <td>0.88</td>\n",
       "      <td>7</td>\n",
       "      <td>272</td>\n",
       "      <td>4</td>\n",
       "      <td>0</td>\n",
       "      <td>1</td>\n",
       "      <td>0</td>\n",
       "      <td>sales</td>\n",
       "      <td>medium</td>\n",
       "    </tr>\n",
       "    <tr>\n",
       "      <th>3</th>\n",
       "      <td>0.72</td>\n",
       "      <td>0.87</td>\n",
       "      <td>5</td>\n",
       "      <td>223</td>\n",
       "      <td>5</td>\n",
       "      <td>0</td>\n",
       "      <td>1</td>\n",
       "      <td>0</td>\n",
       "      <td>sales</td>\n",
       "      <td>low</td>\n",
       "    </tr>\n",
       "    <tr>\n",
       "      <th>4</th>\n",
       "      <td>0.37</td>\n",
       "      <td>0.52</td>\n",
       "      <td>2</td>\n",
       "      <td>159</td>\n",
       "      <td>3</td>\n",
       "      <td>0</td>\n",
       "      <td>1</td>\n",
       "      <td>0</td>\n",
       "      <td>sales</td>\n",
       "      <td>low</td>\n",
       "    </tr>\n",
       "  </tbody>\n",
       "</table>\n",
       "</div>"
      ],
      "text/plain": [
       "   satisfaction_level  last_evaluation  number_project  average_montly_hours  \\\n",
       "0                0.38             0.53               2                   157   \n",
       "1                0.80             0.86               5                   262   \n",
       "2                0.11             0.88               7                   272   \n",
       "3                0.72             0.87               5                   223   \n",
       "4                0.37             0.52               2                   159   \n",
       "\n",
       "   time_spend_company  Work_accident  left  promotion_last_5years Department  \\\n",
       "0                   3              0     1                      0      sales   \n",
       "1                   6              0     1                      0      sales   \n",
       "2                   4              0     1                      0      sales   \n",
       "3                   5              0     1                      0      sales   \n",
       "4                   3              0     1                      0      sales   \n",
       "\n",
       "   salary  \n",
       "0     low  \n",
       "1  medium  \n",
       "2  medium  \n",
       "3     low  \n",
       "4     low  "
      ]
     },
     "execution_count": 2,
     "metadata": {},
     "output_type": "execute_result"
    }
   ],
   "source": [
    "# Load dataset into a dataframe\n",
    "df0 = pd.read_csv(\"/kaggle/input/hr-analytics-and-job-prediction/HR_comma_sep.csv\")\n",
    "\n",
    "# Display first few rows of the dataframe\n",
    "df0.head()"
   ]
  },
  {
   "cell_type": "markdown",
   "id": "1bef14c7",
   "metadata": {
    "papermill": {
     "duration": 0.011528,
     "end_time": "2024-10-28T18:15:26.446122",
     "exception": false,
     "start_time": "2024-10-28T18:15:26.434594",
     "status": "completed"
    },
    "tags": []
   },
   "source": [
    "## Step 2. Data Exploration (Initial EDA and data cleaning)\n",
    "\n",
    "- Understand your variables\n",
    "- Clean your dataset (missing data, redundant data, outliers)"
   ]
  },
  {
   "cell_type": "code",
   "execution_count": 3,
   "id": "fd9f78a0",
   "metadata": {
    "execution": {
     "iopub.execute_input": "2024-10-28T18:15:26.470603Z",
     "iopub.status.busy": "2024-10-28T18:15:26.470193Z",
     "iopub.status.idle": "2024-10-28T18:15:26.477622Z",
     "shell.execute_reply": "2024-10-28T18:15:26.476600Z"
    },
    "papermill": {
     "duration": 0.02219,
     "end_time": "2024-10-28T18:15:26.479786",
     "exception": false,
     "start_time": "2024-10-28T18:15:26.457596",
     "status": "completed"
    },
    "tags": []
   },
   "outputs": [
    {
     "name": "stdout",
     "output_type": "stream",
     "text": [
      "Dataset Shape:\n"
     ]
    },
    {
     "data": {
      "text/plain": [
       "(14999, 10)"
      ]
     },
     "execution_count": 3,
     "metadata": {},
     "output_type": "execute_result"
    }
   ],
   "source": [
    "print(\"Dataset Shape:\")\n",
    "df0.shape"
   ]
  },
  {
   "cell_type": "code",
   "execution_count": 4,
   "id": "2f8d2550",
   "metadata": {
    "execution": {
     "iopub.execute_input": "2024-10-28T18:15:26.504546Z",
     "iopub.status.busy": "2024-10-28T18:15:26.503670Z",
     "iopub.status.idle": "2024-10-28T18:15:26.512654Z",
     "shell.execute_reply": "2024-10-28T18:15:26.511518Z"
    },
    "papermill": {
     "duration": 0.024621,
     "end_time": "2024-10-28T18:15:26.515753",
     "exception": false,
     "start_time": "2024-10-28T18:15:26.491132",
     "status": "completed"
    },
    "tags": []
   },
   "outputs": [
    {
     "name": "stdout",
     "output_type": "stream",
     "text": [
      "\n",
      "Data Types:\n"
     ]
    },
    {
     "data": {
      "text/plain": [
       "satisfaction_level       float64\n",
       "last_evaluation          float64\n",
       "number_project             int64\n",
       "average_montly_hours       int64\n",
       "time_spend_company         int64\n",
       "Work_accident              int64\n",
       "left                       int64\n",
       "promotion_last_5years      int64\n",
       "Department                object\n",
       "salary                    object\n",
       "dtype: object"
      ]
     },
     "execution_count": 4,
     "metadata": {},
     "output_type": "execute_result"
    }
   ],
   "source": [
    "print(\"\\nData Types:\")\n",
    "df0.dtypes"
   ]
  },
  {
   "cell_type": "code",
   "execution_count": 5,
   "id": "8777bbb3",
   "metadata": {
    "execution": {
     "iopub.execute_input": "2024-10-28T18:15:26.541836Z",
     "iopub.status.busy": "2024-10-28T18:15:26.541454Z",
     "iopub.status.idle": "2024-10-28T18:15:26.581029Z",
     "shell.execute_reply": "2024-10-28T18:15:26.580028Z"
    },
    "papermill": {
     "duration": 0.054955,
     "end_time": "2024-10-28T18:15:26.583260",
     "exception": false,
     "start_time": "2024-10-28T18:15:26.528305",
     "status": "completed"
    },
    "tags": []
   },
   "outputs": [
    {
     "data": {
      "text/html": [
       "<div>\n",
       "<style scoped>\n",
       "    .dataframe tbody tr th:only-of-type {\n",
       "        vertical-align: middle;\n",
       "    }\n",
       "\n",
       "    .dataframe tbody tr th {\n",
       "        vertical-align: top;\n",
       "    }\n",
       "\n",
       "    .dataframe thead th {\n",
       "        text-align: right;\n",
       "    }\n",
       "</style>\n",
       "<table border=\"1\" class=\"dataframe\">\n",
       "  <thead>\n",
       "    <tr style=\"text-align: right;\">\n",
       "      <th></th>\n",
       "      <th>satisfaction_level</th>\n",
       "      <th>last_evaluation</th>\n",
       "      <th>number_project</th>\n",
       "      <th>average_montly_hours</th>\n",
       "      <th>time_spend_company</th>\n",
       "      <th>Work_accident</th>\n",
       "      <th>left</th>\n",
       "      <th>promotion_last_5years</th>\n",
       "    </tr>\n",
       "  </thead>\n",
       "  <tbody>\n",
       "    <tr>\n",
       "      <th>count</th>\n",
       "      <td>14999.000000</td>\n",
       "      <td>14999.000000</td>\n",
       "      <td>14999.000000</td>\n",
       "      <td>14999.000000</td>\n",
       "      <td>14999.000000</td>\n",
       "      <td>14999.000000</td>\n",
       "      <td>14999.000000</td>\n",
       "      <td>14999.000000</td>\n",
       "    </tr>\n",
       "    <tr>\n",
       "      <th>mean</th>\n",
       "      <td>0.612834</td>\n",
       "      <td>0.716102</td>\n",
       "      <td>3.803054</td>\n",
       "      <td>201.050337</td>\n",
       "      <td>3.498233</td>\n",
       "      <td>0.144610</td>\n",
       "      <td>0.238083</td>\n",
       "      <td>0.021268</td>\n",
       "    </tr>\n",
       "    <tr>\n",
       "      <th>std</th>\n",
       "      <td>0.248631</td>\n",
       "      <td>0.171169</td>\n",
       "      <td>1.232592</td>\n",
       "      <td>49.943099</td>\n",
       "      <td>1.460136</td>\n",
       "      <td>0.351719</td>\n",
       "      <td>0.425924</td>\n",
       "      <td>0.144281</td>\n",
       "    </tr>\n",
       "    <tr>\n",
       "      <th>min</th>\n",
       "      <td>0.090000</td>\n",
       "      <td>0.360000</td>\n",
       "      <td>2.000000</td>\n",
       "      <td>96.000000</td>\n",
       "      <td>2.000000</td>\n",
       "      <td>0.000000</td>\n",
       "      <td>0.000000</td>\n",
       "      <td>0.000000</td>\n",
       "    </tr>\n",
       "    <tr>\n",
       "      <th>25%</th>\n",
       "      <td>0.440000</td>\n",
       "      <td>0.560000</td>\n",
       "      <td>3.000000</td>\n",
       "      <td>156.000000</td>\n",
       "      <td>3.000000</td>\n",
       "      <td>0.000000</td>\n",
       "      <td>0.000000</td>\n",
       "      <td>0.000000</td>\n",
       "    </tr>\n",
       "    <tr>\n",
       "      <th>50%</th>\n",
       "      <td>0.640000</td>\n",
       "      <td>0.720000</td>\n",
       "      <td>4.000000</td>\n",
       "      <td>200.000000</td>\n",
       "      <td>3.000000</td>\n",
       "      <td>0.000000</td>\n",
       "      <td>0.000000</td>\n",
       "      <td>0.000000</td>\n",
       "    </tr>\n",
       "    <tr>\n",
       "      <th>75%</th>\n",
       "      <td>0.820000</td>\n",
       "      <td>0.870000</td>\n",
       "      <td>5.000000</td>\n",
       "      <td>245.000000</td>\n",
       "      <td>4.000000</td>\n",
       "      <td>0.000000</td>\n",
       "      <td>0.000000</td>\n",
       "      <td>0.000000</td>\n",
       "    </tr>\n",
       "    <tr>\n",
       "      <th>max</th>\n",
       "      <td>1.000000</td>\n",
       "      <td>1.000000</td>\n",
       "      <td>7.000000</td>\n",
       "      <td>310.000000</td>\n",
       "      <td>10.000000</td>\n",
       "      <td>1.000000</td>\n",
       "      <td>1.000000</td>\n",
       "      <td>1.000000</td>\n",
       "    </tr>\n",
       "  </tbody>\n",
       "</table>\n",
       "</div>"
      ],
      "text/plain": [
       "       satisfaction_level  last_evaluation  number_project  \\\n",
       "count        14999.000000     14999.000000    14999.000000   \n",
       "mean             0.612834         0.716102        3.803054   \n",
       "std              0.248631         0.171169        1.232592   \n",
       "min              0.090000         0.360000        2.000000   \n",
       "25%              0.440000         0.560000        3.000000   \n",
       "50%              0.640000         0.720000        4.000000   \n",
       "75%              0.820000         0.870000        5.000000   \n",
       "max              1.000000         1.000000        7.000000   \n",
       "\n",
       "       average_montly_hours  time_spend_company  Work_accident          left  \\\n",
       "count          14999.000000        14999.000000   14999.000000  14999.000000   \n",
       "mean             201.050337            3.498233       0.144610      0.238083   \n",
       "std               49.943099            1.460136       0.351719      0.425924   \n",
       "min               96.000000            2.000000       0.000000      0.000000   \n",
       "25%              156.000000            3.000000       0.000000      0.000000   \n",
       "50%              200.000000            3.000000       0.000000      0.000000   \n",
       "75%              245.000000            4.000000       0.000000      0.000000   \n",
       "max              310.000000           10.000000       1.000000      1.000000   \n",
       "\n",
       "       promotion_last_5years  \n",
       "count           14999.000000  \n",
       "mean                0.021268  \n",
       "std                 0.144281  \n",
       "min                 0.000000  \n",
       "25%                 0.000000  \n",
       "50%                 0.000000  \n",
       "75%                 0.000000  \n",
       "max                 1.000000  "
      ]
     },
     "execution_count": 5,
     "metadata": {},
     "output_type": "execute_result"
    }
   ],
   "source": [
    "# Gather descriptive statistics about the data\n",
    "df0.describe()"
   ]
  },
  {
   "cell_type": "markdown",
   "id": "4e03dbe6",
   "metadata": {
    "papermill": {
     "duration": 0.012395,
     "end_time": "2024-10-28T18:15:26.608201",
     "exception": false,
     "start_time": "2024-10-28T18:15:26.595806",
     "status": "completed"
    },
    "tags": []
   },
   "source": [
    "### Rename columns"
   ]
  },
  {
   "cell_type": "code",
   "execution_count": 6,
   "id": "7a5da0cd",
   "metadata": {
    "execution": {
     "iopub.execute_input": "2024-10-28T18:15:26.635234Z",
     "iopub.status.busy": "2024-10-28T18:15:26.634284Z",
     "iopub.status.idle": "2024-10-28T18:15:26.641378Z",
     "shell.execute_reply": "2024-10-28T18:15:26.640333Z"
    },
    "papermill": {
     "duration": 0.022808,
     "end_time": "2024-10-28T18:15:26.643543",
     "exception": false,
     "start_time": "2024-10-28T18:15:26.620735",
     "status": "completed"
    },
    "tags": []
   },
   "outputs": [
    {
     "data": {
      "text/plain": [
       "Index(['satisfaction_level', 'last_evaluation', 'number_project',\n",
       "       'average_montly_hours', 'time_spend_company', 'Work_accident', 'left',\n",
       "       'promotion_last_5years', 'Department', 'salary'],\n",
       "      dtype='object')"
      ]
     },
     "execution_count": 6,
     "metadata": {},
     "output_type": "execute_result"
    }
   ],
   "source": [
    "# Display all column names\n",
    "df0.columns"
   ]
  },
  {
   "cell_type": "code",
   "execution_count": 7,
   "id": "ad15376d",
   "metadata": {
    "execution": {
     "iopub.execute_input": "2024-10-28T18:15:26.670734Z",
     "iopub.status.busy": "2024-10-28T18:15:26.669838Z",
     "iopub.status.idle": "2024-10-28T18:15:26.677979Z",
     "shell.execute_reply": "2024-10-28T18:15:26.676756Z"
    },
    "papermill": {
     "duration": 0.02444,
     "end_time": "2024-10-28T18:15:26.680245",
     "exception": false,
     "start_time": "2024-10-28T18:15:26.655805",
     "status": "completed"
    },
    "tags": []
   },
   "outputs": [
    {
     "name": "stdout",
     "output_type": "stream",
     "text": [
      "Index(['satisfaction', 'performance_score', 'projects', 'average_hours',\n",
      "       'tenure', 'Work_accident', 'left', 'promotion', 'department', 'salary'],\n",
      "      dtype='object')\n"
     ]
    }
   ],
   "source": [
    "# Rename columns as needed\n",
    "df0 = df0.rename(columns={'satisfaction_level': 'satisfaction', 'last_evaluation': 'performance_score', 'number_project': 'projects',\n",
    "       'average_montly_hours': 'average_hours', 'time_spend_company': 'tenure', 'promotion_last_5years': 'promotion', 'Department': 'department'})\n",
    "\n",
    "\n",
    "# Display all column names after the update\n",
    "print(df0.columns)"
   ]
  },
  {
   "cell_type": "markdown",
   "id": "a21ca20c",
   "metadata": {
    "papermill": {
     "duration": 0.012643,
     "end_time": "2024-10-28T18:15:26.706233",
     "exception": false,
     "start_time": "2024-10-28T18:15:26.693590",
     "status": "completed"
    },
    "tags": []
   },
   "source": [
    "### Check missing values"
   ]
  },
  {
   "cell_type": "code",
   "execution_count": 8,
   "id": "705d0306",
   "metadata": {
    "execution": {
     "iopub.execute_input": "2024-10-28T18:15:26.735217Z",
     "iopub.status.busy": "2024-10-28T18:15:26.734027Z",
     "iopub.status.idle": "2024-10-28T18:15:26.747173Z",
     "shell.execute_reply": "2024-10-28T18:15:26.746095Z"
    },
    "papermill": {
     "duration": 0.031564,
     "end_time": "2024-10-28T18:15:26.751189",
     "exception": false,
     "start_time": "2024-10-28T18:15:26.719625",
     "status": "completed"
    },
    "tags": []
   },
   "outputs": [
    {
     "data": {
      "text/plain": [
       "satisfaction         0\n",
       "performance_score    0\n",
       "projects             0\n",
       "average_hours        0\n",
       "tenure               0\n",
       "Work_accident        0\n",
       "left                 0\n",
       "promotion            0\n",
       "department           0\n",
       "salary               0\n",
       "dtype: int64"
      ]
     },
     "execution_count": 8,
     "metadata": {},
     "output_type": "execute_result"
    }
   ],
   "source": [
    "# Check for missing values\n",
    "df0.isnull().sum()"
   ]
  },
  {
   "cell_type": "markdown",
   "id": "3adf5076",
   "metadata": {
    "papermill": {
     "duration": 0.012775,
     "end_time": "2024-10-28T18:15:26.778840",
     "exception": false,
     "start_time": "2024-10-28T18:15:26.766065",
     "status": "completed"
    },
    "tags": []
   },
   "source": [
    "### Check duplicates"
   ]
  },
  {
   "cell_type": "code",
   "execution_count": 9,
   "id": "5347cb4d",
   "metadata": {
    "execution": {
     "iopub.execute_input": "2024-10-28T18:15:26.806538Z",
     "iopub.status.busy": "2024-10-28T18:15:26.806109Z",
     "iopub.status.idle": "2024-10-28T18:15:26.824681Z",
     "shell.execute_reply": "2024-10-28T18:15:26.823447Z"
    },
    "papermill": {
     "duration": 0.035426,
     "end_time": "2024-10-28T18:15:26.827194",
     "exception": false,
     "start_time": "2024-10-28T18:15:26.791768",
     "status": "completed"
    },
    "tags": []
   },
   "outputs": [
    {
     "name": "stdout",
     "output_type": "stream",
     "text": [
      "Number of duplicates: 3008\n"
     ]
    }
   ],
   "source": [
    "# Check for duplicates\n",
    "duplicates = df0.duplicated()\n",
    "# Count the number of duplicates\n",
    "num_duplicates = duplicates.sum()\n",
    "# Print the number of duplicates\n",
    "print(\"Number of duplicates:\", num_duplicates)"
   ]
  },
  {
   "cell_type": "code",
   "execution_count": 10,
   "id": "2f97b62c",
   "metadata": {
    "execution": {
     "iopub.execute_input": "2024-10-28T18:15:26.855650Z",
     "iopub.status.busy": "2024-10-28T18:15:26.854700Z",
     "iopub.status.idle": "2024-10-28T18:15:26.879182Z",
     "shell.execute_reply": "2024-10-28T18:15:26.878104Z"
    },
    "papermill": {
     "duration": 0.041218,
     "end_time": "2024-10-28T18:15:26.881563",
     "exception": false,
     "start_time": "2024-10-28T18:15:26.840345",
     "status": "completed"
    },
    "tags": []
   },
   "outputs": [
    {
     "data": {
      "text/html": [
       "<div>\n",
       "<style scoped>\n",
       "    .dataframe tbody tr th:only-of-type {\n",
       "        vertical-align: middle;\n",
       "    }\n",
       "\n",
       "    .dataframe tbody tr th {\n",
       "        vertical-align: top;\n",
       "    }\n",
       "\n",
       "    .dataframe thead th {\n",
       "        text-align: right;\n",
       "    }\n",
       "</style>\n",
       "<table border=\"1\" class=\"dataframe\">\n",
       "  <thead>\n",
       "    <tr style=\"text-align: right;\">\n",
       "      <th></th>\n",
       "      <th>satisfaction</th>\n",
       "      <th>performance_score</th>\n",
       "      <th>projects</th>\n",
       "      <th>average_hours</th>\n",
       "      <th>tenure</th>\n",
       "      <th>Work_accident</th>\n",
       "      <th>left</th>\n",
       "      <th>promotion</th>\n",
       "      <th>department</th>\n",
       "      <th>salary</th>\n",
       "    </tr>\n",
       "  </thead>\n",
       "  <tbody>\n",
       "    <tr>\n",
       "      <th>396</th>\n",
       "      <td>0.46</td>\n",
       "      <td>0.57</td>\n",
       "      <td>2</td>\n",
       "      <td>139</td>\n",
       "      <td>3</td>\n",
       "      <td>0</td>\n",
       "      <td>1</td>\n",
       "      <td>0</td>\n",
       "      <td>sales</td>\n",
       "      <td>low</td>\n",
       "    </tr>\n",
       "    <tr>\n",
       "      <th>866</th>\n",
       "      <td>0.41</td>\n",
       "      <td>0.46</td>\n",
       "      <td>2</td>\n",
       "      <td>128</td>\n",
       "      <td>3</td>\n",
       "      <td>0</td>\n",
       "      <td>1</td>\n",
       "      <td>0</td>\n",
       "      <td>accounting</td>\n",
       "      <td>low</td>\n",
       "    </tr>\n",
       "    <tr>\n",
       "      <th>1317</th>\n",
       "      <td>0.37</td>\n",
       "      <td>0.51</td>\n",
       "      <td>2</td>\n",
       "      <td>127</td>\n",
       "      <td>3</td>\n",
       "      <td>0</td>\n",
       "      <td>1</td>\n",
       "      <td>0</td>\n",
       "      <td>sales</td>\n",
       "      <td>medium</td>\n",
       "    </tr>\n",
       "    <tr>\n",
       "      <th>1368</th>\n",
       "      <td>0.41</td>\n",
       "      <td>0.52</td>\n",
       "      <td>2</td>\n",
       "      <td>132</td>\n",
       "      <td>3</td>\n",
       "      <td>0</td>\n",
       "      <td>1</td>\n",
       "      <td>0</td>\n",
       "      <td>RandD</td>\n",
       "      <td>low</td>\n",
       "    </tr>\n",
       "    <tr>\n",
       "      <th>1461</th>\n",
       "      <td>0.42</td>\n",
       "      <td>0.53</td>\n",
       "      <td>2</td>\n",
       "      <td>142</td>\n",
       "      <td>3</td>\n",
       "      <td>0</td>\n",
       "      <td>1</td>\n",
       "      <td>0</td>\n",
       "      <td>sales</td>\n",
       "      <td>low</td>\n",
       "    </tr>\n",
       "  </tbody>\n",
       "</table>\n",
       "</div>"
      ],
      "text/plain": [
       "      satisfaction  performance_score  projects  average_hours  tenure  \\\n",
       "396           0.46               0.57         2            139       3   \n",
       "866           0.41               0.46         2            128       3   \n",
       "1317          0.37               0.51         2            127       3   \n",
       "1368          0.41               0.52         2            132       3   \n",
       "1461          0.42               0.53         2            142       3   \n",
       "\n",
       "      Work_accident  left  promotion  department  salary  \n",
       "396               0     1          0       sales     low  \n",
       "866               0     1          0  accounting     low  \n",
       "1317              0     1          0       sales  medium  \n",
       "1368              0     1          0       RandD     low  \n",
       "1461              0     1          0       sales     low  "
      ]
     },
     "execution_count": 10,
     "metadata": {},
     "output_type": "execute_result"
    }
   ],
   "source": [
    "# Inspect some rows containing duplicates as needed\n",
    "df0[df0.duplicated()].head()"
   ]
  },
  {
   "cell_type": "code",
   "execution_count": 11,
   "id": "021f623d",
   "metadata": {
    "execution": {
     "iopub.execute_input": "2024-10-28T18:15:26.910893Z",
     "iopub.status.busy": "2024-10-28T18:15:26.910164Z",
     "iopub.status.idle": "2024-10-28T18:15:26.933238Z",
     "shell.execute_reply": "2024-10-28T18:15:26.931926Z"
    },
    "papermill": {
     "duration": 0.039565,
     "end_time": "2024-10-28T18:15:26.935502",
     "exception": false,
     "start_time": "2024-10-28T18:15:26.895937",
     "status": "completed"
    },
    "tags": []
   },
   "outputs": [
    {
     "name": "stdout",
     "output_type": "stream",
     "text": [
      "First few rows of the dataframe without duplicates:\n"
     ]
    },
    {
     "data": {
      "text/html": [
       "<div>\n",
       "<style scoped>\n",
       "    .dataframe tbody tr th:only-of-type {\n",
       "        vertical-align: middle;\n",
       "    }\n",
       "\n",
       "    .dataframe tbody tr th {\n",
       "        vertical-align: top;\n",
       "    }\n",
       "\n",
       "    .dataframe thead th {\n",
       "        text-align: right;\n",
       "    }\n",
       "</style>\n",
       "<table border=\"1\" class=\"dataframe\">\n",
       "  <thead>\n",
       "    <tr style=\"text-align: right;\">\n",
       "      <th></th>\n",
       "      <th>satisfaction</th>\n",
       "      <th>performance_score</th>\n",
       "      <th>projects</th>\n",
       "      <th>average_hours</th>\n",
       "      <th>tenure</th>\n",
       "      <th>Work_accident</th>\n",
       "      <th>left</th>\n",
       "      <th>promotion</th>\n",
       "      <th>department</th>\n",
       "      <th>salary</th>\n",
       "    </tr>\n",
       "  </thead>\n",
       "  <tbody>\n",
       "    <tr>\n",
       "      <th>0</th>\n",
       "      <td>0.38</td>\n",
       "      <td>0.53</td>\n",
       "      <td>2</td>\n",
       "      <td>157</td>\n",
       "      <td>3</td>\n",
       "      <td>0</td>\n",
       "      <td>1</td>\n",
       "      <td>0</td>\n",
       "      <td>sales</td>\n",
       "      <td>low</td>\n",
       "    </tr>\n",
       "    <tr>\n",
       "      <th>1</th>\n",
       "      <td>0.80</td>\n",
       "      <td>0.86</td>\n",
       "      <td>5</td>\n",
       "      <td>262</td>\n",
       "      <td>6</td>\n",
       "      <td>0</td>\n",
       "      <td>1</td>\n",
       "      <td>0</td>\n",
       "      <td>sales</td>\n",
       "      <td>medium</td>\n",
       "    </tr>\n",
       "    <tr>\n",
       "      <th>2</th>\n",
       "      <td>0.11</td>\n",
       "      <td>0.88</td>\n",
       "      <td>7</td>\n",
       "      <td>272</td>\n",
       "      <td>4</td>\n",
       "      <td>0</td>\n",
       "      <td>1</td>\n",
       "      <td>0</td>\n",
       "      <td>sales</td>\n",
       "      <td>medium</td>\n",
       "    </tr>\n",
       "    <tr>\n",
       "      <th>3</th>\n",
       "      <td>0.72</td>\n",
       "      <td>0.87</td>\n",
       "      <td>5</td>\n",
       "      <td>223</td>\n",
       "      <td>5</td>\n",
       "      <td>0</td>\n",
       "      <td>1</td>\n",
       "      <td>0</td>\n",
       "      <td>sales</td>\n",
       "      <td>low</td>\n",
       "    </tr>\n",
       "    <tr>\n",
       "      <th>4</th>\n",
       "      <td>0.37</td>\n",
       "      <td>0.52</td>\n",
       "      <td>2</td>\n",
       "      <td>159</td>\n",
       "      <td>3</td>\n",
       "      <td>0</td>\n",
       "      <td>1</td>\n",
       "      <td>0</td>\n",
       "      <td>sales</td>\n",
       "      <td>low</td>\n",
       "    </tr>\n",
       "  </tbody>\n",
       "</table>\n",
       "</div>"
      ],
      "text/plain": [
       "   satisfaction  performance_score  projects  average_hours  tenure  \\\n",
       "0          0.38               0.53         2            157       3   \n",
       "1          0.80               0.86         5            262       6   \n",
       "2          0.11               0.88         7            272       4   \n",
       "3          0.72               0.87         5            223       5   \n",
       "4          0.37               0.52         2            159       3   \n",
       "\n",
       "   Work_accident  left  promotion department  salary  \n",
       "0              0     1          0      sales     low  \n",
       "1              0     1          0      sales  medium  \n",
       "2              0     1          0      sales  medium  \n",
       "3              0     1          0      sales     low  \n",
       "4              0     1          0      sales     low  "
      ]
     },
     "execution_count": 11,
     "metadata": {},
     "output_type": "execute_result"
    }
   ],
   "source": [
    "# Drop duplicates and save resulting dataframe in a new variable as needed\n",
    "df0_no_duplicates = df0.drop_duplicates(keep='first')\n",
    "\n",
    "# Display first few rows of new dataframe as needed\n",
    "print(\"First few rows of the dataframe without duplicates:\")\n",
    "df0_no_duplicates.head()"
   ]
  },
  {
   "cell_type": "code",
   "execution_count": 12,
   "id": "e298fcba",
   "metadata": {
    "execution": {
     "iopub.execute_input": "2024-10-28T18:15:26.964488Z",
     "iopub.status.busy": "2024-10-28T18:15:26.963758Z",
     "iopub.status.idle": "2024-10-28T18:15:26.971006Z",
     "shell.execute_reply": "2024-10-28T18:15:26.970047Z"
    },
    "papermill": {
     "duration": 0.025238,
     "end_time": "2024-10-28T18:15:26.974262",
     "exception": false,
     "start_time": "2024-10-28T18:15:26.949024",
     "status": "completed"
    },
    "tags": []
   },
   "outputs": [
    {
     "name": "stdout",
     "output_type": "stream",
     "text": [
      "Dataset Shape with duplicates:\n"
     ]
    },
    {
     "data": {
      "text/plain": [
       "(14999, 10)"
      ]
     },
     "execution_count": 12,
     "metadata": {},
     "output_type": "execute_result"
    }
   ],
   "source": [
    "print(\"Dataset Shape with duplicates:\")\n",
    "df0.shape"
   ]
  },
  {
   "cell_type": "code",
   "execution_count": 13,
   "id": "57d52831",
   "metadata": {
    "execution": {
     "iopub.execute_input": "2024-10-28T18:15:27.005049Z",
     "iopub.status.busy": "2024-10-28T18:15:27.004554Z",
     "iopub.status.idle": "2024-10-28T18:15:27.011748Z",
     "shell.execute_reply": "2024-10-28T18:15:27.010878Z"
    },
    "papermill": {
     "duration": 0.025574,
     "end_time": "2024-10-28T18:15:27.015001",
     "exception": false,
     "start_time": "2024-10-28T18:15:26.989427",
     "status": "completed"
    },
    "tags": []
   },
   "outputs": [
    {
     "name": "stdout",
     "output_type": "stream",
     "text": [
      "Dataset Shape with no duplicates:\n"
     ]
    },
    {
     "data": {
      "text/plain": [
       "(11991, 10)"
      ]
     },
     "execution_count": 13,
     "metadata": {},
     "output_type": "execute_result"
    }
   ],
   "source": [
    "print(\"Dataset Shape with no duplicates:\")\n",
    "df0_no_duplicates.shape"
   ]
  },
  {
   "cell_type": "markdown",
   "id": "a51d9b5f",
   "metadata": {
    "papermill": {
     "duration": 0.014065,
     "end_time": "2024-10-28T18:15:27.043770",
     "exception": false,
     "start_time": "2024-10-28T18:15:27.029705",
     "status": "completed"
    },
    "tags": []
   },
   "source": [
    "3,008 rows contain duplicates. That is 20% of the data."
   ]
  },
  {
   "cell_type": "markdown",
   "id": "0040f403",
   "metadata": {
    "papermill": {
     "duration": 0.013773,
     "end_time": "2024-10-28T18:15:27.071922",
     "exception": false,
     "start_time": "2024-10-28T18:15:27.058149",
     "status": "completed"
    },
    "tags": []
   },
   "source": [
    "### Check outliers"
   ]
  },
  {
   "cell_type": "code",
   "execution_count": 14,
   "id": "761e260d",
   "metadata": {
    "execution": {
     "iopub.execute_input": "2024-10-28T18:15:27.102370Z",
     "iopub.status.busy": "2024-10-28T18:15:27.101520Z",
     "iopub.status.idle": "2024-10-28T18:15:27.314438Z",
     "shell.execute_reply": "2024-10-28T18:15:27.313260Z"
    },
    "papermill": {
     "duration": 0.230936,
     "end_time": "2024-10-28T18:15:27.316940",
     "exception": false,
     "start_time": "2024-10-28T18:15:27.086004",
     "status": "completed"
    },
    "tags": []
   },
   "outputs": [
    {
     "data": {
      "image/png": "[encoded data removed]",
      "text/plain": [
       "<Figure size 600x600 with 1 Axes>"
      ]
     },
     "metadata": {},
     "output_type": "display_data"
    }
   ],
   "source": [
    "# Create a boxplot to visualize distribution of `tenure` and detect any outliers\n",
    "plt.figure(figsize=(6,6))\n",
    "plt.title('Boxplot to detect outliers for tenure', fontsize=12)\n",
    "plt.xticks(fontsize=12)\n",
    "plt.yticks(fontsize=12)\n",
    "sns.boxplot(x= df0_no_duplicates['tenure'])\n",
    "plt.show()"
   ]
  },
  {
   "cell_type": "code",
   "execution_count": 15,
   "id": "83ffa72d",
   "metadata": {
    "execution": {
     "iopub.execute_input": "2024-10-28T18:15:27.348635Z",
     "iopub.status.busy": "2024-10-28T18:15:27.347859Z",
     "iopub.status.idle": "2024-10-28T18:15:27.361596Z",
     "shell.execute_reply": "2024-10-28T18:15:27.360443Z"
    },
    "papermill": {
     "duration": 0.031922,
     "end_time": "2024-10-28T18:15:27.363829",
     "exception": false,
     "start_time": "2024-10-28T18:15:27.331907",
     "status": "completed"
    },
    "tags": []
   },
   "outputs": [
    {
     "name": "stdout",
     "output_type": "stream",
     "text": [
      "Lower limit: 1.5\n",
      "Upper limit: 5.5\n",
      "Number of outliers in 'tenure': 824\n"
     ]
    }
   ],
   "source": [
    "# Determine the number of rows containing outliers\n",
    "\n",
    "# Define a threshold for outliers (e.g., 1.5 times the interquartile range)\n",
    "iqr = df0_no_duplicates['tenure'].quantile(0.75) - df0_no_duplicates['tenure'].quantile(0.25)\n",
    "threshold = 1.5 * iqr\n",
    "lower_bound = df0_no_duplicates['tenure'].quantile(0.25) - threshold\n",
    "upper_bound = df0_no_duplicates['tenure'].quantile(0.75) + threshold\n",
    "\n",
    "print(\"Lower limit:\", lower_bound)\n",
    "print(\"Upper limit:\", upper_bound)\n",
    "\n",
    "# Identify outliers\n",
    "outliers = df0_no_duplicates[(df0_no_duplicates['tenure'] < lower_bound) | (df0_no_duplicates['tenure'] > upper_bound)]\n",
    "\n",
    "# Count the number of outliers\n",
    "num_outliers = len(outliers)\n",
    "print(\"Number of outliers in 'tenure':\", num_outliers)\n"
   ]
  },
  {
   "cell_type": "markdown",
   "id": "396da994",
   "metadata": {
    "papermill": {
     "duration": 0.014031,
     "end_time": "2024-10-28T18:15:27.392567",
     "exception": false,
     "start_time": "2024-10-28T18:15:27.378536",
     "status": "completed"
    },
    "tags": []
   },
   "source": [
    "# pAce: Analyze Stage\n",
    "- Perform EDA (analyze relationships between variables)"
   ]
  },
  {
   "cell_type": "markdown",
   "id": "e0431619",
   "metadata": {
    "papermill": {
     "duration": 0.014929,
     "end_time": "2024-10-28T18:15:27.422199",
     "exception": false,
     "start_time": "2024-10-28T18:15:27.407270",
     "status": "completed"
    },
    "tags": []
   },
   "source": [
    "**Relationships between Variables:**\n",
    "\n",
    "* **Satisfaction Level and Attrition:** Lower satisfaction levels seem to be correlated with higher attrition rates.\n",
    "* **Performance Evaluation and Attrition:** Employees with lower performance evaluations might be more likely to leave.\n",
    "* **Number of Projects and Attrition:** A high number of projects could lead to increased stress and burnout, potentially contributing to higher attrition.\n",
    "* **Average Monthly Hours and Attrition:** Excessive working hours might negatively impact job satisfaction and lead to attrition.\n",
    "* **Tenure and Attrition:** Employees with shorter tenures might be more likely to leave, especially during the initial period of adjustment.\n",
    "\n",
    "**Distributions in the Data:**\n",
    "\n",
    "* **Satisfaction Level:** The distribution might be skewed, with a majority of employees having moderate to high satisfaction levels.\n",
    "* **Performance Evaluation:** The distribution could be relatively normal, with most employees having average performance ratings.\n",
    "* **Number of Projects:** The distribution might be skewed, with a few employees handling a large number of projects.\n",
    "* **Average Monthly Hours:** The distribution might be skewed, with a few employees working significantly more hours than others.\n",
    "* **Tenure:** The distribution might be skewed, with a higher proportion of employees having shorter tenures.\n",
    "\n",
    "**Data Transformations:**\n",
    "\n",
    "* **Categorical Variables:** Convert categorical variables like `department` and `salary` into numerical representations using techniques like one-hot encoding or label encoding.\n",
    "* **Outliers:** Identify and handle outliers using techniques like capping, flooring, or removal, depending on the nature of the outliers and their impact on the analysis.\n",
    "* **Feature Scaling:** If necessary, scale numerical features to a common range (e.g., using normalization or standardization) to ensure that all features have a similar impact on the model.\n",
    "\n",
    "**Reasons for Transformations:**\n",
    "\n",
    "* **Categorical Variables:** Numerical representations allow machine learning algorithms to process the data effectively.\n",
    "* **Outliers:** Outliers can significantly impact the model's performance, so it's important to handle them appropriately.\n",
    "* **Feature Scaling:** Scaling helps to improve the performance of many machine learning algorithms, especially those that use distance-based metrics.\n",
    "\n",
    "**Purposes of EDA Before Model Construction:**\n",
    "\n",
    "* **Understand the data:** Gain insights into the data's characteristics, distributions, and relationships between variables.\n",
    "* **Identify patterns:** Discover patterns and trends that can inform feature engineering and model selection.\n",
    "* **Detect anomalies:** Identify outliers, missing values, and inconsistencies in the data.\n",
    "* **Inform feature engineering:** Create new features or transform existing ones to improve model performance.\n",
    "* **Assess data quality:** Ensure the data is clean and suitable for analysis.\n",
    "\n",
    "**Resources:**\n",
    "\n",
    "* **Python libraries:** Pandas, NumPy, Matplotlib, Seaborn, Scikit-learn, XGBoost.\n",
    "* **Online tutorials and courses:**\n",
    "    * Coursera: [https://www.coursera.org/](https://www.coursera.org/)\n",
    "    * Kaggle: [https://www.kaggle.com/](https://www.kaggle.com/)\n",
    "    * DataCamp: [https://www.datacamp.com/](https://www.datacamp.com/)\n",
    "* **Statistical textbooks:** Introductory statistics textbooks.\n",
    "\n",
    "**Ethical Considerations:**\n",
    "\n",
    "* **Data privacy:** Ensure compliance with data privacy regulations (e.g., GDPR, CCPA).\n",
    "* **Bias:** Avoid bias in data collection, analysis, and model development.\n",
    "* **Fairness:** Consider the potential impact of the model on different groups and ensure equitable treatment.\n",
    "* **Transparency:** Explain the model's decision-making process and limitations."
   ]
  },
  {
   "cell_type": "markdown",
   "id": "dc9acecd",
   "metadata": {
    "papermill": {
     "duration": 0.01455,
     "end_time": "2024-10-28T18:15:27.451705",
     "exception": false,
     "start_time": "2024-10-28T18:15:27.437155",
     "status": "completed"
    },
    "tags": []
   },
   "source": [
    "## Step 2. Data Exploration (Continue EDA)"
   ]
  },
  {
   "cell_type": "code",
   "execution_count": 16,
   "id": "81966afa",
   "metadata": {
    "execution": {
     "iopub.execute_input": "2024-10-28T18:15:27.483374Z",
     "iopub.status.busy": "2024-10-28T18:15:27.482519Z",
     "iopub.status.idle": "2024-10-28T18:15:27.490393Z",
     "shell.execute_reply": "2024-10-28T18:15:27.489301Z"
    },
    "papermill": {
     "duration": 0.026192,
     "end_time": "2024-10-28T18:15:27.492687",
     "exception": false,
     "start_time": "2024-10-28T18:15:27.466495",
     "status": "completed"
    },
    "tags": []
   },
   "outputs": [
    {
     "name": "stdout",
     "output_type": "stream",
     "text": [
      "Number of employees who left: 1991\n",
      "Number of employees who stayed: 10000\n",
      "Percentage of employees who left: 16.60%\n",
      "Percentage of employees who stayed: 83.40%\n"
     ]
    }
   ],
   "source": [
    "# Get numbers of people who left vs. stayed\n",
    "num_left = df0_no_duplicates['left'].sum()\n",
    "num_stayed = len(df0_no_duplicates) - num_left\n",
    "\n",
    "# Get percentages of people who left vs. stayed\n",
    "percentage_left = (num_left / len(df0_no_duplicates)) * 100\n",
    "percentage_stayed = (num_stayed / len(df0_no_duplicates)) * 100\n",
    "\n",
    "print(f\"Number of employees who left: {num_left}\")\n",
    "print(f\"Number of employees who stayed: {num_stayed}\")\n",
    "print(f\"Percentage of employees who left: {percentage_left:.2f}%\")\n",
    "print(f\"Percentage of employees who stayed: {percentage_stayed:.2f}%\")"
   ]
  },
  {
   "cell_type": "markdown",
   "id": "2b485a83",
   "metadata": {
    "papermill": {
     "duration": 0.014337,
     "end_time": "2024-10-28T18:15:27.522103",
     "exception": false,
     "start_time": "2024-10-28T18:15:27.507766",
     "status": "completed"
    },
    "tags": []
   },
   "source": [
    "### Data visualizations"
   ]
  },
  {
   "cell_type": "code",
   "execution_count": 17,
   "id": "9849c186",
   "metadata": {
    "execution": {
     "iopub.execute_input": "2024-10-28T18:15:27.552732Z",
     "iopub.status.busy": "2024-10-28T18:15:27.552304Z",
     "iopub.status.idle": "2024-10-28T18:15:27.788753Z",
     "shell.execute_reply": "2024-10-28T18:15:27.787748Z"
    },
    "papermill": {
     "duration": 0.254264,
     "end_time": "2024-10-28T18:15:27.790993",
     "exception": false,
     "start_time": "2024-10-28T18:15:27.536729",
     "status": "completed"
    },
    "tags": []
   },
   "outputs": [
    {
     "data": {
      "image/png": "[encoded data removed]",
      "text/plain": [
       "<Figure size 640x480 with 1 Axes>"
      ]
     },
     "metadata": {},
     "output_type": "display_data"
    }
   ],
   "source": [
    "# Visualize the distribution of the target variable 'left'\n",
    "sns.countplot(x='left', data=df0_no_duplicates)\n",
    "plt.title('Distribution of Employee Attrition')\n",
    "plt.xlabel('Left (0: Stayed, 1: Left)')\n",
    "plt.ylabel('Count')\n",
    "plt.show()"
   ]
  },
  {
   "cell_type": "code",
   "execution_count": 18,
   "id": "3135aa52",
   "metadata": {
    "execution": {
     "iopub.execute_input": "2024-10-28T18:15:27.824415Z",
     "iopub.status.busy": "2024-10-28T18:15:27.823397Z",
     "iopub.status.idle": "2024-10-28T18:15:28.070455Z",
     "shell.execute_reply": "2024-10-28T18:15:28.069308Z"
    },
    "papermill": {
     "duration": 0.266417,
     "end_time": "2024-10-28T18:15:28.072925",
     "exception": false,
     "start_time": "2024-10-28T18:15:27.806508",
     "status": "completed"
    },
    "tags": []
   },
   "outputs": [
    {
     "data": {
      "image/png": "[encoded data removed]",
      "text/plain": [
       "<Figure size 640x480 with 1 Axes>"
      ]
     },
     "metadata": {},
     "output_type": "display_data"
    }
   ],
   "source": [
    "# Visualize the relationship between satisfaction level and attrition\n",
    "sns.boxplot(x='left', y='satisfaction', data=df0_no_duplicates)\n",
    "plt.title('Satisfaction Level vs. Attrition')\n",
    "plt.xlabel('Left (0: Stayed, 1: Left)')\n",
    "plt.ylabel('Satisfaction Level')\n",
    "plt.show()"
   ]
  },
  {
   "cell_type": "code",
   "execution_count": 19,
   "id": "7dc425e7",
   "metadata": {
    "execution": {
     "iopub.execute_input": "2024-10-28T18:15:28.105821Z",
     "iopub.status.busy": "2024-10-28T18:15:28.105091Z",
     "iopub.status.idle": "2024-10-28T18:15:28.373201Z",
     "shell.execute_reply": "2024-10-28T18:15:28.372169Z"
    },
    "papermill": {
     "duration": 0.287026,
     "end_time": "2024-10-28T18:15:28.375651",
     "exception": false,
     "start_time": "2024-10-28T18:15:28.088625",
     "status": "completed"
    },
    "tags": []
   },
   "outputs": [
    {
     "data": {
      "image/png": "[encoded data removed]",
      "text/plain": [
       "<Figure size 640x480 with 1 Axes>"
      ]
     },
     "metadata": {},
     "output_type": "display_data"
    }
   ],
   "source": [
    "# Visualize the relationship between promotion in the last 5 years and attrition\n",
    "sns.countplot(x='promotion', hue='left', data=df0_no_duplicates)\n",
    "plt.title('Promotion in Last 5 Years vs. Attrition')\n",
    "plt.xlabel('Promotion in Last 5 Years (0: No, 1: Yes)')\n",
    "plt.ylabel('Count')\n",
    "plt.show()"
   ]
  },
  {
   "cell_type": "code",
   "execution_count": 20,
   "id": "59efd3ea",
   "metadata": {
    "execution": {
     "iopub.execute_input": "2024-10-28T18:15:28.409920Z",
     "iopub.status.busy": "2024-10-28T18:15:28.409527Z",
     "iopub.status.idle": "2024-10-28T18:15:28.607215Z",
     "shell.execute_reply": "2024-10-28T18:15:28.606065Z"
    },
    "papermill": {
     "duration": 0.217655,
     "end_time": "2024-10-28T18:15:28.609666",
     "exception": false,
     "start_time": "2024-10-28T18:15:28.392011",
     "status": "completed"
    },
    "tags": []
   },
   "outputs": [
    {
     "data": {
      "image/png": "[encoded data removed]",
      "text/plain": [
       "<Figure size 640x480 with 1 Axes>"
      ]
     },
     "metadata": {},
     "output_type": "display_data"
    }
   ],
   "source": [
    "#This plot can help you understand if a higher number of projects is associated with higher attritio\n",
    "sns.boxplot(x='left', y='projects', data=df0_no_duplicates)\n",
    "plt.title('Number of Projects vs. Attrition')\n",
    "plt.xlabel('Left (0: Stayed, 1: Left)')\n",
    "plt.ylabel('Number of Projects')\n",
    "plt.show()"
   ]
  },
  {
   "cell_type": "code",
   "execution_count": 21,
   "id": "54a420ab",
   "metadata": {
    "execution": {
     "iopub.execute_input": "2024-10-28T18:15:28.645246Z",
     "iopub.status.busy": "2024-10-28T18:15:28.644387Z",
     "iopub.status.idle": "2024-10-28T18:15:28.860937Z",
     "shell.execute_reply": "2024-10-28T18:15:28.859815Z"
    },
    "papermill": {
     "duration": 0.236893,
     "end_time": "2024-10-28T18:15:28.863285",
     "exception": false,
     "start_time": "2024-10-28T18:15:28.626392",
     "status": "completed"
    },
    "tags": []
   },
   "outputs": [
    {
     "data": {
      "image/png": "[encoded data removed]",
      "text/plain": [
       "<Figure size 640x480 with 1 Axes>"
      ]
     },
     "metadata": {},
     "output_type": "display_data"
    }
   ],
   "source": [
    "#This plot can help you identify if employees with specific tenures are more likely to leave\n",
    "sns.boxplot(x='left', y='tenure', data=df0_no_duplicates)\n",
    "plt.title('Time Spend Company vs. Attrition')\n",
    "plt.xlabel('Left (0: Stayed, 1: Left)')\n",
    "plt.ylabel('Time Spend Company')\n",
    "plt.show()"
   ]
  },
  {
   "cell_type": "code",
   "execution_count": 22,
   "id": "66531765",
   "metadata": {
    "execution": {
     "iopub.execute_input": "2024-10-28T18:15:28.899172Z",
     "iopub.status.busy": "2024-10-28T18:15:28.898217Z",
     "iopub.status.idle": "2024-10-28T18:15:29.280934Z",
     "shell.execute_reply": "2024-10-28T18:15:29.279896Z"
    },
    "papermill": {
     "duration": 0.403684,
     "end_time": "2024-10-28T18:15:29.283800",
     "exception": false,
     "start_time": "2024-10-28T18:15:28.880116",
     "status": "completed"
    },
    "tags": []
   },
   "outputs": [
    {
     "data": {
      "image/png": "[encoded data removed]",
      "text/plain": [
       "<Figure size 640x480 with 1 Axes>"
      ]
     },
     "metadata": {},
     "output_type": "display_data"
    }
   ],
   "source": [
    "#This plot can help you understand if certain departments have higher attrition rates than others.\n",
    "sns.countplot(x='department', hue='left', data=df0_no_duplicates)\n",
    "plt.title('Department vs. Attrition')\n",
    "plt.xlabel('Department')\n",
    "plt.ylabel('Count')\n",
    "plt.xticks(rotation=45)\n",
    "plt.show()"
   ]
  },
  {
   "cell_type": "code",
   "execution_count": 23,
   "id": "f8b7272e",
   "metadata": {
    "execution": {
     "iopub.execute_input": "2024-10-28T18:15:29.327729Z",
     "iopub.status.busy": "2024-10-28T18:15:29.326957Z",
     "iopub.status.idle": "2024-10-28T18:15:29.654569Z",
     "shell.execute_reply": "2024-10-28T18:15:29.653376Z"
    },
    "papermill": {
     "duration": 0.354434,
     "end_time": "2024-10-28T18:15:29.656970",
     "exception": false,
     "start_time": "2024-10-28T18:15:29.302536",
     "status": "completed"
    },
    "tags": []
   },
   "outputs": [
    {
     "data": {
      "image/png": "[encoded data removed]",
      "text/plain": [
       "<Figure size 640x480 with 1 Axes>"
      ]
     },
     "metadata": {},
     "output_type": "display_data"
    }
   ],
   "source": [
    "# Visualize the relationship between average monthly hours and attrition\n",
    "sns.scatterplot(x='average_hours', y='left', data=df0_no_duplicates)\n",
    "plt.title('Average Monthly Hours vs. Attrition')\n",
    "plt.xlabel('Average Monthly Hours')\n",
    "plt.ylabel('Left (0: Stayed, 1: Left)')\n",
    "plt.show()"
   ]
  },
  {
   "cell_type": "markdown",
   "id": "dd275690",
   "metadata": {
    "papermill": {
     "duration": 0.017722,
     "end_time": "2024-10-28T18:15:29.693096",
     "exception": false,
     "start_time": "2024-10-28T18:15:29.675374",
     "status": "completed"
    },
    "tags": []
   },
   "source": [
    "### Insights\n",
    "\n",
    "- Imbalanced Dataset: The dataset is imbalanced, with a significantly higher number of employees who stayed compared to those who left. This imbalance might affect the performance of certain classification models.\n",
    "\n",
    "- Satisfaction Level: Employees who left tend to have lower satisfaction levels compared to those who stayed. This suggests that job satisfaction is a crucial factor influencing employee retention.\n",
    "\n",
    "- Number of Projects: Employees with a higher number of projects tend to have a higher attrition rate. This could indicate that excessive workload might contribute to employee burnout and turnover.\n",
    "\n",
    "- Tenure: Employees with shorter tenures are more likely to leave. This suggests that employee retention strategies should focus on onboarding and early career development.\n",
    "\n",
    "- Department: Certain departments, such as sales, technical, and support, seem to have higher attrition rates. This might be due to various factors, including workload, stress levels, and job satisfaction"
   ]
  },
  {
   "cell_type": "markdown",
   "id": "542e0939",
   "metadata": {
    "papermill": {
     "duration": 0.018009,
     "end_time": "2024-10-28T18:15:29.729594",
     "exception": false,
     "start_time": "2024-10-28T18:15:29.711585",
     "status": "completed"
    },
    "tags": []
   },
   "source": [
    "# paCe: Construct Stage\n",
    "- Determine which models are most appropriate\n",
    "- Construct the model\n",
    "- Confirm model assumptions\n",
    "- Evaluate model results to determine how well your model fits the data"
   ]
  }
 ],
 "metadata": {
  "kaggle": {
   "accelerator": "none",
   "dataSources": [
    {
     "datasetId": 1409252,
     "sourceId": 2334549,
     "sourceType": "datasetVersion"
    }
   ],
   "dockerImageVersionId": 30786,
   "isGpuEnabled": false,
   "isInternetEnabled": true,
   "language": "python",
   "sourceType": "notebook"
  },
  "kernelspec": {
   "display_name": "Python 3",
   "language": "python",
   "name": "python3"
  },
  "language_info": {
   "codemirror_mode": {
    "name": "ipython",
    "version": 3
   },
   "file_extension": ".py",
   "mimetype": "text/x-python",
   "name": "python",
   "nbconvert_exporter": "python",
   "pygments_lexer": "ipython3",
   "version": "3.10.14"
  },
  "papermill": {
   "default_parameters": {},
   "duration": 9.966831,
   "end_time": "2024-10-28T18:15:30.369468",
   "environment_variables": {},
   "exception": null,
   "input_path": "__notebook__.ipynb",
   "output_path": "__notebook__.ipynb",
   "parameters": {},
   "start_time": "2024-10-28T18:15:20.402637",
   "version": "2.6.0"
  }
 },
 "nbformat": 4,
 "nbformat_minor": 5
}
